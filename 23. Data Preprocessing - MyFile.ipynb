{
 "cells": [
  {
   "cell_type": "code",
   "execution_count": null,
   "id": "2cbb93e2",
   "metadata": {},
   "outputs": [],
   "source": [
    "'''\n",
    "Preprocessing:\n",
    "\n",
    "Learning algorithms have certain affinity towrads certain patterns in Data\n",
    "\n",
    "Most of the ML algos only work on numerical data\n",
    "\n",
    "Preprocessing refers to the data transformation before feeding it to ML Algo\n",
    "\n",
    "'''\n"
   ]
  },
  {
   "cell_type": "code",
   "execution_count": null,
   "id": "c2662ecd",
   "metadata": {},
   "outputs": [],
   "source": [
    "'''\n",
    "Scaling:\n",
    "\n",
    "It refers to btinging down numerical values into the same range\n",
    "\n",
    "'''"
   ]
  },
  {
   "cell_type": "markdown",
   "id": "74e0053d",
   "metadata": {},
   "source": [
    "1. Standard Scaler\n",
    "\n",
    "    The standard scaler assumes your data is normally distributed within each feature and it would scale them such that the distribution is centred around 0 and std dev is 1\n"
   ]
  },
  {
   "cell_type": "code",
   "execution_count": 1,
   "id": "785df0f7",
   "metadata": {},
   "outputs": [],
   "source": [
    "import numpy as np\n",
    "import pandas as pd\n",
    "import seaborn as sns\n",
    "import matplotlib.pyplot as plt"
   ]
  },
  {
   "cell_type": "code",
   "execution_count": 2,
   "id": "5ff89a4e",
   "metadata": {},
   "outputs": [
    {
     "data": {
      "text/html": [
       "<div>\n",
       "<style scoped>\n",
       "    .dataframe tbody tr th:only-of-type {\n",
       "        vertical-align: middle;\n",
       "    }\n",
       "\n",
       "    .dataframe tbody tr th {\n",
       "        vertical-align: top;\n",
       "    }\n",
       "\n",
       "    .dataframe thead th {\n",
       "        text-align: right;\n",
       "    }\n",
       "</style>\n",
       "<table border=\"1\" class=\"dataframe\">\n",
       "  <thead>\n",
       "    <tr style=\"text-align: right;\">\n",
       "      <th></th>\n",
       "      <th>x1</th>\n",
       "      <th>x2</th>\n",
       "      <th>x3</th>\n",
       "    </tr>\n",
       "  </thead>\n",
       "  <tbody>\n",
       "    <tr>\n",
       "      <th>0</th>\n",
       "      <td>-0.036725</td>\n",
       "      <td>9.761826</td>\n",
       "      <td>42.848277</td>\n",
       "    </tr>\n",
       "    <tr>\n",
       "      <th>1</th>\n",
       "      <td>-0.951952</td>\n",
       "      <td>6.878056</td>\n",
       "      <td>40.822583</td>\n",
       "    </tr>\n",
       "    <tr>\n",
       "      <th>2</th>\n",
       "      <td>-1.585791</td>\n",
       "      <td>16.915965</td>\n",
       "      <td>40.038099</td>\n",
       "    </tr>\n",
       "    <tr>\n",
       "      <th>3</th>\n",
       "      <td>1.564627</td>\n",
       "      <td>10.402220</td>\n",
       "      <td>53.535425</td>\n",
       "    </tr>\n",
       "    <tr>\n",
       "      <th>4</th>\n",
       "      <td>0.983284</td>\n",
       "      <td>6.301682</td>\n",
       "      <td>64.419973</td>\n",
       "    </tr>\n",
       "    <tr>\n",
       "      <th>...</th>\n",
       "      <td>...</td>\n",
       "      <td>...</td>\n",
       "      <td>...</td>\n",
       "    </tr>\n",
       "    <tr>\n",
       "      <th>995</th>\n",
       "      <td>1.240976</td>\n",
       "      <td>12.353159</td>\n",
       "      <td>99.118343</td>\n",
       "    </tr>\n",
       "    <tr>\n",
       "      <th>996</th>\n",
       "      <td>-1.359168</td>\n",
       "      <td>5.636730</td>\n",
       "      <td>84.474762</td>\n",
       "    </tr>\n",
       "    <tr>\n",
       "      <th>997</th>\n",
       "      <td>-0.275567</td>\n",
       "      <td>10.901383</td>\n",
       "      <td>59.186023</td>\n",
       "    </tr>\n",
       "    <tr>\n",
       "      <th>998</th>\n",
       "      <td>0.868436</td>\n",
       "      <td>5.596167</td>\n",
       "      <td>41.210800</td>\n",
       "    </tr>\n",
       "    <tr>\n",
       "      <th>999</th>\n",
       "      <td>-0.699726</td>\n",
       "      <td>18.363941</td>\n",
       "      <td>18.733182</td>\n",
       "    </tr>\n",
       "  </tbody>\n",
       "</table>\n",
       "<p>1000 rows × 3 columns</p>\n",
       "</div>"
      ],
      "text/plain": [
       "           x1         x2         x3\n",
       "0   -0.036725   9.761826  42.848277\n",
       "1   -0.951952   6.878056  40.822583\n",
       "2   -1.585791  16.915965  40.038099\n",
       "3    1.564627  10.402220  53.535425\n",
       "4    0.983284   6.301682  64.419973\n",
       "..        ...        ...        ...\n",
       "995  1.240976  12.353159  99.118343\n",
       "996 -1.359168   5.636730  84.474762\n",
       "997 -0.275567  10.901383  59.186023\n",
       "998  0.868436   5.596167  41.210800\n",
       "999 -0.699726  18.363941  18.733182\n",
       "\n",
       "[1000 rows x 3 columns]"
      ]
     },
     "execution_count": 2,
     "metadata": {},
     "output_type": "execute_result"
    }
   ],
   "source": [
    "# generated normally distributed data\n",
    "\n",
    "data_features = pd.DataFrame({\n",
    "    'x1': np.random.normal(0,1,1000),\n",
    "    'x2': np.random.normal(10,5,1000),\n",
    "    'x3': np.random.normal(50,25,1000)\n",
    "})\n",
    "data_features"
   ]
  },
  {
   "cell_type": "code",
   "execution_count": 3,
   "id": "60c5a28d",
   "metadata": {},
   "outputs": [
    {
     "data": {
      "text/html": [
       "<div>\n",
       "<style scoped>\n",
       "    .dataframe tbody tr th:only-of-type {\n",
       "        vertical-align: middle;\n",
       "    }\n",
       "\n",
       "    .dataframe tbody tr th {\n",
       "        vertical-align: top;\n",
       "    }\n",
       "\n",
       "    .dataframe thead th {\n",
       "        text-align: right;\n",
       "    }\n",
       "</style>\n",
       "<table border=\"1\" class=\"dataframe\">\n",
       "  <thead>\n",
       "    <tr style=\"text-align: right;\">\n",
       "      <th></th>\n",
       "      <th>x1</th>\n",
       "      <th>x2</th>\n",
       "      <th>x3</th>\n",
       "    </tr>\n",
       "  </thead>\n",
       "  <tbody>\n",
       "    <tr>\n",
       "      <th>count</th>\n",
       "      <td>1000.000000</td>\n",
       "      <td>1000.000000</td>\n",
       "      <td>1000.000000</td>\n",
       "    </tr>\n",
       "    <tr>\n",
       "      <th>mean</th>\n",
       "      <td>-0.031192</td>\n",
       "      <td>9.453626</td>\n",
       "      <td>49.722750</td>\n",
       "    </tr>\n",
       "    <tr>\n",
       "      <th>std</th>\n",
       "      <td>0.954206</td>\n",
       "      <td>5.075896</td>\n",
       "      <td>24.314646</td>\n",
       "    </tr>\n",
       "    <tr>\n",
       "      <th>min</th>\n",
       "      <td>-3.536231</td>\n",
       "      <td>-5.079044</td>\n",
       "      <td>-26.338272</td>\n",
       "    </tr>\n",
       "    <tr>\n",
       "      <th>25%</th>\n",
       "      <td>-0.656132</td>\n",
       "      <td>6.179603</td>\n",
       "      <td>33.167162</td>\n",
       "    </tr>\n",
       "    <tr>\n",
       "      <th>50%</th>\n",
       "      <td>-0.031141</td>\n",
       "      <td>9.471534</td>\n",
       "      <td>50.067686</td>\n",
       "    </tr>\n",
       "    <tr>\n",
       "      <th>75%</th>\n",
       "      <td>0.631225</td>\n",
       "      <td>12.644862</td>\n",
       "      <td>65.597804</td>\n",
       "    </tr>\n",
       "    <tr>\n",
       "      <th>max</th>\n",
       "      <td>2.781645</td>\n",
       "      <td>26.081922</td>\n",
       "      <td>122.487457</td>\n",
       "    </tr>\n",
       "  </tbody>\n",
       "</table>\n",
       "</div>"
      ],
      "text/plain": [
       "                x1           x2           x3\n",
       "count  1000.000000  1000.000000  1000.000000\n",
       "mean     -0.031192     9.453626    49.722750\n",
       "std       0.954206     5.075896    24.314646\n",
       "min      -3.536231    -5.079044   -26.338272\n",
       "25%      -0.656132     6.179603    33.167162\n",
       "50%      -0.031141     9.471534    50.067686\n",
       "75%       0.631225    12.644862    65.597804\n",
       "max       2.781645    26.081922   122.487457"
      ]
     },
     "execution_count": 3,
     "metadata": {},
     "output_type": "execute_result"
    }
   ],
   "source": [
    "data_features.describe()  # observe middle 50% - 25% to 50%"
   ]
  },
  {
   "cell_type": "code",
   "execution_count": 11,
   "id": "0dee8124",
   "metadata": {},
   "outputs": [
    {
     "data": {
      "text/plain": [
       "<AxesSubplot:ylabel='Density'>"
      ]
     },
     "execution_count": 11,
     "metadata": {},
     "output_type": "execute_result"
    },
    {
     "data": {
      "image/png": "[encoded data removed]",
      "text/plain": [
       "<Figure size 432x288 with 1 Axes>"
      ]
     },
     "metadata": {
      "needs_background": "light"
     },
     "output_type": "display_data"
    }
   ],
   "source": [
    "data_features.plot.kde()"
   ]
  },
  {
   "cell_type": "code",
   "execution_count": 6,
   "id": "13ae8585",
   "metadata": {},
   "outputs": [],
   "source": [
    "from sklearn.preprocessing import StandardScaler, MinMaxScaler, RobustScaler\n",
    "\n",
    "standard_scaler = StandardScaler()\n",
    "\n",
    "data_tf = standard_scaler.fit_transform(data_features)"
   ]
  },
  {
   "cell_type": "code",
   "execution_count": 7,
   "id": "e865fa3d",
   "metadata": {},
   "outputs": [
    {
     "data": {
      "text/plain": [
       "numpy.ndarray"
      ]
     },
     "execution_count": 7,
     "metadata": {},
     "output_type": "execute_result"
    }
   ],
   "source": [
    "type(data_tf)"
   ]
  },
  {
   "cell_type": "code",
   "execution_count": 8,
   "id": "19b31604",
   "metadata": {},
   "outputs": [
    {
     "data": {
      "text/html": [
       "<div>\n",
       "<style scoped>\n",
       "    .dataframe tbody tr th:only-of-type {\n",
       "        vertical-align: middle;\n",
       "    }\n",
       "\n",
       "    .dataframe tbody tr th {\n",
       "        vertical-align: top;\n",
       "    }\n",
       "\n",
       "    .dataframe thead th {\n",
       "        text-align: right;\n",
       "    }\n",
       "</style>\n",
       "<table border=\"1\" class=\"dataframe\">\n",
       "  <thead>\n",
       "    <tr style=\"text-align: right;\">\n",
       "      <th></th>\n",
       "      <th>x1</th>\n",
       "      <th>x2</th>\n",
       "      <th>x3</th>\n",
       "    </tr>\n",
       "  </thead>\n",
       "  <tbody>\n",
       "    <tr>\n",
       "      <th>0</th>\n",
       "      <td>-0.005802</td>\n",
       "      <td>0.060749</td>\n",
       "      <td>-0.282871</td>\n",
       "    </tr>\n",
       "    <tr>\n",
       "      <th>1</th>\n",
       "      <td>-0.965432</td>\n",
       "      <td>-0.507666</td>\n",
       "      <td>-0.366225</td>\n",
       "    </tr>\n",
       "    <tr>\n",
       "      <th>2</th>\n",
       "      <td>-1.630022</td>\n",
       "      <td>1.470888</td>\n",
       "      <td>-0.398505</td>\n",
       "    </tr>\n",
       "    <tr>\n",
       "      <th>3</th>\n",
       "      <td>1.673242</td>\n",
       "      <td>0.186976</td>\n",
       "      <td>0.156884</td>\n",
       "    </tr>\n",
       "    <tr>\n",
       "      <th>4</th>\n",
       "      <td>1.063694</td>\n",
       "      <td>-0.621274</td>\n",
       "      <td>0.604762</td>\n",
       "    </tr>\n",
       "    <tr>\n",
       "      <th>...</th>\n",
       "      <td>...</td>\n",
       "      <td>...</td>\n",
       "      <td>...</td>\n",
       "    </tr>\n",
       "    <tr>\n",
       "      <th>995</th>\n",
       "      <td>1.333889</td>\n",
       "      <td>0.571521</td>\n",
       "      <td>2.032532</td>\n",
       "    </tr>\n",
       "    <tr>\n",
       "      <th>996</th>\n",
       "      <td>-1.392405</td>\n",
       "      <td>-0.752341</td>\n",
       "      <td>1.429978</td>\n",
       "    </tr>\n",
       "    <tr>\n",
       "      <th>997</th>\n",
       "      <td>-0.256231</td>\n",
       "      <td>0.285365</td>\n",
       "      <td>0.389395</td>\n",
       "    </tr>\n",
       "    <tr>\n",
       "      <th>998</th>\n",
       "      <td>0.943274</td>\n",
       "      <td>-0.760337</td>\n",
       "      <td>-0.350250</td>\n",
       "    </tr>\n",
       "    <tr>\n",
       "      <th>999</th>\n",
       "      <td>-0.700969</td>\n",
       "      <td>1.756296</td>\n",
       "      <td>-1.275160</td>\n",
       "    </tr>\n",
       "  </tbody>\n",
       "</table>\n",
       "<p>1000 rows × 3 columns</p>\n",
       "</div>"
      ],
      "text/plain": [
       "           x1        x2        x3\n",
       "0   -0.005802  0.060749 -0.282871\n",
       "1   -0.965432 -0.507666 -0.366225\n",
       "2   -1.630022  1.470888 -0.398505\n",
       "3    1.673242  0.186976  0.156884\n",
       "4    1.063694 -0.621274  0.604762\n",
       "..        ...       ...       ...\n",
       "995  1.333889  0.571521  2.032532\n",
       "996 -1.392405 -0.752341  1.429978\n",
       "997 -0.256231  0.285365  0.389395\n",
       "998  0.943274 -0.760337 -0.350250\n",
       "999 -0.700969  1.756296 -1.275160\n",
       "\n",
       "[1000 rows x 3 columns]"
      ]
     },
     "execution_count": 8,
     "metadata": {},
     "output_type": "execute_result"
    }
   ],
   "source": [
    "df = pd.DataFrame(data_tf, columns=['x1','x2','x3'])\n",
    "df"
   ]
  },
  {
   "cell_type": "code",
   "execution_count": 9,
   "id": "964c0060",
   "metadata": {},
   "outputs": [
    {
     "data": {
      "text/html": [
       "<div>\n",
       "<style scoped>\n",
       "    .dataframe tbody tr th:only-of-type {\n",
       "        vertical-align: middle;\n",
       "    }\n",
       "\n",
       "    .dataframe tbody tr th {\n",
       "        vertical-align: top;\n",
       "    }\n",
       "\n",
       "    .dataframe thead th {\n",
       "        text-align: right;\n",
       "    }\n",
       "</style>\n",
       "<table border=\"1\" class=\"dataframe\">\n",
       "  <thead>\n",
       "    <tr style=\"text-align: right;\">\n",
       "      <th></th>\n",
       "      <th>x1</th>\n",
       "      <th>x2</th>\n",
       "      <th>x3</th>\n",
       "    </tr>\n",
       "  </thead>\n",
       "  <tbody>\n",
       "    <tr>\n",
       "      <th>count</th>\n",
       "      <td>1.000000e+03</td>\n",
       "      <td>1.000000e+03</td>\n",
       "      <td>1.000000e+03</td>\n",
       "    </tr>\n",
       "    <tr>\n",
       "      <th>mean</th>\n",
       "      <td>-3.175238e-17</td>\n",
       "      <td>6.483702e-17</td>\n",
       "      <td>2.615685e-16</td>\n",
       "    </tr>\n",
       "    <tr>\n",
       "      <th>std</th>\n",
       "      <td>1.000500e+00</td>\n",
       "      <td>1.000500e+00</td>\n",
       "      <td>1.000500e+00</td>\n",
       "    </tr>\n",
       "    <tr>\n",
       "      <th>min</th>\n",
       "      <td>-3.675090e+00</td>\n",
       "      <td>-2.864508e+00</td>\n",
       "      <td>-3.129763e+00</td>\n",
       "    </tr>\n",
       "    <tr>\n",
       "      <th>25%</th>\n",
       "      <td>-6.552595e-01</td>\n",
       "      <td>-6.453366e-01</td>\n",
       "      <td>-6.812303e-01</td>\n",
       "    </tr>\n",
       "    <tr>\n",
       "      <th>50%</th>\n",
       "      <td>5.381388e-05</td>\n",
       "      <td>3.529849e-03</td>\n",
       "      <td>1.419343e-02</td>\n",
       "    </tr>\n",
       "    <tr>\n",
       "      <th>75%</th>\n",
       "      <td>6.945552e-01</td>\n",
       "      <td>6.290186e-01</td>\n",
       "      <td>6.532275e-01</td>\n",
       "    </tr>\n",
       "    <tr>\n",
       "      <th>max</th>\n",
       "      <td>2.949306e+00</td>\n",
       "      <td>3.277573e+00</td>\n",
       "      <td>2.994126e+00</td>\n",
       "    </tr>\n",
       "  </tbody>\n",
       "</table>\n",
       "</div>"
      ],
      "text/plain": [
       "                 x1            x2            x3\n",
       "count  1.000000e+03  1.000000e+03  1.000000e+03\n",
       "mean  -3.175238e-17  6.483702e-17  2.615685e-16\n",
       "std    1.000500e+00  1.000500e+00  1.000500e+00\n",
       "min   -3.675090e+00 -2.864508e+00 -3.129763e+00\n",
       "25%   -6.552595e-01 -6.453366e-01 -6.812303e-01\n",
       "50%    5.381388e-05  3.529849e-03  1.419343e-02\n",
       "75%    6.945552e-01  6.290186e-01  6.532275e-01\n",
       "max    2.949306e+00  3.277573e+00  2.994126e+00"
      ]
     },
     "execution_count": 9,
     "metadata": {},
     "output_type": "execute_result"
    }
   ],
   "source": [
    "df.describe()  # observe middle 50% - 25% to 50%"
   ]
  },
  {
   "cell_type": "code",
   "execution_count": 10,
   "id": "079c28a9",
   "metadata": {},
   "outputs": [
    {
     "data": {
      "text/plain": [
       "<AxesSubplot:ylabel='Density'>"
      ]
     },
     "execution_count": 10,
     "metadata": {},
     "output_type": "execute_result"
    },
    {
     "data": {
      "image/png": "[encoded data removed]",
      "text/plain": [
       "<Figure size 432x288 with 1 Axes>"
      ]
     },
     "metadata": {
      "needs_background": "light"
     },
     "output_type": "display_data"
    }
   ],
   "source": [
    "df.plot.kde()"
   ]
  },
  {
   "cell_type": "code",
   "execution_count": null,
   "id": "b0445110",
   "metadata": {},
   "outputs": [],
   "source": [
    "# The standard scaler shouldn't be used if your data distribution is not normal"
   ]
  },
  {
   "cell_type": "markdown",
   "id": "9bc0503a",
   "metadata": {},
   "source": [
    "'''\n",
    "2. MinMax Scaler:\n",
    "\n",
    "One of the most popular scaling techniques\n",
    "\n",
    "Data shifts from 0 to 1\n",
    "\n",
    "'''"
   ]
  },
  {
   "cell_type": "code",
   "execution_count": 13,
   "id": "78db0b2a",
   "metadata": {},
   "outputs": [],
   "source": [
    "data_feature = pd.DataFrame({\n",
    "    'x1': np.random.chisquare(8,1000),\n",
    "    'x2': np.random.beta(8,2,1000) * 40,\n",
    "    'x3': np.random.normal(50,3,1000) \n",
    "})"
   ]
  },
  {
   "cell_type": "code",
   "execution_count": 14,
   "id": "7dcaff6e",
   "metadata": {},
   "outputs": [
    {
     "data": {
      "text/plain": [
       "<AxesSubplot:ylabel='Density'>"
      ]
     },
     "execution_count": 14,
     "metadata": {},
     "output_type": "execute_result"
    },
    {
     "data": {
      "image/png": "[encoded data removed]",
      "text/plain": [
       "<Figure size 432x288 with 1 Axes>"
      ]
     },
     "metadata": {
      "needs_background": "light"
     },
     "output_type": "display_data"
    }
   ],
   "source": [
    "data_feature.plot.kde()"
   ]
  },
  {
   "cell_type": "code",
   "execution_count": 15,
   "id": "9d7f8b8b",
   "metadata": {},
   "outputs": [
    {
     "data": {
      "text/html": [
       "<div>\n",
       "<style scoped>\n",
       "    .dataframe tbody tr th:only-of-type {\n",
       "        vertical-align: middle;\n",
       "    }\n",
       "\n",
       "    .dataframe tbody tr th {\n",
       "        vertical-align: top;\n",
       "    }\n",
       "\n",
       "    .dataframe thead th {\n",
       "        text-align: right;\n",
       "    }\n",
       "</style>\n",
       "<table border=\"1\" class=\"dataframe\">\n",
       "  <thead>\n",
       "    <tr style=\"text-align: right;\">\n",
       "      <th></th>\n",
       "      <th>x1</th>\n",
       "      <th>x2</th>\n",
       "      <th>x3</th>\n",
       "    </tr>\n",
       "  </thead>\n",
       "  <tbody>\n",
       "    <tr>\n",
       "      <th>count</th>\n",
       "      <td>1000.000000</td>\n",
       "      <td>1000.000000</td>\n",
       "      <td>1000.000000</td>\n",
       "    </tr>\n",
       "    <tr>\n",
       "      <th>mean</th>\n",
       "      <td>7.963756</td>\n",
       "      <td>31.952006</td>\n",
       "      <td>50.007598</td>\n",
       "    </tr>\n",
       "    <tr>\n",
       "      <th>std</th>\n",
       "      <td>3.896738</td>\n",
       "      <td>4.745517</td>\n",
       "      <td>3.169828</td>\n",
       "    </tr>\n",
       "    <tr>\n",
       "      <th>min</th>\n",
       "      <td>1.286817</td>\n",
       "      <td>15.791196</td>\n",
       "      <td>40.110748</td>\n",
       "    </tr>\n",
       "    <tr>\n",
       "      <th>25%</th>\n",
       "      <td>5.169436</td>\n",
       "      <td>29.024439</td>\n",
       "      <td>47.833697</td>\n",
       "    </tr>\n",
       "    <tr>\n",
       "      <th>50%</th>\n",
       "      <td>7.295854</td>\n",
       "      <td>32.667799</td>\n",
       "      <td>50.047694</td>\n",
       "    </tr>\n",
       "    <tr>\n",
       "      <th>75%</th>\n",
       "      <td>10.255098</td>\n",
       "      <td>35.761538</td>\n",
       "      <td>52.262787</td>\n",
       "    </tr>\n",
       "    <tr>\n",
       "      <th>max</th>\n",
       "      <td>29.676374</td>\n",
       "      <td>39.741713</td>\n",
       "      <td>60.619959</td>\n",
       "    </tr>\n",
       "  </tbody>\n",
       "</table>\n",
       "</div>"
      ],
      "text/plain": [
       "                x1           x2           x3\n",
       "count  1000.000000  1000.000000  1000.000000\n",
       "mean      7.963756    31.952006    50.007598\n",
       "std       3.896738     4.745517     3.169828\n",
       "min       1.286817    15.791196    40.110748\n",
       "25%       5.169436    29.024439    47.833697\n",
       "50%       7.295854    32.667799    50.047694\n",
       "75%      10.255098    35.761538    52.262787\n",
       "max      29.676374    39.741713    60.619959"
      ]
     },
     "execution_count": 15,
     "metadata": {},
     "output_type": "execute_result"
    }
   ],
   "source": [
    "data_feature.describe()   # observe middle 50% - 25% to 50%"
   ]
  },
  {
   "cell_type": "code",
   "execution_count": 16,
   "id": "0642923c",
   "metadata": {},
   "outputs": [
    {
     "name": "stdout",
     "output_type": "stream",
     "text": [
      "[[0.14710647 0.81839365 0.24078891]\n",
      " [0.39999123 0.87862125 0.51065805]\n",
      " [0.57930827 0.42816253 0.35971019]\n",
      " ...\n",
      " [0.18130443 0.8699976  0.514277  ]\n",
      " [0.44391154 0.76554418 0.25503531]\n",
      " [0.10053426 0.75321065 0.33772786]]\n"
     ]
    }
   ],
   "source": [
    "minmax = MinMaxScaler()\n",
    "data_tf = minmax.fit_transform(data_feature)\n",
    "print(data_tf)"
   ]
  },
  {
   "cell_type": "code",
   "execution_count": 17,
   "id": "6edf558a",
   "metadata": {},
   "outputs": [
    {
     "data": {
      "text/html": [
       "<div>\n",
       "<style scoped>\n",
       "    .dataframe tbody tr th:only-of-type {\n",
       "        vertical-align: middle;\n",
       "    }\n",
       "\n",
       "    .dataframe tbody tr th {\n",
       "        vertical-align: top;\n",
       "    }\n",
       "\n",
       "    .dataframe thead th {\n",
       "        text-align: right;\n",
       "    }\n",
       "</style>\n",
       "<table border=\"1\" class=\"dataframe\">\n",
       "  <thead>\n",
       "    <tr style=\"text-align: right;\">\n",
       "      <th></th>\n",
       "      <th>x1</th>\n",
       "      <th>x2</th>\n",
       "      <th>x3</th>\n",
       "    </tr>\n",
       "  </thead>\n",
       "  <tbody>\n",
       "    <tr>\n",
       "      <th>count</th>\n",
       "      <td>1000.000000</td>\n",
       "      <td>1000.000000</td>\n",
       "      <td>1000.000000</td>\n",
       "    </tr>\n",
       "    <tr>\n",
       "      <th>mean</th>\n",
       "      <td>0.235190</td>\n",
       "      <td>0.674758</td>\n",
       "      <td>0.482556</td>\n",
       "    </tr>\n",
       "    <tr>\n",
       "      <th>std</th>\n",
       "      <td>0.137260</td>\n",
       "      <td>0.198138</td>\n",
       "      <td>0.154556</td>\n",
       "    </tr>\n",
       "    <tr>\n",
       "      <th>min</th>\n",
       "      <td>0.000000</td>\n",
       "      <td>0.000000</td>\n",
       "      <td>0.000000</td>\n",
       "    </tr>\n",
       "    <tr>\n",
       "      <th>25%</th>\n",
       "      <td>0.136762</td>\n",
       "      <td>0.552524</td>\n",
       "      <td>0.376560</td>\n",
       "    </tr>\n",
       "    <tr>\n",
       "      <th>50%</th>\n",
       "      <td>0.211664</td>\n",
       "      <td>0.704645</td>\n",
       "      <td>0.484511</td>\n",
       "    </tr>\n",
       "    <tr>\n",
       "      <th>75%</th>\n",
       "      <td>0.315901</td>\n",
       "      <td>0.833817</td>\n",
       "      <td>0.592516</td>\n",
       "    </tr>\n",
       "    <tr>\n",
       "      <th>max</th>\n",
       "      <td>1.000000</td>\n",
       "      <td>1.000000</td>\n",
       "      <td>1.000000</td>\n",
       "    </tr>\n",
       "  </tbody>\n",
       "</table>\n",
       "</div>"
      ],
      "text/plain": [
       "                x1           x2           x3\n",
       "count  1000.000000  1000.000000  1000.000000\n",
       "mean      0.235190     0.674758     0.482556\n",
       "std       0.137260     0.198138     0.154556\n",
       "min       0.000000     0.000000     0.000000\n",
       "25%       0.136762     0.552524     0.376560\n",
       "50%       0.211664     0.704645     0.484511\n",
       "75%       0.315901     0.833817     0.592516\n",
       "max       1.000000     1.000000     1.000000"
      ]
     },
     "execution_count": 17,
     "metadata": {},
     "output_type": "execute_result"
    }
   ],
   "source": [
    "df = pd.DataFrame(data_tf, columns=['x1','x2','x3'])\n",
    "df.describe()   # observe middle 50% - 25% to 50%"
   ]
  },
  {
   "cell_type": "code",
   "execution_count": 18,
   "id": "6cc69470",
   "metadata": {},
   "outputs": [
    {
     "data": {
      "text/plain": [
       "<AxesSubplot:ylabel='Density'>"
      ]
     },
     "execution_count": 18,
     "metadata": {},
     "output_type": "execute_result"
    },
    {
     "data": {
      "image/png": "[encoded data removed]",
      "text/plain": [
       "<Figure size 432x288 with 1 Axes>"
      ]
     },
     "metadata": {
      "needs_background": "light"
     },
     "output_type": "display_data"
    }
   ],
   "source": [
    "df.plot.kde()"
   ]
  },
  {
   "cell_type": "code",
   "execution_count": null,
   "id": "e393407a",
   "metadata": {},
   "outputs": [],
   "source": [
    "# minmax scaler gets affected due to outliers"
   ]
  },
  {
   "cell_type": "markdown",
   "id": "166aedf1",
   "metadata": {},
   "source": [
    "3. Robust Scaler:\n",
    "    This utilizes the idea of IQR Technique and is not affeted by outliers"
   ]
  },
  {
   "cell_type": "code",
   "execution_count": 19,
   "id": "1c705ad8",
   "metadata": {},
   "outputs": [
    {
     "data": {
      "text/html": [
       "<div>\n",
       "<style scoped>\n",
       "    .dataframe tbody tr th:only-of-type {\n",
       "        vertical-align: middle;\n",
       "    }\n",
       "\n",
       "    .dataframe tbody tr th {\n",
       "        vertical-align: top;\n",
       "    }\n",
       "\n",
       "    .dataframe thead th {\n",
       "        text-align: right;\n",
       "    }\n",
       "</style>\n",
       "<table border=\"1\" class=\"dataframe\">\n",
       "  <thead>\n",
       "    <tr style=\"text-align: right;\">\n",
       "      <th></th>\n",
       "      <th>x1</th>\n",
       "      <th>x2</th>\n",
       "    </tr>\n",
       "  </thead>\n",
       "  <tbody>\n",
       "    <tr>\n",
       "      <th>0</th>\n",
       "      <td>23.258135</td>\n",
       "      <td>9.277959</td>\n",
       "    </tr>\n",
       "    <tr>\n",
       "      <th>1</th>\n",
       "      <td>25.392162</td>\n",
       "      <td>5.077272</td>\n",
       "    </tr>\n",
       "    <tr>\n",
       "      <th>2</th>\n",
       "      <td>25.697581</td>\n",
       "      <td>9.287953</td>\n",
       "    </tr>\n",
       "    <tr>\n",
       "      <th>3</th>\n",
       "      <td>25.946580</td>\n",
       "      <td>8.886297</td>\n",
       "    </tr>\n",
       "    <tr>\n",
       "      <th>4</th>\n",
       "      <td>25.020186</td>\n",
       "      <td>8.396350</td>\n",
       "    </tr>\n",
       "    <tr>\n",
       "      <th>...</th>\n",
       "      <td>...</td>\n",
       "      <td>...</td>\n",
       "    </tr>\n",
       "    <tr>\n",
       "      <th>1020</th>\n",
       "      <td>2.942680</td>\n",
       "      <td>75.080800</td>\n",
       "    </tr>\n",
       "    <tr>\n",
       "      <th>1021</th>\n",
       "      <td>-0.750273</td>\n",
       "      <td>74.435785</td>\n",
       "    </tr>\n",
       "    <tr>\n",
       "      <th>1022</th>\n",
       "      <td>4.010501</td>\n",
       "      <td>75.622236</td>\n",
       "    </tr>\n",
       "    <tr>\n",
       "      <th>1023</th>\n",
       "      <td>-1.025755</td>\n",
       "      <td>76.083037</td>\n",
       "    </tr>\n",
       "    <tr>\n",
       "      <th>1024</th>\n",
       "      <td>0.678232</td>\n",
       "      <td>73.663218</td>\n",
       "    </tr>\n",
       "  </tbody>\n",
       "</table>\n",
       "<p>1025 rows × 2 columns</p>\n",
       "</div>"
      ],
      "text/plain": [
       "             x1         x2\n",
       "0     23.258135   9.277959\n",
       "1     25.392162   5.077272\n",
       "2     25.697581   9.287953\n",
       "3     25.946580   8.886297\n",
       "4     25.020186   8.396350\n",
       "...         ...        ...\n",
       "1020   2.942680  75.080800\n",
       "1021  -0.750273  74.435785\n",
       "1022   4.010501  75.622236\n",
       "1023  -1.025755  76.083037\n",
       "1024   0.678232  73.663218\n",
       "\n",
       "[1025 rows x 2 columns]"
      ]
     },
     "execution_count": 19,
     "metadata": {},
     "output_type": "execute_result"
    }
   ],
   "source": [
    "data_feature = pd.DataFrame({'x1': np.concatenate([np.random.normal(25,1,1000), np.random.normal(1,2,25)]),\n",
    "                             'x2': np.concatenate([np.random.chisquare(10,1000), np.random.normal(75,1,25)])\n",
    "                            })\n",
    "data_feature"
   ]
  },
  {
   "cell_type": "code",
   "execution_count": 20,
   "id": "0c1b7ab2",
   "metadata": {},
   "outputs": [
    {
     "data": {
      "text/html": [
       "<div>\n",
       "<style scoped>\n",
       "    .dataframe tbody tr th:only-of-type {\n",
       "        vertical-align: middle;\n",
       "    }\n",
       "\n",
       "    .dataframe tbody tr th {\n",
       "        vertical-align: top;\n",
       "    }\n",
       "\n",
       "    .dataframe thead th {\n",
       "        text-align: right;\n",
       "    }\n",
       "</style>\n",
       "<table border=\"1\" class=\"dataframe\">\n",
       "  <thead>\n",
       "    <tr style=\"text-align: right;\">\n",
       "      <th></th>\n",
       "      <th>x1</th>\n",
       "      <th>x2</th>\n",
       "    </tr>\n",
       "  </thead>\n",
       "  <tbody>\n",
       "    <tr>\n",
       "      <th>count</th>\n",
       "      <td>1025.000000</td>\n",
       "      <td>1025.000000</td>\n",
       "    </tr>\n",
       "    <tr>\n",
       "      <th>mean</th>\n",
       "      <td>24.471879</td>\n",
       "      <td>11.391009</td>\n",
       "    </tr>\n",
       "    <tr>\n",
       "      <th>std</th>\n",
       "      <td>3.845876</td>\n",
       "      <td>11.006705</td>\n",
       "    </tr>\n",
       "    <tr>\n",
       "      <th>min</th>\n",
       "      <td>-1.854478</td>\n",
       "      <td>0.964039</td>\n",
       "    </tr>\n",
       "    <tr>\n",
       "      <th>25%</th>\n",
       "      <td>24.296735</td>\n",
       "      <td>6.795986</td>\n",
       "    </tr>\n",
       "    <tr>\n",
       "      <th>50%</th>\n",
       "      <td>25.020103</td>\n",
       "      <td>9.319121</td>\n",
       "    </tr>\n",
       "    <tr>\n",
       "      <th>75%</th>\n",
       "      <td>25.711722</td>\n",
       "      <td>12.476843</td>\n",
       "    </tr>\n",
       "    <tr>\n",
       "      <th>max</th>\n",
       "      <td>28.419491</td>\n",
       "      <td>77.253255</td>\n",
       "    </tr>\n",
       "  </tbody>\n",
       "</table>\n",
       "</div>"
      ],
      "text/plain": [
       "                x1           x2\n",
       "count  1025.000000  1025.000000\n",
       "mean     24.471879    11.391009\n",
       "std       3.845876    11.006705\n",
       "min      -1.854478     0.964039\n",
       "25%      24.296735     6.795986\n",
       "50%      25.020103     9.319121\n",
       "75%      25.711722    12.476843\n",
       "max      28.419491    77.253255"
      ]
     },
     "execution_count": 20,
     "metadata": {},
     "output_type": "execute_result"
    }
   ],
   "source": [
    "data_feature.describe()"
   ]
  },
  {
   "cell_type": "code",
   "execution_count": 21,
   "id": "ca7883d6",
   "metadata": {},
   "outputs": [
    {
     "data": {
      "text/plain": [
       "<AxesSubplot:ylabel='Density'>"
      ]
     },
     "execution_count": 21,
     "metadata": {},
     "output_type": "execute_result"
    },
    {
     "data": {
      "image/png": "[encoded data removed]",
      "text/plain": [
       "<Figure size 432x288 with 1 Axes>"
      ]
     },
     "metadata": {
      "needs_background": "light"
     },
     "output_type": "display_data"
    }
   ],
   "source": [
    "data_feature.plot.kde()"
   ]
  },
  {
   "cell_type": "code",
   "execution_count": 22,
   "id": "823aeac3",
   "metadata": {},
   "outputs": [
    {
     "name": "stdout",
     "output_type": "stream",
     "text": [
      "[[-1.24521852e+00 -7.24568977e-03]\n",
      " [ 2.62942069e-01 -7.46691560e-01]\n",
      " [ 4.78787338e-01 -5.48642720e-03]\n",
      " ...\n",
      " [-1.48479119e+01  1.16713214e+01]\n",
      " [-1.84071357e+01  1.17524361e+01]\n",
      " [-1.72028937e+01  1.13264759e+01]]\n"
     ]
    }
   ],
   "source": [
    "robustscaler = RobustScaler()\n",
    "data_tf = robustscaler.fit_transform(data_feature)\n",
    "\n",
    "print(data_tf)"
   ]
  },
  {
   "cell_type": "code",
   "execution_count": 23,
   "id": "37238878",
   "metadata": {},
   "outputs": [
    {
     "data": {
      "text/html": [
       "<div>\n",
       "<style scoped>\n",
       "    .dataframe tbody tr th:only-of-type {\n",
       "        vertical-align: middle;\n",
       "    }\n",
       "\n",
       "    .dataframe tbody tr th {\n",
       "        vertical-align: top;\n",
       "    }\n",
       "\n",
       "    .dataframe thead th {\n",
       "        text-align: right;\n",
       "    }\n",
       "</style>\n",
       "<table border=\"1\" class=\"dataframe\">\n",
       "  <thead>\n",
       "    <tr style=\"text-align: right;\">\n",
       "      <th></th>\n",
       "      <th>x1</th>\n",
       "      <th>x2</th>\n",
       "    </tr>\n",
       "  </thead>\n",
       "  <tbody>\n",
       "    <tr>\n",
       "      <th>0</th>\n",
       "      <td>-1.245219</td>\n",
       "      <td>-0.007246</td>\n",
       "    </tr>\n",
       "    <tr>\n",
       "      <th>1</th>\n",
       "      <td>0.262942</td>\n",
       "      <td>-0.746692</td>\n",
       "    </tr>\n",
       "    <tr>\n",
       "      <th>2</th>\n",
       "      <td>0.478787</td>\n",
       "      <td>-0.005486</td>\n",
       "    </tr>\n",
       "    <tr>\n",
       "      <th>3</th>\n",
       "      <td>0.654760</td>\n",
       "      <td>-0.076190</td>\n",
       "    </tr>\n",
       "    <tr>\n",
       "      <th>4</th>\n",
       "      <td>0.000059</td>\n",
       "      <td>-0.162435</td>\n",
       "    </tr>\n",
       "    <tr>\n",
       "      <th>...</th>\n",
       "      <td>...</td>\n",
       "      <td>...</td>\n",
       "    </tr>\n",
       "    <tr>\n",
       "      <th>1020</th>\n",
       "      <td>-15.602563</td>\n",
       "      <td>11.576012</td>\n",
       "    </tr>\n",
       "    <tr>\n",
       "      <th>1021</th>\n",
       "      <td>-18.212447</td>\n",
       "      <td>11.462471</td>\n",
       "    </tr>\n",
       "    <tr>\n",
       "      <th>1022</th>\n",
       "      <td>-14.847912</td>\n",
       "      <td>11.671321</td>\n",
       "    </tr>\n",
       "    <tr>\n",
       "      <th>1023</th>\n",
       "      <td>-18.407136</td>\n",
       "      <td>11.752436</td>\n",
       "    </tr>\n",
       "    <tr>\n",
       "      <th>1024</th>\n",
       "      <td>-17.202894</td>\n",
       "      <td>11.326476</td>\n",
       "    </tr>\n",
       "  </tbody>\n",
       "</table>\n",
       "<p>1025 rows × 2 columns</p>\n",
       "</div>"
      ],
      "text/plain": [
       "             x1         x2\n",
       "0     -1.245219  -0.007246\n",
       "1      0.262942  -0.746692\n",
       "2      0.478787  -0.005486\n",
       "3      0.654760  -0.076190\n",
       "4      0.000059  -0.162435\n",
       "...         ...        ...\n",
       "1020 -15.602563  11.576012\n",
       "1021 -18.212447  11.462471\n",
       "1022 -14.847912  11.671321\n",
       "1023 -18.407136  11.752436\n",
       "1024 -17.202894  11.326476\n",
       "\n",
       "[1025 rows x 2 columns]"
      ]
     },
     "execution_count": 23,
     "metadata": {},
     "output_type": "execute_result"
    }
   ],
   "source": [
    "df = pd.DataFrame(data_tf, columns = ['x1','x2'])\n",
    "df"
   ]
  },
  {
   "cell_type": "code",
   "execution_count": 24,
   "id": "762352fd",
   "metadata": {},
   "outputs": [
    {
     "data": {
      "text/html": [
       "<div>\n",
       "<style scoped>\n",
       "    .dataframe tbody tr th:only-of-type {\n",
       "        vertical-align: middle;\n",
       "    }\n",
       "\n",
       "    .dataframe tbody tr th {\n",
       "        vertical-align: top;\n",
       "    }\n",
       "\n",
       "    .dataframe thead th {\n",
       "        text-align: right;\n",
       "    }\n",
       "</style>\n",
       "<table border=\"1\" class=\"dataframe\">\n",
       "  <thead>\n",
       "    <tr style=\"text-align: right;\">\n",
       "      <th></th>\n",
       "      <th>x1</th>\n",
       "      <th>x2</th>\n",
       "    </tr>\n",
       "  </thead>\n",
       "  <tbody>\n",
       "    <tr>\n",
       "      <th>count</th>\n",
       "      <td>1025.000000</td>\n",
       "      <td>1025.000000</td>\n",
       "    </tr>\n",
       "    <tr>\n",
       "      <th>mean</th>\n",
       "      <td>-0.387441</td>\n",
       "      <td>0.364714</td>\n",
       "    </tr>\n",
       "    <tr>\n",
       "      <th>std</th>\n",
       "      <td>2.717959</td>\n",
       "      <td>1.937508</td>\n",
       "    </tr>\n",
       "    <tr>\n",
       "      <th>min</th>\n",
       "      <td>-18.992811</td>\n",
       "      <td>-1.470743</td>\n",
       "    </tr>\n",
       "    <tr>\n",
       "      <th>25%</th>\n",
       "      <td>-0.511218</td>\n",
       "      <td>-0.444147</td>\n",
       "    </tr>\n",
       "    <tr>\n",
       "      <th>50%</th>\n",
       "      <td>0.000000</td>\n",
       "      <td>0.000000</td>\n",
       "    </tr>\n",
       "    <tr>\n",
       "      <th>75%</th>\n",
       "      <td>0.488782</td>\n",
       "      <td>0.555853</td>\n",
       "    </tr>\n",
       "    <tr>\n",
       "      <th>max</th>\n",
       "      <td>2.402417</td>\n",
       "      <td>11.958429</td>\n",
       "    </tr>\n",
       "  </tbody>\n",
       "</table>\n",
       "</div>"
      ],
      "text/plain": [
       "                x1           x2\n",
       "count  1025.000000  1025.000000\n",
       "mean     -0.387441     0.364714\n",
       "std       2.717959     1.937508\n",
       "min     -18.992811    -1.470743\n",
       "25%      -0.511218    -0.444147\n",
       "50%       0.000000     0.000000\n",
       "75%       0.488782     0.555853\n",
       "max       2.402417    11.958429"
      ]
     },
     "execution_count": 24,
     "metadata": {},
     "output_type": "execute_result"
    }
   ],
   "source": [
    "df.describe()"
   ]
  },
  {
   "cell_type": "code",
   "execution_count": 25,
   "id": "cfd2b686",
   "metadata": {},
   "outputs": [
    {
     "data": {
      "text/plain": [
       "<AxesSubplot:ylabel='Density'>"
      ]
     },
     "execution_count": 25,
     "metadata": {},
     "output_type": "execute_result"
    },
    {
     "data": {
      "image/png": "[encoded data removed]",
      "text/plain": [
       "<Figure size 432x288 with 1 Axes>"
      ]
     },
     "metadata": {
      "needs_background": "light"
     },
     "output_type": "display_data"
    }
   ],
   "source": [
    "df.plot.kde()"
   ]
  },
  {
   "cell_type": "code",
   "execution_count": 38,
   "id": "7202c5ce",
   "metadata": {},
   "outputs": [
    {
     "name": "stdout",
     "output_type": "stream",
     "text": [
      "[[ 1.   2.5  3.9]\n",
      " [ 2.   0.   1. ]\n",
      " [ 0.  -3.   5. ]]\n"
     ]
    }
   ],
   "source": [
    "#  Binarization:\n",
    "\n",
    "X = np.array([[1, 2.5, 3.9],\n",
    "             [2, 0, 1],\n",
    "             [0, -3, 5]])\n",
    "print(X)\n",
    "\n",
    "from sklearn.preprocessing import Binarizer\n",
    "\n",
    "binarizer = Binarizer(threshold=1.0)"
   ]
  },
  {
   "cell_type": "code",
   "execution_count": 39,
   "id": "2e167fed",
   "metadata": {},
   "outputs": [
    {
     "name": "stdout",
     "output_type": "stream",
     "text": [
      "[[0. 1. 1.]\n",
      " [1. 0. 0.]\n",
      " [0. 0. 1.]]\n"
     ]
    }
   ],
   "source": [
    "data_tf = binarizer.fit_transform(X)\n",
    "\n",
    "print(data_tf)  # values > 1 are coverted to 1 and < = 1converted to 0"
   ]
  },
  {
   "cell_type": "code",
   "execution_count": null,
   "id": "f94d4364",
   "metadata": {},
   "outputs": [],
   "source": [
    "# Encoding Categorical Values\n",
    "\n",
    "# Ordinals - Where we have mathematical relationship between variables\n",
    "# we use label encoding in this case"
   ]
  },
  {
   "cell_type": "code",
   "execution_count": 43,
   "id": "19d01af3",
   "metadata": {},
   "outputs": [
    {
     "data": {
      "text/html": [
       "<div>\n",
       "<style scoped>\n",
       "    .dataframe tbody tr th:only-of-type {\n",
       "        vertical-align: middle;\n",
       "    }\n",
       "\n",
       "    .dataframe tbody tr th {\n",
       "        vertical-align: top;\n",
       "    }\n",
       "\n",
       "    .dataframe thead th {\n",
       "        text-align: right;\n",
       "    }\n",
       "</style>\n",
       "<table border=\"1\" class=\"dataframe\">\n",
       "  <thead>\n",
       "    <tr style=\"text-align: right;\">\n",
       "      <th></th>\n",
       "      <th>Age</th>\n",
       "      <th>Income</th>\n",
       "    </tr>\n",
       "  </thead>\n",
       "  <tbody>\n",
       "    <tr>\n",
       "      <th>0</th>\n",
       "      <td>33</td>\n",
       "      <td>Low</td>\n",
       "    </tr>\n",
       "    <tr>\n",
       "      <th>1</th>\n",
       "      <td>32</td>\n",
       "      <td>Medium</td>\n",
       "    </tr>\n",
       "    <tr>\n",
       "      <th>2</th>\n",
       "      <td>45</td>\n",
       "      <td>High</td>\n",
       "    </tr>\n",
       "    <tr>\n",
       "      <th>3</th>\n",
       "      <td>29</td>\n",
       "      <td>Low</td>\n",
       "    </tr>\n",
       "    <tr>\n",
       "      <th>4</th>\n",
       "      <td>55</td>\n",
       "      <td>Medium</td>\n",
       "    </tr>\n",
       "    <tr>\n",
       "      <th>5</th>\n",
       "      <td>22</td>\n",
       "      <td>Low</td>\n",
       "    </tr>\n",
       "    <tr>\n",
       "      <th>6</th>\n",
       "      <td>27</td>\n",
       "      <td>Low</td>\n",
       "    </tr>\n",
       "  </tbody>\n",
       "</table>\n",
       "</div>"
      ],
      "text/plain": [
       "   Age  Income\n",
       "0   33     Low\n",
       "1   32  Medium\n",
       "2   45    High\n",
       "3   29     Low\n",
       "4   55  Medium\n",
       "5   22     Low\n",
       "6   27     Low"
      ]
     },
     "execution_count": 43,
     "metadata": {},
     "output_type": "execute_result"
    }
   ],
   "source": [
    "df = pd.DataFrame({'Age':[33, 32, 45, 29, 55, 22, 27],\n",
    "                   'Income':['Low','Medium','High','Low', 'Medium', 'Low', 'Low']})\n",
    "df"
   ]
  },
  {
   "cell_type": "code",
   "execution_count": 44,
   "id": "8aecec7a",
   "metadata": {},
   "outputs": [
    {
     "data": {
      "text/plain": [
       "0    1\n",
       "1    2\n",
       "2    3\n",
       "3    1\n",
       "4    2\n",
       "5    1\n",
       "6    1\n",
       "Name: Income, dtype: int64"
      ]
     },
     "execution_count": 44,
     "metadata": {},
     "output_type": "execute_result"
    }
   ],
   "source": [
    "df.Income.map({'Low':1, 'Medium':2, 'High':3}) # Label encoding"
   ]
  },
  {
   "cell_type": "code",
   "execution_count": 46,
   "id": "70aad036",
   "metadata": {},
   "outputs": [],
   "source": [
    "# There is a sklearn transformer for label encoding as well"
   ]
  },
  {
   "cell_type": "code",
   "execution_count": 48,
   "id": "e2783406",
   "metadata": {},
   "outputs": [
    {
     "data": {
      "text/html": [
       "<div>\n",
       "<style scoped>\n",
       "    .dataframe tbody tr th:only-of-type {\n",
       "        vertical-align: middle;\n",
       "    }\n",
       "\n",
       "    .dataframe tbody tr th {\n",
       "        vertical-align: top;\n",
       "    }\n",
       "\n",
       "    .dataframe thead th {\n",
       "        text-align: right;\n",
       "    }\n",
       "</style>\n",
       "<table border=\"1\" class=\"dataframe\">\n",
       "  <thead>\n",
       "    <tr style=\"text-align: right;\">\n",
       "      <th></th>\n",
       "      <th>Age</th>\n",
       "      <th>Gender</th>\n",
       "    </tr>\n",
       "  </thead>\n",
       "  <tbody>\n",
       "    <tr>\n",
       "      <th>0</th>\n",
       "      <td>33</td>\n",
       "      <td>Male</td>\n",
       "    </tr>\n",
       "    <tr>\n",
       "      <th>1</th>\n",
       "      <td>32</td>\n",
       "      <td>Female</td>\n",
       "    </tr>\n",
       "    <tr>\n",
       "      <th>2</th>\n",
       "      <td>45</td>\n",
       "      <td>Male</td>\n",
       "    </tr>\n",
       "    <tr>\n",
       "      <th>3</th>\n",
       "      <td>29</td>\n",
       "      <td>LGBTQ</td>\n",
       "    </tr>\n",
       "    <tr>\n",
       "      <th>4</th>\n",
       "      <td>55</td>\n",
       "      <td>Male</td>\n",
       "    </tr>\n",
       "    <tr>\n",
       "      <th>5</th>\n",
       "      <td>22</td>\n",
       "      <td>Female</td>\n",
       "    </tr>\n",
       "    <tr>\n",
       "      <th>6</th>\n",
       "      <td>27</td>\n",
       "      <td>Male</td>\n",
       "    </tr>\n",
       "  </tbody>\n",
       "</table>\n",
       "</div>"
      ],
      "text/plain": [
       "   Age  Gender\n",
       "0   33    Male\n",
       "1   32  Female\n",
       "2   45    Male\n",
       "3   29   LGBTQ\n",
       "4   55    Male\n",
       "5   22  Female\n",
       "6   27    Male"
      ]
     },
     "execution_count": 48,
     "metadata": {},
     "output_type": "execute_result"
    }
   ],
   "source": [
    "# Encoding Nominal Values\n",
    "# These terms are just differet and they don't exactly have a mathematical relationship\n",
    "# We convert them to one hot vector\n",
    "\n",
    "df = pd.DataFrame({'Age':[33, 32, 45, 29, 55, 22, 27],\n",
    "                   'Gender':['Male','Female','Male','LGBTQ', 'Male', 'Female', 'Male']})\n",
    "df"
   ]
  },
  {
   "cell_type": "code",
   "execution_count": 49,
   "id": "94bce958",
   "metadata": {},
   "outputs": [
    {
     "data": {
      "text/plain": [
       "array(['Male', 'Female', 'LGBTQ'], dtype=object)"
      ]
     },
     "execution_count": 49,
     "metadata": {},
     "output_type": "execute_result"
    }
   ],
   "source": [
    "df.Gender.unique()"
   ]
  },
  {
   "cell_type": "code",
   "execution_count": 50,
   "id": "65a19d37",
   "metadata": {},
   "outputs": [
    {
     "name": "stdout",
     "output_type": "stream",
     "text": [
      "   Female  LGBTQ  Male\n",
      "0       0      0     1\n",
      "1       1      0     0\n",
      "2       0      0     1\n",
      "3       0      1     0\n",
      "4       0      0     1\n",
      "5       1      0     0\n",
      "6       0      0     1\n"
     ]
    }
   ],
   "source": [
    "print(pd.get_dummies(df.Gender))"
   ]
  },
  {
   "cell_type": "code",
   "execution_count": 51,
   "id": "3d9dedaf",
   "metadata": {},
   "outputs": [
    {
     "data": {
      "text/html": [
       "<div>\n",
       "<style scoped>\n",
       "    .dataframe tbody tr th:only-of-type {\n",
       "        vertical-align: middle;\n",
       "    }\n",
       "\n",
       "    .dataframe tbody tr th {\n",
       "        vertical-align: top;\n",
       "    }\n",
       "\n",
       "    .dataframe thead th {\n",
       "        text-align: right;\n",
       "    }\n",
       "</style>\n",
       "<table border=\"1\" class=\"dataframe\">\n",
       "  <thead>\n",
       "    <tr style=\"text-align: right;\">\n",
       "      <th></th>\n",
       "      <th>Age</th>\n",
       "      <th>Income</th>\n",
       "    </tr>\n",
       "  </thead>\n",
       "  <tbody>\n",
       "    <tr>\n",
       "      <th>0</th>\n",
       "      <td>33</td>\n",
       "      <td>Low</td>\n",
       "    </tr>\n",
       "    <tr>\n",
       "      <th>1</th>\n",
       "      <td>32</td>\n",
       "      <td>Medium</td>\n",
       "    </tr>\n",
       "    <tr>\n",
       "      <th>2</th>\n",
       "      <td>45</td>\n",
       "      <td>High</td>\n",
       "    </tr>\n",
       "    <tr>\n",
       "      <th>3</th>\n",
       "      <td>29</td>\n",
       "      <td>Low</td>\n",
       "    </tr>\n",
       "    <tr>\n",
       "      <th>4</th>\n",
       "      <td>55</td>\n",
       "      <td>Medium</td>\n",
       "    </tr>\n",
       "    <tr>\n",
       "      <th>5</th>\n",
       "      <td>22</td>\n",
       "      <td>Low</td>\n",
       "    </tr>\n",
       "    <tr>\n",
       "      <th>6</th>\n",
       "      <td>27</td>\n",
       "      <td>Low</td>\n",
       "    </tr>\n",
       "  </tbody>\n",
       "</table>\n",
       "</div>"
      ],
      "text/plain": [
       "   Age  Income\n",
       "0   33     Low\n",
       "1   32  Medium\n",
       "2   45    High\n",
       "3   29     Low\n",
       "4   55  Medium\n",
       "5   22     Low\n",
       "6   27     Low"
      ]
     },
     "execution_count": 51,
     "metadata": {},
     "output_type": "execute_result"
    }
   ],
   "source": [
    "from sklearn.preprocessing import LabelEncoder, OneHotEncoder\n",
    "\n",
    "# label encoder\n",
    "df = pd.DataFrame({'Age':[33, 32, 45, 29, 55, 22, 27],\n",
    "                   'Income':['Low','Medium','High','Low', 'Medium', 'Low', 'Low']})\n",
    "df"
   ]
  },
  {
   "cell_type": "code",
   "execution_count": 52,
   "id": "b33a4c90",
   "metadata": {},
   "outputs": [
    {
     "data": {
      "text/html": [
       "<div>\n",
       "<style scoped>\n",
       "    .dataframe tbody tr th:only-of-type {\n",
       "        vertical-align: middle;\n",
       "    }\n",
       "\n",
       "    .dataframe tbody tr th {\n",
       "        vertical-align: top;\n",
       "    }\n",
       "\n",
       "    .dataframe thead th {\n",
       "        text-align: right;\n",
       "    }\n",
       "</style>\n",
       "<table border=\"1\" class=\"dataframe\">\n",
       "  <thead>\n",
       "    <tr style=\"text-align: right;\">\n",
       "      <th></th>\n",
       "      <th>Age</th>\n",
       "      <th>Income</th>\n",
       "      <th>Income_label</th>\n",
       "    </tr>\n",
       "  </thead>\n",
       "  <tbody>\n",
       "    <tr>\n",
       "      <th>0</th>\n",
       "      <td>33</td>\n",
       "      <td>Low</td>\n",
       "      <td>1</td>\n",
       "    </tr>\n",
       "    <tr>\n",
       "      <th>1</th>\n",
       "      <td>32</td>\n",
       "      <td>Medium</td>\n",
       "      <td>2</td>\n",
       "    </tr>\n",
       "    <tr>\n",
       "      <th>2</th>\n",
       "      <td>45</td>\n",
       "      <td>High</td>\n",
       "      <td>0</td>\n",
       "    </tr>\n",
       "    <tr>\n",
       "      <th>3</th>\n",
       "      <td>29</td>\n",
       "      <td>Low</td>\n",
       "      <td>1</td>\n",
       "    </tr>\n",
       "    <tr>\n",
       "      <th>4</th>\n",
       "      <td>55</td>\n",
       "      <td>Medium</td>\n",
       "      <td>2</td>\n",
       "    </tr>\n",
       "    <tr>\n",
       "      <th>5</th>\n",
       "      <td>22</td>\n",
       "      <td>Low</td>\n",
       "      <td>1</td>\n",
       "    </tr>\n",
       "    <tr>\n",
       "      <th>6</th>\n",
       "      <td>27</td>\n",
       "      <td>Low</td>\n",
       "      <td>1</td>\n",
       "    </tr>\n",
       "  </tbody>\n",
       "</table>\n",
       "</div>"
      ],
      "text/plain": [
       "   Age  Income  Income_label\n",
       "0   33     Low             1\n",
       "1   32  Medium             2\n",
       "2   45    High             0\n",
       "3   29     Low             1\n",
       "4   55  Medium             2\n",
       "5   22     Low             1\n",
       "6   27     Low             1"
      ]
     },
     "execution_count": 52,
     "metadata": {},
     "output_type": "execute_result"
    }
   ],
   "source": [
    "label = LabelEncoder()\n",
    "df['Income_label'] = label.fit_transform(df.Income)  # problem with this is it assigns values on alphabetical order - High - 0, Low -1, Medium - 3\n",
    "df"
   ]
  },
  {
   "cell_type": "code",
   "execution_count": null,
   "id": "0bf955b1",
   "metadata": {},
   "outputs": [],
   "source": [
    "# one hot encoder needs to represent category\n",
    "# So, first you have to run label encoder and then One hot encoder"
   ]
  },
  {
   "cell_type": "code",
   "execution_count": 53,
   "id": "23737804",
   "metadata": {},
   "outputs": [
    {
     "data": {
      "text/html": [
       "<div>\n",
       "<style scoped>\n",
       "    .dataframe tbody tr th:only-of-type {\n",
       "        vertical-align: middle;\n",
       "    }\n",
       "\n",
       "    .dataframe tbody tr th {\n",
       "        vertical-align: top;\n",
       "    }\n",
       "\n",
       "    .dataframe thead th {\n",
       "        text-align: right;\n",
       "    }\n",
       "</style>\n",
       "<table border=\"1\" class=\"dataframe\">\n",
       "  <thead>\n",
       "    <tr style=\"text-align: right;\">\n",
       "      <th></th>\n",
       "      <th>Age</th>\n",
       "      <th>Gender</th>\n",
       "    </tr>\n",
       "  </thead>\n",
       "  <tbody>\n",
       "    <tr>\n",
       "      <th>0</th>\n",
       "      <td>33</td>\n",
       "      <td>Male</td>\n",
       "    </tr>\n",
       "    <tr>\n",
       "      <th>1</th>\n",
       "      <td>32</td>\n",
       "      <td>Female</td>\n",
       "    </tr>\n",
       "    <tr>\n",
       "      <th>2</th>\n",
       "      <td>45</td>\n",
       "      <td>Male</td>\n",
       "    </tr>\n",
       "    <tr>\n",
       "      <th>3</th>\n",
       "      <td>29</td>\n",
       "      <td>LGBTQ</td>\n",
       "    </tr>\n",
       "    <tr>\n",
       "      <th>4</th>\n",
       "      <td>55</td>\n",
       "      <td>Male</td>\n",
       "    </tr>\n",
       "    <tr>\n",
       "      <th>5</th>\n",
       "      <td>22</td>\n",
       "      <td>Female</td>\n",
       "    </tr>\n",
       "    <tr>\n",
       "      <th>6</th>\n",
       "      <td>27</td>\n",
       "      <td>Male</td>\n",
       "    </tr>\n",
       "  </tbody>\n",
       "</table>\n",
       "</div>"
      ],
      "text/plain": [
       "   Age  Gender\n",
       "0   33    Male\n",
       "1   32  Female\n",
       "2   45    Male\n",
       "3   29   LGBTQ\n",
       "4   55    Male\n",
       "5   22  Female\n",
       "6   27    Male"
      ]
     },
     "execution_count": 53,
     "metadata": {},
     "output_type": "execute_result"
    }
   ],
   "source": [
    "df = pd.DataFrame({'Age':[33, 32, 45, 29, 55, 22, 27],\n",
    "                   'Gender':['Male','Female','Male','LGBTQ', 'Male', 'Female', 'Male']})\n",
    "df"
   ]
  },
  {
   "cell_type": "code",
   "execution_count": 54,
   "id": "64f89a3f",
   "metadata": {},
   "outputs": [
    {
     "data": {
      "text/html": [
       "<div>\n",
       "<style scoped>\n",
       "    .dataframe tbody tr th:only-of-type {\n",
       "        vertical-align: middle;\n",
       "    }\n",
       "\n",
       "    .dataframe tbody tr th {\n",
       "        vertical-align: top;\n",
       "    }\n",
       "\n",
       "    .dataframe thead th {\n",
       "        text-align: right;\n",
       "    }\n",
       "</style>\n",
       "<table border=\"1\" class=\"dataframe\">\n",
       "  <thead>\n",
       "    <tr style=\"text-align: right;\">\n",
       "      <th></th>\n",
       "      <th>Age</th>\n",
       "      <th>Gender</th>\n",
       "      <th>gender_tf</th>\n",
       "    </tr>\n",
       "  </thead>\n",
       "  <tbody>\n",
       "    <tr>\n",
       "      <th>0</th>\n",
       "      <td>33</td>\n",
       "      <td>Male</td>\n",
       "      <td>2</td>\n",
       "    </tr>\n",
       "    <tr>\n",
       "      <th>1</th>\n",
       "      <td>32</td>\n",
       "      <td>Female</td>\n",
       "      <td>0</td>\n",
       "    </tr>\n",
       "    <tr>\n",
       "      <th>2</th>\n",
       "      <td>45</td>\n",
       "      <td>Male</td>\n",
       "      <td>2</td>\n",
       "    </tr>\n",
       "    <tr>\n",
       "      <th>3</th>\n",
       "      <td>29</td>\n",
       "      <td>LGBTQ</td>\n",
       "      <td>1</td>\n",
       "    </tr>\n",
       "    <tr>\n",
       "      <th>4</th>\n",
       "      <td>55</td>\n",
       "      <td>Male</td>\n",
       "      <td>2</td>\n",
       "    </tr>\n",
       "    <tr>\n",
       "      <th>5</th>\n",
       "      <td>22</td>\n",
       "      <td>Female</td>\n",
       "      <td>0</td>\n",
       "    </tr>\n",
       "    <tr>\n",
       "      <th>6</th>\n",
       "      <td>27</td>\n",
       "      <td>Male</td>\n",
       "      <td>2</td>\n",
       "    </tr>\n",
       "  </tbody>\n",
       "</table>\n",
       "</div>"
      ],
      "text/plain": [
       "   Age  Gender  gender_tf\n",
       "0   33    Male          2\n",
       "1   32  Female          0\n",
       "2   45    Male          2\n",
       "3   29   LGBTQ          1\n",
       "4   55    Male          2\n",
       "5   22  Female          0\n",
       "6   27    Male          2"
      ]
     },
     "execution_count": 54,
     "metadata": {},
     "output_type": "execute_result"
    }
   ],
   "source": [
    "df['gender_tf'] = label.fit_transform(df.Gender)\n",
    "df"
   ]
  },
  {
   "cell_type": "code",
   "execution_count": 55,
   "id": "4e5a5604",
   "metadata": {},
   "outputs": [
    {
     "data": {
      "text/plain": [
       "array([[0., 0., 1.],\n",
       "       [1., 0., 0.],\n",
       "       [0., 0., 1.],\n",
       "       [0., 1., 0.],\n",
       "       [0., 0., 1.],\n",
       "       [1., 0., 0.],\n",
       "       [0., 0., 1.]])"
      ]
     },
     "execution_count": 55,
     "metadata": {},
     "output_type": "execute_result"
    }
   ],
   "source": [
    "OneHotEncoder().fit_transform(df[['gender_tf']]).toarray()"
   ]
  },
  {
   "cell_type": "code",
   "execution_count": null,
   "id": "5cf5d87c",
   "metadata": {},
   "outputs": [],
   "source": [
    "# Imputation\n",
    "\n",
    "# Missing values can't be processed by Learning algorithms\n",
    "# Imputers can be used to infer and fill out missing values from existing data"
   ]
  },
  {
   "cell_type": "code",
   "execution_count": 56,
   "id": "0eeee814",
   "metadata": {},
   "outputs": [
    {
     "data": {
      "text/html": [
       "<div>\n",
       "<style scoped>\n",
       "    .dataframe tbody tr th:only-of-type {\n",
       "        vertical-align: middle;\n",
       "    }\n",
       "\n",
       "    .dataframe tbody tr th {\n",
       "        vertical-align: top;\n",
       "    }\n",
       "\n",
       "    .dataframe thead th {\n",
       "        text-align: right;\n",
       "    }\n",
       "</style>\n",
       "<table border=\"1\" class=\"dataframe\">\n",
       "  <thead>\n",
       "    <tr style=\"text-align: right;\">\n",
       "      <th></th>\n",
       "      <th>A</th>\n",
       "      <th>B</th>\n",
       "    </tr>\n",
       "  </thead>\n",
       "  <tbody>\n",
       "    <tr>\n",
       "      <th>0</th>\n",
       "      <td>33</td>\n",
       "      <td>5.3</td>\n",
       "    </tr>\n",
       "    <tr>\n",
       "      <th>1</th>\n",
       "      <td>32</td>\n",
       "      <td>5.1</td>\n",
       "    </tr>\n",
       "    <tr>\n",
       "      <th>2</th>\n",
       "      <td>45</td>\n",
       "      <td>6.3</td>\n",
       "    </tr>\n",
       "    <tr>\n",
       "      <th>3</th>\n",
       "      <td>29</td>\n",
       "      <td>NaN</td>\n",
       "    </tr>\n",
       "    <tr>\n",
       "      <th>4</th>\n",
       "      <td>55</td>\n",
       "      <td>5.6</td>\n",
       "    </tr>\n",
       "    <tr>\n",
       "      <th>5</th>\n",
       "      <td>22</td>\n",
       "      <td>5.3</td>\n",
       "    </tr>\n",
       "    <tr>\n",
       "      <th>6</th>\n",
       "      <td>27</td>\n",
       "      <td>6.1</td>\n",
       "    </tr>\n",
       "  </tbody>\n",
       "</table>\n",
       "</div>"
      ],
      "text/plain": [
       "    A    B\n",
       "0  33  5.3\n",
       "1  32  5.1\n",
       "2  45  6.3\n",
       "3  29  NaN\n",
       "4  55  5.6\n",
       "5  22  5.3\n",
       "6  27  6.1"
      ]
     },
     "execution_count": 56,
     "metadata": {},
     "output_type": "execute_result"
    }
   ],
   "source": [
    "df = pd.DataFrame({'A':[33, 32, 45, 29, 55, 22, 27],\n",
    "                   'B':[5.3, 5.1, 6.3, np.nan, 5.6, 5.3, 6.1]})\n",
    "df # you have some missing data here"
   ]
  },
  {
   "cell_type": "code",
   "execution_count": 57,
   "id": "f89d86ee",
   "metadata": {},
   "outputs": [
    {
     "data": {
      "text/plain": [
       "array([[33.  ,  5.3 ],\n",
       "       [32.  ,  5.1 ],\n",
       "       [45.  ,  6.3 ],\n",
       "       [29.  ,  5.45],\n",
       "       [55.  ,  5.6 ],\n",
       "       [22.  ,  5.3 ],\n",
       "       [27.  ,  6.1 ]])"
      ]
     },
     "execution_count": 57,
     "metadata": {},
     "output_type": "execute_result"
    }
   ],
   "source": [
    "from sklearn.impute import SimpleImputer\n",
    "\n",
    "imputer = SimpleImputer(strategy='median') # replacing NaN with median\n",
    "\n",
    "df_copy = imputer.fit_transform(df)\n",
    "df_copy"
   ]
  },
  {
   "cell_type": "code",
   "execution_count": 58,
   "id": "0db28e55",
   "metadata": {},
   "outputs": [
    {
     "data": {
      "text/html": [
       "<div>\n",
       "<style scoped>\n",
       "    .dataframe tbody tr th:only-of-type {\n",
       "        vertical-align: middle;\n",
       "    }\n",
       "\n",
       "    .dataframe tbody tr th {\n",
       "        vertical-align: top;\n",
       "    }\n",
       "\n",
       "    .dataframe thead th {\n",
       "        text-align: right;\n",
       "    }\n",
       "</style>\n",
       "<table border=\"1\" class=\"dataframe\">\n",
       "  <thead>\n",
       "    <tr style=\"text-align: right;\">\n",
       "      <th></th>\n",
       "      <th>A</th>\n",
       "      <th>B</th>\n",
       "    </tr>\n",
       "  </thead>\n",
       "  <tbody>\n",
       "    <tr>\n",
       "      <th>0</th>\n",
       "      <td>1</td>\n",
       "      <td>3</td>\n",
       "    </tr>\n",
       "    <tr>\n",
       "      <th>1</th>\n",
       "      <td>2</td>\n",
       "      <td>5</td>\n",
       "    </tr>\n",
       "    <tr>\n",
       "      <th>2</th>\n",
       "      <td>3</td>\n",
       "      <td>7</td>\n",
       "    </tr>\n",
       "    <tr>\n",
       "      <th>3</th>\n",
       "      <td>4</td>\n",
       "      <td>2</td>\n",
       "    </tr>\n",
       "    <tr>\n",
       "      <th>4</th>\n",
       "      <td>5</td>\n",
       "      <td>6</td>\n",
       "    </tr>\n",
       "  </tbody>\n",
       "</table>\n",
       "</div>"
      ],
      "text/plain": [
       "   A  B\n",
       "0  1  3\n",
       "1  2  5\n",
       "2  3  7\n",
       "3  4  2\n",
       "4  5  6"
      ]
     },
     "execution_count": 58,
     "metadata": {},
     "output_type": "execute_result"
    }
   ],
   "source": [
    "# Polynomial features\n",
    "\n",
    "df = pd.DataFrame({'A':[1, 2, 3, 4 , 5], 'B':[3, 5, 7, 2, 6]})\n",
    "df"
   ]
  },
  {
   "cell_type": "code",
   "execution_count": 59,
   "id": "8c107f2d",
   "metadata": {},
   "outputs": [
    {
     "data": {
      "text/plain": [
       "array([[ 1.,  1.,  3.,  1.,  3.,  9.],\n",
       "       [ 1.,  2.,  5.,  4., 10., 25.],\n",
       "       [ 1.,  3.,  7.,  9., 21., 49.],\n",
       "       [ 1.,  4.,  2., 16.,  8.,  4.],\n",
       "       [ 1.,  5.,  6., 25., 30., 36.]])"
      ]
     },
     "execution_count": 59,
     "metadata": {},
     "output_type": "execute_result"
    }
   ],
   "source": [
    "from sklearn.preprocessing import PolynomialFeatures\n",
    "\n",
    "poly = PolynomialFeatures(degree=2, include_bias=True) # 1st col - x1, 2nd - A, 3rd -B, 4th - A**2, 5th  - A*B, 6th - B**2 \n",
    "\n",
    "poly.fit_transform(df)"
   ]
  },
  {
   "cell_type": "code",
   "execution_count": 61,
   "id": "1a4f10d0",
   "metadata": {},
   "outputs": [
    {
     "name": "stdout",
     "output_type": "stream",
     "text": [
      "[[  1.   1.   3.   1.   3.   9.   1.   3.   9.  27.]\n",
      " [  1.   2.   5.   4.  10.  25.   8.  20.  50. 125.]\n",
      " [  1.   3.   7.   9.  21.  49.  27.  63. 147. 343.]\n",
      " [  1.   4.   2.  16.   8.   4.  64.  32.  16.   8.]\n",
      " [  1.   5.   6.  25.  30.  36. 125. 150. 180. 216.]]\n"
     ]
    }
   ],
   "source": [
    "poly = PolynomialFeatures(degree=3, include_bias=True) # x1, A, B, A**2, A*B, B**2, A**3, A^2*B, A*B^2, B**3\n",
    "\n",
    "print(poly.fit_transform(df))"
   ]
  },
  {
   "cell_type": "code",
   "execution_count": null,
   "id": "fbc3b725",
   "metadata": {},
   "outputs": [],
   "source": []
  },
  {
   "cell_type": "code",
   "execution_count": null,
   "id": "a2c45a0a",
   "metadata": {},
   "outputs": [],
   "source": []
  },
  {
   "cell_type": "code",
   "execution_count": null,
   "id": "feff1cbb",
   "metadata": {},
   "outputs": [],
   "source": []
  },
  {
   "cell_type": "code",
   "execution_count": null,
   "id": "997353f8",
   "metadata": {},
   "outputs": [],
   "source": []
  }
 ],
 "metadata": {
  "kernelspec": {
   "display_name": "Python 3 (ipykernel)",
   "language": "python",
   "name": "python3"
  },
  "language_info": {
   "codemirror_mode": {
    "name": "ipython",
    "version": 3
   },
   "file_extension": ".py",
   "mimetype": "text/x-python",
   "name": "python",
   "nbconvert_exporter": "python",
   "pygments_lexer": "ipython3",
   "version": "3.9.7"
  }
 },
 "nbformat": 4,
 "nbformat_minor": 5
}
