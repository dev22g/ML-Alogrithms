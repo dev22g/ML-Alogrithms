{
 "cells": [
  {
   "cell_type": "code",
   "execution_count": null,
   "id": "da900777",
   "metadata": {},
   "outputs": [],
   "source": [
    "# Unsupervised Learning\n",
    "\n",
    "# Its a type of Machime learning where machine draws inferences from unlabeled data\n",
    "# the model tries to find pattern using features of the data"
   ]
  },
  {
   "cell_type": "markdown",
   "id": "f0e72a51",
   "metadata": {},
   "source": [
    "Clustering Techniques:\n",
    "\n",
    "* A learning technique to group a set of objects in such a way that objects of same group are more simiar to each other than objects from the other group.\n",
    "* Application of Clustering are as follows:\n",
    "    1. Labelling of the data\n",
    "    2. Undersatnding hidden structure of data\n",
    "    3. News clustering\n",
    "    4. Customer Segmentation\n",
    "    5. Suggest social groups"
   ]
  },
  {
   "cell_type": "markdown",
   "id": "a4d7f729",
   "metadata": {},
   "source": [
    "# K Means Clustering"
   ]
  },
  {
   "cell_type": "code",
   "execution_count": 1,
   "id": "fd834863",
   "metadata": {},
   "outputs": [],
   "source": [
    "import matplotlib.pyplot as plt\n",
    "import numpy as np"
   ]
  },
  {
   "cell_type": "code",
   "execution_count": 2,
   "id": "414ecad4",
   "metadata": {},
   "outputs": [
    {
     "data": {
      "image/png": "[encoded data removed]",
      "text/plain": [
       "<Figure size 432x288 with 1 Axes>"
      ]
     },
     "metadata": {
      "needs_background": "light"
     },
     "output_type": "display_data"
    }
   ],
   "source": [
    "from sklearn.datasets import make_blobs\n",
    "\n",
    "X, y_true = make_blobs(n_samples=500, centers=4, cluster_std=2.0, random_state=7)\n",
    "plt.scatter(X[:,0], X[:,1], s=50)\n",
    "plt.show()\n"
   ]
  },
  {
   "cell_type": "markdown",
   "id": "dc5f5eb8",
   "metadata": {},
   "source": [
    "# K means steps:\n",
    "\n",
    "1. Initialise k centroids randomly\n",
    "2. Assign each data to the nearest centroid, these steps would create a cluster of points (E step)\n",
    "3. Recalculate centroid - which means all of the points in one cluster are basically averaged out (M step) \n",
    "4. Repeat steps 2, 3 till the difference between same centroids in two consecutive runs is less than tolerance"
   ]
  },
  {
   "cell_type": "code",
   "execution_count": 13,
   "id": "09151fdc",
   "metadata": {},
   "outputs": [],
   "source": [
    "from sklearn.cluster import KMeans\n",
    "\n",
    "kmeans = KMeans(n_clusters=10)\n",
    "kmeans.fit(X)\n",
    "y_pred = kmeans.predict(X)"
   ]
  },
  {
   "cell_type": "code",
   "execution_count": 14,
   "id": "64462838",
   "metadata": {},
   "outputs": [
    {
     "data": {
      "text/plain": [
       "array([6, 9, 0, 6, 5, 3, 0, 3, 5, 4, 5, 7, 4, 0, 8, 3, 1, 8, 9, 5, 8, 6,\n",
       "       4, 1, 8, 8, 6, 3, 3, 0, 8, 6, 5, 0, 4, 2, 8, 1, 1, 2, 1, 5, 3, 3,\n",
       "       7, 5, 1, 1, 0, 2, 3, 0, 6, 6, 2, 9, 7, 8, 2, 3, 6, 0, 3, 9, 3, 7,\n",
       "       9, 6, 0, 4, 6, 6, 1, 2, 4, 3, 1, 6, 8, 9, 5, 2, 8, 3, 4, 2, 9, 6,\n",
       "       6, 9, 4, 8, 9, 8, 7, 4, 1, 6, 0, 5, 7, 2, 5, 8, 7, 5, 6, 3, 0, 2,\n",
       "       6, 6, 1, 2, 3, 0, 4, 0, 5, 3, 2, 9, 8, 2, 4, 7, 0, 8, 5, 9, 2, 6,\n",
       "       0, 8, 2, 9, 6, 6, 7, 0, 8, 3, 4, 0, 2, 6, 7, 7, 6, 5, 7, 5, 9, 7,\n",
       "       5, 7, 8, 2, 5, 4, 3, 0, 2, 8, 7, 7, 1, 2, 5, 2, 0, 3, 0, 2, 4, 3,\n",
       "       3, 7, 4, 5, 9, 0, 5, 6, 6, 8, 1, 9, 4, 7, 5, 8, 9, 4, 3, 4, 2, 2,\n",
       "       7, 3, 4, 9, 9, 1, 9, 0, 3, 5, 7, 2, 2, 8, 0, 7, 5, 4, 6, 4, 2, 6,\n",
       "       0, 5, 4, 2, 3, 2, 5, 4, 0, 3, 2, 4, 8, 4, 7, 0, 0, 6, 6, 6, 8, 5,\n",
       "       5, 9, 9, 9, 5, 6, 7, 6, 8, 8, 0, 5, 0, 5, 0, 4, 4, 6, 6, 7, 2, 7,\n",
       "       1, 7, 3, 1, 8, 0, 4, 8, 9, 2, 4, 1, 4, 1, 9, 0, 4, 4, 2, 3, 4, 5,\n",
       "       6, 8, 1, 8, 7, 4, 3, 0, 2, 0, 3, 6, 1, 8, 8, 1, 5, 6, 1, 9, 4, 7,\n",
       "       0, 1, 2, 7, 1, 2, 5, 9, 5, 3, 0, 8, 4, 2, 6, 8, 3, 3, 6, 7, 7, 5,\n",
       "       0, 4, 6, 6, 9, 8, 8, 5, 0, 2, 9, 6, 0, 2, 2, 6, 0, 5, 2, 6, 4, 4,\n",
       "       2, 8, 9, 2, 0, 1, 9, 2, 4, 2, 6, 0, 0, 6, 2, 8, 1, 4, 7, 4, 7, 5,\n",
       "       9, 0, 6, 6, 5, 5, 4, 0, 7, 9, 7, 3, 4, 9, 5, 8, 7, 8, 4, 3, 3, 7,\n",
       "       1, 1, 2, 2, 2, 6, 3, 2, 4, 2, 7, 2, 9, 8, 2, 1, 2, 6, 6, 6, 0, 0,\n",
       "       1, 4, 3, 2, 6, 3, 4, 6, 9, 4, 6, 6, 8, 5, 3, 8, 8, 3, 7, 3, 8, 2,\n",
       "       2, 4, 4, 6, 7, 4, 1, 6, 6, 5, 2, 5, 6, 2, 8, 6, 4, 4, 2, 7, 4, 7,\n",
       "       8, 8, 6, 4, 7, 8, 9, 4, 3, 2, 2, 2, 5, 8, 6, 9, 7, 9, 2, 0, 5, 4,\n",
       "       6, 9, 8, 2, 7, 7, 2, 5, 6, 7, 7, 2, 0, 8, 3, 2])"
      ]
     },
     "execution_count": 14,
     "metadata": {},
     "output_type": "execute_result"
    }
   ],
   "source": [
    "y_pred"
   ]
  },
  {
   "cell_type": "code",
   "execution_count": 15,
   "id": "06cab069",
   "metadata": {},
   "outputs": [
    {
     "data": {
      "text/plain": [
       "array([[-8.92377135,  3.60540804],\n",
       "       [ 1.25636754, -5.87478211],\n",
       "       [10.21904107,  2.07158576],\n",
       "       [-5.13396929,  5.52047287],\n",
       "       [ 9.06926977, -1.36166967],\n",
       "       [-1.54275166, -8.83782054],\n",
       "       [-0.19507786,  5.02350023],\n",
       "       [ 1.20514172, -9.49316435],\n",
       "       [-9.4242973 ,  7.23434997],\n",
       "       [-1.62143963,  2.12586926]])"
      ]
     },
     "execution_count": 15,
     "metadata": {},
     "output_type": "execute_result"
    }
   ],
   "source": [
    "kmeans.cluster_centers_"
   ]
  },
  {
   "cell_type": "code",
   "execution_count": 16,
   "id": "cf39d6b1",
   "metadata": {},
   "outputs": [
    {
     "data": {
      "text/plain": [
       "31"
      ]
     },
     "execution_count": 16,
     "metadata": {},
     "output_type": "execute_result"
    }
   ],
   "source": [
    "kmeans.n_iter_"
   ]
  },
  {
   "cell_type": "code",
   "execution_count": 19,
   "id": "361298cd",
   "metadata": {},
   "outputs": [
    {
     "data": {
      "image/png": "[encoded data removed]",
      "text/plain": [
       "<Figure size 432x288 with 1 Axes>"
      ]
     },
     "metadata": {
      "needs_background": "light"
     },
     "output_type": "display_data"
    }
   ],
   "source": [
    "plt.scatter(X[:,0], X[:,1], c=y_pred, s=50, cmap='viridis')\n",
    "centers = kmeans.cluster_centers_\n",
    "plt.scatter(centers[:,0], centers[:,1], c='k', s=100, alpha=0.5)\n",
    "plt.show()"
   ]
  },
  {
   "cell_type": "code",
   "execution_count": null,
   "id": "84c065be",
   "metadata": {},
   "outputs": [],
   "source": [
    "# Run the kmeans clustering on iris data just use features and plot the features"
   ]
  },
  {
   "cell_type": "code",
   "execution_count": 21,
   "id": "2d3b406f",
   "metadata": {},
   "outputs": [],
   "source": [
    "from sklearn.datasets import load_iris\n",
    "\n",
    "iris = load_iris()\n",
    "X = iris.data"
   ]
  },
  {
   "cell_type": "code",
   "execution_count": 43,
   "id": "9c61e694",
   "metadata": {},
   "outputs": [],
   "source": [
    "kmeans = KMeans(n_clusters=3)\n",
    "kmeans.fit(X)\n",
    "y_pred = kmeans.predict(X)"
   ]
  },
  {
   "cell_type": "code",
   "execution_count": 45,
   "id": "2dd5956f",
   "metadata": {},
   "outputs": [
    {
     "data": {
      "text/plain": [
       "array([[5.9016129 , 2.7483871 , 4.39354839, 1.43387097],\n",
       "       [5.006     , 3.428     , 1.462     , 0.246     ],\n",
       "       [6.85      , 3.07368421, 5.74210526, 2.07105263]])"
      ]
     },
     "execution_count": 45,
     "metadata": {},
     "output_type": "execute_result"
    }
   ],
   "source": [
    "kmeans.cluster_centers_"
   ]
  },
  {
   "cell_type": "code",
   "execution_count": 46,
   "id": "c8e39517",
   "metadata": {},
   "outputs": [
    {
     "data": {
      "text/plain": [
       "3"
      ]
     },
     "execution_count": 46,
     "metadata": {},
     "output_type": "execute_result"
    }
   ],
   "source": [
    "kmeans.n_iter_"
   ]
  },
  {
   "cell_type": "code",
   "execution_count": 48,
   "id": "ca3e9f09",
   "metadata": {
    "scrolled": true
   },
   "outputs": [
    {
     "data": {
      "image/png": "[encoded data removed]",
      "text/plain": [
       "<Figure size 432x288 with 1 Axes>"
      ]
     },
     "metadata": {
      "needs_background": "light"
     },
     "output_type": "display_data"
    }
   ],
   "source": [
    "plt.scatter(X[:,0], X[:,1], c=y_pred, s=50, cmap='viridis')\n",
    "centers = kmeans.cluster_centers_\n",
    "plt.scatter(centers[:,0], centers[:,2], c='k', s=100, alpha=0.5)\n",
    "plt.show()"
   ]
  },
  {
   "cell_type": "markdown",
   "id": "210eb375",
   "metadata": {},
   "source": [
    "### Pros:\n",
    "\n",
    "1. Fast, robust and easy to understand \n",
    "2. Almost linear time complexity\n",
    "3. GIves best results when data is well separated from each other\n",
    "\n",
    "### Cons:\n",
    "\n",
    "1. THe algorithm requires prior specification of cluster centers\n",
    "2. It doesn't works well with non-linear separable data\n",
    "3. Random intialization doesn't works well in case of non-linear data"
   ]
  },
  {
   "cell_type": "markdown",
   "id": "89dcedd8",
   "metadata": {},
   "source": [
    "## Agglomerative Clustering:\n",
    "\n",
    "Hierarchia Clustering is a type of unsupervised clusteringmethod which is used to cluster data points.\n",
    "\n",
    "The way we would do clustering is by ustilizing Agglomerative technique. We'll follow a Bottom up Approach."
   ]
  },
  {
   "cell_type": "markdown",
   "id": "cfe41992",
   "metadata": {},
   "source": [
    " 1. At the start treat each data point as its own cluster. Therefore number of clusters at the end will beL\n",
    " 2. Form a cluster by joining the two closest data points thus resulting into k-1 clusters\n",
    " 3. Form more clusters by joining more data points together\n",
    " 4. Repeat this process till you get a single giant cluster\n",
    " 5. Utilize dangerous to visualize and figure out an optimal distance threshold\n",
    "\n",
    "To find distance between multiple clusters we could use following techniques:\n",
    "\n",
    " 1. Measure the distance between the closest point of two clusters\n",
    " 2. Measure the distance between the farthest points of two clusters\n",
    " 3. Measure the distance between the centroids of two clusters\n",
    " 4. Measure the distance between all the possible combinations between two clusters and take their average"
   ]
  },
  {
   "cell_type": "code",
   "execution_count": 51,
   "id": "25188b95",
   "metadata": {},
   "outputs": [
    {
     "data": {
      "image/png": "[encoded data removed]",
      "text/plain": [
       "<Figure size 720x504 with 1 Axes>"
      ]
     },
     "metadata": {
      "needs_background": "light"
     },
     "output_type": "display_data"
    }
   ],
   "source": [
    "# Role of Dendograms in Heirarchial Clustering:\n",
    "\n",
    "X = np.array([[5,5], [10,15], [14,12], [30,30], [81,10], [9,78], [85,70], [23,91], [19,86], [71,80]])\n",
    "\n",
    "labels= range(1,11)\n",
    "plt.figure(figsize=(10,7))\n",
    "plt.subplots_adjust(bottom=0.1)\n",
    "plt.scatter(X[:,0], X[:,1], label='True Positions')\n",
    "\n",
    "for labels, x, y in zip(labels, X[:,0], X[:,1]):\n",
    "    plt.annotate(labels, xy = (x, y), ha='right', va='bottom')\n",
    "    \n",
    "plt.show()"
   ]
  },
  {
   "cell_type": "code",
   "execution_count": 52,
   "id": "18c179d9",
   "metadata": {},
   "outputs": [
    {
     "data": {
      "image/png": "[encoded data removed]",
      "text/plain": [
       "<Figure size 720x504 with 1 Axes>"
      ]
     },
     "metadata": {
      "needs_background": "light"
     },
     "output_type": "display_data"
    }
   ],
   "source": [
    "from scipy.cluster.hierarchy import dendrogram, linkage\n",
    "\n",
    "linked = linkage(X, 'single')\n",
    "\n",
    "lablelist = range(1,11)\n",
    "\n",
    "plt.figure(figsize=(10,7))\n",
    "dendrogram(linked, orientation='top', labels= lablelist, distance_sort='descending')\n",
    "plt.show()"
   ]
  },
  {
   "cell_type": "code",
   "execution_count": 53,
   "id": "31f724c5",
   "metadata": {},
   "outputs": [],
   "source": [
    "import pandas as pd"
   ]
  },
  {
   "cell_type": "code",
   "execution_count": null,
   "id": "c39a3503",
   "metadata": {},
   "outputs": [],
   "source": [
    "customer_data = pd.read_csv('shopping_data.csv')"
   ]
  },
  {
   "cell_type": "code",
   "execution_count": null,
   "id": "75c383dd",
   "metadata": {},
   "outputs": [],
   "source": [
    "                                                                                                                                                                                                                                                                                                                                                                                                                                                                                                                                                                                                                                                                                                                                                                                                                                                                                                                                                                                                                                                                                                                                                                                                                                                                                                                                                                                                                                                                                                                                                                                                                                                                                                                                                                                                                                                                                                                                                                                                                                                                                                                                                                                                                                                                                                                                                                                                                                                                                                                                                                                                                                                                                                                                                                                                                                                                                                                                                                                                                                                                                                                                                                                                                                                                                                                                                                                                                                                                                                                                                                                                                                                                                                                                                                                                                                                                                                                                                                                                                                                                                                                                                                                                                                                                                                                                                                                                                                                                                                                                                                                                                                                                                                                                                                                                                                                                                                                                                                                                                                                                                                                                                                                                                                                                                                                                                                                                                                                                                                                                                                                                                                                                                                                                                                                                                                                                                                                                                                                                                                                                                                                                                                                "
   ]
  },
  {
   "cell_type": "code",
   "execution_count": null,
   "id": "15bc0336",
   "metadata": {},
   "outputs": [],
   "source": [
    "data = customer_data.iloc[:,3:5].vlaues"
   ]
  },
  {
   "cell_type": "code",
   "execution_count": null,
   "id": "ab4eb554",
   "metadata": {},
   "outputs": [],
   "source": [
    "data"
   ]
  },
  {
   "cell_type": "code",
   "execution_count": null,
   "id": "250016f9",
   "metadata": {},
   "outputs": [],
   "source": [
    "data.shape"
   ]
  },
  {
   "cell_type": "code",
   "execution_count": null,
   "id": "e3d994a1",
   "metadata": {},
   "outputs": [],
   "source": [
    "plt.figure(figsize=(10,7))\n",
    "plt.scatter(data[:,0], data[:,1])\n",
    "plt.show()"
   ]
  },
  {
   "cell_type": "code",
   "execution_count": null,
   "id": "8adb6968",
   "metadata": {},
   "outputs": [],
   "source": [
    "plt.figure(figsize=(10,8))\n",
    "plt.title('Customer Segmentation')\n",
    "dend = dendrogram(linkage(data, method='ward'))"
   ]
  },
  {
   "cell_type": "code",
   "execution_count": null,
   "id": "058e2af7",
   "metadata": {},
   "outputs": [],
   "source": [
    "from sklearn.cluster import AgglomerativeClustering\n",
    "\n",
    "cluster = AgglomerativeClustering(n_clusters=None, affinity='euclidean', linkage=='ward', distance_threshold=150)\n",
    "print(cluster.fit_predict(data))\n",
    "print(clusters.n_clusters_)"
   ]
  },
  {
   "cell_type": "code",
   "execution_count": null,
   "id": "b94ca798",
   "metadata": {},
   "outputs": [],
   "source": [
    "plt.figure(figsize=(10,10))\n",
    "plt.scatter(data[:,0], data[:,1], c=cluster.labels_, cmap='rainbow')\n",
    "plt.show()"
   ]
  },
  {
   "cell_type": "markdown",
   "id": "a8d741bd",
   "metadata": {},
   "source": [
    "### Measuring Performance of Clustering Techniques\n",
    "\n",
    "Its bit different while w e deal with clustering mrthods\n",
    "\n",
    "There are two forms of evaluation:\n",
    "1. Supervised\n",
    "2. Unsupervised\n",
    "\n",
    "* Supervised: Which used the ground truth class values for each sample\n",
    "    1. Completeness Score\n",
    "    2. Homogeneity Score\n",
    "    3. V Measure\n",
    "* Unsupervised: Which measures the quality of the model itself\n",
    "    1. Silhoutte Score\n",
    "    2. calinsky_harabasz_Score"
   ]
  },
  {
   "cell_type": "code",
   "execution_count": null,
   "id": "5c5ce70c",
   "metadata": {},
   "outputs": [],
   "source": [
    "# Completeness Score:\n",
    "# A clustering result satisfies completeness if all the data \n",
    "# points that are the members of a given class are the \n",
    "# elements of the same cluster\n",
    "\n",
    "# Accuracy is 1.0 if the data belonging to same class also belongs to same clusters"
   ]
  },
  {
   "cell_type": "code",
   "execution_count": 1,
   "id": "019225cf",
   "metadata": {},
   "outputs": [
    {
     "data": {
      "text/plain": [
       "1.0"
      ]
     },
     "execution_count": 1,
     "metadata": {},
     "output_type": "execute_result"
    }
   ],
   "source": [
    "from sklearn.metrics import completeness_score\n",
    "\n",
    "completeness_score(labels_true=[10, 10, 11, 11, 10, 11], labels_pred=[1, 1, 0, 0, 1, 0])"
   ]
  },
  {
   "cell_type": "code",
   "execution_count": 2,
   "id": "359ccac7",
   "metadata": {},
   "outputs": [
    {
     "data": {
      "text/plain": [
       "0.5"
      ]
     },
     "execution_count": 2,
     "metadata": {},
     "output_type": "execute_result"
    }
   ],
   "source": [
    "completeness_score(labels_true=[10, 10, 11, 11, 10, 11], labels_pred=[1, 1, 0, 0, 1, 1])"
   ]
  },
  {
   "cell_type": "code",
   "execution_count": 3,
   "id": "965880b7",
   "metadata": {},
   "outputs": [
    {
     "data": {
      "text/plain": [
       "1.0"
      ]
     },
     "execution_count": 3,
     "metadata": {},
     "output_type": "execute_result"
    }
   ],
   "source": [
    "# fooling completeness\n",
    "completeness_score(labels_true=[10, 10, 11, 11, 10, 11], labels_pred=[0, 0, 0, 0, 0, 0])"
   ]
  },
  {
   "cell_type": "code",
   "execution_count": null,
   "id": "5b328259",
   "metadata": {},
   "outputs": [],
   "source": [
    "# Homogeneity Score:\n",
    "# A clustering result satisfies homegenity if all of its clusters\n",
    "# only contain data points from the same group"
   ]
  },
  {
   "cell_type": "code",
   "execution_count": 4,
   "id": "6e77df3f",
   "metadata": {},
   "outputs": [
    {
     "data": {
      "text/plain": [
       "1.0"
      ]
     },
     "execution_count": 4,
     "metadata": {},
     "output_type": "execute_result"
    }
   ],
   "source": [
    "from sklearn.metrics import homogeneity_score\n",
    "homogeneity_score(labels_true=[10, 10, 11, 11, 10, 11], labels_pred=[1, 1, 0, 0, 1, 0])"
   ]
  },
  {
   "cell_type": "code",
   "execution_count": 5,
   "id": "4850202f",
   "metadata": {},
   "outputs": [
    {
     "data": {
      "text/plain": [
       "0.45914791702724483"
      ]
     },
     "execution_count": 5,
     "metadata": {},
     "output_type": "execute_result"
    }
   ],
   "source": [
    "homogeneity_score(labels_true=[10, 10, 11, 11, 10, 11], labels_pred=[1, 1, 0, 0, 1, 1])"
   ]
  },
  {
   "cell_type": "code",
   "execution_count": 7,
   "id": "0894f624",
   "metadata": {},
   "outputs": [
    {
     "data": {
      "text/plain": [
       "0.9999999999999993"
      ]
     },
     "execution_count": 7,
     "metadata": {},
     "output_type": "execute_result"
    }
   ],
   "source": [
    "# fooling homogeneity\n",
    "homogeneity_score(labels_true=[10, 10, 11, 11, 10, 11], labels_pred=[1, 2, 3, 4, 5, 6])"
   ]
  },
  {
   "cell_type": "code",
   "execution_count": 8,
   "id": "0494b720",
   "metadata": {},
   "outputs": [
    {
     "data": {
      "text/plain": [
       "1.0"
      ]
     },
     "execution_count": 8,
     "metadata": {},
     "output_type": "execute_result"
    }
   ],
   "source": [
    "# fooling homogeneity\n",
    "homogeneity_score(labels_true=[10, 10, 10, 10, 10, 10], labels_pred=[1, 1, 0, 0, 1, 0])"
   ]
  },
  {
   "cell_type": "code",
   "execution_count": null,
   "id": "a2589aa3",
   "metadata": {},
   "outputs": [],
   "source": [
    "# V Measure:\n",
    "# Its a harmonic mean of completeness and homogeneity score"
   ]
  },
  {
   "cell_type": "code",
   "execution_count": 10,
   "id": "34bb12a4",
   "metadata": {},
   "outputs": [
    {
     "data": {
      "text/plain": [
       "1.0"
      ]
     },
     "execution_count": 10,
     "metadata": {},
     "output_type": "execute_result"
    }
   ],
   "source": [
    "from sklearn.metrics import v_measure_score\n",
    "\n",
    "v_measure_score(labels_true=[10, 10, 11, 11, 10, 11], labels_pred=[1, 1, 0, 0, 1, 0])"
   ]
  },
  {
   "cell_type": "code",
   "execution_count": 11,
   "id": "29417ee6",
   "metadata": {},
   "outputs": [
    {
     "data": {
      "text/plain": [
       "(1.0, 1.0, 1.0)"
      ]
     },
     "execution_count": 11,
     "metadata": {},
     "output_type": "execute_result"
    }
   ],
   "source": [
    "from sklearn.metrics import homogeneity_completeness_v_measure\n",
    "\n",
    "homogeneity_completeness_v_measure(labels_true=[10, 10, 11, 11, 10, 11], labels_pred=[1, 1, 0, 0, 1, 0])"
   ]
  },
  {
   "cell_type": "code",
   "execution_count": 12,
   "id": "2ef095c3",
   "metadata": {},
   "outputs": [
    {
     "data": {
      "text/plain": [
       "(0.45914791702724483, 0.5, 0.4787039713856801)"
      ]
     },
     "execution_count": 12,
     "metadata": {},
     "output_type": "execute_result"
    }
   ],
   "source": [
    "homogeneity_completeness_v_measure(labels_true=[10, 10, 11, 11, 10, 11], labels_pred=[1, 1, 0, 0, 1, 1])"
   ]
  },
  {
   "cell_type": "code",
   "execution_count": 13,
   "id": "9e8025df",
   "metadata": {},
   "outputs": [
    {
     "data": {
      "text/plain": [
       "(0.9999999999999993, 0.3868528072345413, 0.5578858913022592)"
      ]
     },
     "execution_count": 13,
     "metadata": {},
     "output_type": "execute_result"
    }
   ],
   "source": [
    "homogeneity_completeness_v_measure(labels_true=[10, 10, 11, 11, 10, 11], labels_pred=[1, 2, 3, 4, 5, 6])"
   ]
  },
  {
   "cell_type": "code",
   "execution_count": 14,
   "id": "737f9e12",
   "metadata": {},
   "outputs": [
    {
     "data": {
      "text/plain": [
       "(1.0, 0.0, 0.0)"
      ]
     },
     "execution_count": 14,
     "metadata": {},
     "output_type": "execute_result"
    }
   ],
   "source": [
    "homogeneity_completeness_v_measure(labels_true=[10, 10, 10, 10, 10, 10], labels_pred=[1, 1, 0, 0, 1, 0])"
   ]
  },
  {
   "cell_type": "code",
   "execution_count": 15,
   "id": "f8b7f5e0",
   "metadata": {},
   "outputs": [
    {
     "data": {
      "text/plain": [
       "(0.0, 1.0, 0.0)"
      ]
     },
     "execution_count": 15,
     "metadata": {},
     "output_type": "execute_result"
    }
   ],
   "source": [
    "homogeneity_completeness_v_measure(labels_true=[10, 10, 11, 11, 10, 11], labels_pred=[0, 0, 0, 0, 0, 0])"
   ]
  },
  {
   "cell_type": "code",
   "execution_count": null,
   "id": "adf1e67f",
   "metadata": {},
   "outputs": [],
   "source": [
    "# Silhouttes Score:\n",
    "\n",
    "# The silhoutte coefficient is calculated using mean inta-cluster distance(a)\n",
    "# and the mean nearest cluster distance(b)\n",
    "\n",
    "# It is calculated for a sample as (b-a)/max(a,b). Just to clarify b is the distance between a sample \n",
    "# and the nearest cluster that the sample is not part of.\n",
    "\n",
    "# Values fall betn -1 to +1. +1 - best prediction, -1 - worst prediction"
   ]
  },
  {
   "cell_type": "code",
   "execution_count": 29,
   "id": "50071444",
   "metadata": {},
   "outputs": [],
   "source": [
    "import numpy as np"
   ]
  },
  {
   "cell_type": "code",
   "execution_count": 50,
   "id": "ad3e446f",
   "metadata": {},
   "outputs": [
    {
     "data": {
      "text/plain": [
       "<matplotlib.collections.PathCollection at 0x210f3437430>"
      ]
     },
     "execution_count": 50,
     "metadata": {},
     "output_type": "execute_result"
    },
    {
     "data": {
      "image/png": "[encoded data removed]",
      "text/plain": [
       "<Figure size 432x288 with 1 Axes>"
      ]
     },
     "metadata": {
      "needs_background": "light"
     },
     "output_type": "display_data"
    }
   ],
   "source": [
    "from sklearn.datasets import make_blobs\n",
    "\n",
    "X, Y = make_blobs(n_samples=500, n_features=2, centers=4, cluster_std=0.95, shuffle=True, center_box=(-10,10))\n",
    "import matplotlib.pyplot as plt\n",
    "plt.scatter(X[:,0], X[:,1], s=20)"
   ]
  },
  {
   "cell_type": "code",
   "execution_count": 51,
   "id": "c699d5cf",
   "metadata": {},
   "outputs": [],
   "source": [
    "range_n_cluster = np.arange(2,11)"
   ]
  },
  {
   "cell_type": "code",
   "execution_count": 52,
   "id": "c08639bc",
   "metadata": {},
   "outputs": [],
   "source": [
    "from sklearn.cluster import KMeans\n",
    "from sklearn.metrics import silhouette_score"
   ]
  },
  {
   "cell_type": "code",
   "execution_count": 53,
   "id": "6a97b8f8",
   "metadata": {},
   "outputs": [
    {
     "name": "stdout",
     "output_type": "stream",
     "text": [
      "2 0.7040209763378704\n",
      "3 0.7203304764337581\n",
      "4 0.5922904117761844\n",
      "5 0.4816420266617521\n",
      "6 0.4386386396192701\n",
      "7 0.32441968580101904\n",
      "8 0.33198824861931736\n",
      "9 0.34335710579919576\n",
      "10 0.3540374341476978\n"
     ]
    }
   ],
   "source": [
    "silhouette_score_list=[]\n",
    "for n in range_n_cluster:\n",
    "    kmeans = KMeans(n_clusters=n)\n",
    "    kmeans.fit(X)\n",
    "    labels = kmeans.predict(X)\n",
    "    print(n, silhouette_score(X, labels))\n",
    "    silhouette_score_list.append(silhouette_score(X, labels))"
   ]
  },
  {
   "cell_type": "code",
   "execution_count": 54,
   "id": "a1083cca",
   "metadata": {},
   "outputs": [
    {
     "data": {
      "image/png": "[encoded data removed]",
      "text/plain": [
       "<Figure size 432x288 with 1 Axes>"
      ]
     },
     "metadata": {
      "needs_background": "light"
     },
     "output_type": "display_data"
    }
   ],
   "source": [
    "plt.plot(range_n_cluster, silhouette_score_list)\n",
    "plt.show()"
   ]
  },
  {
   "cell_type": "code",
   "execution_count": 55,
   "id": "84d0eef3",
   "metadata": {},
   "outputs": [],
   "source": [
    "# Calinksi Harabasz Score:\n",
    "\n",
    "# The score is defined as the ratio between the within cluster dispersion\n",
    "# and the between cluster dispersion\n",
    "# Higher score is better\n",
    "from sklearn.metrics import calinski_harabasz_score"
   ]
  },
  {
   "cell_type": "code",
   "execution_count": 56,
   "id": "c61db301",
   "metadata": {},
   "outputs": [
    {
     "name": "stdout",
     "output_type": "stream",
     "text": [
      "2 2038.0726132541386\n",
      "3 3314.396437892231\n",
      "4 3516.318542082867\n",
      "5 2930.9821993015903\n",
      "6 2621.459425704597\n",
      "7 2474.170434476108\n",
      "8 2427.9196577389107\n",
      "9 2353.38302757325\n",
      "10 2370.1339303867194\n"
     ]
    }
   ],
   "source": [
    "calinski_harabasz_score_list=[]\n",
    "for n in range_n_cluster:\n",
    "    kmeans = KMeans(n_clusters=n)\n",
    "    kmeans.fit(X)\n",
    "    labels = kmeans.predict(X)\n",
    "    print(n, calinski_harabasz_score(X, labels))\n",
    "    calinski_harabasz_score_list.append(calinski_harabasz_score(X, labels))"
   ]
  },
  {
   "cell_type": "code",
   "execution_count": 57,
   "id": "aafeb6e8",
   "metadata": {},
   "outputs": [
    {
     "data": {
      "image/png": "[encoded data removed]",
      "text/plain": [
       "<Figure size 432x288 with 1 Axes>"
      ]
     },
     "metadata": {
      "needs_background": "light"
     },
     "output_type": "display_data"
    }
   ],
   "source": [
    "plt.plot(range_n_cluster, calinski_harabasz_score_list)\n",
    "plt.show()"
   ]
  },
  {
   "cell_type": "code",
   "execution_count": null,
   "id": "954c968b",
   "metadata": {},
   "outputs": [],
   "source": [
    "# calinski_harabasz_score is slightly better than silhoutte_score"
   ]
  },
  {
   "cell_type": "code",
   "execution_count": null,
   "id": "da237d60",
   "metadata": {},
   "outputs": [],
   "source": []
  },
  {
   "cell_type": "code",
   "execution_count": null,
   "id": "7fcb4327",
   "metadata": {},
   "outputs": [],
   "source": []
  },
  {
   "cell_type": "code",
   "execution_count": null,
   "id": "e60a97d8",
   "metadata": {},
   "outputs": [],
   "source": []
  }
 ],
 "metadata": {
  "kernelspec": {
   "display_name": "Python 3 (ipykernel)",
   "language": "python",
   "name": "python3"
  },
  "language_info": {
   "codemirror_mode": {
    "name": "ipython",
    "version": 3
   },
   "file_extension": ".py",
   "mimetype": "text/x-python",
   "name": "python",
   "nbconvert_exporter": "python",
   "pygments_lexer": "ipython3",
   "version": "3.9.7"
  }
 },
 "nbformat": 4,
 "nbformat_minor": 5
}
