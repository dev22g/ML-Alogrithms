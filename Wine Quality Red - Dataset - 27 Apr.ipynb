{
 "cells": [
  {
   "cell_type": "code",
   "execution_count": 71,
   "id": "9337d8c5",
   "metadata": {},
   "outputs": [],
   "source": [
    "import pandas as pd\n",
    "import numpy as np\n",
    "import matplotlib.pyplot as plt\n",
    "from sklearn.model_selection import train_test_split\n",
    "from sklearn.preprocessing import StandardScaler, MinMaxScaler, RobustScaler\n",
    "\n",
    "from sklearn.linear_model import LogisticRegression\n",
    "from sklearn.metrics import accuracy_score, precision_score, recall_score, f1_score, classification_report, confusion_matrix\n",
    "from sklearn.svm import SVC\n",
    "from sklearn.tree import DecisionTreeClassifier\n",
    "from sklearn.ensemble import RandomForestClassifier\n",
    "from sklearn.naive_bayes import GaussianNB\n",
    "from sklearn.neighbors import KNeighborsClassifier, RadiusNeighborsClassifier\n",
    "from sklearn.model_selection import GridSearchCV\n",
    "from sklearn.model_selection import cross_validate\n",
    "from sklearn.pipeline import make_pipeline\n",
    "from sklearn.impute import SimpleImputer\n",
    "import pickle"
   ]
  },
  {
   "cell_type": "code",
   "execution_count": 2,
   "id": "38a71956",
   "metadata": {},
   "outputs": [],
   "source": [
    "def get_reports(y_test, y_pred):\n",
    "    print(\"\\nAccuracy:\",accuracy_score(y_test, y_pred))\n",
    "    print(\"Precision Score:\",precision_score(y_test, y_pred, average = 'macro', zero_division=0))\n",
    "    print(\"Recall Score:\",recall_score(y_test, y_pred, average = 'macro', zero_division=0))\n",
    "    print(\"f1 Score:\",f1_score(y_test, y_pred, average = 'macro', zero_division=0))\n",
    "    \n",
    "    print(\"\\n \\nClassification Report:\\n\\n\",classification_report(y_test, y_pred, zero_division=0))\n",
    "    print(\"\\n \\nConfusion Matrix:\\n\")\n",
    "    print(confusion_matrix(y_test, y_pred))"
   ]
  },
  {
   "cell_type": "code",
   "execution_count": 3,
   "id": "6fb5260c",
   "metadata": {},
   "outputs": [
    {
     "data": {
      "text/html": [
       "<div>\n",
       "<style scoped>\n",
       "    .dataframe tbody tr th:only-of-type {\n",
       "        vertical-align: middle;\n",
       "    }\n",
       "\n",
       "    .dataframe tbody tr th {\n",
       "        vertical-align: top;\n",
       "    }\n",
       "\n",
       "    .dataframe thead th {\n",
       "        text-align: right;\n",
       "    }\n",
       "</style>\n",
       "<table border=\"1\" class=\"dataframe\">\n",
       "  <thead>\n",
       "    <tr style=\"text-align: right;\">\n",
       "      <th></th>\n",
       "      <th>fixed acidity</th>\n",
       "      <th>volatile acidity</th>\n",
       "      <th>citric acid</th>\n",
       "      <th>residual sugar</th>\n",
       "      <th>chlorides</th>\n",
       "      <th>free sulfur dioxide</th>\n",
       "      <th>total sulfur dioxide</th>\n",
       "      <th>density</th>\n",
       "      <th>pH</th>\n",
       "      <th>sulphates</th>\n",
       "      <th>alcohol</th>\n",
       "      <th>quality</th>\n",
       "    </tr>\n",
       "  </thead>\n",
       "  <tbody>\n",
       "    <tr>\n",
       "      <th>0</th>\n",
       "      <td>7.4</td>\n",
       "      <td>0.700</td>\n",
       "      <td>0.00</td>\n",
       "      <td>1.9</td>\n",
       "      <td>0.076</td>\n",
       "      <td>11.0</td>\n",
       "      <td>34.0</td>\n",
       "      <td>0.99780</td>\n",
       "      <td>3.51</td>\n",
       "      <td>0.56</td>\n",
       "      <td>9.4</td>\n",
       "      <td>5</td>\n",
       "    </tr>\n",
       "    <tr>\n",
       "      <th>1</th>\n",
       "      <td>7.8</td>\n",
       "      <td>0.880</td>\n",
       "      <td>0.00</td>\n",
       "      <td>2.6</td>\n",
       "      <td>0.098</td>\n",
       "      <td>25.0</td>\n",
       "      <td>67.0</td>\n",
       "      <td>0.99680</td>\n",
       "      <td>3.20</td>\n",
       "      <td>0.68</td>\n",
       "      <td>9.8</td>\n",
       "      <td>5</td>\n",
       "    </tr>\n",
       "    <tr>\n",
       "      <th>2</th>\n",
       "      <td>7.8</td>\n",
       "      <td>0.760</td>\n",
       "      <td>0.04</td>\n",
       "      <td>2.3</td>\n",
       "      <td>0.092</td>\n",
       "      <td>15.0</td>\n",
       "      <td>54.0</td>\n",
       "      <td>0.99700</td>\n",
       "      <td>3.26</td>\n",
       "      <td>0.65</td>\n",
       "      <td>9.8</td>\n",
       "      <td>5</td>\n",
       "    </tr>\n",
       "    <tr>\n",
       "      <th>3</th>\n",
       "      <td>11.2</td>\n",
       "      <td>0.280</td>\n",
       "      <td>0.56</td>\n",
       "      <td>1.9</td>\n",
       "      <td>0.075</td>\n",
       "      <td>17.0</td>\n",
       "      <td>60.0</td>\n",
       "      <td>0.99800</td>\n",
       "      <td>3.16</td>\n",
       "      <td>0.58</td>\n",
       "      <td>9.8</td>\n",
       "      <td>6</td>\n",
       "    </tr>\n",
       "    <tr>\n",
       "      <th>4</th>\n",
       "      <td>7.4</td>\n",
       "      <td>0.700</td>\n",
       "      <td>0.00</td>\n",
       "      <td>1.9</td>\n",
       "      <td>0.076</td>\n",
       "      <td>11.0</td>\n",
       "      <td>34.0</td>\n",
       "      <td>0.99780</td>\n",
       "      <td>3.51</td>\n",
       "      <td>0.56</td>\n",
       "      <td>9.4</td>\n",
       "      <td>5</td>\n",
       "    </tr>\n",
       "    <tr>\n",
       "      <th>...</th>\n",
       "      <td>...</td>\n",
       "      <td>...</td>\n",
       "      <td>...</td>\n",
       "      <td>...</td>\n",
       "      <td>...</td>\n",
       "      <td>...</td>\n",
       "      <td>...</td>\n",
       "      <td>...</td>\n",
       "      <td>...</td>\n",
       "      <td>...</td>\n",
       "      <td>...</td>\n",
       "      <td>...</td>\n",
       "    </tr>\n",
       "    <tr>\n",
       "      <th>1594</th>\n",
       "      <td>6.2</td>\n",
       "      <td>0.600</td>\n",
       "      <td>0.08</td>\n",
       "      <td>2.0</td>\n",
       "      <td>0.090</td>\n",
       "      <td>32.0</td>\n",
       "      <td>44.0</td>\n",
       "      <td>0.99490</td>\n",
       "      <td>3.45</td>\n",
       "      <td>0.58</td>\n",
       "      <td>10.5</td>\n",
       "      <td>5</td>\n",
       "    </tr>\n",
       "    <tr>\n",
       "      <th>1595</th>\n",
       "      <td>5.9</td>\n",
       "      <td>0.550</td>\n",
       "      <td>0.10</td>\n",
       "      <td>2.2</td>\n",
       "      <td>0.062</td>\n",
       "      <td>39.0</td>\n",
       "      <td>51.0</td>\n",
       "      <td>0.99512</td>\n",
       "      <td>3.52</td>\n",
       "      <td>0.76</td>\n",
       "      <td>11.2</td>\n",
       "      <td>6</td>\n",
       "    </tr>\n",
       "    <tr>\n",
       "      <th>1596</th>\n",
       "      <td>6.3</td>\n",
       "      <td>0.510</td>\n",
       "      <td>0.13</td>\n",
       "      <td>2.3</td>\n",
       "      <td>0.076</td>\n",
       "      <td>29.0</td>\n",
       "      <td>40.0</td>\n",
       "      <td>0.99574</td>\n",
       "      <td>3.42</td>\n",
       "      <td>0.75</td>\n",
       "      <td>11.0</td>\n",
       "      <td>6</td>\n",
       "    </tr>\n",
       "    <tr>\n",
       "      <th>1597</th>\n",
       "      <td>5.9</td>\n",
       "      <td>0.645</td>\n",
       "      <td>0.12</td>\n",
       "      <td>2.0</td>\n",
       "      <td>0.075</td>\n",
       "      <td>32.0</td>\n",
       "      <td>44.0</td>\n",
       "      <td>0.99547</td>\n",
       "      <td>3.57</td>\n",
       "      <td>0.71</td>\n",
       "      <td>10.2</td>\n",
       "      <td>5</td>\n",
       "    </tr>\n",
       "    <tr>\n",
       "      <th>1598</th>\n",
       "      <td>6.0</td>\n",
       "      <td>0.310</td>\n",
       "      <td>0.47</td>\n",
       "      <td>3.6</td>\n",
       "      <td>0.067</td>\n",
       "      <td>18.0</td>\n",
       "      <td>42.0</td>\n",
       "      <td>0.99549</td>\n",
       "      <td>3.39</td>\n",
       "      <td>0.66</td>\n",
       "      <td>11.0</td>\n",
       "      <td>6</td>\n",
       "    </tr>\n",
       "  </tbody>\n",
       "</table>\n",
       "<p>1599 rows × 12 columns</p>\n",
       "</div>"
      ],
      "text/plain": [
       "      fixed acidity  volatile acidity  citric acid  residual sugar  chlorides  \\\n",
       "0               7.4             0.700         0.00             1.9      0.076   \n",
       "1               7.8             0.880         0.00             2.6      0.098   \n",
       "2               7.8             0.760         0.04             2.3      0.092   \n",
       "3              11.2             0.280         0.56             1.9      0.075   \n",
       "4               7.4             0.700         0.00             1.9      0.076   \n",
       "...             ...               ...          ...             ...        ...   \n",
       "1594            6.2             0.600         0.08             2.0      0.090   \n",
       "1595            5.9             0.550         0.10             2.2      0.062   \n",
       "1596            6.3             0.510         0.13             2.3      0.076   \n",
       "1597            5.9             0.645         0.12             2.0      0.075   \n",
       "1598            6.0             0.310         0.47             3.6      0.067   \n",
       "\n",
       "      free sulfur dioxide  total sulfur dioxide  density    pH  sulphates  \\\n",
       "0                    11.0                  34.0  0.99780  3.51       0.56   \n",
       "1                    25.0                  67.0  0.99680  3.20       0.68   \n",
       "2                    15.0                  54.0  0.99700  3.26       0.65   \n",
       "3                    17.0                  60.0  0.99800  3.16       0.58   \n",
       "4                    11.0                  34.0  0.99780  3.51       0.56   \n",
       "...                   ...                   ...      ...   ...        ...   \n",
       "1594                 32.0                  44.0  0.99490  3.45       0.58   \n",
       "1595                 39.0                  51.0  0.99512  3.52       0.76   \n",
       "1596                 29.0                  40.0  0.99574  3.42       0.75   \n",
       "1597                 32.0                  44.0  0.99547  3.57       0.71   \n",
       "1598                 18.0                  42.0  0.99549  3.39       0.66   \n",
       "\n",
       "      alcohol  quality  \n",
       "0         9.4        5  \n",
       "1         9.8        5  \n",
       "2         9.8        5  \n",
       "3         9.8        6  \n",
       "4         9.4        5  \n",
       "...       ...      ...  \n",
       "1594     10.5        5  \n",
       "1595     11.2        6  \n",
       "1596     11.0        6  \n",
       "1597     10.2        5  \n",
       "1598     11.0        6  \n",
       "\n",
       "[1599 rows x 12 columns]"
      ]
     },
     "execution_count": 3,
     "metadata": {},
     "output_type": "execute_result"
    }
   ],
   "source": [
    "wine_data = pd.read_csv('F:/iPRIMED/Python/wine_quality_dataset/winequality-red.csv', delimiter=';')\n",
    "wine_data"
   ]
  },
  {
   "cell_type": "code",
   "execution_count": 4,
   "id": "b40e3d48",
   "metadata": {},
   "outputs": [
    {
     "data": {
      "text/plain": [
       "5    681\n",
       "6    638\n",
       "7    199\n",
       "4     53\n",
       "8     18\n",
       "3     10\n",
       "Name: quality, dtype: int64"
      ]
     },
     "execution_count": 4,
     "metadata": {},
     "output_type": "execute_result"
    }
   ],
   "source": [
    "wine_data.quality.value_counts()"
   ]
  },
  {
   "cell_type": "code",
   "execution_count": 5,
   "id": "d4be60ba",
   "metadata": {},
   "outputs": [
    {
     "name": "stdout",
     "output_type": "stream",
     "text": [
      "<class 'pandas.core.frame.DataFrame'>\n",
      "RangeIndex: 1599 entries, 0 to 1598\n",
      "Data columns (total 12 columns):\n",
      " #   Column                Non-Null Count  Dtype  \n",
      "---  ------                --------------  -----  \n",
      " 0   fixed acidity         1599 non-null   float64\n",
      " 1   volatile acidity      1599 non-null   float64\n",
      " 2   citric acid           1599 non-null   float64\n",
      " 3   residual sugar        1599 non-null   float64\n",
      " 4   chlorides             1599 non-null   float64\n",
      " 5   free sulfur dioxide   1599 non-null   float64\n",
      " 6   total sulfur dioxide  1599 non-null   float64\n",
      " 7   density               1599 non-null   float64\n",
      " 8   pH                    1599 non-null   float64\n",
      " 9   sulphates             1599 non-null   float64\n",
      " 10  alcohol               1599 non-null   float64\n",
      " 11  quality               1599 non-null   int64  \n",
      "dtypes: float64(11), int64(1)\n",
      "memory usage: 150.0 KB\n"
     ]
    }
   ],
   "source": [
    "wine_data.info()"
   ]
  },
  {
   "cell_type": "code",
   "execution_count": 6,
   "id": "5a150ea4",
   "metadata": {
    "scrolled": false
   },
   "outputs": [
    {
     "data": {
      "text/plain": [
       "fixed acidity           0\n",
       "volatile acidity        0\n",
       "citric acid             0\n",
       "residual sugar          0\n",
       "chlorides               0\n",
       "free sulfur dioxide     0\n",
       "total sulfur dioxide    0\n",
       "density                 0\n",
       "pH                      0\n",
       "sulphates               0\n",
       "alcohol                 0\n",
       "quality                 0\n",
       "dtype: int64"
      ]
     },
     "execution_count": 6,
     "metadata": {},
     "output_type": "execute_result"
    }
   ],
   "source": [
    "wine_data.isnull().sum()"
   ]
  },
  {
   "cell_type": "code",
   "execution_count": 7,
   "id": "91697bcb",
   "metadata": {
    "scrolled": true
   },
   "outputs": [
    {
     "data": {
      "text/html": [
       "<div>\n",
       "<style scoped>\n",
       "    .dataframe tbody tr th:only-of-type {\n",
       "        vertical-align: middle;\n",
       "    }\n",
       "\n",
       "    .dataframe tbody tr th {\n",
       "        vertical-align: top;\n",
       "    }\n",
       "\n",
       "    .dataframe thead th {\n",
       "        text-align: right;\n",
       "    }\n",
       "</style>\n",
       "<table border=\"1\" class=\"dataframe\">\n",
       "  <thead>\n",
       "    <tr style=\"text-align: right;\">\n",
       "      <th></th>\n",
       "      <th>fixed acidity</th>\n",
       "      <th>volatile acidity</th>\n",
       "      <th>citric acid</th>\n",
       "      <th>residual sugar</th>\n",
       "      <th>chlorides</th>\n",
       "      <th>free sulfur dioxide</th>\n",
       "      <th>total sulfur dioxide</th>\n",
       "      <th>density</th>\n",
       "      <th>pH</th>\n",
       "      <th>sulphates</th>\n",
       "      <th>alcohol</th>\n",
       "      <th>quality</th>\n",
       "    </tr>\n",
       "  </thead>\n",
       "  <tbody>\n",
       "    <tr>\n",
       "      <th>count</th>\n",
       "      <td>1599.000000</td>\n",
       "      <td>1599.000000</td>\n",
       "      <td>1599.000000</td>\n",
       "      <td>1599.000000</td>\n",
       "      <td>1599.000000</td>\n",
       "      <td>1599.000000</td>\n",
       "      <td>1599.000000</td>\n",
       "      <td>1599.000000</td>\n",
       "      <td>1599.000000</td>\n",
       "      <td>1599.000000</td>\n",
       "      <td>1599.000000</td>\n",
       "      <td>1599.000000</td>\n",
       "    </tr>\n",
       "    <tr>\n",
       "      <th>mean</th>\n",
       "      <td>8.319637</td>\n",
       "      <td>0.527821</td>\n",
       "      <td>0.270976</td>\n",
       "      <td>2.538806</td>\n",
       "      <td>0.087467</td>\n",
       "      <td>15.874922</td>\n",
       "      <td>46.467792</td>\n",
       "      <td>0.996747</td>\n",
       "      <td>3.311113</td>\n",
       "      <td>0.658149</td>\n",
       "      <td>10.422983</td>\n",
       "      <td>5.636023</td>\n",
       "    </tr>\n",
       "    <tr>\n",
       "      <th>std</th>\n",
       "      <td>1.741096</td>\n",
       "      <td>0.179060</td>\n",
       "      <td>0.194801</td>\n",
       "      <td>1.409928</td>\n",
       "      <td>0.047065</td>\n",
       "      <td>10.460157</td>\n",
       "      <td>32.895324</td>\n",
       "      <td>0.001887</td>\n",
       "      <td>0.154386</td>\n",
       "      <td>0.169507</td>\n",
       "      <td>1.065668</td>\n",
       "      <td>0.807569</td>\n",
       "    </tr>\n",
       "    <tr>\n",
       "      <th>min</th>\n",
       "      <td>4.600000</td>\n",
       "      <td>0.120000</td>\n",
       "      <td>0.000000</td>\n",
       "      <td>0.900000</td>\n",
       "      <td>0.012000</td>\n",
       "      <td>1.000000</td>\n",
       "      <td>6.000000</td>\n",
       "      <td>0.990070</td>\n",
       "      <td>2.740000</td>\n",
       "      <td>0.330000</td>\n",
       "      <td>8.400000</td>\n",
       "      <td>3.000000</td>\n",
       "    </tr>\n",
       "    <tr>\n",
       "      <th>25%</th>\n",
       "      <td>7.100000</td>\n",
       "      <td>0.390000</td>\n",
       "      <td>0.090000</td>\n",
       "      <td>1.900000</td>\n",
       "      <td>0.070000</td>\n",
       "      <td>7.000000</td>\n",
       "      <td>22.000000</td>\n",
       "      <td>0.995600</td>\n",
       "      <td>3.210000</td>\n",
       "      <td>0.550000</td>\n",
       "      <td>9.500000</td>\n",
       "      <td>5.000000</td>\n",
       "    </tr>\n",
       "    <tr>\n",
       "      <th>50%</th>\n",
       "      <td>7.900000</td>\n",
       "      <td>0.520000</td>\n",
       "      <td>0.260000</td>\n",
       "      <td>2.200000</td>\n",
       "      <td>0.079000</td>\n",
       "      <td>14.000000</td>\n",
       "      <td>38.000000</td>\n",
       "      <td>0.996750</td>\n",
       "      <td>3.310000</td>\n",
       "      <td>0.620000</td>\n",
       "      <td>10.200000</td>\n",
       "      <td>6.000000</td>\n",
       "    </tr>\n",
       "    <tr>\n",
       "      <th>75%</th>\n",
       "      <td>9.200000</td>\n",
       "      <td>0.640000</td>\n",
       "      <td>0.420000</td>\n",
       "      <td>2.600000</td>\n",
       "      <td>0.090000</td>\n",
       "      <td>21.000000</td>\n",
       "      <td>62.000000</td>\n",
       "      <td>0.997835</td>\n",
       "      <td>3.400000</td>\n",
       "      <td>0.730000</td>\n",
       "      <td>11.100000</td>\n",
       "      <td>6.000000</td>\n",
       "    </tr>\n",
       "    <tr>\n",
       "      <th>max</th>\n",
       "      <td>15.900000</td>\n",
       "      <td>1.580000</td>\n",
       "      <td>1.000000</td>\n",
       "      <td>15.500000</td>\n",
       "      <td>0.611000</td>\n",
       "      <td>72.000000</td>\n",
       "      <td>289.000000</td>\n",
       "      <td>1.003690</td>\n",
       "      <td>4.010000</td>\n",
       "      <td>2.000000</td>\n",
       "      <td>14.900000</td>\n",
       "      <td>8.000000</td>\n",
       "    </tr>\n",
       "  </tbody>\n",
       "</table>\n",
       "</div>"
      ],
      "text/plain": [
       "       fixed acidity  volatile acidity  citric acid  residual sugar  \\\n",
       "count    1599.000000       1599.000000  1599.000000     1599.000000   \n",
       "mean        8.319637          0.527821     0.270976        2.538806   \n",
       "std         1.741096          0.179060     0.194801        1.409928   \n",
       "min         4.600000          0.120000     0.000000        0.900000   \n",
       "25%         7.100000          0.390000     0.090000        1.900000   \n",
       "50%         7.900000          0.520000     0.260000        2.200000   \n",
       "75%         9.200000          0.640000     0.420000        2.600000   \n",
       "max        15.900000          1.580000     1.000000       15.500000   \n",
       "\n",
       "         chlorides  free sulfur dioxide  total sulfur dioxide      density  \\\n",
       "count  1599.000000          1599.000000           1599.000000  1599.000000   \n",
       "mean      0.087467            15.874922             46.467792     0.996747   \n",
       "std       0.047065            10.460157             32.895324     0.001887   \n",
       "min       0.012000             1.000000              6.000000     0.990070   \n",
       "25%       0.070000             7.000000             22.000000     0.995600   \n",
       "50%       0.079000            14.000000             38.000000     0.996750   \n",
       "75%       0.090000            21.000000             62.000000     0.997835   \n",
       "max       0.611000            72.000000            289.000000     1.003690   \n",
       "\n",
       "                pH    sulphates      alcohol      quality  \n",
       "count  1599.000000  1599.000000  1599.000000  1599.000000  \n",
       "mean      3.311113     0.658149    10.422983     5.636023  \n",
       "std       0.154386     0.169507     1.065668     0.807569  \n",
       "min       2.740000     0.330000     8.400000     3.000000  \n",
       "25%       3.210000     0.550000     9.500000     5.000000  \n",
       "50%       3.310000     0.620000    10.200000     6.000000  \n",
       "75%       3.400000     0.730000    11.100000     6.000000  \n",
       "max       4.010000     2.000000    14.900000     8.000000  "
      ]
     },
     "execution_count": 7,
     "metadata": {},
     "output_type": "execute_result"
    }
   ],
   "source": [
    "wine_data.describe()"
   ]
  },
  {
   "cell_type": "code",
   "execution_count": 8,
   "id": "66d5c62f",
   "metadata": {
    "scrolled": true
   },
   "outputs": [
    {
     "data": {
      "text/plain": [
       "Text(0, 0.5, 'alcohol')"
      ]
     },
     "execution_count": 8,
     "metadata": {},
     "output_type": "execute_result"
    },
    {
     "data": {
      "image/png": "[encoded data removed]",
      "text/plain": [
       "<Figure size 1080x720 with 11 Axes>"
      ]
     },
     "metadata": {
      "needs_background": "light"
     },
     "output_type": "display_data"
    }
   ],
   "source": [
    "plt.figure(figsize = (15,10))\n",
    "\n",
    "plt.subplot(4, 3, 1)\n",
    "fig = wine_data.boxplot(column = 'fixed acidity')\n",
    "fig.set_ylabel('fixed acidity')\n",
    "\n",
    "plt.subplot(4, 3, 2)\n",
    "fig = wine_data.boxplot(column = 'volatile acidity')\n",
    "fig.set_ylabel('volatile acidity')\n",
    "\n",
    "plt.subplot(4, 3, 3)\n",
    "fig = wine_data.boxplot(column = 'citric acid')\n",
    "fig.set_ylabel('citric acid')\n",
    "\n",
    "plt.subplot(4, 3, 4)\n",
    "fig = wine_data.boxplot(column = 'residual sugar')\n",
    "fig.set_ylabel('residual sugar')\n",
    "\n",
    "plt.subplot(4, 3, 5)\n",
    "fig = wine_data.boxplot(column = 'chlorides')\n",
    "fig.set_ylabel('chlorides')\n",
    "\n",
    "plt.subplot(4, 3, 6)\n",
    "fig = wine_data.boxplot(column = 'free sulfur dioxide')\n",
    "fig.set_ylabel('free sulfur dioxide')\n",
    "\n",
    "plt.subplot(4, 3, 7)\n",
    "fig = wine_data.boxplot(column = 'total sulfur dioxide')\n",
    "fig.set_ylabel('total sulfur dioxide')\n",
    "\n",
    "plt.subplot(4, 3, 8)\n",
    "fig = wine_data.boxplot(column = 'density')\n",
    "fig.set_ylabel('density')\n",
    "\n",
    "plt.subplot(4, 3, 9)\n",
    "fig = wine_data.boxplot(column = 'pH')\n",
    "fig.set_ylabel('pH')\n",
    "\n",
    "plt.subplot(4, 3, 10)\n",
    "fig = wine_data.boxplot(column = 'sulphates')\n",
    "fig.set_ylabel('sulphates ')\n",
    "\n",
    "plt.subplot(4, 3, 11)\n",
    "fig = wine_data.boxplot(column = 'alcohol')\n",
    "fig.set_ylabel('alcohol')"
   ]
  },
  {
   "cell_type": "code",
   "execution_count": 9,
   "id": "6a34c5aa",
   "metadata": {
    "scrolled": true
   },
   "outputs": [
    {
     "data": {
      "text/plain": [
       "['fixed acidity',\n",
       " 'volatile acidity',\n",
       " 'citric acid',\n",
       " 'residual sugar',\n",
       " 'chlorides',\n",
       " 'free sulfur dioxide',\n",
       " 'total sulfur dioxide',\n",
       " 'density',\n",
       " 'pH',\n",
       " 'sulphates',\n",
       " 'alcohol',\n",
       " 'quality']"
      ]
     },
     "execution_count": 9,
     "metadata": {},
     "output_type": "execute_result"
    }
   ],
   "source": [
    "list(wine_data.columns)"
   ]
  },
  {
   "cell_type": "code",
   "execution_count": 10,
   "id": "2ac076dc",
   "metadata": {},
   "outputs": [
    {
     "data": {
      "text/html": [
       "<div>\n",
       "<style scoped>\n",
       "    .dataframe tbody tr th:only-of-type {\n",
       "        vertical-align: middle;\n",
       "    }\n",
       "\n",
       "    .dataframe tbody tr th {\n",
       "        vertical-align: top;\n",
       "    }\n",
       "\n",
       "    .dataframe thead th {\n",
       "        text-align: right;\n",
       "    }\n",
       "</style>\n",
       "<table border=\"1\" class=\"dataframe\">\n",
       "  <thead>\n",
       "    <tr style=\"text-align: right;\">\n",
       "      <th></th>\n",
       "      <th>fixed acidity</th>\n",
       "      <th>volatile acidity</th>\n",
       "      <th>citric acid</th>\n",
       "      <th>residual sugar</th>\n",
       "      <th>chlorides</th>\n",
       "      <th>free sulfur dioxide</th>\n",
       "      <th>total sulfur dioxide</th>\n",
       "      <th>density</th>\n",
       "      <th>pH</th>\n",
       "      <th>sulphates</th>\n",
       "      <th>alcohol</th>\n",
       "      <th>quality</th>\n",
       "    </tr>\n",
       "  </thead>\n",
       "  <tbody>\n",
       "    <tr>\n",
       "      <th>fixed acidity</th>\n",
       "      <td>1.000000</td>\n",
       "      <td>-0.256131</td>\n",
       "      <td>0.671703</td>\n",
       "      <td>0.114777</td>\n",
       "      <td>0.093705</td>\n",
       "      <td>-0.153794</td>\n",
       "      <td>-0.113181</td>\n",
       "      <td>0.668047</td>\n",
       "      <td>-0.682978</td>\n",
       "      <td>0.183006</td>\n",
       "      <td>-0.061668</td>\n",
       "      <td>0.124052</td>\n",
       "    </tr>\n",
       "    <tr>\n",
       "      <th>volatile acidity</th>\n",
       "      <td>-0.256131</td>\n",
       "      <td>1.000000</td>\n",
       "      <td>-0.552496</td>\n",
       "      <td>0.001918</td>\n",
       "      <td>0.061298</td>\n",
       "      <td>-0.010504</td>\n",
       "      <td>0.076470</td>\n",
       "      <td>0.022026</td>\n",
       "      <td>0.234937</td>\n",
       "      <td>-0.260987</td>\n",
       "      <td>-0.202288</td>\n",
       "      <td>-0.390558</td>\n",
       "    </tr>\n",
       "    <tr>\n",
       "      <th>citric acid</th>\n",
       "      <td>0.671703</td>\n",
       "      <td>-0.552496</td>\n",
       "      <td>1.000000</td>\n",
       "      <td>0.143577</td>\n",
       "      <td>0.203823</td>\n",
       "      <td>-0.060978</td>\n",
       "      <td>0.035533</td>\n",
       "      <td>0.364947</td>\n",
       "      <td>-0.541904</td>\n",
       "      <td>0.312770</td>\n",
       "      <td>0.109903</td>\n",
       "      <td>0.226373</td>\n",
       "    </tr>\n",
       "    <tr>\n",
       "      <th>residual sugar</th>\n",
       "      <td>0.114777</td>\n",
       "      <td>0.001918</td>\n",
       "      <td>0.143577</td>\n",
       "      <td>1.000000</td>\n",
       "      <td>0.055610</td>\n",
       "      <td>0.187049</td>\n",
       "      <td>0.203028</td>\n",
       "      <td>0.355283</td>\n",
       "      <td>-0.085652</td>\n",
       "      <td>0.005527</td>\n",
       "      <td>0.042075</td>\n",
       "      <td>0.013732</td>\n",
       "    </tr>\n",
       "    <tr>\n",
       "      <th>chlorides</th>\n",
       "      <td>0.093705</td>\n",
       "      <td>0.061298</td>\n",
       "      <td>0.203823</td>\n",
       "      <td>0.055610</td>\n",
       "      <td>1.000000</td>\n",
       "      <td>0.005562</td>\n",
       "      <td>0.047400</td>\n",
       "      <td>0.200632</td>\n",
       "      <td>-0.265026</td>\n",
       "      <td>0.371260</td>\n",
       "      <td>-0.221141</td>\n",
       "      <td>-0.128907</td>\n",
       "    </tr>\n",
       "    <tr>\n",
       "      <th>free sulfur dioxide</th>\n",
       "      <td>-0.153794</td>\n",
       "      <td>-0.010504</td>\n",
       "      <td>-0.060978</td>\n",
       "      <td>0.187049</td>\n",
       "      <td>0.005562</td>\n",
       "      <td>1.000000</td>\n",
       "      <td>0.667666</td>\n",
       "      <td>-0.021946</td>\n",
       "      <td>0.070377</td>\n",
       "      <td>0.051658</td>\n",
       "      <td>-0.069408</td>\n",
       "      <td>-0.050656</td>\n",
       "    </tr>\n",
       "    <tr>\n",
       "      <th>total sulfur dioxide</th>\n",
       "      <td>-0.113181</td>\n",
       "      <td>0.076470</td>\n",
       "      <td>0.035533</td>\n",
       "      <td>0.203028</td>\n",
       "      <td>0.047400</td>\n",
       "      <td>0.667666</td>\n",
       "      <td>1.000000</td>\n",
       "      <td>0.071269</td>\n",
       "      <td>-0.066495</td>\n",
       "      <td>0.042947</td>\n",
       "      <td>-0.205654</td>\n",
       "      <td>-0.185100</td>\n",
       "    </tr>\n",
       "    <tr>\n",
       "      <th>density</th>\n",
       "      <td>0.668047</td>\n",
       "      <td>0.022026</td>\n",
       "      <td>0.364947</td>\n",
       "      <td>0.355283</td>\n",
       "      <td>0.200632</td>\n",
       "      <td>-0.021946</td>\n",
       "      <td>0.071269</td>\n",
       "      <td>1.000000</td>\n",
       "      <td>-0.341699</td>\n",
       "      <td>0.148506</td>\n",
       "      <td>-0.496180</td>\n",
       "      <td>-0.174919</td>\n",
       "    </tr>\n",
       "    <tr>\n",
       "      <th>pH</th>\n",
       "      <td>-0.682978</td>\n",
       "      <td>0.234937</td>\n",
       "      <td>-0.541904</td>\n",
       "      <td>-0.085652</td>\n",
       "      <td>-0.265026</td>\n",
       "      <td>0.070377</td>\n",
       "      <td>-0.066495</td>\n",
       "      <td>-0.341699</td>\n",
       "      <td>1.000000</td>\n",
       "      <td>-0.196648</td>\n",
       "      <td>0.205633</td>\n",
       "      <td>-0.057731</td>\n",
       "    </tr>\n",
       "    <tr>\n",
       "      <th>sulphates</th>\n",
       "      <td>0.183006</td>\n",
       "      <td>-0.260987</td>\n",
       "      <td>0.312770</td>\n",
       "      <td>0.005527</td>\n",
       "      <td>0.371260</td>\n",
       "      <td>0.051658</td>\n",
       "      <td>0.042947</td>\n",
       "      <td>0.148506</td>\n",
       "      <td>-0.196648</td>\n",
       "      <td>1.000000</td>\n",
       "      <td>0.093595</td>\n",
       "      <td>0.251397</td>\n",
       "    </tr>\n",
       "    <tr>\n",
       "      <th>alcohol</th>\n",
       "      <td>-0.061668</td>\n",
       "      <td>-0.202288</td>\n",
       "      <td>0.109903</td>\n",
       "      <td>0.042075</td>\n",
       "      <td>-0.221141</td>\n",
       "      <td>-0.069408</td>\n",
       "      <td>-0.205654</td>\n",
       "      <td>-0.496180</td>\n",
       "      <td>0.205633</td>\n",
       "      <td>0.093595</td>\n",
       "      <td>1.000000</td>\n",
       "      <td>0.476166</td>\n",
       "    </tr>\n",
       "    <tr>\n",
       "      <th>quality</th>\n",
       "      <td>0.124052</td>\n",
       "      <td>-0.390558</td>\n",
       "      <td>0.226373</td>\n",
       "      <td>0.013732</td>\n",
       "      <td>-0.128907</td>\n",
       "      <td>-0.050656</td>\n",
       "      <td>-0.185100</td>\n",
       "      <td>-0.174919</td>\n",
       "      <td>-0.057731</td>\n",
       "      <td>0.251397</td>\n",
       "      <td>0.476166</td>\n",
       "      <td>1.000000</td>\n",
       "    </tr>\n",
       "  </tbody>\n",
       "</table>\n",
       "</div>"
      ],
      "text/plain": [
       "                      fixed acidity  volatile acidity  citric acid  \\\n",
       "fixed acidity              1.000000         -0.256131     0.671703   \n",
       "volatile acidity          -0.256131          1.000000    -0.552496   \n",
       "citric acid                0.671703         -0.552496     1.000000   \n",
       "residual sugar             0.114777          0.001918     0.143577   \n",
       "chlorides                  0.093705          0.061298     0.203823   \n",
       "free sulfur dioxide       -0.153794         -0.010504    -0.060978   \n",
       "total sulfur dioxide      -0.113181          0.076470     0.035533   \n",
       "density                    0.668047          0.022026     0.364947   \n",
       "pH                        -0.682978          0.234937    -0.541904   \n",
       "sulphates                  0.183006         -0.260987     0.312770   \n",
       "alcohol                   -0.061668         -0.202288     0.109903   \n",
       "quality                    0.124052         -0.390558     0.226373   \n",
       "\n",
       "                      residual sugar  chlorides  free sulfur dioxide  \\\n",
       "fixed acidity               0.114777   0.093705            -0.153794   \n",
       "volatile acidity            0.001918   0.061298            -0.010504   \n",
       "citric acid                 0.143577   0.203823            -0.060978   \n",
       "residual sugar              1.000000   0.055610             0.187049   \n",
       "chlorides                   0.055610   1.000000             0.005562   \n",
       "free sulfur dioxide         0.187049   0.005562             1.000000   \n",
       "total sulfur dioxide        0.203028   0.047400             0.667666   \n",
       "density                     0.355283   0.200632            -0.021946   \n",
       "pH                         -0.085652  -0.265026             0.070377   \n",
       "sulphates                   0.005527   0.371260             0.051658   \n",
       "alcohol                     0.042075  -0.221141            -0.069408   \n",
       "quality                     0.013732  -0.128907            -0.050656   \n",
       "\n",
       "                      total sulfur dioxide   density        pH  sulphates  \\\n",
       "fixed acidity                    -0.113181  0.668047 -0.682978   0.183006   \n",
       "volatile acidity                  0.076470  0.022026  0.234937  -0.260987   \n",
       "citric acid                       0.035533  0.364947 -0.541904   0.312770   \n",
       "residual sugar                    0.203028  0.355283 -0.085652   0.005527   \n",
       "chlorides                         0.047400  0.200632 -0.265026   0.371260   \n",
       "free sulfur dioxide               0.667666 -0.021946  0.070377   0.051658   \n",
       "total sulfur dioxide              1.000000  0.071269 -0.066495   0.042947   \n",
       "density                           0.071269  1.000000 -0.341699   0.148506   \n",
       "pH                               -0.066495 -0.341699  1.000000  -0.196648   \n",
       "sulphates                         0.042947  0.148506 -0.196648   1.000000   \n",
       "alcohol                          -0.205654 -0.496180  0.205633   0.093595   \n",
       "quality                          -0.185100 -0.174919 -0.057731   0.251397   \n",
       "\n",
       "                       alcohol   quality  \n",
       "fixed acidity        -0.061668  0.124052  \n",
       "volatile acidity     -0.202288 -0.390558  \n",
       "citric acid           0.109903  0.226373  \n",
       "residual sugar        0.042075  0.013732  \n",
       "chlorides            -0.221141 -0.128907  \n",
       "free sulfur dioxide  -0.069408 -0.050656  \n",
       "total sulfur dioxide -0.205654 -0.185100  \n",
       "density              -0.496180 -0.174919  \n",
       "pH                    0.205633 -0.057731  \n",
       "sulphates             0.093595  0.251397  \n",
       "alcohol               1.000000  0.476166  \n",
       "quality               0.476166  1.000000  "
      ]
     },
     "execution_count": 10,
     "metadata": {},
     "output_type": "execute_result"
    }
   ],
   "source": [
    "wine_data.corr()"
   ]
  },
  {
   "cell_type": "code",
   "execution_count": 11,
   "id": "8e422b3c",
   "metadata": {},
   "outputs": [],
   "source": [
    "def IQR_range(feature):\n",
    "    \n",
    "    Q1 = wine_data[feature].quantile(0.25)\n",
    "    Q3 = wine_data[feature].quantile(0.75)\n",
    "    IQR = Q3 - Q1\n",
    "    Lower_boundary = Q1 - 1.5 * IQR\n",
    "    Upper_boundary = Q3 + 1.5 * IQR\n",
    "    return Lower_boundary,Upper_boundary"
   ]
  },
  {
   "cell_type": "code",
   "execution_count": 12,
   "id": "41c8f8f5",
   "metadata": {},
   "outputs": [],
   "source": [
    "numerical_features = ['fixed acidity','volatile acidity','citric acid', 'residual sugar', 'chlorides', 'free sulfur dioxide', 'total sulfur dioxide', 'density', 'pH', 'sulphates', 'alcohol']\n",
    "for x in numerical_features:\n",
    "    Lower_boundary,Upper_boundary = IQR_range(x)\n",
    "    wine_data.drop(wine_data[wine_data[x] > Upper_boundary].index, inplace = True)\n",
    "    wine_data.drop(wine_data[wine_data[x] < Lower_boundary].index, inplace = True)   "
   ]
  },
  {
   "cell_type": "code",
   "execution_count": 13,
   "id": "15cf900f",
   "metadata": {},
   "outputs": [],
   "source": [
    "for x in numerical_features:\n",
    "    wine_data[x].fillna((wine_data[x].median()), inplace=True)"
   ]
  },
  {
   "cell_type": "code",
   "execution_count": 14,
   "id": "54500bdf",
   "metadata": {},
   "outputs": [
    {
     "data": {
      "text/plain": [
       "fixed acidity           0\n",
       "volatile acidity        0\n",
       "citric acid             0\n",
       "residual sugar          0\n",
       "chlorides               0\n",
       "free sulfur dioxide     0\n",
       "total sulfur dioxide    0\n",
       "density                 0\n",
       "pH                      0\n",
       "sulphates               0\n",
       "alcohol                 0\n",
       "quality                 0\n",
       "dtype: int64"
      ]
     },
     "execution_count": 14,
     "metadata": {},
     "output_type": "execute_result"
    }
   ],
   "source": [
    "wine_data.isnull().sum()"
   ]
  },
  {
   "cell_type": "code",
   "execution_count": 15,
   "id": "423f9eee",
   "metadata": {
    "scrolled": true
   },
   "outputs": [
    {
     "data": {
      "text/html": [
       "<div>\n",
       "<style scoped>\n",
       "    .dataframe tbody tr th:only-of-type {\n",
       "        vertical-align: middle;\n",
       "    }\n",
       "\n",
       "    .dataframe tbody tr th {\n",
       "        vertical-align: top;\n",
       "    }\n",
       "\n",
       "    .dataframe thead th {\n",
       "        text-align: right;\n",
       "    }\n",
       "</style>\n",
       "<table border=\"1\" class=\"dataframe\">\n",
       "  <thead>\n",
       "    <tr style=\"text-align: right;\">\n",
       "      <th></th>\n",
       "      <th>fixed acidity</th>\n",
       "      <th>volatile acidity</th>\n",
       "      <th>citric acid</th>\n",
       "      <th>residual sugar</th>\n",
       "      <th>chlorides</th>\n",
       "      <th>free sulfur dioxide</th>\n",
       "      <th>total sulfur dioxide</th>\n",
       "      <th>density</th>\n",
       "      <th>pH</th>\n",
       "      <th>sulphates</th>\n",
       "      <th>alcohol</th>\n",
       "    </tr>\n",
       "  </thead>\n",
       "  <tbody>\n",
       "    <tr>\n",
       "      <th>0</th>\n",
       "      <td>7.4</td>\n",
       "      <td>0.700</td>\n",
       "      <td>0.00</td>\n",
       "      <td>1.9</td>\n",
       "      <td>0.076</td>\n",
       "      <td>11.0</td>\n",
       "      <td>34.0</td>\n",
       "      <td>0.99780</td>\n",
       "      <td>3.51</td>\n",
       "      <td>0.56</td>\n",
       "      <td>9.4</td>\n",
       "    </tr>\n",
       "    <tr>\n",
       "      <th>1</th>\n",
       "      <td>7.8</td>\n",
       "      <td>0.880</td>\n",
       "      <td>0.00</td>\n",
       "      <td>2.6</td>\n",
       "      <td>0.098</td>\n",
       "      <td>25.0</td>\n",
       "      <td>67.0</td>\n",
       "      <td>0.99680</td>\n",
       "      <td>3.20</td>\n",
       "      <td>0.68</td>\n",
       "      <td>9.8</td>\n",
       "    </tr>\n",
       "    <tr>\n",
       "      <th>2</th>\n",
       "      <td>7.8</td>\n",
       "      <td>0.760</td>\n",
       "      <td>0.04</td>\n",
       "      <td>2.3</td>\n",
       "      <td>0.092</td>\n",
       "      <td>15.0</td>\n",
       "      <td>54.0</td>\n",
       "      <td>0.99700</td>\n",
       "      <td>3.26</td>\n",
       "      <td>0.65</td>\n",
       "      <td>9.8</td>\n",
       "    </tr>\n",
       "    <tr>\n",
       "      <th>3</th>\n",
       "      <td>11.2</td>\n",
       "      <td>0.280</td>\n",
       "      <td>0.56</td>\n",
       "      <td>1.9</td>\n",
       "      <td>0.075</td>\n",
       "      <td>17.0</td>\n",
       "      <td>60.0</td>\n",
       "      <td>0.99800</td>\n",
       "      <td>3.16</td>\n",
       "      <td>0.58</td>\n",
       "      <td>9.8</td>\n",
       "    </tr>\n",
       "    <tr>\n",
       "      <th>4</th>\n",
       "      <td>7.4</td>\n",
       "      <td>0.700</td>\n",
       "      <td>0.00</td>\n",
       "      <td>1.9</td>\n",
       "      <td>0.076</td>\n",
       "      <td>11.0</td>\n",
       "      <td>34.0</td>\n",
       "      <td>0.99780</td>\n",
       "      <td>3.51</td>\n",
       "      <td>0.56</td>\n",
       "      <td>9.4</td>\n",
       "    </tr>\n",
       "    <tr>\n",
       "      <th>...</th>\n",
       "      <td>...</td>\n",
       "      <td>...</td>\n",
       "      <td>...</td>\n",
       "      <td>...</td>\n",
       "      <td>...</td>\n",
       "      <td>...</td>\n",
       "      <td>...</td>\n",
       "      <td>...</td>\n",
       "      <td>...</td>\n",
       "      <td>...</td>\n",
       "      <td>...</td>\n",
       "    </tr>\n",
       "    <tr>\n",
       "      <th>1594</th>\n",
       "      <td>6.2</td>\n",
       "      <td>0.600</td>\n",
       "      <td>0.08</td>\n",
       "      <td>2.0</td>\n",
       "      <td>0.090</td>\n",
       "      <td>32.0</td>\n",
       "      <td>44.0</td>\n",
       "      <td>0.99490</td>\n",
       "      <td>3.45</td>\n",
       "      <td>0.58</td>\n",
       "      <td>10.5</td>\n",
       "    </tr>\n",
       "    <tr>\n",
       "      <th>1595</th>\n",
       "      <td>5.9</td>\n",
       "      <td>0.550</td>\n",
       "      <td>0.10</td>\n",
       "      <td>2.2</td>\n",
       "      <td>0.062</td>\n",
       "      <td>39.0</td>\n",
       "      <td>51.0</td>\n",
       "      <td>0.99512</td>\n",
       "      <td>3.52</td>\n",
       "      <td>0.76</td>\n",
       "      <td>11.2</td>\n",
       "    </tr>\n",
       "    <tr>\n",
       "      <th>1596</th>\n",
       "      <td>6.3</td>\n",
       "      <td>0.510</td>\n",
       "      <td>0.13</td>\n",
       "      <td>2.3</td>\n",
       "      <td>0.076</td>\n",
       "      <td>29.0</td>\n",
       "      <td>40.0</td>\n",
       "      <td>0.99574</td>\n",
       "      <td>3.42</td>\n",
       "      <td>0.75</td>\n",
       "      <td>11.0</td>\n",
       "    </tr>\n",
       "    <tr>\n",
       "      <th>1597</th>\n",
       "      <td>5.9</td>\n",
       "      <td>0.645</td>\n",
       "      <td>0.12</td>\n",
       "      <td>2.0</td>\n",
       "      <td>0.075</td>\n",
       "      <td>32.0</td>\n",
       "      <td>44.0</td>\n",
       "      <td>0.99547</td>\n",
       "      <td>3.57</td>\n",
       "      <td>0.71</td>\n",
       "      <td>10.2</td>\n",
       "    </tr>\n",
       "    <tr>\n",
       "      <th>1598</th>\n",
       "      <td>6.0</td>\n",
       "      <td>0.310</td>\n",
       "      <td>0.47</td>\n",
       "      <td>3.6</td>\n",
       "      <td>0.067</td>\n",
       "      <td>18.0</td>\n",
       "      <td>42.0</td>\n",
       "      <td>0.99549</td>\n",
       "      <td>3.39</td>\n",
       "      <td>0.66</td>\n",
       "      <td>11.0</td>\n",
       "    </tr>\n",
       "  </tbody>\n",
       "</table>\n",
       "<p>1135 rows × 11 columns</p>\n",
       "</div>"
      ],
      "text/plain": [
       "      fixed acidity  volatile acidity  citric acid  residual sugar  chlorides  \\\n",
       "0               7.4             0.700         0.00             1.9      0.076   \n",
       "1               7.8             0.880         0.00             2.6      0.098   \n",
       "2               7.8             0.760         0.04             2.3      0.092   \n",
       "3              11.2             0.280         0.56             1.9      0.075   \n",
       "4               7.4             0.700         0.00             1.9      0.076   \n",
       "...             ...               ...          ...             ...        ...   \n",
       "1594            6.2             0.600         0.08             2.0      0.090   \n",
       "1595            5.9             0.550         0.10             2.2      0.062   \n",
       "1596            6.3             0.510         0.13             2.3      0.076   \n",
       "1597            5.9             0.645         0.12             2.0      0.075   \n",
       "1598            6.0             0.310         0.47             3.6      0.067   \n",
       "\n",
       "      free sulfur dioxide  total sulfur dioxide  density    pH  sulphates  \\\n",
       "0                    11.0                  34.0  0.99780  3.51       0.56   \n",
       "1                    25.0                  67.0  0.99680  3.20       0.68   \n",
       "2                    15.0                  54.0  0.99700  3.26       0.65   \n",
       "3                    17.0                  60.0  0.99800  3.16       0.58   \n",
       "4                    11.0                  34.0  0.99780  3.51       0.56   \n",
       "...                   ...                   ...      ...   ...        ...   \n",
       "1594                 32.0                  44.0  0.99490  3.45       0.58   \n",
       "1595                 39.0                  51.0  0.99512  3.52       0.76   \n",
       "1596                 29.0                  40.0  0.99574  3.42       0.75   \n",
       "1597                 32.0                  44.0  0.99547  3.57       0.71   \n",
       "1598                 18.0                  42.0  0.99549  3.39       0.66   \n",
       "\n",
       "      alcohol  \n",
       "0         9.4  \n",
       "1         9.8  \n",
       "2         9.8  \n",
       "3         9.8  \n",
       "4         9.4  \n",
       "...       ...  \n",
       "1594     10.5  \n",
       "1595     11.2  \n",
       "1596     11.0  \n",
       "1597     10.2  \n",
       "1598     11.0  \n",
       "\n",
       "[1135 rows x 11 columns]"
      ]
     },
     "execution_count": 15,
     "metadata": {},
     "output_type": "execute_result"
    }
   ],
   "source": [
    "X = wine_data.iloc[:,:-1]\n",
    "X_num = X\n",
    "Y = wine_data.iloc[:, -1]\n",
    "Y_num = Y\n",
    "X"
   ]
  },
  {
   "cell_type": "code",
   "execution_count": 16,
   "id": "4a725250",
   "metadata": {},
   "outputs": [
    {
     "data": {
      "text/html": [
       "<div>\n",
       "<style scoped>\n",
       "    .dataframe tbody tr th:only-of-type {\n",
       "        vertical-align: middle;\n",
       "    }\n",
       "\n",
       "    .dataframe tbody tr th {\n",
       "        vertical-align: top;\n",
       "    }\n",
       "\n",
       "    .dataframe thead th {\n",
       "        text-align: right;\n",
       "    }\n",
       "</style>\n",
       "<table border=\"1\" class=\"dataframe\">\n",
       "  <thead>\n",
       "    <tr style=\"text-align: right;\">\n",
       "      <th></th>\n",
       "      <th>fixed acidity</th>\n",
       "      <th>volatile acidity</th>\n",
       "      <th>citric acid</th>\n",
       "      <th>residual sugar</th>\n",
       "      <th>chlorides</th>\n",
       "      <th>free sulfur dioxide</th>\n",
       "      <th>total sulfur dioxide</th>\n",
       "      <th>density</th>\n",
       "      <th>pH</th>\n",
       "      <th>sulphates</th>\n",
       "      <th>alcohol</th>\n",
       "    </tr>\n",
       "  </thead>\n",
       "  <tbody>\n",
       "    <tr>\n",
       "      <th>0</th>\n",
       "      <td>-0.517383</td>\n",
       "      <td>1.080055</td>\n",
       "      <td>-1.364671</td>\n",
       "      <td>-0.639225</td>\n",
       "      <td>-0.167169</td>\n",
       "      <td>-0.441353</td>\n",
       "      <td>-0.282198</td>\n",
       "      <td>0.790246</td>\n",
       "      <td>1.419610</td>\n",
       "      <td>-0.610668</td>\n",
       "      <td>-1.000189</td>\n",
       "    </tr>\n",
       "    <tr>\n",
       "      <th>1</th>\n",
       "      <td>-0.240257</td>\n",
       "      <td>2.173545</td>\n",
       "      <td>-1.364671</td>\n",
       "      <td>0.955325</td>\n",
       "      <td>1.434599</td>\n",
       "      <td>1.189601</td>\n",
       "      <td>1.058458</td>\n",
       "      <td>0.148087</td>\n",
       "      <td>-0.962884</td>\n",
       "      <td>0.460596</td>\n",
       "      <td>-0.580549</td>\n",
       "    </tr>\n",
       "    <tr>\n",
       "      <th>2</th>\n",
       "      <td>-0.240257</td>\n",
       "      <td>1.444552</td>\n",
       "      <td>-1.142773</td>\n",
       "      <td>0.271947</td>\n",
       "      <td>0.997753</td>\n",
       "      <td>0.024634</td>\n",
       "      <td>0.530321</td>\n",
       "      <td>0.276519</td>\n",
       "      <td>-0.501756</td>\n",
       "      <td>0.192780</td>\n",
       "      <td>-0.580549</td>\n",
       "    </tr>\n",
       "    <tr>\n",
       "      <th>3</th>\n",
       "      <td>2.115311</td>\n",
       "      <td>-1.471421</td>\n",
       "      <td>1.741897</td>\n",
       "      <td>-0.639225</td>\n",
       "      <td>-0.239977</td>\n",
       "      <td>0.257627</td>\n",
       "      <td>0.774077</td>\n",
       "      <td>0.918678</td>\n",
       "      <td>-1.270302</td>\n",
       "      <td>-0.432124</td>\n",
       "      <td>-0.580549</td>\n",
       "    </tr>\n",
       "    <tr>\n",
       "      <th>4</th>\n",
       "      <td>-0.517383</td>\n",
       "      <td>1.080055</td>\n",
       "      <td>-1.364671</td>\n",
       "      <td>-0.639225</td>\n",
       "      <td>-0.167169</td>\n",
       "      <td>-0.441353</td>\n",
       "      <td>-0.282198</td>\n",
       "      <td>0.790246</td>\n",
       "      <td>1.419610</td>\n",
       "      <td>-0.610668</td>\n",
       "      <td>-1.000189</td>\n",
       "    </tr>\n",
       "    <tr>\n",
       "      <th>...</th>\n",
       "      <td>...</td>\n",
       "      <td>...</td>\n",
       "      <td>...</td>\n",
       "      <td>...</td>\n",
       "      <td>...</td>\n",
       "      <td>...</td>\n",
       "      <td>...</td>\n",
       "      <td>...</td>\n",
       "      <td>...</td>\n",
       "      <td>...</td>\n",
       "      <td>...</td>\n",
       "    </tr>\n",
       "    <tr>\n",
       "      <th>1130</th>\n",
       "      <td>-1.348760</td>\n",
       "      <td>0.472561</td>\n",
       "      <td>-0.920875</td>\n",
       "      <td>-0.411432</td>\n",
       "      <td>0.852138</td>\n",
       "      <td>2.005078</td>\n",
       "      <td>0.124061</td>\n",
       "      <td>-1.072016</td>\n",
       "      <td>0.958482</td>\n",
       "      <td>-0.432124</td>\n",
       "      <td>0.153822</td>\n",
       "    </tr>\n",
       "    <tr>\n",
       "      <th>1131</th>\n",
       "      <td>-1.556604</td>\n",
       "      <td>0.168814</td>\n",
       "      <td>-0.809927</td>\n",
       "      <td>0.044154</td>\n",
       "      <td>-1.186476</td>\n",
       "      <td>2.820555</td>\n",
       "      <td>0.408443</td>\n",
       "      <td>-0.930741</td>\n",
       "      <td>1.496465</td>\n",
       "      <td>1.174772</td>\n",
       "      <td>0.888193</td>\n",
       "    </tr>\n",
       "    <tr>\n",
       "      <th>1132</th>\n",
       "      <td>-1.279478</td>\n",
       "      <td>-0.074184</td>\n",
       "      <td>-0.643503</td>\n",
       "      <td>0.271947</td>\n",
       "      <td>-0.167169</td>\n",
       "      <td>1.655588</td>\n",
       "      <td>-0.038443</td>\n",
       "      <td>-0.532602</td>\n",
       "      <td>0.727918</td>\n",
       "      <td>1.085500</td>\n",
       "      <td>0.678372</td>\n",
       "    </tr>\n",
       "    <tr>\n",
       "      <th>1133</th>\n",
       "      <td>-1.556604</td>\n",
       "      <td>0.745933</td>\n",
       "      <td>-0.698978</td>\n",
       "      <td>-0.411432</td>\n",
       "      <td>-0.239977</td>\n",
       "      <td>2.005078</td>\n",
       "      <td>0.124061</td>\n",
       "      <td>-0.705985</td>\n",
       "      <td>1.880738</td>\n",
       "      <td>0.728412</td>\n",
       "      <td>-0.160908</td>\n",
       "    </tr>\n",
       "    <tr>\n",
       "      <th>1134</th>\n",
       "      <td>-1.487322</td>\n",
       "      <td>-1.289172</td>\n",
       "      <td>1.242627</td>\n",
       "      <td>3.233255</td>\n",
       "      <td>-0.822438</td>\n",
       "      <td>0.374124</td>\n",
       "      <td>0.042809</td>\n",
       "      <td>-0.693142</td>\n",
       "      <td>0.497354</td>\n",
       "      <td>0.282052</td>\n",
       "      <td>0.678372</td>\n",
       "    </tr>\n",
       "  </tbody>\n",
       "</table>\n",
       "<p>1135 rows × 11 columns</p>\n",
       "</div>"
      ],
      "text/plain": [
       "      fixed acidity  volatile acidity  citric acid  residual sugar  chlorides  \\\n",
       "0         -0.517383          1.080055    -1.364671       -0.639225  -0.167169   \n",
       "1         -0.240257          2.173545    -1.364671        0.955325   1.434599   \n",
       "2         -0.240257          1.444552    -1.142773        0.271947   0.997753   \n",
       "3          2.115311         -1.471421     1.741897       -0.639225  -0.239977   \n",
       "4         -0.517383          1.080055    -1.364671       -0.639225  -0.167169   \n",
       "...             ...               ...          ...             ...        ...   \n",
       "1130      -1.348760          0.472561    -0.920875       -0.411432   0.852138   \n",
       "1131      -1.556604          0.168814    -0.809927        0.044154  -1.186476   \n",
       "1132      -1.279478         -0.074184    -0.643503        0.271947  -0.167169   \n",
       "1133      -1.556604          0.745933    -0.698978       -0.411432  -0.239977   \n",
       "1134      -1.487322         -1.289172     1.242627        3.233255  -0.822438   \n",
       "\n",
       "      free sulfur dioxide  total sulfur dioxide   density        pH  \\\n",
       "0               -0.441353             -0.282198  0.790246  1.419610   \n",
       "1                1.189601              1.058458  0.148087 -0.962884   \n",
       "2                0.024634              0.530321  0.276519 -0.501756   \n",
       "3                0.257627              0.774077  0.918678 -1.270302   \n",
       "4               -0.441353             -0.282198  0.790246  1.419610   \n",
       "...                   ...                   ...       ...       ...   \n",
       "1130             2.005078              0.124061 -1.072016  0.958482   \n",
       "1131             2.820555              0.408443 -0.930741  1.496465   \n",
       "1132             1.655588             -0.038443 -0.532602  0.727918   \n",
       "1133             2.005078              0.124061 -0.705985  1.880738   \n",
       "1134             0.374124              0.042809 -0.693142  0.497354   \n",
       "\n",
       "      sulphates   alcohol  \n",
       "0     -0.610668 -1.000189  \n",
       "1      0.460596 -0.580549  \n",
       "2      0.192780 -0.580549  \n",
       "3     -0.432124 -0.580549  \n",
       "4     -0.610668 -1.000189  \n",
       "...         ...       ...  \n",
       "1130  -0.432124  0.153822  \n",
       "1131   1.174772  0.888193  \n",
       "1132   1.085500  0.678372  \n",
       "1133   0.728412 -0.160908  \n",
       "1134   0.282052  0.678372  \n",
       "\n",
       "[1135 rows x 11 columns]"
      ]
     },
     "execution_count": 16,
     "metadata": {},
     "output_type": "execute_result"
    }
   ],
   "source": [
    "col_list = list(X.columns)\n",
    "standard_scaler = StandardScaler()\n",
    "data_tf = standard_scaler.fit_transform(X)\n",
    "X = pd.DataFrame(data_tf, columns=col_list)\n",
    "X"
   ]
  },
  {
   "cell_type": "code",
   "execution_count": 17,
   "id": "ea2047ab",
   "metadata": {},
   "outputs": [
    {
     "data": {
      "text/plain": [
       "'\\ncol_list = list(X.columns)\\nminmax = MinMaxScaler()\\ndata_tf = minmax.fit_transform(X)\\nX = pd.DataFrame(data_tf, columns=col_list)\\nX\\n'"
      ]
     },
     "execution_count": 17,
     "metadata": {},
     "output_type": "execute_result"
    }
   ],
   "source": [
    "'''\n",
    "col_list = list(X.columns)\n",
    "minmax = MinMaxScaler()\n",
    "data_tf = minmax.fit_transform(X)\n",
    "X = pd.DataFrame(data_tf, columns=col_list)\n",
    "X\n",
    "'''"
   ]
  },
  {
   "cell_type": "code",
   "execution_count": 18,
   "id": "3fd438c3",
   "metadata": {},
   "outputs": [
    {
     "data": {
      "text/plain": [
       "'\\ncol_list = list(X.columns)\\nrobustscaler = RobustScaler()\\ndata_tf = robustscaler.fit_transform(X)\\nX = pd.DataFrame(data_tf, columns=col_list)\\nX\\n'"
      ]
     },
     "execution_count": 18,
     "metadata": {},
     "output_type": "execute_result"
    }
   ],
   "source": [
    "'''\n",
    "col_list = list(X.columns)\n",
    "robustscaler = RobustScaler()\n",
    "data_tf = robustscaler.fit_transform(X)\n",
    "X = pd.DataFrame(data_tf, columns=col_list)\n",
    "X\n",
    "'''"
   ]
  },
  {
   "cell_type": "code",
   "execution_count": 19,
   "id": "cc38d6a5",
   "metadata": {},
   "outputs": [
    {
     "data": {
      "text/plain": [
       "(908, 11)"
      ]
     },
     "execution_count": 19,
     "metadata": {},
     "output_type": "execute_result"
    }
   ],
   "source": [
    "x_train, x_test, y_train, y_test = train_test_split(X, Y, test_size =0.2)\n",
    "x_train.shape"
   ]
  },
  {
   "cell_type": "markdown",
   "id": "329bd6df",
   "metadata": {},
   "source": [
    "## Logistic Regression"
   ]
  },
  {
   "cell_type": "code",
   "execution_count": 20,
   "id": "96a092bf",
   "metadata": {},
   "outputs": [
    {
     "data": {
      "text/plain": [
       "LogisticRegression(max_iter=10000)"
      ]
     },
     "execution_count": 20,
     "metadata": {},
     "output_type": "execute_result"
    }
   ],
   "source": [
    "log_clf = LogisticRegression(solver = 'lbfgs', max_iter = 10000, C = 1.0)\n",
    "log_clf.fit(x_train, y_train)"
   ]
  },
  {
   "cell_type": "code",
   "execution_count": 21,
   "id": "6b5a9654",
   "metadata": {},
   "outputs": [
    {
     "data": {
      "text/plain": [
       "0.6035242290748899"
      ]
     },
     "execution_count": 21,
     "metadata": {},
     "output_type": "execute_result"
    }
   ],
   "source": [
    "log_clf.score(x_test, y_test)"
   ]
  },
  {
   "cell_type": "code",
   "execution_count": 22,
   "id": "cbff2bf5",
   "metadata": {},
   "outputs": [
    {
     "data": {
      "text/plain": [
       "0.6255506607929515"
      ]
     },
     "execution_count": 22,
     "metadata": {},
     "output_type": "execute_result"
    }
   ],
   "source": [
    "log_clf.score(x_train, y_train)"
   ]
  },
  {
   "cell_type": "code",
   "execution_count": 23,
   "id": "fe355b72",
   "metadata": {},
   "outputs": [],
   "source": [
    "y_pred_logf = log_clf.predict(x_test)"
   ]
  },
  {
   "cell_type": "code",
   "execution_count": 24,
   "id": "c51c11bb",
   "metadata": {},
   "outputs": [
    {
     "name": "stdout",
     "output_type": "stream",
     "text": [
      "\n",
      "Accuracy: 0.6035242290748899\n",
      "Precision Score: 0.27691529709228824\n",
      "Recall Score: 0.27367534999113946\n",
      "f1 Score: 0.27220978255461015\n",
      "\n",
      " \n",
      "Classification Report:\n",
      "\n",
      "               precision    recall  f1-score   support\n",
      "\n",
      "           3       0.00      0.00      0.00         1\n",
      "           4       0.00      0.00      0.00         5\n",
      "           5       0.59      0.74      0.66        90\n",
      "           6       0.64      0.58      0.61       110\n",
      "           7       0.43      0.32      0.36        19\n",
      "           8       0.00      0.00      0.00         2\n",
      "\n",
      "    accuracy                           0.60       227\n",
      "   macro avg       0.28      0.27      0.27       227\n",
      "weighted avg       0.58      0.60      0.59       227\n",
      "\n",
      "\n",
      " \n",
      "Confusion Matrix:\n",
      "\n",
      "[[ 0  0  1  0  0  0]\n",
      " [ 0  0  4  1  0  0]\n",
      " [ 0  0 67 23  0  0]\n",
      " [ 0  0 38 64  8  0]\n",
      " [ 0  0  3 10  6  0]\n",
      " [ 0  0  0  2  0  0]]\n"
     ]
    }
   ],
   "source": [
    "get_reports(y_test, y_pred_logf)"
   ]
  },
  {
   "cell_type": "markdown",
   "id": "5ce7b914",
   "metadata": {},
   "source": [
    "## SVM"
   ]
  },
  {
   "cell_type": "code",
   "execution_count": 25,
   "id": "e610628f",
   "metadata": {},
   "outputs": [
    {
     "data": {
      "text/plain": [
       "SVC(C=1, degree=5, kernel='poly')"
      ]
     },
     "execution_count": 25,
     "metadata": {},
     "output_type": "execute_result"
    }
   ],
   "source": [
    "svc = SVC(kernel='poly',degree=5, C=1)\n",
    "\n",
    "svc.fit(x_train, y_train)"
   ]
  },
  {
   "cell_type": "code",
   "execution_count": 26,
   "id": "f96ab721",
   "metadata": {},
   "outputs": [
    {
     "data": {
      "text/plain": [
       "0.5418502202643172"
      ]
     },
     "execution_count": 26,
     "metadata": {},
     "output_type": "execute_result"
    }
   ],
   "source": [
    "svc.score(x_test, y_test)"
   ]
  },
  {
   "cell_type": "code",
   "execution_count": 27,
   "id": "9d02fadb",
   "metadata": {},
   "outputs": [
    {
     "data": {
      "text/plain": [
       "0.7444933920704846"
      ]
     },
     "execution_count": 27,
     "metadata": {},
     "output_type": "execute_result"
    }
   ],
   "source": [
    "svc.score(x_train, y_train)"
   ]
  },
  {
   "cell_type": "code",
   "execution_count": 28,
   "id": "58ccf77c",
   "metadata": {},
   "outputs": [],
   "source": [
    "y_pred_svc = svc.predict(x_test)"
   ]
  },
  {
   "cell_type": "code",
   "execution_count": 29,
   "id": "e03e3413",
   "metadata": {},
   "outputs": [
    {
     "name": "stdout",
     "output_type": "stream",
     "text": [
      "\n",
      "Accuracy: 0.5418502202643172\n",
      "Precision Score: 0.2809037670148781\n",
      "Recall Score: 0.25059365585681376\n",
      "f1 Score: 0.23927608506152567\n",
      "\n",
      " \n",
      "Classification Report:\n",
      "\n",
      "               precision    recall  f1-score   support\n",
      "\n",
      "           3       0.00      0.00      0.00         1\n",
      "           4       0.00      0.00      0.00         5\n",
      "           5       0.51      0.92      0.66        90\n",
      "           6       0.67      0.32      0.43       110\n",
      "           7       0.50      0.26      0.34        19\n",
      "           8       0.00      0.00      0.00         2\n",
      "\n",
      "    accuracy                           0.54       227\n",
      "   macro avg       0.28      0.25      0.24       227\n",
      "weighted avg       0.57      0.54      0.50       227\n",
      "\n",
      "\n",
      " \n",
      "Confusion Matrix:\n",
      "\n",
      "[[ 0  0  1  0  0  0]\n",
      " [ 0  0  4  1  0  0]\n",
      " [ 0  0 83  7  0  0]\n",
      " [ 0  2 68 35  5  0]\n",
      " [ 0  0  6  7  5  1]\n",
      " [ 0  0  0  2  0  0]]\n"
     ]
    }
   ],
   "source": [
    "get_reports(y_test, y_pred_svc)"
   ]
  },
  {
   "cell_type": "markdown",
   "id": "192fcdd8",
   "metadata": {},
   "source": [
    "## Decision Tree"
   ]
  },
  {
   "cell_type": "code",
   "execution_count": 30,
   "id": "9d5d7b2f",
   "metadata": {},
   "outputs": [],
   "source": [
    "dt = DecisionTreeClassifier(criterion='entropy', max_depth= 3)"
   ]
  },
  {
   "cell_type": "code",
   "execution_count": 31,
   "id": "d8f84d41",
   "metadata": {},
   "outputs": [
    {
     "data": {
      "text/plain": [
       "DecisionTreeClassifier(criterion='entropy', max_depth=3)"
      ]
     },
     "execution_count": 31,
     "metadata": {},
     "output_type": "execute_result"
    }
   ],
   "source": [
    "dt.fit(x_train, y_train)"
   ]
  },
  {
   "cell_type": "code",
   "execution_count": 32,
   "id": "e3d0e53c",
   "metadata": {},
   "outputs": [
    {
     "data": {
      "text/plain": [
       "0.5859030837004405"
      ]
     },
     "execution_count": 32,
     "metadata": {},
     "output_type": "execute_result"
    }
   ],
   "source": [
    "dt.score(x_test, y_test)"
   ]
  },
  {
   "cell_type": "code",
   "execution_count": 33,
   "id": "e96e50fb",
   "metadata": {},
   "outputs": [
    {
     "data": {
      "text/plain": [
       "0.6167400881057269"
      ]
     },
     "execution_count": 33,
     "metadata": {},
     "output_type": "execute_result"
    }
   ],
   "source": [
    "dt.score(x_train, y_train)"
   ]
  },
  {
   "cell_type": "code",
   "execution_count": 34,
   "id": "1a993557",
   "metadata": {},
   "outputs": [],
   "source": [
    "y_pred_dt = dt.predict(x_test)"
   ]
  },
  {
   "cell_type": "code",
   "execution_count": 35,
   "id": "00900945",
   "metadata": {},
   "outputs": [
    {
     "name": "stdout",
     "output_type": "stream",
     "text": [
      "\n",
      "Accuracy: 0.5859030837004405\n",
      "Precision Score: 0.2634854906704255\n",
      "Recall Score: 0.2741981215665426\n",
      "f1 Score: 0.26756990695102306\n",
      "\n",
      " \n",
      "Classification Report:\n",
      "\n",
      "               precision    recall  f1-score   support\n",
      "\n",
      "           3       0.00      0.00      0.00         1\n",
      "           4       0.00      0.00      0.00         5\n",
      "           5       0.60      0.72      0.65        90\n",
      "           6       0.62      0.55      0.58       110\n",
      "           7       0.37      0.37      0.37        19\n",
      "           8       0.00      0.00      0.00         2\n",
      "\n",
      "    accuracy                           0.59       227\n",
      "   macro avg       0.26      0.27      0.27       227\n",
      "weighted avg       0.57      0.59      0.57       227\n",
      "\n",
      "\n",
      " \n",
      "Confusion Matrix:\n",
      "\n",
      "[[ 0  0  1  0  0  0]\n",
      " [ 0  0  4  1  0  0]\n",
      " [ 0  0 65 25  0  0]\n",
      " [ 0  0 38 61 11  0]\n",
      " [ 0  0  1 11  7  0]\n",
      " [ 0  0  0  1  1  0]]\n"
     ]
    }
   ],
   "source": [
    "get_reports(y_test, y_pred_dt)"
   ]
  },
  {
   "cell_type": "markdown",
   "id": "40a8d15a",
   "metadata": {},
   "source": [
    "## Random Forest"
   ]
  },
  {
   "cell_type": "code",
   "execution_count": 36,
   "id": "d0c0aa5a",
   "metadata": {},
   "outputs": [],
   "source": [
    "rf = RandomForestClassifier(n_estimators=350, max_features=0.8, bootstrap=True, max_samples=0.6, max_depth=5, n_jobs = -1)"
   ]
  },
  {
   "cell_type": "code",
   "execution_count": 37,
   "id": "04a9ea98",
   "metadata": {},
   "outputs": [
    {
     "data": {
      "text/plain": [
       "RandomForestClassifier(max_depth=5, max_features=0.8, max_samples=0.6,\n",
       "                       n_estimators=350, n_jobs=-1)"
      ]
     },
     "execution_count": 37,
     "metadata": {},
     "output_type": "execute_result"
    }
   ],
   "source": [
    "rf.fit(x_train, y_train)"
   ]
  },
  {
   "cell_type": "code",
   "execution_count": 38,
   "id": "dabdefa6",
   "metadata": {},
   "outputs": [
    {
     "data": {
      "text/plain": [
       "0.6431718061674009"
      ]
     },
     "execution_count": 38,
     "metadata": {},
     "output_type": "execute_result"
    }
   ],
   "source": [
    "rf.score(x_test, y_test)"
   ]
  },
  {
   "cell_type": "code",
   "execution_count": 39,
   "id": "5db4646d",
   "metadata": {},
   "outputs": [
    {
     "data": {
      "text/plain": [
       "0.7533039647577092"
      ]
     },
     "execution_count": 39,
     "metadata": {},
     "output_type": "execute_result"
    }
   ],
   "source": [
    "rf.score(x_train, y_train)"
   ]
  },
  {
   "cell_type": "code",
   "execution_count": 40,
   "id": "7ca01980",
   "metadata": {},
   "outputs": [],
   "source": [
    "y_pred_rf = rf.predict(x_test)"
   ]
  },
  {
   "cell_type": "code",
   "execution_count": 41,
   "id": "44fa91af",
   "metadata": {},
   "outputs": [
    {
     "name": "stdout",
     "output_type": "stream",
     "text": [
      "\n",
      "Accuracy: 0.6431718061674009\n",
      "Precision Score: 0.3153769841269842\n",
      "Recall Score: 0.2879851143009038\n",
      "f1 Score: 0.29290442275983813\n",
      "\n",
      " \n",
      "Classification Report:\n",
      "\n",
      "               precision    recall  f1-score   support\n",
      "\n",
      "           3       0.00      0.00      0.00         1\n",
      "           4       0.00      0.00      0.00         5\n",
      "           5       0.62      0.77      0.68        90\n",
      "           6       0.68      0.65      0.66       110\n",
      "           7       0.60      0.32      0.41        19\n",
      "           8       0.00      0.00      0.00         2\n",
      "\n",
      "    accuracy                           0.64       227\n",
      "   macro avg       0.32      0.29      0.29       227\n",
      "weighted avg       0.62      0.64      0.63       227\n",
      "\n",
      "\n",
      " \n",
      "Confusion Matrix:\n",
      "\n",
      "[[ 0  0  1  0  0  0]\n",
      " [ 0  0  5  0  0  0]\n",
      " [ 0  0 69 21  0  0]\n",
      " [ 0  0 35 71  4  0]\n",
      " [ 0  0  2 11  6  0]\n",
      " [ 0  0  0  2  0  0]]\n"
     ]
    }
   ],
   "source": [
    "get_reports(y_test, y_pred_rf)"
   ]
  },
  {
   "cell_type": "markdown",
   "id": "1fc5eca0",
   "metadata": {},
   "source": [
    "## Naive Bayes"
   ]
  },
  {
   "cell_type": "code",
   "execution_count": 42,
   "id": "4c67b706",
   "metadata": {},
   "outputs": [
    {
     "data": {
      "text/plain": [
       "GaussianNB()"
      ]
     },
     "execution_count": 42,
     "metadata": {},
     "output_type": "execute_result"
    }
   ],
   "source": [
    "gnb = GaussianNB()\n",
    "gnb.fit(x_train, y_train)"
   ]
  },
  {
   "cell_type": "code",
   "execution_count": 43,
   "id": "3907da94",
   "metadata": {},
   "outputs": [
    {
     "data": {
      "text/plain": [
       "0.5286343612334802"
      ]
     },
     "execution_count": 43,
     "metadata": {},
     "output_type": "execute_result"
    }
   ],
   "source": [
    "gnb.score(x_test, y_test)"
   ]
  },
  {
   "cell_type": "code",
   "execution_count": 44,
   "id": "5443762f",
   "metadata": {},
   "outputs": [
    {
     "data": {
      "text/plain": [
       "0.5947136563876652"
      ]
     },
     "execution_count": 44,
     "metadata": {},
     "output_type": "execute_result"
    }
   ],
   "source": [
    "gnb.score(x_train, y_train)"
   ]
  },
  {
   "cell_type": "code",
   "execution_count": 45,
   "id": "6da716b6",
   "metadata": {},
   "outputs": [],
   "source": [
    "y_pred_gnb = gnb.predict(x_test)"
   ]
  },
  {
   "cell_type": "code",
   "execution_count": 46,
   "id": "db304690",
   "metadata": {},
   "outputs": [
    {
     "name": "stdout",
     "output_type": "stream",
     "text": [
      "\n",
      "Accuracy: 0.5286343612334802\n",
      "Precision Score: 0.2923668890093572\n",
      "Recall Score: 0.3402445507708665\n",
      "f1 Score: 0.3003766587696072\n",
      "\n",
      " \n",
      "Classification Report:\n",
      "\n",
      "               precision    recall  f1-score   support\n",
      "\n",
      "           3       0.00      0.00      0.00         1\n",
      "           4       0.29      0.40      0.33         5\n",
      "           5       0.57      0.73      0.64        90\n",
      "           6       0.64      0.38      0.48       110\n",
      "           7       0.26      0.53      0.35        19\n",
      "           8       0.00      0.00      0.00         2\n",
      "\n",
      "    accuracy                           0.53       227\n",
      "   macro avg       0.29      0.34      0.30       227\n",
      "weighted avg       0.56      0.53      0.52       227\n",
      "\n",
      "\n",
      " \n",
      "Confusion Matrix:\n",
      "\n",
      "[[ 0  0  1  0  0  0]\n",
      " [ 0  2  2  1  0  0]\n",
      " [ 0  4 66 17  3  0]\n",
      " [ 0  1 44 42 23  0]\n",
      " [ 0  0  3  6 10  0]\n",
      " [ 0  0  0  0  2  0]]\n"
     ]
    }
   ],
   "source": [
    "get_reports(y_test, y_pred_gnb)"
   ]
  },
  {
   "cell_type": "markdown",
   "id": "5d536345",
   "metadata": {},
   "source": [
    "## Nearest Neighbors "
   ]
  },
  {
   "cell_type": "code",
   "execution_count": 47,
   "id": "98c9ab63",
   "metadata": {},
   "outputs": [],
   "source": [
    "acc_score = []\n",
    "for k in range (1,50):\n",
    "    knc = KNeighborsClassifier(n_neighbors=k)\n",
    "    knc.fit(x_train, y_train)\n",
    "    acc = knc.score(x_test, y_test)\n",
    "    acc_score.append(acc)"
   ]
  },
  {
   "cell_type": "code",
   "execution_count": 48,
   "id": "30eec489",
   "metadata": {},
   "outputs": [
    {
     "data": {
      "image/png": "[encoded data removed]",
      "text/plain": [
       "<Figure size 432x288 with 1 Axes>"
      ]
     },
     "metadata": {
      "needs_background": "light"
     },
     "output_type": "display_data"
    }
   ],
   "source": [
    "plt.plot(list(range(1,50)), acc_score)\n",
    "plt.show()"
   ]
  },
  {
   "cell_type": "code",
   "execution_count": 49,
   "id": "655a5ee1",
   "metadata": {},
   "outputs": [],
   "source": [
    "knc = KNeighborsClassifier(n_neighbors= 18)"
   ]
  },
  {
   "cell_type": "code",
   "execution_count": 50,
   "id": "a1be4998",
   "metadata": {},
   "outputs": [
    {
     "data": {
      "text/plain": [
       "KNeighborsClassifier(n_neighbors=18)"
      ]
     },
     "execution_count": 50,
     "metadata": {},
     "output_type": "execute_result"
    }
   ],
   "source": [
    "knc.fit(X,Y)"
   ]
  },
  {
   "cell_type": "code",
   "execution_count": 51,
   "id": "7f0aebe2",
   "metadata": {},
   "outputs": [
    {
     "data": {
      "text/plain": [
       "0.6563876651982379"
      ]
     },
     "execution_count": 51,
     "metadata": {},
     "output_type": "execute_result"
    }
   ],
   "source": [
    "knc.score(x_test, y_test)"
   ]
  },
  {
   "cell_type": "code",
   "execution_count": 52,
   "id": "e7cb4a69",
   "metadata": {},
   "outputs": [
    {
     "data": {
      "text/plain": [
       "0.6486784140969163"
      ]
     },
     "execution_count": 52,
     "metadata": {},
     "output_type": "execute_result"
    }
   ],
   "source": [
    "knc.score(x_train, y_train)"
   ]
  },
  {
   "cell_type": "code",
   "execution_count": 53,
   "id": "2146d87a",
   "metadata": {},
   "outputs": [],
   "source": [
    "y_pred_knc = knc.predict(x_test)"
   ]
  },
  {
   "cell_type": "code",
   "execution_count": 54,
   "id": "9ee1e549",
   "metadata": {},
   "outputs": [
    {
     "name": "stdout",
     "output_type": "stream",
     "text": [
      "\n",
      "Accuracy: 0.6563876651982379\n",
      "Precision Score: 0.32003503458923427\n",
      "Recall Score: 0.3136275031011873\n",
      "f1 Score: 0.3150631582512107\n",
      "\n",
      " \n",
      "Classification Report:\n",
      "\n",
      "               precision    recall  f1-score   support\n",
      "\n",
      "           3       0.00      0.00      0.00         1\n",
      "           4       0.00      0.00      0.00         5\n",
      "           5       0.65      0.74      0.69        90\n",
      "           6       0.67      0.66      0.67       110\n",
      "           7       0.60      0.47      0.53        19\n",
      "           8       0.00      0.00      0.00         2\n",
      "\n",
      "    accuracy                           0.66       227\n",
      "   macro avg       0.32      0.31      0.32       227\n",
      "weighted avg       0.63      0.66      0.64       227\n",
      "\n",
      "\n",
      " \n",
      "Confusion Matrix:\n",
      "\n",
      "[[ 0  0  1  0  0  0]\n",
      " [ 0  0  3  2  0  0]\n",
      " [ 0  0 67 23  0  0]\n",
      " [ 0  0 31 73  6  0]\n",
      " [ 0  0  1  9  9  0]\n",
      " [ 0  0  0  2  0  0]]\n"
     ]
    }
   ],
   "source": [
    "get_reports(y_test, y_pred_knc)"
   ]
  },
  {
   "cell_type": "code",
   "execution_count": 55,
   "id": "6d57e2c5",
   "metadata": {},
   "outputs": [],
   "source": [
    "acc_score_radius = []\n",
    "for k in np.linspace (5.1, 10, 15):\n",
    "    rnc = RadiusNeighborsClassifier(radius=k)\n",
    "    rnc.fit(x_train, y_train)\n",
    "    acc = rnc.score(x_test, y_test)\n",
    "    acc_score_radius.append(acc)"
   ]
  },
  {
   "cell_type": "code",
   "execution_count": 56,
   "id": "dbfea857",
   "metadata": {},
   "outputs": [
    {
     "data": {
      "image/png": "[encoded data removed]",
      "text/plain": [
       "<Figure size 432x288 with 1 Axes>"
      ]
     },
     "metadata": {
      "needs_background": "light"
     },
     "output_type": "display_data"
    }
   ],
   "source": [
    "plt.plot(np.linspace (5.1, 10, 15), acc_score_radius)\n",
    "plt.show()"
   ]
  },
  {
   "cell_type": "code",
   "execution_count": 57,
   "id": "a748623f",
   "metadata": {},
   "outputs": [],
   "source": [
    "rnc = RadiusNeighborsClassifier(radius= 5.5)"
   ]
  },
  {
   "cell_type": "code",
   "execution_count": 58,
   "id": "20ebe895",
   "metadata": {},
   "outputs": [
    {
     "data": {
      "text/plain": [
       "RadiusNeighborsClassifier(radius=5.5)"
      ]
     },
     "execution_count": 58,
     "metadata": {},
     "output_type": "execute_result"
    }
   ],
   "source": [
    "rnc.fit(X,Y)"
   ]
  },
  {
   "cell_type": "code",
   "execution_count": 59,
   "id": "27c2e1c7",
   "metadata": {},
   "outputs": [
    {
     "data": {
      "text/plain": [
       "0.5198237885462555"
      ]
     },
     "execution_count": 59,
     "metadata": {},
     "output_type": "execute_result"
    }
   ],
   "source": [
    "rnc.score(x_test, y_test)"
   ]
  },
  {
   "cell_type": "code",
   "execution_count": 60,
   "id": "6ec3b209",
   "metadata": {},
   "outputs": [
    {
     "data": {
      "text/plain": [
       "0.5506607929515418"
      ]
     },
     "execution_count": 60,
     "metadata": {},
     "output_type": "execute_result"
    }
   ],
   "source": [
    "rnc.score(x_train, y_train)"
   ]
  },
  {
   "cell_type": "code",
   "execution_count": 61,
   "id": "e8adb98e",
   "metadata": {},
   "outputs": [],
   "source": [
    "y_pred_rnc = rnc.predict(x_test)"
   ]
  },
  {
   "cell_type": "code",
   "execution_count": 62,
   "id": "225cfbae",
   "metadata": {
    "scrolled": true
   },
   "outputs": [
    {
     "name": "stdout",
     "output_type": "stream",
     "text": [
      "\n",
      "Accuracy: 0.5198237885462555\n",
      "Precision Score: 0.17850908872035634\n",
      "Recall Score: 0.2047138047138047\n",
      "f1 Score: 0.17984248903262512\n",
      "\n",
      " \n",
      "Classification Report:\n",
      "\n",
      "               precision    recall  f1-score   support\n",
      "\n",
      "           3       0.00      0.00      0.00         1\n",
      "           4       0.00      0.00      0.00         5\n",
      "           5       0.49      0.86      0.63        90\n",
      "           6       0.58      0.37      0.45       110\n",
      "           7       0.00      0.00      0.00        19\n",
      "           8       0.00      0.00      0.00         2\n",
      "\n",
      "    accuracy                           0.52       227\n",
      "   macro avg       0.18      0.20      0.18       227\n",
      "weighted avg       0.48      0.52      0.47       227\n",
      "\n",
      "\n",
      " \n",
      "Confusion Matrix:\n",
      "\n",
      "[[ 0  0  1  0  0  0]\n",
      " [ 0  0  4  1  0  0]\n",
      " [ 0  0 77 13  0  0]\n",
      " [ 0  0 69 41  0  0]\n",
      " [ 0  0  5 14  0  0]\n",
      " [ 0  0  0  2  0  0]]\n"
     ]
    }
   ],
   "source": [
    "get_reports(y_test, y_pred_rnc)"
   ]
  },
  {
   "cell_type": "markdown",
   "id": "c351b339",
   "metadata": {},
   "source": [
    "# Using Hyperparameter tuning "
   ]
  },
  {
   "cell_type": "code",
   "execution_count": 63,
   "id": "09c74ddd",
   "metadata": {},
   "outputs": [],
   "source": [
    "x_train, x_test, y_train, y_test = train_test_split(X_num, Y_num, test_size=0.2) "
   ]
  },
  {
   "cell_type": "code",
   "execution_count": 64,
   "id": "3aee1ae0",
   "metadata": {},
   "outputs": [],
   "source": [
    "pipelines = []\n",
    "model_list = [LogisticRegression(), DecisionTreeClassifier(), RandomForestClassifier(), SVC(), GaussianNB(), KNeighborsClassifier(), RadiusNeighborsClassifier()]\n",
    "\n",
    "for model in model_list:\n",
    "    pipeline= make_pipeline(SimpleImputer(strategy='median'), RobustScaler(), model, verbose=True) \n",
    "    pipelines.append(pipeline)"
   ]
  },
  {
   "cell_type": "code",
   "execution_count": 72,
   "id": "d5ae8b23",
   "metadata": {},
   "outputs": [
    {
     "name": "stdout",
     "output_type": "stream",
     "text": [
      "Fitting 5 folds for each of 117 candidates, totalling 585 fits\n"
     ]
    },
    {
     "name": "stderr",
     "output_type": "stream",
     "text": [
      "C:\\Users\\DEVVRAK\\anaconda3\\lib\\site-packages\\sklearn\\model_selection\\_split.py:666: UserWarning: The least populated class in y has only 1 members, which is less than n_splits=5.\n",
      "  warnings.warn((\"The least populated class in y has only %d\"\n"
     ]
    },
    {
     "name": "stdout",
     "output_type": "stream",
     "text": [
      "[Pipeline] ..... (step 1 of 3) Processing simpleimputer, total=   0.0s\n",
      "[Pipeline] ...... (step 2 of 3) Processing robustscaler, total=   0.0s\n",
      "[Pipeline]  (step 3 of 3) Processing logisticregression, total=   0.2s\n",
      "\u001b[1m \n",
      "\n",
      "Model: LogisticRegression(max_iter=500, solver='newton-cg') \u001b[0m\n",
      "\n",
      "Test score: 0.6035242290748899\n",
      "Train score: 0.6376651982378855 \n",
      "\n",
      "\n",
      "Accuracy: 0.6035242290748899\n",
      "Precision Score: 0.31188071188071187\n",
      "Recall Score: 0.27241594321729307\n",
      "f1 Score: 0.27542193484441657\n",
      "\n",
      " \n",
      "Classification Report:\n",
      "\n",
      "               precision    recall  f1-score   support\n",
      "\n",
      "           3       0.00      0.00      0.00         1\n",
      "           4       0.00      0.00      0.00         7\n",
      "           5       0.71      0.63      0.67       101\n",
      "           6       0.52      0.74      0.61        89\n",
      "           7       0.64      0.26      0.37        27\n",
      "           8       0.00      0.00      0.00         2\n",
      "\n",
      "    accuracy                           0.60       227\n",
      "   macro avg       0.31      0.27      0.28       227\n",
      "weighted avg       0.60      0.60      0.58       227\n",
      "\n",
      "\n",
      " \n",
      "Confusion Matrix:\n",
      "\n",
      "[[ 0  0  1  0  0  0]\n",
      " [ 0  0  3  4  0  0]\n",
      " [ 0  0 64 36  1  0]\n",
      " [ 0  0 20 66  3  0]\n",
      " [ 0  0  2 18  7  0]\n",
      " [ 0  0  0  2  0  0]]\n",
      "\n",
      "Cross Validate:\n",
      "\n",
      "[Pipeline] ..... (step 1 of 3) Processing simpleimputer, total=   0.0s\n",
      "[Pipeline] ...... (step 2 of 3) Processing robustscaler, total=   0.0s\n"
     ]
    },
    {
     "name": "stderr",
     "output_type": "stream",
     "text": [
      "C:\\Users\\DEVVRAK\\anaconda3\\lib\\site-packages\\sklearn\\model_selection\\_split.py:666: UserWarning: The least populated class in y has only 2 members, which is less than n_splits=5.\n",
      "  warnings.warn((\"The least populated class in y has only %d\"\n"
     ]
    },
    {
     "name": "stdout",
     "output_type": "stream",
     "text": [
      "[Pipeline]  (step 3 of 3) Processing logisticregression, total=   0.2s\n",
      "[Pipeline] ..... (step 1 of 3) Processing simpleimputer, total=   0.0s\n",
      "[Pipeline] ...... (step 2 of 3) Processing robustscaler, total=   0.0s\n",
      "[Pipeline]  (step 3 of 3) Processing logisticregression, total=   0.2s\n"
     ]
    },
    {
     "name": "stderr",
     "output_type": "stream",
     "text": [
      "C:\\Users\\DEVVRAK\\anaconda3\\lib\\site-packages\\sklearn\\metrics\\_classification.py:1248: UndefinedMetricWarning: Precision is ill-defined and being set to 0.0 in labels with no predicted samples. Use `zero_division` parameter to control this behavior.\n",
      "  _warn_prf(average, modifier, msg_start, len(result))\n"
     ]
    },
    {
     "name": "stdout",
     "output_type": "stream",
     "text": [
      "[Pipeline] ..... (step 1 of 3) Processing simpleimputer, total=   0.0s\n",
      "[Pipeline] ...... (step 2 of 3) Processing robustscaler, total=   0.0s\n",
      "[Pipeline]  (step 3 of 3) Processing logisticregression, total=   0.2s\n"
     ]
    },
    {
     "name": "stderr",
     "output_type": "stream",
     "text": [
      "C:\\Users\\DEVVRAK\\anaconda3\\lib\\site-packages\\sklearn\\metrics\\_classification.py:1248: UndefinedMetricWarning: Precision is ill-defined and being set to 0.0 in labels with no predicted samples. Use `zero_division` parameter to control this behavior.\n",
      "  _warn_prf(average, modifier, msg_start, len(result))\n",
      "C:\\Users\\DEVVRAK\\anaconda3\\lib\\site-packages\\sklearn\\metrics\\_classification.py:1248: UndefinedMetricWarning: Precision is ill-defined and being set to 0.0 in labels with no predicted samples. Use `zero_division` parameter to control this behavior.\n",
      "  _warn_prf(average, modifier, msg_start, len(result))\n"
     ]
    },
    {
     "name": "stdout",
     "output_type": "stream",
     "text": [
      "[Pipeline] ..... (step 1 of 3) Processing simpleimputer, total=   0.0s\n",
      "[Pipeline] ...... (step 2 of 3) Processing robustscaler, total=   0.0s\n",
      "[Pipeline]  (step 3 of 3) Processing logisticregression, total=   0.2s\n"
     ]
    },
    {
     "name": "stderr",
     "output_type": "stream",
     "text": [
      "C:\\Users\\DEVVRAK\\anaconda3\\lib\\site-packages\\sklearn\\metrics\\_classification.py:1248: UndefinedMetricWarning: Precision is ill-defined and being set to 0.0 in labels with no predicted samples. Use `zero_division` parameter to control this behavior.\n",
      "  _warn_prf(average, modifier, msg_start, len(result))\n"
     ]
    },
    {
     "name": "stdout",
     "output_type": "stream",
     "text": [
      "[Pipeline] ..... (step 1 of 3) Processing simpleimputer, total=   0.0s\n",
      "[Pipeline] ...... (step 2 of 3) Processing robustscaler, total=   0.0s\n",
      "[Pipeline]  (step 3 of 3) Processing logisticregression, total=   0.2s\n"
     ]
    },
    {
     "name": "stderr",
     "output_type": "stream",
     "text": [
      "C:\\Users\\DEVVRAK\\anaconda3\\lib\\site-packages\\sklearn\\metrics\\_classification.py:1248: UndefinedMetricWarning: Precision is ill-defined and being set to 0.0 in labels with no predicted samples. Use `zero_division` parameter to control this behavior.\n",
      "  _warn_prf(average, modifier, msg_start, len(result))\n",
      "C:\\Users\\DEVVRAK\\anaconda3\\lib\\site-packages\\sklearn\\model_selection\\_split.py:666: UserWarning: The least populated class in y has only 1 members, which is less than n_splits=5.\n",
      "  warnings.warn((\"The least populated class in y has only %d\"\n"
     ]
    },
    {
     "name": "stdout",
     "output_type": "stream",
     "text": [
      "\n",
      "Cross Validation: LogisticRegression(max_iter=500, solver='newton-cg') \n",
      "\n",
      "Mean Accuracy: 0.5876651982378855\n",
      "Mean Precision: 0.3353812642113422\n",
      "Mean Recall: 0.3072497423122923\n",
      "\n",
      "\n",
      "\n",
      "Fitting 5 folds for each of 28 candidates, totalling 140 fits\n",
      "[Pipeline] ..... (step 1 of 3) Processing simpleimputer, total=   0.0s\n",
      "[Pipeline] ...... (step 2 of 3) Processing robustscaler, total=   0.0s\n",
      "[Pipeline]  (step 3 of 3) Processing decisiontreeclassifier, total=   0.0s\n",
      "\u001b[1m \n",
      "\n",
      "Model: DecisionTreeClassifier(max_depth=7, min_samples_split=3) \u001b[0m\n",
      "\n",
      "Test score: 0.5638766519823789\n",
      "Train score: 0.7599118942731278 \n",
      "\n",
      "\n",
      "Accuracy: 0.5638766519823789\n",
      "Precision Score: 0.3049961641733794\n",
      "Recall Score: 0.27090998737826344\n",
      "f1 Score: 0.275552443199502\n",
      "\n",
      " \n",
      "Classification Report:\n",
      "\n",
      "               precision    recall  f1-score   support\n",
      "\n",
      "           3       0.00      0.00      0.00         1\n",
      "           4       0.00      0.00      0.00         7\n",
      "           5       0.67      0.52      0.59       101\n",
      "           6       0.49      0.73      0.59        89\n",
      "           7       0.67      0.37      0.48        27\n",
      "           8       0.00      0.00      0.00         2\n",
      "\n",
      "    accuracy                           0.56       227\n",
      "   macro avg       0.30      0.27      0.28       227\n",
      "weighted avg       0.57      0.56      0.55       227\n",
      "\n",
      "\n",
      " \n",
      "Confusion Matrix:\n",
      "\n",
      "[[ 0  0  1  0  0  0]\n",
      " [ 0  0  3  4  0  0]\n",
      " [ 0  0 53 46  2  0]\n",
      " [ 0  1 20 65  3  0]\n",
      " [ 0  0  2 15 10  0]\n",
      " [ 0  0  0  2  0  0]]\n",
      "\n",
      "Cross Validate:\n",
      "\n",
      "[Pipeline] ..... (step 1 of 3) Processing simpleimputer, total=   0.0s\n",
      "[Pipeline] ...... (step 2 of 3) Processing robustscaler, total=   0.0s\n",
      "[Pipeline]  (step 3 of 3) Processing decisiontreeclassifier, total=   0.0s\n",
      "[Pipeline] ..... (step 1 of 3) Processing simpleimputer, total=   0.0s\n"
     ]
    },
    {
     "name": "stderr",
     "output_type": "stream",
     "text": [
      "C:\\Users\\DEVVRAK\\anaconda3\\lib\\site-packages\\sklearn\\model_selection\\_split.py:666: UserWarning: The least populated class in y has only 2 members, which is less than n_splits=5.\n",
      "  warnings.warn((\"The least populated class in y has only %d\"\n",
      "C:\\Users\\DEVVRAK\\anaconda3\\lib\\site-packages\\sklearn\\metrics\\_classification.py:1248: UndefinedMetricWarning: Precision is ill-defined and being set to 0.0 in labels with no predicted samples. Use `zero_division` parameter to control this behavior.\n",
      "  _warn_prf(average, modifier, msg_start, len(result))\n",
      "C:\\Users\\DEVVRAK\\anaconda3\\lib\\site-packages\\sklearn\\metrics\\_classification.py:1248: UndefinedMetricWarning: Precision is ill-defined and being set to 0.0 in labels with no predicted samples. Use `zero_division` parameter to control this behavior.\n",
      "  _warn_prf(average, modifier, msg_start, len(result))\n",
      "C:\\Users\\DEVVRAK\\anaconda3\\lib\\site-packages\\sklearn\\metrics\\_classification.py:1248: UndefinedMetricWarning: Recall is ill-defined and being set to 0.0 in labels with no true samples. Use `zero_division` parameter to control this behavior.\n",
      "  _warn_prf(average, modifier, msg_start, len(result))\n",
      "C:\\Users\\DEVVRAK\\anaconda3\\lib\\site-packages\\sklearn\\metrics\\_classification.py:1248: UndefinedMetricWarning: Precision is ill-defined and being set to 0.0 in labels with no predicted samples. Use `zero_division` parameter to control this behavior.\n",
      "  _warn_prf(average, modifier, msg_start, len(result))\n"
     ]
    },
    {
     "name": "stdout",
     "output_type": "stream",
     "text": [
      "[Pipeline] ...... (step 2 of 3) Processing robustscaler, total=   0.0s\n",
      "[Pipeline]  (step 3 of 3) Processing decisiontreeclassifier, total=   0.0s\n",
      "[Pipeline] ..... (step 1 of 3) Processing simpleimputer, total=   0.0s\n",
      "[Pipeline] ...... (step 2 of 3) Processing robustscaler, total=   0.0s\n",
      "[Pipeline]  (step 3 of 3) Processing decisiontreeclassifier, total=   0.0s\n",
      "[Pipeline] ..... (step 1 of 3) Processing simpleimputer, total=   0.0s\n",
      "[Pipeline] ...... (step 2 of 3) Processing robustscaler, total=   0.0s\n",
      "[Pipeline]  (step 3 of 3) Processing decisiontreeclassifier, total=   0.0s\n",
      "[Pipeline] ..... (step 1 of 3) Processing simpleimputer, total=   0.0s\n",
      "[Pipeline] ...... (step 2 of 3) Processing robustscaler, total=   0.0s\n",
      "[Pipeline]  (step 3 of 3) Processing decisiontreeclassifier, total=   0.0s\n",
      "\n",
      "Cross Validation: DecisionTreeClassifier(max_depth=7, min_samples_split=3) \n",
      "\n",
      "Mean Accuracy: 0.5180616740088106\n",
      "Mean Precision: 0.304416248574481\n",
      "Mean Recall: 0.26792773727632146\n",
      "\n",
      "\n",
      "\n",
      "Fitting 5 folds for each of 100 candidates, totalling 500 fits\n"
     ]
    },
    {
     "name": "stderr",
     "output_type": "stream",
     "text": [
      "C:\\Users\\DEVVRAK\\anaconda3\\lib\\site-packages\\sklearn\\metrics\\_classification.py:1248: UndefinedMetricWarning: Precision is ill-defined and being set to 0.0 in labels with no predicted samples. Use `zero_division` parameter to control this behavior.\n",
      "  _warn_prf(average, modifier, msg_start, len(result))\n",
      "C:\\Users\\DEVVRAK\\anaconda3\\lib\\site-packages\\sklearn\\model_selection\\_split.py:666: UserWarning: The least populated class in y has only 1 members, which is less than n_splits=5.\n",
      "  warnings.warn((\"The least populated class in y has only %d\"\n"
     ]
    },
    {
     "name": "stdout",
     "output_type": "stream",
     "text": [
      "[Pipeline] ..... (step 1 of 3) Processing simpleimputer, total=   0.0s\n",
      "[Pipeline] ...... (step 2 of 3) Processing robustscaler, total=   0.0s\n",
      "[Pipeline]  (step 3 of 3) Processing randomforestclassifier, total=   1.2s\n",
      "\u001b[1m \n",
      "\n",
      "Model: RandomForestClassifier(max_depth=20, min_samples_split=3, n_estimators=200) \u001b[0m\n",
      "\n",
      "Test score: 0.7092511013215859\n",
      "Train score: 1.0 \n",
      "\n",
      "\n",
      "Accuracy: 0.7092511013215859\n",
      "Precision Score: 0.5262886241504663\n",
      "Recall Score: 0.42647426415550416\n",
      "f1 Score: 0.4577972731062556\n",
      "\n",
      " \n",
      "Classification Report:\n",
      "\n",
      "               precision    recall  f1-score   support\n",
      "\n",
      "           3       0.00      0.00      0.00         1\n",
      "           4       0.00      0.00      0.00         7\n",
      "           5       0.78      0.74      0.76       101\n",
      "           6       0.64      0.80      0.71        89\n",
      "           7       0.74      0.52      0.61        27\n",
      "           8       1.00      0.50      0.67         2\n",
      "\n",
      "    accuracy                           0.71       227\n",
      "   macro avg       0.53      0.43      0.46       227\n",
      "weighted avg       0.69      0.71      0.70       227\n",
      "\n",
      "\n",
      " \n",
      "Confusion Matrix:\n",
      "\n",
      "[[ 0  0  1  0  0  0]\n",
      " [ 0  0  4  3  0  0]\n",
      " [ 0  0 75 26  0  0]\n",
      " [ 0  0 14 71  4  0]\n",
      " [ 0  0  2 11 14  0]\n",
      " [ 0  0  0  0  1  1]]\n",
      "\n",
      "Cross Validate:\n",
      "\n",
      "[Pipeline] ..... (step 1 of 3) Processing simpleimputer, total=   0.0s\n",
      "[Pipeline] ...... (step 2 of 3) Processing robustscaler, total=   0.0s\n"
     ]
    },
    {
     "name": "stderr",
     "output_type": "stream",
     "text": [
      "C:\\Users\\DEVVRAK\\anaconda3\\lib\\site-packages\\sklearn\\model_selection\\_split.py:666: UserWarning: The least populated class in y has only 2 members, which is less than n_splits=5.\n",
      "  warnings.warn((\"The least populated class in y has only %d\"\n"
     ]
    },
    {
     "name": "stdout",
     "output_type": "stream",
     "text": [
      "[Pipeline]  (step 3 of 3) Processing randomforestclassifier, total=   1.1s\n",
      "[Pipeline] ..... (step 1 of 3) Processing simpleimputer, total=   0.0s\n",
      "[Pipeline] ...... (step 2 of 3) Processing robustscaler, total=   0.0s\n"
     ]
    },
    {
     "name": "stderr",
     "output_type": "stream",
     "text": [
      "C:\\Users\\DEVVRAK\\anaconda3\\lib\\site-packages\\sklearn\\metrics\\_classification.py:1248: UndefinedMetricWarning: Precision is ill-defined and being set to 0.0 in labels with no predicted samples. Use `zero_division` parameter to control this behavior.\n",
      "  _warn_prf(average, modifier, msg_start, len(result))\n"
     ]
    },
    {
     "name": "stdout",
     "output_type": "stream",
     "text": [
      "[Pipeline]  (step 3 of 3) Processing randomforestclassifier, total=   1.4s\n",
      "[Pipeline] ..... (step 1 of 3) Processing simpleimputer, total=   0.0s\n",
      "[Pipeline] ...... (step 2 of 3) Processing robustscaler, total=   0.0s\n"
     ]
    },
    {
     "name": "stderr",
     "output_type": "stream",
     "text": [
      "C:\\Users\\DEVVRAK\\anaconda3\\lib\\site-packages\\sklearn\\metrics\\_classification.py:1248: UndefinedMetricWarning: Precision is ill-defined and being set to 0.0 in labels with no predicted samples. Use `zero_division` parameter to control this behavior.\n",
      "  _warn_prf(average, modifier, msg_start, len(result))\n"
     ]
    },
    {
     "name": "stdout",
     "output_type": "stream",
     "text": [
      "[Pipeline]  (step 3 of 3) Processing randomforestclassifier, total=   1.1s\n",
      "[Pipeline] ..... (step 1 of 3) Processing simpleimputer, total=   0.0s\n",
      "[Pipeline] ...... (step 2 of 3) Processing robustscaler, total=   0.0s\n"
     ]
    },
    {
     "name": "stderr",
     "output_type": "stream",
     "text": [
      "C:\\Users\\DEVVRAK\\anaconda3\\lib\\site-packages\\sklearn\\metrics\\_classification.py:1248: UndefinedMetricWarning: Precision is ill-defined and being set to 0.0 in labels with no predicted samples. Use `zero_division` parameter to control this behavior.\n",
      "  _warn_prf(average, modifier, msg_start, len(result))\n"
     ]
    },
    {
     "name": "stdout",
     "output_type": "stream",
     "text": [
      "[Pipeline]  (step 3 of 3) Processing randomforestclassifier, total=   1.0s\n",
      "[Pipeline] ..... (step 1 of 3) Processing simpleimputer, total=   0.0s\n",
      "[Pipeline] ...... (step 2 of 3) Processing robustscaler, total=   0.0s\n"
     ]
    },
    {
     "name": "stderr",
     "output_type": "stream",
     "text": [
      "C:\\Users\\DEVVRAK\\anaconda3\\lib\\site-packages\\sklearn\\metrics\\_classification.py:1248: UndefinedMetricWarning: Precision is ill-defined and being set to 0.0 in labels with no predicted samples. Use `zero_division` parameter to control this behavior.\n",
      "  _warn_prf(average, modifier, msg_start, len(result))\n"
     ]
    },
    {
     "name": "stdout",
     "output_type": "stream",
     "text": [
      "[Pipeline]  (step 3 of 3) Processing randomforestclassifier, total=   1.1s\n",
      "\n",
      "Cross Validation: RandomForestClassifier(max_depth=20, min_samples_split=3, n_estimators=200) \n",
      "\n",
      "Mean Accuracy: 0.5894273127753303\n",
      "Mean Precision: 0.3113970112215015\n",
      "Mean Recall: 0.3023509861865325\n",
      "\n",
      "\n",
      "\n",
      "Fitting 5 folds for each of 240 candidates, totalling 1200 fits\n"
     ]
    },
    {
     "name": "stderr",
     "output_type": "stream",
     "text": [
      "C:\\Users\\DEVVRAK\\anaconda3\\lib\\site-packages\\sklearn\\metrics\\_classification.py:1248: UndefinedMetricWarning: Precision is ill-defined and being set to 0.0 in labels with no predicted samples. Use `zero_division` parameter to control this behavior.\n",
      "  _warn_prf(average, modifier, msg_start, len(result))\n",
      "C:\\Users\\DEVVRAK\\anaconda3\\lib\\site-packages\\sklearn\\model_selection\\_split.py:666: UserWarning: The least populated class in y has only 1 members, which is less than n_splits=5.\n",
      "  warnings.warn((\"The least populated class in y has only %d\"\n"
     ]
    },
    {
     "name": "stdout",
     "output_type": "stream",
     "text": [
      "[Pipeline] ..... (step 1 of 3) Processing simpleimputer, total=   0.0s\n",
      "[Pipeline] ...... (step 2 of 3) Processing robustscaler, total=   0.0s\n",
      "[Pipeline] ............... (step 3 of 3) Processing svc, total=   0.3s\n",
      "\u001b[1m \n",
      "\n",
      "Model: SVC(C=5, gamma=1) \u001b[0m\n",
      "\n",
      "Test score: 0.6607929515418502\n",
      "Train score: 0.9966960352422908 \n",
      "\n",
      "\n",
      "Accuracy: 0.6607929515418502\n",
      "Precision Score: 0.5065203641063719\n",
      "Recall Score: 0.3986096175160587\n",
      "f1 Score: 0.431688014162241\n",
      "\n",
      " \n",
      "Classification Report:\n",
      "\n",
      "               precision    recall  f1-score   support\n",
      "\n",
      "           3       0.00      0.00      0.00         1\n",
      "           4       0.00      0.00      0.00         7\n",
      "           5       0.74      0.68      0.71       101\n",
      "           6       0.59      0.76      0.67        89\n",
      "           7       0.71      0.44      0.55        27\n",
      "           8       1.00      0.50      0.67         2\n",
      "\n",
      "    accuracy                           0.66       227\n",
      "   macro avg       0.51      0.40      0.43       227\n",
      "weighted avg       0.65      0.66      0.65       227\n",
      "\n",
      "\n",
      " \n",
      "Confusion Matrix:\n",
      "\n",
      "[[ 0  0  1  0  0  0]\n",
      " [ 0  0  4  3  0  0]\n",
      " [ 0  0 69 32  0  0]\n",
      " [ 0  1 16 68  4  0]\n",
      " [ 0  0  3 12 12  0]\n",
      " [ 0  0  0  0  1  1]]\n",
      "\n",
      "Cross Validate:\n",
      "\n",
      "[Pipeline] ..... (step 1 of 3) Processing simpleimputer, total=   0.0s\n",
      "[Pipeline] ...... (step 2 of 3) Processing robustscaler, total=   0.0s\n"
     ]
    },
    {
     "name": "stderr",
     "output_type": "stream",
     "text": [
      "C:\\Users\\DEVVRAK\\anaconda3\\lib\\site-packages\\sklearn\\model_selection\\_split.py:666: UserWarning: The least populated class in y has only 2 members, which is less than n_splits=5.\n",
      "  warnings.warn((\"The least populated class in y has only %d\"\n"
     ]
    },
    {
     "name": "stdout",
     "output_type": "stream",
     "text": [
      "[Pipeline] ............... (step 3 of 3) Processing svc, total=   0.2s\n",
      "[Pipeline] ..... (step 1 of 3) Processing simpleimputer, total=   0.0s\n",
      "[Pipeline] ...... (step 2 of 3) Processing robustscaler, total=   0.0s\n"
     ]
    },
    {
     "name": "stderr",
     "output_type": "stream",
     "text": [
      "C:\\Users\\DEVVRAK\\anaconda3\\lib\\site-packages\\sklearn\\metrics\\_classification.py:1248: UndefinedMetricWarning: Precision is ill-defined and being set to 0.0 in labels with no predicted samples. Use `zero_division` parameter to control this behavior.\n",
      "  _warn_prf(average, modifier, msg_start, len(result))\n"
     ]
    },
    {
     "name": "stdout",
     "output_type": "stream",
     "text": [
      "[Pipeline] ............... (step 3 of 3) Processing svc, total=   0.2s\n",
      "[Pipeline] ..... (step 1 of 3) Processing simpleimputer, total=   0.0s\n",
      "[Pipeline] ...... (step 2 of 3) Processing robustscaler, total=   0.0s\n"
     ]
    },
    {
     "name": "stderr",
     "output_type": "stream",
     "text": [
      "C:\\Users\\DEVVRAK\\anaconda3\\lib\\site-packages\\sklearn\\metrics\\_classification.py:1248: UndefinedMetricWarning: Precision is ill-defined and being set to 0.0 in labels with no predicted samples. Use `zero_division` parameter to control this behavior.\n",
      "  _warn_prf(average, modifier, msg_start, len(result))\n"
     ]
    },
    {
     "name": "stdout",
     "output_type": "stream",
     "text": [
      "[Pipeline] ............... (step 3 of 3) Processing svc, total=   0.2s\n",
      "[Pipeline] ..... (step 1 of 3) Processing simpleimputer, total=   0.0s\n",
      "[Pipeline] ...... (step 2 of 3) Processing robustscaler, total=   0.0s\n"
     ]
    },
    {
     "name": "stderr",
     "output_type": "stream",
     "text": [
      "C:\\Users\\DEVVRAK\\anaconda3\\lib\\site-packages\\sklearn\\metrics\\_classification.py:1248: UndefinedMetricWarning: Precision is ill-defined and being set to 0.0 in labels with no predicted samples. Use `zero_division` parameter to control this behavior.\n",
      "  _warn_prf(average, modifier, msg_start, len(result))\n"
     ]
    },
    {
     "name": "stdout",
     "output_type": "stream",
     "text": [
      "[Pipeline] ............... (step 3 of 3) Processing svc, total=   0.2s\n",
      "[Pipeline] ..... (step 1 of 3) Processing simpleimputer, total=   0.0s\n",
      "[Pipeline] ...... (step 2 of 3) Processing robustscaler, total=   0.0s\n"
     ]
    },
    {
     "name": "stderr",
     "output_type": "stream",
     "text": [
      "C:\\Users\\DEVVRAK\\anaconda3\\lib\\site-packages\\sklearn\\metrics\\_classification.py:1248: UndefinedMetricWarning: Precision is ill-defined and being set to 0.0 in labels with no predicted samples. Use `zero_division` parameter to control this behavior.\n",
      "  _warn_prf(average, modifier, msg_start, len(result))\n"
     ]
    },
    {
     "name": "stdout",
     "output_type": "stream",
     "text": [
      "[Pipeline] ............... (step 3 of 3) Processing svc, total=   0.2s\n",
      "\n",
      "Cross Validation: SVC(C=5, gamma=1) \n",
      "\n",
      "Mean Accuracy: 0.4977973568281938\n",
      "Mean Precision: 0.25597064041703355\n",
      "Mean Recall: 0.2445120470102073\n",
      "\n",
      "\n",
      "\n",
      "Fitting 5 folds for each of 10 candidates, totalling 50 fits\n"
     ]
    },
    {
     "name": "stderr",
     "output_type": "stream",
     "text": [
      "C:\\Users\\DEVVRAK\\anaconda3\\lib\\site-packages\\sklearn\\metrics\\_classification.py:1248: UndefinedMetricWarning: Precision is ill-defined and being set to 0.0 in labels with no predicted samples. Use `zero_division` parameter to control this behavior.\n",
      "  _warn_prf(average, modifier, msg_start, len(result))\n",
      "C:\\Users\\DEVVRAK\\anaconda3\\lib\\site-packages\\sklearn\\model_selection\\_split.py:666: UserWarning: The least populated class in y has only 1 members, which is less than n_splits=5.\n",
      "  warnings.warn((\"The least populated class in y has only %d\"\n"
     ]
    },
    {
     "name": "stdout",
     "output_type": "stream",
     "text": [
      "[Pipeline] ..... (step 1 of 3) Processing simpleimputer, total=   0.0s\n",
      "[Pipeline] ...... (step 2 of 3) Processing robustscaler, total=   0.0s\n",
      "[Pipeline] ........ (step 3 of 3) Processing gaussiannb, total=   0.0s\n",
      "\u001b[1m \n",
      "\n",
      "Model: GaussianNB(var_smoothing=1.0) \u001b[0m\n",
      "\n",
      "Test score: 0.5242290748898678\n",
      "Train score: 0.6035242290748899 \n",
      "\n",
      "\n",
      "Accuracy: 0.5242290748898678\n",
      "Precision Score: 0.34214246446242047\n",
      "Recall Score: 0.2126845019083681\n",
      "f1 Score: 0.201007326007326\n",
      "\n",
      " \n",
      "Classification Report:\n",
      "\n",
      "               precision    recall  f1-score   support\n",
      "\n",
      "           3       0.00      0.00      0.00         1\n",
      "           4       0.00      0.00      0.00         7\n",
      "           5       0.61      0.64      0.62       101\n",
      "           6       0.45      0.60      0.51        89\n",
      "           7       1.00      0.04      0.07        27\n",
      "           8       0.00      0.00      0.00         2\n",
      "\n",
      "    accuracy                           0.52       227\n",
      "   macro avg       0.34      0.21      0.20       227\n",
      "weighted avg       0.56      0.52      0.49       227\n",
      "\n",
      "\n",
      " \n",
      "Confusion Matrix:\n",
      "\n",
      "[[ 0  0  1  0  0  0]\n",
      " [ 0  0  3  4  0  0]\n",
      " [ 0  0 65 36  0  0]\n",
      " [ 0  0 36 53  0  0]\n",
      " [ 0  0  2 24  1  0]\n",
      " [ 0  0  0  2  0  0]]\n",
      "\n",
      "Cross Validate:\n",
      "\n",
      "[Pipeline] ..... (step 1 of 3) Processing simpleimputer, total=   0.0s\n",
      "[Pipeline] ...... (step 2 of 3) Processing robustscaler, total=   0.0s\n",
      "[Pipeline] ........ (step 3 of 3) Processing gaussiannb, total=   0.0s\n",
      "[Pipeline] ..... (step 1 of 3) Processing simpleimputer, total=   0.0s\n",
      "[Pipeline] ...... (step 2 of 3) Processing robustscaler, total=   0.0s\n",
      "[Pipeline] ........ (step 3 of 3) Processing gaussiannb, total=   0.0s\n",
      "[Pipeline] ..... (step 1 of 3) Processing simpleimputer, total=   0.0s\n"
     ]
    },
    {
     "name": "stderr",
     "output_type": "stream",
     "text": [
      "C:\\Users\\DEVVRAK\\anaconda3\\lib\\site-packages\\sklearn\\model_selection\\_split.py:666: UserWarning: The least populated class in y has only 2 members, which is less than n_splits=5.\n",
      "  warnings.warn((\"The least populated class in y has only %d\"\n",
      "C:\\Users\\DEVVRAK\\anaconda3\\lib\\site-packages\\sklearn\\metrics\\_classification.py:1248: UndefinedMetricWarning: Precision is ill-defined and being set to 0.0 in labels with no predicted samples. Use `zero_division` parameter to control this behavior.\n",
      "  _warn_prf(average, modifier, msg_start, len(result))\n",
      "C:\\Users\\DEVVRAK\\anaconda3\\lib\\site-packages\\sklearn\\metrics\\_classification.py:1248: UndefinedMetricWarning: Precision is ill-defined and being set to 0.0 in labels with no predicted samples. Use `zero_division` parameter to control this behavior.\n",
      "  _warn_prf(average, modifier, msg_start, len(result))\n",
      "C:\\Users\\DEVVRAK\\anaconda3\\lib\\site-packages\\sklearn\\metrics\\_classification.py:1248: UndefinedMetricWarning: Precision is ill-defined and being set to 0.0 in labels with no predicted samples. Use `zero_division` parameter to control this behavior.\n",
      "  _warn_prf(average, modifier, msg_start, len(result))\n"
     ]
    },
    {
     "name": "stdout",
     "output_type": "stream",
     "text": [
      "[Pipeline] ...... (step 2 of 3) Processing robustscaler, total=   0.0s\n",
      "[Pipeline] ........ (step 3 of 3) Processing gaussiannb, total=   0.0s\n",
      "[Pipeline] ..... (step 1 of 3) Processing simpleimputer, total=   0.0s\n",
      "[Pipeline] ...... (step 2 of 3) Processing robustscaler, total=   0.0s\n",
      "[Pipeline] ........ (step 3 of 3) Processing gaussiannb, total=   0.0s\n",
      "[Pipeline] ..... (step 1 of 3) Processing simpleimputer, total=   0.0s\n",
      "[Pipeline] ...... (step 2 of 3) Processing robustscaler, total=   0.0s\n",
      "[Pipeline] ........ (step 3 of 3) Processing gaussiannb, total=   0.0s\n",
      "\n",
      "Cross Validation: GaussianNB(var_smoothing=1.0) \n",
      "\n",
      "Mean Accuracy: 0.5876651982378854\n",
      "Mean Precision: 0.33967851493251455\n",
      "Mean Recall: 0.28467223822942905\n",
      "\n",
      "\n",
      "\n",
      "Fitting 5 folds for each of 13 candidates, totalling 65 fits\n"
     ]
    },
    {
     "name": "stderr",
     "output_type": "stream",
     "text": [
      "C:\\Users\\DEVVRAK\\anaconda3\\lib\\site-packages\\sklearn\\metrics\\_classification.py:1248: UndefinedMetricWarning: Precision is ill-defined and being set to 0.0 in labels with no predicted samples. Use `zero_division` parameter to control this behavior.\n",
      "  _warn_prf(average, modifier, msg_start, len(result))\n",
      "C:\\Users\\DEVVRAK\\anaconda3\\lib\\site-packages\\sklearn\\metrics\\_classification.py:1248: UndefinedMetricWarning: Precision is ill-defined and being set to 0.0 in labels with no predicted samples. Use `zero_division` parameter to control this behavior.\n",
      "  _warn_prf(average, modifier, msg_start, len(result))\n",
      "C:\\Users\\DEVVRAK\\anaconda3\\lib\\site-packages\\sklearn\\model_selection\\_split.py:666: UserWarning: The least populated class in y has only 1 members, which is less than n_splits=5.\n",
      "  warnings.warn((\"The least populated class in y has only %d\"\n"
     ]
    },
    {
     "name": "stdout",
     "output_type": "stream",
     "text": [
      "[Pipeline] ..... (step 1 of 3) Processing simpleimputer, total=   0.0s\n",
      "[Pipeline] ...... (step 2 of 3) Processing robustscaler, total=   0.0s\n",
      "[Pipeline]  (step 3 of 3) Processing kneighborsclassifier, total=   0.0s\n",
      "\u001b[1m \n",
      "\n",
      "Model: KNeighborsClassifier(n_neighbors=12) \u001b[0m\n",
      "\n",
      "Test score: 0.5770925110132159\n",
      "Train score: 0.6519823788546255 \n",
      "\n",
      "\n",
      "Accuracy: 0.5770925110132159\n",
      "Precision Score: 0.2901832503336263\n",
      "Recall Score: 0.27838070948168475\n",
      "f1 Score: 0.2807151700531643\n",
      "\n",
      " \n",
      "Classification Report:\n",
      "\n",
      "               precision    recall  f1-score   support\n",
      "\n",
      "           3       0.00      0.00      0.00         1\n",
      "           4       0.00      0.00      0.00         7\n",
      "           5       0.65      0.63      0.64       101\n",
      "           6       0.51      0.63      0.56        89\n",
      "           7       0.58      0.41      0.48        27\n",
      "           8       0.00      0.00      0.00         2\n",
      "\n",
      "    accuracy                           0.58       227\n",
      "   macro avg       0.29      0.28      0.28       227\n",
      "weighted avg       0.56      0.58      0.56       227\n",
      "\n",
      "\n",
      " \n",
      "Confusion Matrix:\n",
      "\n",
      "[[ 0  0  1  0  0  0]\n",
      " [ 0  0  3  4  0  0]\n",
      " [ 0  0 64 36  1  0]\n",
      " [ 0  0 27 56  6  0]\n",
      " [ 0  0  3 13 11  0]\n",
      " [ 0  0  0  1  1  0]]\n",
      "\n",
      "Cross Validate:\n",
      "\n",
      "[Pipeline] ..... (step 1 of 3) Processing simpleimputer, total=   0.0s\n",
      "[Pipeline] ...... (step 2 of 3) Processing robustscaler, total=   0.0s\n",
      "[Pipeline]  (step 3 of 3) Processing kneighborsclassifier, total=   0.0s\n",
      "[Pipeline] ..... (step 1 of 3) Processing simpleimputer, total=   0.0s\n",
      "[Pipeline] ...... (step 2 of 3) Processing robustscaler, total=   0.0s\n",
      "[Pipeline]  (step 3 of 3) Processing kneighborsclassifier, total=   0.0s\n",
      "[Pipeline] ..... (step 1 of 3) Processing simpleimputer, total=   0.0s\n",
      "[Pipeline] ...... (step 2 of 3) Processing robustscaler, total=   0.0s\n",
      "[Pipeline]  (step 3 of 3) Processing kneighborsclassifier, total=   0.0s\n"
     ]
    },
    {
     "name": "stderr",
     "output_type": "stream",
     "text": [
      "C:\\Users\\DEVVRAK\\anaconda3\\lib\\site-packages\\sklearn\\model_selection\\_split.py:666: UserWarning: The least populated class in y has only 2 members, which is less than n_splits=5.\n",
      "  warnings.warn((\"The least populated class in y has only %d\"\n",
      "C:\\Users\\DEVVRAK\\anaconda3\\lib\\site-packages\\sklearn\\metrics\\_classification.py:1248: UndefinedMetricWarning: Precision is ill-defined and being set to 0.0 in labels with no predicted samples. Use `zero_division` parameter to control this behavior.\n",
      "  _warn_prf(average, modifier, msg_start, len(result))\n",
      "C:\\Users\\DEVVRAK\\anaconda3\\lib\\site-packages\\sklearn\\metrics\\_classification.py:1248: UndefinedMetricWarning: Precision is ill-defined and being set to 0.0 in labels with no predicted samples. Use `zero_division` parameter to control this behavior.\n",
      "  _warn_prf(average, modifier, msg_start, len(result))\n",
      "C:\\Users\\DEVVRAK\\anaconda3\\lib\\site-packages\\sklearn\\metrics\\_classification.py:1248: UndefinedMetricWarning: Precision is ill-defined and being set to 0.0 in labels with no predicted samples. Use `zero_division` parameter to control this behavior.\n",
      "  _warn_prf(average, modifier, msg_start, len(result))\n"
     ]
    },
    {
     "name": "stdout",
     "output_type": "stream",
     "text": [
      "[Pipeline] ..... (step 1 of 3) Processing simpleimputer, total=   0.0s\n",
      "[Pipeline] ...... (step 2 of 3) Processing robustscaler, total=   0.0s\n",
      "[Pipeline]  (step 3 of 3) Processing kneighborsclassifier, total=   0.0s\n",
      "[Pipeline] ..... (step 1 of 3) Processing simpleimputer, total=   0.0s\n",
      "[Pipeline] ...... (step 2 of 3) Processing robustscaler, total=   0.0s\n",
      "[Pipeline]  (step 3 of 3) Processing kneighborsclassifier, total=   0.0s\n",
      "\n",
      "Cross Validation: KNeighborsClassifier(n_neighbors=12) \n",
      "\n",
      "Mean Accuracy: 0.5409691629955947\n",
      "Mean Precision: 0.28502416169411415\n",
      "Mean Recall: 0.27963734095585\n",
      "\n",
      "\n",
      "\n",
      "Fitting 5 folds for each of 18 candidates, totalling 90 fits\n"
     ]
    },
    {
     "name": "stderr",
     "output_type": "stream",
     "text": [
      "C:\\Users\\DEVVRAK\\anaconda3\\lib\\site-packages\\sklearn\\metrics\\_classification.py:1248: UndefinedMetricWarning: Precision is ill-defined and being set to 0.0 in labels with no predicted samples. Use `zero_division` parameter to control this behavior.\n",
      "  _warn_prf(average, modifier, msg_start, len(result))\n",
      "C:\\Users\\DEVVRAK\\anaconda3\\lib\\site-packages\\sklearn\\metrics\\_classification.py:1248: UndefinedMetricWarning: Precision is ill-defined and being set to 0.0 in labels with no predicted samples. Use `zero_division` parameter to control this behavior.\n",
      "  _warn_prf(average, modifier, msg_start, len(result))\n",
      "C:\\Users\\DEVVRAK\\anaconda3\\lib\\site-packages\\sklearn\\model_selection\\_split.py:666: UserWarning: The least populated class in y has only 1 members, which is less than n_splits=5.\n",
      "  warnings.warn((\"The least populated class in y has only %d\"\n",
      "C:\\Users\\DEVVRAK\\anaconda3\\lib\\site-packages\\sklearn\\model_selection\\_search.py:922: UserWarning: One or more of the test scores are non-finite: [       nan        nan        nan 0.59802684 0.59364944 0.57053002\n",
      " 0.55619574 0.52198409 0.47241819 0.4394208  0.43281525 0.42951248\n",
      " 0.42841358 0.42841358 0.42841358 0.42841358 0.42841358 0.42841358]\n",
      "  warnings.warn(\n"
     ]
    },
    {
     "name": "stdout",
     "output_type": "stream",
     "text": [
      "[Pipeline] ..... (step 1 of 3) Processing simpleimputer, total=   0.0s\n",
      "[Pipeline] ...... (step 2 of 3) Processing robustscaler, total=   0.0s\n",
      "[Pipeline]  (step 3 of 3) Processing radiusneighborsclassifier, total=   0.0s\n",
      "\u001b[1m \n",
      "\n",
      "Model: RadiusNeighborsClassifier(radius=2.588235294117647) \u001b[0m\n",
      "\n",
      "Test score: 0.5550660792951542\n",
      "Train score: 0.6090308370044053 \n",
      "\n",
      "\n",
      "Accuracy: 0.5550660792951542\n",
      "Precision Score: 0.35092226613965743\n",
      "Recall Score: 0.22920331983260747\n",
      "f1 Score: 0.22186252612937096\n",
      "\n",
      " \n",
      "Classification Report:\n",
      "\n",
      "               precision    recall  f1-score   support\n",
      "\n",
      "           3       0.00      0.00      0.00         1\n",
      "           4       0.00      0.00      0.00         7\n",
      "           5       0.63      0.68      0.65       101\n",
      "           6       0.48      0.62      0.54        89\n",
      "           7       1.00      0.07      0.14        27\n",
      "           8       0.00      0.00      0.00         2\n",
      "\n",
      "    accuracy                           0.56       227\n",
      "   macro avg       0.35      0.23      0.22       227\n",
      "weighted avg       0.59      0.56      0.52       227\n",
      "\n",
      "\n",
      " \n",
      "Confusion Matrix:\n",
      "\n",
      "[[ 0  0  1  0  0  0]\n",
      " [ 0  0  4  3  0  0]\n",
      " [ 0  0 69 32  0  0]\n",
      " [ 0  0 34 55  0  0]\n",
      " [ 0  0  2 23  2  0]\n",
      " [ 0  0  0  2  0  0]]\n",
      "\n",
      "Cross Validate:\n",
      "\n",
      "[Pipeline] ..... (step 1 of 3) Processing simpleimputer, total=   0.0s\n",
      "[Pipeline] ...... (step 2 of 3) Processing robustscaler, total=   0.0s\n",
      "[Pipeline]  (step 3 of 3) Processing radiusneighborsclassifier, total=   0.0s\n",
      "[Pipeline] ..... (step 1 of 3) Processing simpleimputer, total=   0.0s\n",
      "[Pipeline] ...... (step 2 of 3) Processing robustscaler, total=   0.0s\n",
      "[Pipeline]  (step 3 of 3) Processing radiusneighborsclassifier, total=   0.0s\n",
      "[Pipeline] ..... (step 1 of 3) Processing simpleimputer, total=   0.0s\n",
      "[Pipeline] ...... (step 2 of 3) Processing robustscaler, total=   0.0s\n",
      "[Pipeline]  (step 3 of 3) Processing radiusneighborsclassifier, total=   0.0s\n"
     ]
    },
    {
     "name": "stderr",
     "output_type": "stream",
     "text": [
      "C:\\Users\\DEVVRAK\\anaconda3\\lib\\site-packages\\sklearn\\model_selection\\_split.py:666: UserWarning: The least populated class in y has only 2 members, which is less than n_splits=5.\n",
      "  warnings.warn((\"The least populated class in y has only %d\"\n",
      "C:\\Users\\DEVVRAK\\anaconda3\\lib\\site-packages\\sklearn\\metrics\\_classification.py:1248: UndefinedMetricWarning: Precision is ill-defined and being set to 0.0 in labels with no predicted samples. Use `zero_division` parameter to control this behavior.\n",
      "  _warn_prf(average, modifier, msg_start, len(result))\n",
      "C:\\Users\\DEVVRAK\\anaconda3\\lib\\site-packages\\sklearn\\metrics\\_classification.py:1248: UndefinedMetricWarning: Precision is ill-defined and being set to 0.0 in labels with no predicted samples. Use `zero_division` parameter to control this behavior.\n",
      "  _warn_prf(average, modifier, msg_start, len(result))\n",
      "C:\\Users\\DEVVRAK\\anaconda3\\lib\\site-packages\\sklearn\\metrics\\_classification.py:1248: UndefinedMetricWarning: Precision is ill-defined and being set to 0.0 in labels with no predicted samples. Use `zero_division` parameter to control this behavior.\n",
      "  _warn_prf(average, modifier, msg_start, len(result))\n"
     ]
    },
    {
     "name": "stdout",
     "output_type": "stream",
     "text": [
      "[Pipeline] ..... (step 1 of 3) Processing simpleimputer, total=   0.0s\n",
      "[Pipeline] ...... (step 2 of 3) Processing robustscaler, total=   0.0s\n",
      "[Pipeline]  (step 3 of 3) Processing radiusneighborsclassifier, total=   0.0s\n",
      "[Pipeline] ..... (step 1 of 3) Processing simpleimputer, total=   0.0s\n",
      "[Pipeline] ...... (step 2 of 3) Processing robustscaler, total=   0.0s\n",
      "[Pipeline]  (step 3 of 3) Processing radiusneighborsclassifier, total=   0.0s\n",
      "\n",
      "Cross Validation: RadiusNeighborsClassifier(radius=2.588235294117647) \n",
      "\n",
      "Mean Accuracy: 0.5674008810572688\n",
      "Mean Precision: 0.31684685276925123\n",
      "Mean Recall: 0.25612451516914797\n",
      "\n",
      "\n",
      "\n"
     ]
    },
    {
     "name": "stderr",
     "output_type": "stream",
     "text": [
      "C:\\Users\\DEVVRAK\\anaconda3\\lib\\site-packages\\sklearn\\metrics\\_classification.py:1248: UndefinedMetricWarning: Precision is ill-defined and being set to 0.0 in labels with no predicted samples. Use `zero_division` parameter to control this behavior.\n",
      "  _warn_prf(average, modifier, msg_start, len(result))\n",
      "C:\\Users\\DEVVRAK\\anaconda3\\lib\\site-packages\\sklearn\\metrics\\_classification.py:1248: UndefinedMetricWarning: Precision is ill-defined and being set to 0.0 in labels with no predicted samples. Use `zero_division` parameter to control this behavior.\n",
      "  _warn_prf(average, modifier, msg_start, len(result))\n"
     ]
    }
   ],
   "source": [
    "param_list = [{'logisticregression__max_iter':list(range(500,20000,500)), 'logisticregression__solver':['newton-cg', 'lbfgs', 'saga']},\n",
    "              {'decisiontreeclassifier__max_depth':[2,3,4,5,6,7,8], 'decisiontreeclassifier__min_samples_split':[2,3,4,5]},\n",
    "              {'randomforestclassifier__n_estimators':[10,50,100,200,250], 'randomforestclassifier__max_depth':list(range(5,30,5)), 'randomforestclassifier__min_samples_split':[2,3,4,5]},\n",
    "              {'svc__C':[5, 10, 100], 'svc__gamma': [1,0.1,0.01,0.001], 'svc__kernel':['linear', 'poly', 'rbf', 'sigmoid'], 'svc__degree':[3,4,5,6,7]},\n",
    "              {'gaussiannb__var_smoothing': np.logspace(0,-9, num=10)},\n",
    "              {'kneighborsclassifier__n_neighbors':list(range(2,15,1))},\n",
    "              {'radiusneighborsclassifier__radius': np.linspace (1, 10, 18)}]\n",
    "\n",
    "scoring = ['precision_macro', 'recall_macro', 'accuracy']\n",
    "\n",
    "for pipeline, params in zip(pipelines, param_list):\n",
    "    \n",
    "    grid_search = GridSearchCV(pipeline, params, cv=5, n_jobs=-1,verbose=3)\n",
    "    grid_search.fit(x_train, y_train)\n",
    "    model = grid_search.best_estimator_\n",
    "    print('\\033[1m',\"\\n\\nModel:\",model[2],'\\033[0m')\n",
    "    with open(str(model[2])+'_model_wine_red.pickle', 'wb') as handle:\n",
    "        pickle.dump(model, handle, protocol=pickle.HIGHEST_PROTOCOL)\n",
    "    \n",
    "    y_pred = model.predict(x_test)\n",
    "    print(\"\\nTest score:\",model.score(x_test, y_test))\n",
    "    print(\"Train score:\",model.score(x_train, y_train),\"\\n\")\n",
    "    get_reports(y_test, y_pred)\n",
    "    \n",
    "    print(\"\\nCross Validate:\\n\")\n",
    "    cv = cross_validate(model, X_num, Y_num, scoring=scoring, cv=5)\n",
    "    print(\"\\nCross Validation:\",model[2],\"\\n\")\n",
    "    print(\"Mean Accuracy:\",cv['test_accuracy'].mean())\n",
    "    print(\"Mean Precision:\",cv['test_precision_macro'].mean())\n",
    "    print(\"Mean Recall:\",cv['test_recall_macro'].mean())\n",
    "    print(\"\\n\\n\")"
   ]
  },
  {
   "cell_type": "code",
   "execution_count": null,
   "id": "b3c79c42",
   "metadata": {},
   "outputs": [],
   "source": []
  },
  {
   "cell_type": "code",
   "execution_count": null,
   "id": "10b15687",
   "metadata": {},
   "outputs": [],
   "source": []
  }
 ],
 "metadata": {
  "kernelspec": {
   "display_name": "Python 3 (ipykernel)",
   "language": "python",
   "name": "python3"
  },
  "language_info": {
   "codemirror_mode": {
    "name": "ipython",
    "version": 3
   },
   "file_extension": ".py",
   "mimetype": "text/x-python",
   "name": "python",
   "nbconvert_exporter": "python",
   "pygments_lexer": "ipython3",
   "version": "3.9.7"
  }
 },
 "nbformat": 4,
 "nbformat_minor": 5
}
