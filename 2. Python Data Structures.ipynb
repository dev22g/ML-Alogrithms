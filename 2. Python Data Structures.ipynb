{
 "cells": [
  {
   "cell_type": "code",
   "execution_count": 1,
   "id": "bc8e2b82",
   "metadata": {},
   "outputs": [],
   "source": [
    "# Session 2\n",
    "\n",
    "# Variables and Data Types\n",
    "\n",
    "# Variable : Placeholder/ Temporary memory pointing entity\n",
    "\n",
    "# In Python we do not require explicit data type declaration\n",
    "\n",
    "initial_value_of_parameter = 0.2\n",
    "\n",
    "\n",
    "\n",
    "port_no_for_db_azure = 8080\n",
    "port_no_for_smtp_server = 25\n",
    "\n",
    "# Advice : choose variable name which reflect their purpose or definition"
   ]
  },
  {
   "cell_type": "code",
   "execution_count": 2,
   "id": "2ef8840a",
   "metadata": {},
   "outputs": [],
   "source": [
    "# Snake case\n",
    "initial_value = 10\n",
    "\n",
    "# Camel case\n",
    "initialValue = 10\n",
    "\n",
    "# Pascal case\n",
    "InitialValue = 10\n"
   ]
  },
  {
   "cell_type": "code",
   "execution_count": 3,
   "id": "76186599",
   "metadata": {},
   "outputs": [],
   "source": [
    "var_01 = var_02 = 10  # right to left"
   ]
  },
  {
   "cell_type": "code",
   "execution_count": 5,
   "id": "7f2643eb",
   "metadata": {},
   "outputs": [
    {
     "name": "stdout",
     "output_type": "stream",
     "text": [
      "10 17 hii\n",
      "27\n"
     ]
    }
   ],
   "source": [
    "a, b, c = 10, 17, \"hii\"\n",
    "\n",
    "print(a,b,c)\n",
    "\n",
    "sum = a+b\n",
    "print(sum)"
   ]
  },
  {
   "cell_type": "code",
   "execution_count": 6,
   "id": "1bd4d786",
   "metadata": {},
   "outputs": [],
   "source": [
    "my_real_name = \"John\""
   ]
  },
  {
   "cell_type": "code",
   "execution_count": 7,
   "id": "f4ebd4a5",
   "metadata": {},
   "outputs": [
    {
     "data": {
      "text/plain": [
       "'John'"
      ]
     },
     "execution_count": 7,
     "metadata": {},
     "output_type": "execute_result"
    }
   ],
   "source": [
    "my_real_name"
   ]
  },
  {
   "cell_type": "code",
   "execution_count": 8,
   "id": "3d74649f",
   "metadata": {},
   "outputs": [
    {
     "name": "stdout",
     "output_type": "stream",
     "text": [
      "John\n"
     ]
    }
   ],
   "source": [
    "print(my_real_name)"
   ]
  },
  {
   "cell_type": "code",
   "execution_count": null,
   "id": "3caaf00f",
   "metadata": {},
   "outputs": [],
   "source": [
    "# Data Types of Python\n",
    "1. Numeric \n",
    "    a. integers\n",
    "    b. floating points\n",
    "    c. complex numbers\n",
    "2. String\n",
    "3. Boolean\n",
    "4. List\n",
    "5. Dictionary\n",
    "6. Tuple\n",
    "7. Set\n",
    "8. Bits"
   ]
  },
  {
   "cell_type": "code",
   "execution_count": 9,
   "id": "963088eb",
   "metadata": {},
   "outputs": [
    {
     "name": "stdout",
     "output_type": "stream",
     "text": [
      "19\n"
     ]
    }
   ],
   "source": [
    "# Integers - Z \n",
    "\n",
    "# Since python 3 integer can be as big till memory permits\n",
    "\n",
    "height = 7\n",
    "width = 12\n",
    "\n",
    "print (width + height)"
   ]
  },
  {
   "cell_type": "code",
   "execution_count": 10,
   "id": "e68c4595",
   "metadata": {},
   "outputs": [
    {
     "name": "stdout",
     "output_type": "stream",
     "text": [
      "<class 'int'>\n"
     ]
    }
   ],
   "source": [
    "print(type(height))"
   ]
  },
  {
   "cell_type": "code",
   "execution_count": 11,
   "id": "ac383381",
   "metadata": {},
   "outputs": [
    {
     "name": "stdout",
     "output_type": "stream",
     "text": [
      "8191\n"
     ]
    }
   ],
   "source": [
    "print(0x1FFF)  "
   ]
  },
  {
   "cell_type": "code",
   "execution_count": 12,
   "id": "3f911cfd",
   "metadata": {},
   "outputs": [
    {
     "name": "stdout",
     "output_type": "stream",
     "text": [
      "42\n"
     ]
    }
   ],
   "source": [
    "print(0b101010) # prints decimal equivalent to the binary"
   ]
  },
  {
   "cell_type": "code",
   "execution_count": 13,
   "id": "20f0a79f",
   "metadata": {},
   "outputs": [
    {
     "name": "stdout",
     "output_type": "stream",
     "text": [
      "<class 'float'>\n"
     ]
    }
   ],
   "source": [
    "# Floating Point - Fractions\n",
    "\n",
    "radius = 7.5\n",
    "print(type(radius))"
   ]
  },
  {
   "cell_type": "code",
   "execution_count": 14,
   "id": "ec973508",
   "metadata": {},
   "outputs": [
    {
     "name": "stdout",
     "output_type": "stream",
     "text": [
      "14.5\n",
      "<class 'float'>\n"
     ]
    }
   ],
   "source": [
    "sum = height + radius\n",
    "print(sum)\n",
    "print(type(sum))"
   ]
  },
  {
   "cell_type": "code",
   "execution_count": 15,
   "id": "ca4f4810",
   "metadata": {},
   "outputs": [
    {
     "data": {
      "text/plain": [
       "0.2"
      ]
     },
     "execution_count": 15,
     "metadata": {},
     "output_type": "execute_result"
    }
   ],
   "source": [
    ".2"
   ]
  },
  {
   "cell_type": "code",
   "execution_count": 16,
   "id": "68e6d10e",
   "metadata": {},
   "outputs": [
    {
     "name": "stdout",
     "output_type": "stream",
     "text": [
      "<class 'float'>\n"
     ]
    }
   ],
   "source": [
    "diagonal = 4.\n",
    "print(type(diagonal))"
   ]
  },
  {
   "cell_type": "code",
   "execution_count": 17,
   "id": "41780908",
   "metadata": {},
   "outputs": [
    {
     "data": {
      "text/plain": [
       "40000.0"
      ]
     },
     "execution_count": 17,
     "metadata": {},
     "output_type": "execute_result"
    }
   ],
   "source": [
    ".4e5"
   ]
  },
  {
   "cell_type": "code",
   "execution_count": 18,
   "id": "b4c6c088",
   "metadata": {},
   "outputs": [
    {
     "data": {
      "text/plain": [
       "0.004234"
      ]
     },
     "execution_count": 18,
     "metadata": {},
     "output_type": "execute_result"
    }
   ],
   "source": [
    "4.234e-3"
   ]
  },
  {
   "cell_type": "code",
   "execution_count": 19,
   "id": "e5848002",
   "metadata": {},
   "outputs": [
    {
     "name": "stdout",
     "output_type": "stream",
     "text": [
      "<class 'complex'>\n"
     ]
    }
   ],
   "source": [
    "# complex numbers\n",
    "\n",
    "my_var = 2+6j\n",
    "\n",
    "print(type(my_var))"
   ]
  },
  {
   "cell_type": "code",
   "execution_count": 20,
   "id": "27185d4c",
   "metadata": {},
   "outputs": [
    {
     "name": "stdout",
     "output_type": "stream",
     "text": [
      "(22+6j)\n"
     ]
    }
   ],
   "source": [
    "print(my_var + 20)"
   ]
  },
  {
   "cell_type": "code",
   "execution_count": 21,
   "id": "bfce3906",
   "metadata": {},
   "outputs": [
    {
     "name": "stdout",
     "output_type": "stream",
     "text": [
      "(4+12j)\n"
     ]
    }
   ],
   "source": [
    "print(my_var * 2)"
   ]
  },
  {
   "cell_type": "code",
   "execution_count": 22,
   "id": "c05b38be",
   "metadata": {},
   "outputs": [
    {
     "data": {
      "text/plain": [
       "str"
      ]
     },
     "execution_count": 22,
     "metadata": {},
     "output_type": "execute_result"
    }
   ],
   "source": [
    "# String - String is a sequence of characters\n",
    "# String literals are delimited using either single or double quotes.\n",
    "\n",
    "my_new_book = \"Ikigai\"\n",
    "\n",
    "type(my_new_book)"
   ]
  },
  {
   "cell_type": "code",
   "execution_count": 23,
   "id": "0dc37088",
   "metadata": {},
   "outputs": [
    {
     "ename": "TypeError",
     "evalue": "can only concatenate str (not \"complex\") to str",
     "output_type": "error",
     "traceback": [
      "\u001b[1;31m---------------------------------------------------------------------------\u001b[0m",
      "\u001b[1;31mTypeError\u001b[0m                                 Traceback (most recent call last)",
      "\u001b[1;32m~\\AppData\\Local\\Temp/ipykernel_13548/2791442262.py\u001b[0m in \u001b[0;36m<module>\u001b[1;34m\u001b[0m\n\u001b[0;32m      1\u001b[0m \u001b[1;31m# String is not compatible with numerical type\u001b[0m\u001b[1;33m\u001b[0m\u001b[1;33m\u001b[0m\u001b[0m\n\u001b[0;32m      2\u001b[0m \u001b[1;33m\u001b[0m\u001b[0m\n\u001b[1;32m----> 3\u001b[1;33m \u001b[0mprint\u001b[0m\u001b[1;33m(\u001b[0m\u001b[0mmy_new_book\u001b[0m \u001b[1;33m+\u001b[0m \u001b[0mmy_var\u001b[0m\u001b[1;33m)\u001b[0m\u001b[1;33m\u001b[0m\u001b[1;33m\u001b[0m\u001b[0m\n\u001b[0m",
      "\u001b[1;31mTypeError\u001b[0m: can only concatenate str (not \"complex\") to str"
     ]
    }
   ],
   "source": [
    "# String is not compatible with numerical type\n",
    "\n",
    "print(my_new_book + my_var)"
   ]
  },
  {
   "cell_type": "code",
   "execution_count": 24,
   "id": "d561ad97",
   "metadata": {},
   "outputs": [
    {
     "name": "stdout",
     "output_type": "stream",
     "text": [
      "IkigaiLifespan\n"
     ]
    }
   ],
   "source": [
    "my_old_book = \"Lifespan\"\n",
    "print (my_new_book + my_old_book)"
   ]
  },
  {
   "cell_type": "code",
   "execution_count": 25,
   "id": "69f85dca",
   "metadata": {},
   "outputs": [
    {
     "name": "stdout",
     "output_type": "stream",
     "text": [
      "Ikigai Lifespan\n"
     ]
    }
   ],
   "source": [
    "print (my_new_book + \" \" + my_old_book)"
   ]
  },
  {
   "cell_type": "code",
   "execution_count": 26,
   "id": "caea69ef",
   "metadata": {},
   "outputs": [
    {
     "name": "stdout",
     "output_type": "stream",
     "text": [
      "IkigaiIkigaiIkigaiIkigaiIkigaiIkigai\n"
     ]
    }
   ],
   "source": [
    "print (my_new_book * 6)"
   ]
  },
  {
   "cell_type": "code",
   "execution_count": 28,
   "id": "5412e5fb",
   "metadata": {},
   "outputs": [
    {
     "name": "stdout",
     "output_type": "stream",
     "text": [
      "*_*_*_*_*_*_\n"
     ]
    }
   ],
   "source": [
    "print (\"*_\" * 6)"
   ]
  },
  {
   "cell_type": "code",
   "execution_count": 29,
   "id": "b0fac798",
   "metadata": {},
   "outputs": [
    {
     "name": "stdout",
     "output_type": "stream",
     "text": [
      "*\t#*\t#*\t#*\t#*\t#*\t#\n"
     ]
    }
   ],
   "source": [
    "print (\"*\\t#\" * 6)"
   ]
  },
  {
   "cell_type": "code",
   "execution_count": 30,
   "id": "2d667b0d",
   "metadata": {},
   "outputs": [
    {
     "name": "stdout",
     "output_type": "stream",
     "text": [
      "*\n",
      "#*\n",
      "#*\n",
      "#*\n",
      "#*\n",
      "#*\n",
      "#\n"
     ]
    }
   ],
   "source": [
    "print (\"*\\n#\" * 6)"
   ]
  },
  {
   "cell_type": "code",
   "execution_count": 40,
   "id": "e03da88e",
   "metadata": {},
   "outputs": [
    {
     "name": "stdout",
     "output_type": "stream",
     "text": [
      "False\n"
     ]
    }
   ],
   "source": [
    "a = \"This is String A\"\n",
    "b = \"This is String B\"\n",
    "\n",
    "print(a == b)"
   ]
  },
  {
   "cell_type": "code",
   "execution_count": 41,
   "id": "fd9608f5",
   "metadata": {},
   "outputs": [
    {
     "name": "stdout",
     "output_type": "stream",
     "text": [
      "False\n"
     ]
    }
   ],
   "source": [
    "print ( a is b)"
   ]
  },
  {
   "cell_type": "code",
   "execution_count": 43,
   "id": "c289dca5",
   "metadata": {},
   "outputs": [
    {
     "name": "stdout",
     "output_type": "stream",
     "text": [
      "Holiday4.2\n"
     ]
    }
   ],
   "source": [
    "myChar = \"Holiday\"\n",
    "myNum = 4.2\n",
    "\n",
    "print(myChar + str(myNum))"
   ]
  },
  {
   "cell_type": "code",
   "execution_count": 44,
   "id": "78ce04a3",
   "metadata": {},
   "outputs": [
    {
     "name": "stdout",
     "output_type": "stream",
     "text": [
      "<class 'str'>\n"
     ]
    }
   ],
   "source": [
    "myNum = 5.4\n",
    "myNum = str(myNum)\n",
    "print(type(myNum))"
   ]
  },
  {
   "cell_type": "code",
   "execution_count": 45,
   "id": "7cd79d7d",
   "metadata": {},
   "outputs": [
    {
     "data": {
      "text/plain": [
       "'5.4'"
      ]
     },
     "execution_count": 45,
     "metadata": {},
     "output_type": "execute_result"
    }
   ],
   "source": [
    "myNum"
   ]
  },
  {
   "cell_type": "code",
   "execution_count": 46,
   "id": "8c1caa24",
   "metadata": {},
   "outputs": [
    {
     "name": "stdout",
     "output_type": "stream",
     "text": [
      "ABCGGHEFHUT\n"
     ]
    }
   ],
   "source": [
    "myString = \"AbcGGhefhut\"\n",
    "\n",
    "print(myString.upper()) # convert every string to Upper case"
   ]
  },
  {
   "cell_type": "code",
   "execution_count": 47,
   "id": "9a8e6d3c",
   "metadata": {},
   "outputs": [
    {
     "name": "stdout",
     "output_type": "stream",
     "text": [
      "abcgghefhut\n"
     ]
    }
   ],
   "source": [
    "print(myString.lower())"
   ]
  },
  {
   "cell_type": "code",
   "execution_count": 49,
   "id": "589b203f",
   "metadata": {},
   "outputs": [],
   "source": [
    "import string"
   ]
  },
  {
   "cell_type": "code",
   "execution_count": 50,
   "id": "60c020e4",
   "metadata": {},
   "outputs": [
    {
     "data": {
      "text/plain": [
       "'0123456789'"
      ]
     },
     "execution_count": 50,
     "metadata": {},
     "output_type": "execute_result"
    }
   ],
   "source": [
    "string.digits"
   ]
  },
  {
   "cell_type": "code",
   "execution_count": 51,
   "id": "6d7ea74b",
   "metadata": {},
   "outputs": [
    {
     "data": {
      "text/plain": [
       "'0123456789abcdefABCDEF'"
      ]
     },
     "execution_count": 51,
     "metadata": {},
     "output_type": "execute_result"
    }
   ],
   "source": [
    "string.hexdigits"
   ]
  },
  {
   "cell_type": "code",
   "execution_count": 52,
   "id": "f5eab963",
   "metadata": {},
   "outputs": [
    {
     "data": {
      "text/plain": [
       "'!\"#$%&\\'()*+,-./:;<=>?@[\\\\]^_`{|}~'"
      ]
     },
     "execution_count": 52,
     "metadata": {},
     "output_type": "execute_result"
    }
   ],
   "source": [
    "string.punctuation"
   ]
  },
  {
   "cell_type": "code",
   "execution_count": 63,
   "id": "f9591242",
   "metadata": {},
   "outputs": [
    {
     "data": {
      "text/plain": [
       "False"
      ]
     },
     "execution_count": 63,
     "metadata": {},
     "output_type": "execute_result"
    }
   ],
   "source": [
    "myString = \"2%2\"\n",
    "\n",
    "myString.isdigit() # isdigit() return True if all the characters are digits else it returns False"
   ]
  },
  {
   "cell_type": "code",
   "execution_count": 64,
   "id": "781bc57a",
   "metadata": {},
   "outputs": [
    {
     "data": {
      "text/plain": [
       "False"
      ]
     },
     "execution_count": 64,
     "metadata": {},
     "output_type": "execute_result"
    }
   ],
   "source": [
    "myString = \"2%2\"\n",
    "\n",
    "myString.isnumeric() # isnumeric() checks whether all the characters are numeric"
   ]
  },
  {
   "cell_type": "code",
   "execution_count": 65,
   "id": "e1ef0bf5",
   "metadata": {},
   "outputs": [
    {
     "data": {
      "text/plain": [
       "False"
      ]
     },
     "execution_count": 65,
     "metadata": {},
     "output_type": "execute_result"
    }
   ],
   "source": [
    "myString = \"2%2\"\n",
    "\n",
    "myString.isdecimal()"
   ]
  },
  {
   "cell_type": "code",
   "execution_count": 67,
   "id": "af360f6b",
   "metadata": {},
   "outputs": [
    {
     "data": {
      "text/plain": [
       "True"
      ]
     },
     "execution_count": 67,
     "metadata": {},
     "output_type": "execute_result"
    }
   ],
   "source": [
    "myString = \"23fg\"\n",
    "\n",
    "myString.isalnum()"
   ]
  },
  {
   "cell_type": "code",
   "execution_count": 68,
   "id": "eb139bff",
   "metadata": {},
   "outputs": [
    {
     "name": "stdout",
     "output_type": "stream",
     "text": [
      "g\n"
     ]
    }
   ],
   "source": [
    "temp_var = \"get_going\"\n",
    "print(temp_var[0])"
   ]
  },
  {
   "cell_type": "code",
   "execution_count": 69,
   "id": "0dea4e25",
   "metadata": {},
   "outputs": [
    {
     "ename": "IndexError",
     "evalue": "string index out of range",
     "output_type": "error",
     "traceback": [
      "\u001b[1;31m---------------------------------------------------------------------------\u001b[0m",
      "\u001b[1;31mIndexError\u001b[0m                                Traceback (most recent call last)",
      "\u001b[1;32m~\\AppData\\Local\\Temp/ipykernel_13548/1740420865.py\u001b[0m in \u001b[0;36m<module>\u001b[1;34m\u001b[0m\n\u001b[1;32m----> 1\u001b[1;33m \u001b[0mprint\u001b[0m\u001b[1;33m(\u001b[0m\u001b[0mtemp_var\u001b[0m\u001b[1;33m[\u001b[0m\u001b[1;36m25\u001b[0m\u001b[1;33m]\u001b[0m\u001b[1;33m)\u001b[0m\u001b[1;33m\u001b[0m\u001b[1;33m\u001b[0m\u001b[0m\n\u001b[0m",
      "\u001b[1;31mIndexError\u001b[0m: string index out of range"
     ]
    }
   ],
   "source": [
    "print(temp_var[25])"
   ]
  },
  {
   "cell_type": "code",
   "execution_count": 70,
   "id": "a5ac4de9",
   "metadata": {},
   "outputs": [
    {
     "name": "stdout",
     "output_type": "stream",
     "text": [
      "g\n"
     ]
    }
   ],
   "source": [
    "print(temp_var[-1])"
   ]
  },
  {
   "cell_type": "code",
   "execution_count": 71,
   "id": "186f4d82",
   "metadata": {},
   "outputs": [
    {
     "name": "stdout",
     "output_type": "stream",
     "text": [
      "i\n"
     ]
    }
   ],
   "source": [
    "print(temp_var[-3])"
   ]
  },
  {
   "cell_type": "code",
   "execution_count": 72,
   "id": "40ea97cf",
   "metadata": {},
   "outputs": [
    {
     "name": "stdout",
     "output_type": "stream",
     "text": [
      "get_g\n"
     ]
    }
   ],
   "source": [
    "print(temp_var[0:5])"
   ]
  },
  {
   "cell_type": "code",
   "execution_count": 73,
   "id": "74aa643d",
   "metadata": {},
   "outputs": [
    {
     "name": "stdout",
     "output_type": "stream",
     "text": [
      "get_going\n"
     ]
    }
   ],
   "source": [
    "print(temp_var[:])"
   ]
  },
  {
   "cell_type": "code",
   "execution_count": 74,
   "id": "cb758def",
   "metadata": {},
   "outputs": [
    {
     "name": "stdout",
     "output_type": "stream",
     "text": [
      "t_goin\n"
     ]
    }
   ],
   "source": [
    "print(temp_var[2:8])"
   ]
  },
  {
   "cell_type": "code",
   "execution_count": 75,
   "id": "d71b5812",
   "metadata": {},
   "outputs": [
    {
     "name": "stdout",
     "output_type": "stream",
     "text": [
      "et_going\n"
     ]
    }
   ],
   "source": [
    "print(temp_var[1:9:1])"
   ]
  },
  {
   "cell_type": "code",
   "execution_count": 76,
   "id": "79f00415",
   "metadata": {},
   "outputs": [
    {
     "name": "stdout",
     "output_type": "stream",
     "text": [
      "e_on\n"
     ]
    }
   ],
   "source": [
    "print(temp_var[1:9:2])"
   ]
  },
  {
   "cell_type": "code",
   "execution_count": 77,
   "id": "5bd95f2d",
   "metadata": {},
   "outputs": [
    {
     "name": "stdout",
     "output_type": "stream",
     "text": [
      "gniog_t\n"
     ]
    }
   ],
   "source": [
    "print(temp_var[-1:-8:-1])"
   ]
  },
  {
   "cell_type": "code",
   "execution_count": 78,
   "id": "60b26130",
   "metadata": {},
   "outputs": [
    {
     "name": "stdout",
     "output_type": "stream",
     "text": [
      "gi\n"
     ]
    }
   ],
   "source": [
    "print(temp_var[-1:-5:-2])"
   ]
  },
  {
   "cell_type": "code",
   "execution_count": 83,
   "id": "389a547f",
   "metadata": {},
   "outputs": [
    {
     "name": "stdout",
     "output_type": "stream",
     "text": [
      "n\n"
     ]
    }
   ],
   "source": [
    "print(temp_var[-2:25:2])"
   ]
  },
  {
   "cell_type": "code",
   "execution_count": 81,
   "id": "d60276c6",
   "metadata": {},
   "outputs": [
    {
     "name": "stdout",
     "output_type": "stream",
     "text": [
      "_n\n"
     ]
    }
   ],
   "source": [
    "print(temp_var[3:25:4])"
   ]
  },
  {
   "cell_type": "code",
   "execution_count": 84,
   "id": "1af7e4ce",
   "metadata": {},
   "outputs": [
    {
     "data": {
      "text/plain": [
       "'gniog_teg'"
      ]
     },
     "execution_count": 84,
     "metadata": {},
     "output_type": "execute_result"
    }
   ],
   "source": [
    "temp_var[::-1]"
   ]
  },
  {
   "cell_type": "code",
   "execution_count": 86,
   "id": "ad4d6a29",
   "metadata": {},
   "outputs": [],
   "source": [
    "palindrome_str = \"abiba\""
   ]
  },
  {
   "cell_type": "code",
   "execution_count": 87,
   "id": "e3635660",
   "metadata": {},
   "outputs": [
    {
     "name": "stdout",
     "output_type": "stream",
     "text": [
      "True\n"
     ]
    }
   ],
   "source": [
    "print(palindrome_str == palindrome_str[::-1])"
   ]
  },
  {
   "cell_type": "code",
   "execution_count": 31,
   "id": "29834ff7",
   "metadata": {},
   "outputs": [
    {
     "name": "stdout",
     "output_type": "stream",
     "text": [
      "<class 'bool'>\n"
     ]
    }
   ],
   "source": [
    "# Boolean\n",
    "\n",
    "myVar = True\n",
    "print(type(myVar))"
   ]
  },
  {
   "cell_type": "code",
   "execution_count": 32,
   "id": "18841d7d",
   "metadata": {},
   "outputs": [],
   "source": [
    "# List . This is the basic data structure utilized in python. It is of sequence type\n",
    "\n",
    "# List is declared by []\n",
    "\n",
    "subject_list = [\"Physics\", \"Maths\", \"History\", \"Computers\"]\n",
    "\n",
    "my_list = [3,8,9.8, \"Hello\", 6+8j, True]"
   ]
  },
  {
   "cell_type": "code",
   "execution_count": 33,
   "id": "69cf6b72",
   "metadata": {},
   "outputs": [
    {
     "name": "stdout",
     "output_type": "stream",
     "text": [
      "<class 'list'>\n"
     ]
    }
   ],
   "source": [
    "print(type(my_list))"
   ]
  },
  {
   "cell_type": "code",
   "execution_count": 34,
   "id": "79245a21",
   "metadata": {},
   "outputs": [
    {
     "name": "stdout",
     "output_type": "stream",
     "text": [
      "[3, 8, 9.8, 'Hello', (6+8j), True]\n"
     ]
    }
   ],
   "source": [
    "print(my_list)"
   ]
  },
  {
   "cell_type": "code",
   "execution_count": 35,
   "id": "85d5a8bf",
   "metadata": {},
   "outputs": [
    {
     "data": {
      "text/plain": [
       "9.8"
      ]
     },
     "execution_count": 35,
     "metadata": {},
     "output_type": "execute_result"
    }
   ],
   "source": [
    "my_list[2]"
   ]
  },
  {
   "cell_type": "code",
   "execution_count": 36,
   "id": "516e4d4a",
   "metadata": {},
   "outputs": [
    {
     "data": {
      "text/plain": [
       "True"
      ]
     },
     "execution_count": 36,
     "metadata": {},
     "output_type": "execute_result"
    }
   ],
   "source": [
    "my_list[-1]"
   ]
  },
  {
   "cell_type": "code",
   "execution_count": 37,
   "id": "14087050",
   "metadata": {},
   "outputs": [
    {
     "data": {
      "text/plain": [
       "'Hello'"
      ]
     },
     "execution_count": 37,
     "metadata": {},
     "output_type": "execute_result"
    }
   ],
   "source": [
    "my_list[-3]"
   ]
  },
  {
   "cell_type": "code",
   "execution_count": 38,
   "id": "06b1cdec",
   "metadata": {},
   "outputs": [
    {
     "name": "stdout",
     "output_type": "stream",
     "text": [
      "[['Amrit', 'amrit@xyz.com'], ['Harman', 'harman@xyz.com']]\n"
     ]
    }
   ],
   "source": [
    "personal_info_list = [[\"Amrit\", \"amrit@xyz.com\"], [\"Harman\",\"harman@xyz.com\"]]\n",
    "\n",
    "print(personal_info_list)"
   ]
  },
  {
   "cell_type": "code",
   "execution_count": 39,
   "id": "3a85af8a",
   "metadata": {},
   "outputs": [
    {
     "data": {
      "text/plain": [
       "'amrit@xyz.com'"
      ]
     },
     "execution_count": 39,
     "metadata": {},
     "output_type": "execute_result"
    }
   ],
   "source": [
    "personal_info_list[0][1]"
   ]
  },
  {
   "cell_type": "code",
   "execution_count": 88,
   "id": "cfba5924",
   "metadata": {},
   "outputs": [],
   "source": [
    "combined_list = [[\"Abc\", 23], [3,5,6], [\"Amrit\", \"Harman\"]]"
   ]
  },
  {
   "cell_type": "code",
   "execution_count": 89,
   "id": "927e23fb",
   "metadata": {},
   "outputs": [
    {
     "name": "stdout",
     "output_type": "stream",
     "text": [
      "[['Amrit', 'Harman'], [3, 5, 6], ['Abc', 23]]\n"
     ]
    }
   ],
   "source": [
    "print(combined_list[::-1])"
   ]
  },
  {
   "cell_type": "code",
   "execution_count": 92,
   "id": "a12469f3",
   "metadata": {},
   "outputs": [
    {
     "name": "stdout",
     "output_type": "stream",
     "text": [
      "[['Abc', 23], [3, 5, 6], ['Amrit', 'Harman']]\n"
     ]
    }
   ],
   "source": [
    "print(combined_list[:])"
   ]
  },
  {
   "cell_type": "code",
   "execution_count": 94,
   "id": "e8e5372d",
   "metadata": {},
   "outputs": [
    {
     "name": "stdout",
     "output_type": "stream",
     "text": [
      "[['Abc', 23], [3, 5, 6], ['Amrit', 'Harman']]\n"
     ]
    }
   ],
   "source": [
    "print(combined_list[::])"
   ]
  },
  {
   "cell_type": "code",
   "execution_count": 97,
   "id": "7613f3b2",
   "metadata": {},
   "outputs": [
    {
     "name": "stdout",
     "output_type": "stream",
     "text": [
      "6\n"
     ]
    }
   ],
   "source": [
    "print(combined_list[1][2])"
   ]
  },
  {
   "cell_type": "code",
   "execution_count": 98,
   "id": "68d6d045",
   "metadata": {},
   "outputs": [
    {
     "name": "stdout",
     "output_type": "stream",
     "text": [
      "[['Abc', 23], [3, 5, 10], ['Amrit', 'Harman']]\n"
     ]
    }
   ],
   "source": [
    "# lists are mutable but string is not mutable\n",
    "\n",
    "combined_list[1][2] = 10\n",
    "print(combined_list)"
   ]
  },
  {
   "cell_type": "code",
   "execution_count": 100,
   "id": "88e4f9db",
   "metadata": {},
   "outputs": [
    {
     "ename": "TypeError",
     "evalue": "'str' object does not support item assignment",
     "output_type": "error",
     "traceback": [
      "\u001b[1;31m---------------------------------------------------------------------------\u001b[0m",
      "\u001b[1;31mTypeError\u001b[0m                                 Traceback (most recent call last)",
      "\u001b[1;32m~\\AppData\\Local\\Temp/ipykernel_13548/643065260.py\u001b[0m in \u001b[0;36m<module>\u001b[1;34m\u001b[0m\n\u001b[0;32m      1\u001b[0m \u001b[0mtest_str\u001b[0m \u001b[1;33m=\u001b[0m \u001b[1;34m\"Amrit\"\u001b[0m\u001b[1;33m\u001b[0m\u001b[1;33m\u001b[0m\u001b[0m\n\u001b[1;32m----> 2\u001b[1;33m \u001b[0mtest_str\u001b[0m\u001b[1;33m[\u001b[0m\u001b[1;36m0\u001b[0m\u001b[1;33m]\u001b[0m\u001b[1;33m=\u001b[0m \u001b[1;34m'Z'\u001b[0m\u001b[1;33m\u001b[0m\u001b[1;33m\u001b[0m\u001b[0m\n\u001b[0m\u001b[0;32m      3\u001b[0m \u001b[0mprint\u001b[0m\u001b[1;33m(\u001b[0m\u001b[0mtest_str\u001b[0m\u001b[1;33m)\u001b[0m\u001b[1;33m\u001b[0m\u001b[1;33m\u001b[0m\u001b[0m\n",
      "\u001b[1;31mTypeError\u001b[0m: 'str' object does not support item assignment"
     ]
    }
   ],
   "source": [
    "test_str = \"Amrit\"\n",
    "test_str[0]= 'Z'\n",
    "print(test_str) # Thus String is immutable"
   ]
  },
  {
   "cell_type": "code",
   "execution_count": 101,
   "id": "9cf44abe",
   "metadata": {},
   "outputs": [
    {
     "name": "stdout",
     "output_type": "stream",
     "text": [
      "[[3, 5, 10], ['Amrit', 'Harman']]\n"
     ]
    }
   ],
   "source": [
    "# we can delete objects of the list\n",
    "\n",
    "del combined_list[0:1]\n",
    "print(combined_list)"
   ]
  },
  {
   "cell_type": "code",
   "execution_count": 102,
   "id": "7893af2d",
   "metadata": {},
   "outputs": [
    {
     "data": {
      "text/plain": [
       "2"
      ]
     },
     "execution_count": 102,
     "metadata": {},
     "output_type": "execute_result"
    }
   ],
   "source": [
    "len (combined_list) # provides the length of the list"
   ]
  },
  {
   "cell_type": "code",
   "execution_count": 103,
   "id": "85f86c0f",
   "metadata": {},
   "outputs": [
    {
     "name": "stdout",
     "output_type": "stream",
     "text": [
      "[1, 4, 7, 9, 'hello', 'bye', 'go back']\n"
     ]
    }
   ],
   "source": [
    "list_01 = [1,4,7,9]\n",
    "list_02 = [\"hello\", \"bye\", \"go back\"]\n",
    "print (list_01 + list_02)"
   ]
  },
  {
   "cell_type": "code",
   "execution_count": 104,
   "id": "cb11a3e7",
   "metadata": {},
   "outputs": [
    {
     "name": "stdout",
     "output_type": "stream",
     "text": [
      "[1, 4, 7, 9, 1, 4, 7, 9, 1, 4, 7, 9, 1, 4, 7, 9, 1, 4, 7, 9]\n"
     ]
    }
   ],
   "source": [
    "print(list_01 * 5)"
   ]
  },
  {
   "cell_type": "code",
   "execution_count": 105,
   "id": "2982c568",
   "metadata": {},
   "outputs": [
    {
     "name": "stdout",
     "output_type": "stream",
     "text": [
      "False\n"
     ]
    }
   ],
   "source": [
    "test_data = 5\n",
    "\n",
    "print (test_data in list_01)"
   ]
  },
  {
   "cell_type": "code",
   "execution_count": 108,
   "id": "8676b038",
   "metadata": {},
   "outputs": [
    {
     "name": "stdout",
     "output_type": "stream",
     "text": [
      "[1, 4, 7, 9, ['hello', 'bye', 'go back']]\n"
     ]
    }
   ],
   "source": [
    "# append ()\n",
    "list_01 = [1,4,7,9]\n",
    "list_01.append(list_02)\n",
    "print (list_01)"
   ]
  },
  {
   "cell_type": "code",
   "execution_count": 109,
   "id": "e582a571",
   "metadata": {},
   "outputs": [
    {
     "name": "stdout",
     "output_type": "stream",
     "text": [
      "[1, 4, 7, 9, 'hello', 'bye', 'go back']\n"
     ]
    }
   ],
   "source": [
    "list_01 = [1,4,7,9]\n",
    "list_01.extend(list_02)\n",
    "print (list_01)"
   ]
  },
  {
   "cell_type": "code",
   "execution_count": 111,
   "id": "fb7f2a82",
   "metadata": {},
   "outputs": [
    {
     "name": "stdout",
     "output_type": "stream",
     "text": [
      "[1, 3, 5, 7, 9, 11, 13, 15, 17, 19, 21, 23, 25, 27, 29, 31, 33, 35, 37, 39, 41, 43, 45, 47, 49, 51, 53, 55, 57, 59, 61, 63, 65, 67, 69, 71, 73, 75, 77, 79, 81, 83, 85, 87, 89, 91, 93, 95, 97, 99]\n"
     ]
    }
   ],
   "source": [
    "# range()\n",
    "\n",
    "seq_data = list(range(1,100,2))\n",
    "print(seq_data)"
   ]
  },
  {
   "cell_type": "code",
   "execution_count": 112,
   "id": "340866ef",
   "metadata": {},
   "outputs": [
    {
     "name": "stdout",
     "output_type": "stream",
     "text": [
      "[-20, -17, -14, -11, -8, -5, -2]\n"
     ]
    }
   ],
   "source": [
    "seq_data = list(range(-20,1,3))\n",
    "print(seq_data)"
   ]
  },
  {
   "cell_type": "code",
   "execution_count": 119,
   "id": "d7b8f00b",
   "metadata": {},
   "outputs": [
    {
     "name": "stdout",
     "output_type": "stream",
     "text": [
      "87 is not a prime number\n",
      "3 times 29 is 87\n"
     ]
    }
   ],
   "source": [
    "# calulate all the prime number between 1 to 100\n",
    "num = 87\n",
    "if num > 1:\n",
    "    for i in range(2,num):\n",
    "        if (num%i )==0:\n",
    "            print (num, \"is not a prime number\")\n",
    "            print (i , \"times\", num//i, \"is\", num)\n",
    "            break\n",
    "    else:\n",
    "        print (num,\"is prime number\")\n",
    "else:\n",
    "    print(num,\"is not a legal number\")\n",
    "        "
   ]
  },
  {
   "cell_type": "code",
   "execution_count": null,
   "id": "0f3e5765",
   "metadata": {},
   "outputs": [],
   "source": [
    "prime_num_list =[]\n",
    "\n",
    "for num in range (2,101):\n",
    "    for i in range(2,num):\n",
    "        "
   ]
  },
  {
   "cell_type": "code",
   "execution_count": null,
   "id": "764c335c",
   "metadata": {},
   "outputs": [],
   "source": [
    "# calulate fibonacchi numbers between 1 to 100"
   ]
  },
  {
   "cell_type": "code",
   "execution_count": 120,
   "id": "855927bc",
   "metadata": {},
   "outputs": [
    {
     "name": "stdout",
     "output_type": "stream",
     "text": [
      "<class 'tuple'>\n"
     ]
    }
   ],
   "source": [
    "# Tuples\n",
    "# Is a sequence type immutable python object. Tuple are sequences same as list\n",
    "\n",
    "my_data_tuple = (1,2,4,5,6)\n",
    "print (type(my_data_tuple))"
   ]
  },
  {
   "cell_type": "code",
   "execution_count": 121,
   "id": "8dcd8053",
   "metadata": {},
   "outputs": [
    {
     "name": "stdout",
     "output_type": "stream",
     "text": [
      "(1, 4, 6, 9, [5, 6, 7], 'Hii', False)\n"
     ]
    }
   ],
   "source": [
    "complex_tuple = (1, 4, 6, 9, [5,6,7], \"Hii\", False)\n",
    "print(complex_tuple)"
   ]
  },
  {
   "cell_type": "code",
   "execution_count": 122,
   "id": "86a995bf",
   "metadata": {},
   "outputs": [
    {
     "data": {
      "text/plain": [
       "[5, 6, 7]"
      ]
     },
     "execution_count": 122,
     "metadata": {},
     "output_type": "execute_result"
    }
   ],
   "source": [
    "complex_tuple[4]"
   ]
  },
  {
   "cell_type": "code",
   "execution_count": 123,
   "id": "612ba6f8",
   "metadata": {},
   "outputs": [
    {
     "ename": "TypeError",
     "evalue": "'tuple' object does not support item assignment",
     "output_type": "error",
     "traceback": [
      "\u001b[1;31m---------------------------------------------------------------------------\u001b[0m",
      "\u001b[1;31mTypeError\u001b[0m                                 Traceback (most recent call last)",
      "\u001b[1;32m~\\AppData\\Local\\Temp/ipykernel_13548/1764288110.py\u001b[0m in \u001b[0;36m<module>\u001b[1;34m\u001b[0m\n\u001b[1;32m----> 1\u001b[1;33m \u001b[0mcomplex_tuple\u001b[0m\u001b[1;33m[\u001b[0m\u001b[1;36m5\u001b[0m\u001b[1;33m]\u001b[0m \u001b[1;33m=\u001b[0m \u001b[1;34m\"Going\"\u001b[0m\u001b[1;33m\u001b[0m\u001b[1;33m\u001b[0m\u001b[0m\n\u001b[0m",
      "\u001b[1;31mTypeError\u001b[0m: 'tuple' object does not support item assignment"
     ]
    }
   ],
   "source": [
    "complex_tuple[5] = \"Going\""
   ]
  },
  {
   "cell_type": "code",
   "execution_count": 124,
   "id": "e4f4d465",
   "metadata": {},
   "outputs": [
    {
     "name": "stdout",
     "output_type": "stream",
     "text": [
      "(1, 4, 6, 9, [5, 100, 7], 'Hii', False)\n"
     ]
    }
   ],
   "source": [
    "complex_tuple[4][1] = 100\n",
    "print(complex_tuple)"
   ]
  },
  {
   "cell_type": "code",
   "execution_count": null,
   "id": "490c1bb0",
   "metadata": {},
   "outputs": [],
   "source": [
    "# Tuple vs List\n",
    "\n",
    "# Tuple are fixed size in nature whereas lists are dynamic\n",
    "# Tuple are faster to implement. Plus they can safeguard data as they are write-protect\n",
    "\n",
    "'''\n",
    "1. You cann't add new elements in Tuple\n",
    "2. You cann't remove elements from the tuple\n",
    "'''\n"
   ]
  },
  {
   "cell_type": "code",
   "execution_count": 125,
   "id": "c0e3d98d",
   "metadata": {},
   "outputs": [],
   "source": [
    "# Dictionary \n",
    "\n",
    "# Dictionary in Python is an unordered collection of data. \n",
    "\n",
    "IPL_team_map = {\"CSK\":\"Ravindra Jadeja\", \"MI\":\"Rohit Sharma\", \"DC\":\"Rishabh Pant\", \"RCB\":\"Faf Du Plessis\"}\n",
    "\n",
    "# {key:value}"
   ]
  },
  {
   "cell_type": "code",
   "execution_count": 126,
   "id": "a9f5bb0e",
   "metadata": {},
   "outputs": [
    {
     "name": "stdout",
     "output_type": "stream",
     "text": [
      "<class 'dict'>\n"
     ]
    }
   ],
   "source": [
    "print(type(IPL_team_map))"
   ]
  },
  {
   "cell_type": "code",
   "execution_count": 127,
   "id": "5365de1c",
   "metadata": {},
   "outputs": [
    {
     "name": "stdout",
     "output_type": "stream",
     "text": [
      "{'CSK': 'Ravindra Jadeja', 'MI': 'Rohit Sharma', 'DC': 'Rishabh Pant', 'RCB': 'Faf Du Plessis'}\n"
     ]
    }
   ],
   "source": [
    "print(IPL_team_map)"
   ]
  },
  {
   "cell_type": "code",
   "execution_count": 128,
   "id": "31a28d53",
   "metadata": {},
   "outputs": [
    {
     "ename": "KeyError",
     "evalue": "1",
     "output_type": "error",
     "traceback": [
      "\u001b[1;31m---------------------------------------------------------------------------\u001b[0m",
      "\u001b[1;31mKeyError\u001b[0m                                  Traceback (most recent call last)",
      "\u001b[1;32m~\\AppData\\Local\\Temp/ipykernel_13548/1546322198.py\u001b[0m in \u001b[0;36m<module>\u001b[1;34m\u001b[0m\n\u001b[1;32m----> 1\u001b[1;33m \u001b[0mprint\u001b[0m\u001b[1;33m(\u001b[0m\u001b[0mIPL_team_map\u001b[0m\u001b[1;33m[\u001b[0m\u001b[1;36m1\u001b[0m\u001b[1;33m]\u001b[0m\u001b[1;33m)\u001b[0m\u001b[1;33m\u001b[0m\u001b[1;33m\u001b[0m\u001b[0m\n\u001b[0m",
      "\u001b[1;31mKeyError\u001b[0m: 1"
     ]
    }
   ],
   "source": [
    "print(IPL_team_map[1])"
   ]
  },
  {
   "cell_type": "code",
   "execution_count": 129,
   "id": "3a92bd1a",
   "metadata": {},
   "outputs": [
    {
     "name": "stdout",
     "output_type": "stream",
     "text": [
      "Ravindra Jadeja\n"
     ]
    }
   ],
   "source": [
    "print(IPL_team_map[\"CSK\"]) # the element access is through keys. Keys have to be unique"
   ]
  },
  {
   "cell_type": "code",
   "execution_count": 130,
   "id": "0ae06c6f",
   "metadata": {},
   "outputs": [
    {
     "ename": "KeyError",
     "evalue": "'KKR'",
     "output_type": "error",
     "traceback": [
      "\u001b[1;31m---------------------------------------------------------------------------\u001b[0m",
      "\u001b[1;31mKeyError\u001b[0m                                  Traceback (most recent call last)",
      "\u001b[1;32m~\\AppData\\Local\\Temp/ipykernel_13548/1332603728.py\u001b[0m in \u001b[0;36m<module>\u001b[1;34m\u001b[0m\n\u001b[1;32m----> 1\u001b[1;33m \u001b[0mprint\u001b[0m\u001b[1;33m(\u001b[0m\u001b[0mIPL_team_map\u001b[0m\u001b[1;33m[\u001b[0m\u001b[1;34m\"KKR\"\u001b[0m\u001b[1;33m]\u001b[0m\u001b[1;33m)\u001b[0m\u001b[1;33m\u001b[0m\u001b[1;33m\u001b[0m\u001b[0m\n\u001b[0m",
      "\u001b[1;31mKeyError\u001b[0m: 'KKR'"
     ]
    }
   ],
   "source": [
    "print(IPL_team_map[\"KKR\"])"
   ]
  },
  {
   "cell_type": "code",
   "execution_count": 131,
   "id": "6c56080f",
   "metadata": {},
   "outputs": [],
   "source": [
    "complex_dict = {\"Name\":{1:'Amrit', 2:\"Harman\"}, \"Age\":{1:'23', 2:\"36\"} }"
   ]
  },
  {
   "cell_type": "code",
   "execution_count": 132,
   "id": "6bb99f7a",
   "metadata": {},
   "outputs": [
    {
     "data": {
      "text/plain": [
       "'Harman'"
      ]
     },
     "execution_count": 132,
     "metadata": {},
     "output_type": "execute_result"
    }
   ],
   "source": [
    "complex_dict[\"Name\"][2]"
   ]
  },
  {
   "cell_type": "code",
   "execution_count": 133,
   "id": "9951a4bf",
   "metadata": {},
   "outputs": [
    {
     "data": {
      "text/plain": [
       "'23'"
      ]
     },
     "execution_count": 133,
     "metadata": {},
     "output_type": "execute_result"
    }
   ],
   "source": [
    "complex_dict[\"Age\"][1]"
   ]
  },
  {
   "cell_type": "code",
   "execution_count": 134,
   "id": "59d6631f",
   "metadata": {},
   "outputs": [
    {
     "name": "stdout",
     "output_type": "stream",
     "text": [
      "{0: 'Chrome', 2: 'Firefox', 5: 'Brave', 6: 'Edge'}\n"
     ]
    }
   ],
   "source": [
    "dict_start = {}\n",
    "dict_start[0]=\"Chrome\"\n",
    "dict_start[2]= \"Firefox\"\n",
    "dict_start[5]= \"Brave\"\n",
    "dict_start[6]= \"Edge\"\n",
    "\n",
    "print(dict_start)"
   ]
  },
  {
   "cell_type": "code",
   "execution_count": 135,
   "id": "6a013e96",
   "metadata": {},
   "outputs": [
    {
     "name": "stdout",
     "output_type": "stream",
     "text": [
      "{0: 'Chrome', 2: 'Firefox', 5: 'Brave', 6: 'Edge', 'value_list': [3, 5, 6, 7]}\n"
     ]
    }
   ],
   "source": [
    "dict_start[\"value_list\"]=[3,5,6,7]\n",
    "\n",
    "print(dict_start)"
   ]
  },
  {
   "cell_type": "code",
   "execution_count": 136,
   "id": "d123249b",
   "metadata": {},
   "outputs": [
    {
     "name": "stdout",
     "output_type": "stream",
     "text": [
      "{0: 'Safari', 2: 'Firefox', 5: 'Brave', 6: 'Edge', 'value_list': [3, 5, 6, 7]}\n"
     ]
    }
   ],
   "source": [
    "dict_start[0]= \"Safari\"\n",
    "print(dict_start)"
   ]
  },
  {
   "cell_type": "code",
   "execution_count": 137,
   "id": "372f037a",
   "metadata": {},
   "outputs": [
    {
     "data": {
      "text/plain": [
       "'Edge'"
      ]
     },
     "execution_count": 137,
     "metadata": {},
     "output_type": "execute_result"
    }
   ],
   "source": [
    "# access elements using get()\n",
    "\n",
    "dict_start.get(6)"
   ]
  },
  {
   "cell_type": "code",
   "execution_count": 139,
   "id": "0e19e7e2",
   "metadata": {},
   "outputs": [
    {
     "name": "stdout",
     "output_type": "stream",
     "text": [
      "<class 'list'>\n",
      "[0, 2, 5, 6, 'value_list']\n"
     ]
    }
   ],
   "source": [
    "keys = list(dict_start.keys())\n",
    "print(type(keys))\n",
    "print(keys)"
   ]
  },
  {
   "cell_type": "code",
   "execution_count": 140,
   "id": "2bffb913",
   "metadata": {},
   "outputs": [
    {
     "name": "stdout",
     "output_type": "stream",
     "text": [
      "<class 'list'>\n",
      "['Safari', 'Firefox', 'Brave', 'Edge', [3, 5, 6, 7]]\n"
     ]
    }
   ],
   "source": [
    "values = list(dict_start.values())\n",
    "print(type(values))\n",
    "print(values)"
   ]
  },
  {
   "cell_type": "code",
   "execution_count": 141,
   "id": "f643c1d6",
   "metadata": {},
   "outputs": [
    {
     "name": "stdout",
     "output_type": "stream",
     "text": [
      "Safari\n",
      "Firefox\n",
      "Brave\n",
      "Edge\n",
      "[3, 5, 6, 7]\n"
     ]
    }
   ],
   "source": [
    "for element in list(dict_start.values()):\n",
    "    print(element)"
   ]
  },
  {
   "cell_type": "code",
   "execution_count": 143,
   "id": "9e3ea967",
   "metadata": {},
   "outputs": [
    {
     "data": {
      "text/plain": [
       "6"
      ]
     },
     "execution_count": 143,
     "metadata": {},
     "output_type": "execute_result"
    }
   ],
   "source": [
    "dict_start['value_list'][2]"
   ]
  },
  {
   "cell_type": "code",
   "execution_count": 144,
   "id": "62c4b4dd",
   "metadata": {},
   "outputs": [
    {
     "name": "stdout",
     "output_type": "stream",
     "text": [
      "{0: 'Safari', 2: 'Firefox', 5: 'Brave', 6: 'Edge'}\n"
     ]
    }
   ],
   "source": [
    "# deleting a key\n",
    "\n",
    "del dict_start['value_list']\n",
    "print (dict_start)"
   ]
  },
  {
   "cell_type": "code",
   "execution_count": 145,
   "id": "d6c21364",
   "metadata": {},
   "outputs": [
    {
     "name": "stdout",
     "output_type": "stream",
     "text": [
      "{}\n"
     ]
    }
   ],
   "source": [
    "# clearing out the whole dictionary\n",
    "\n",
    "dict_start.clear()\n",
    "\n",
    "print (dict_start)"
   ]
  },
  {
   "cell_type": "code",
   "execution_count": null,
   "id": "638bfa14",
   "metadata": {},
   "outputs": [],
   "source": [
    "# username and password \n",
    "# Unstructured data could be stored in form of dictionary"
   ]
  },
  {
   "cell_type": "code",
   "execution_count": 146,
   "id": "bd342dfe",
   "metadata": {},
   "outputs": [
    {
     "name": "stdout",
     "output_type": "stream",
     "text": [
      "{'gone', 'hi', 'bye'}\n"
     ]
    }
   ],
   "source": [
    "# Set\n",
    "\n",
    "# A set is a unordered, unindexed, unchangeable collection of objects\n",
    "\n",
    "# set doesn't allow duplication of objects\n",
    "\n",
    "this_set = {\"hi\", \"bye\", \"gone\"}\n",
    "\n",
    "print(this_set)"
   ]
  },
  {
   "cell_type": "code",
   "execution_count": 147,
   "id": "ad0bcc71",
   "metadata": {},
   "outputs": [
    {
     "data": {
      "text/plain": [
       "3"
      ]
     },
     "execution_count": 147,
     "metadata": {},
     "output_type": "execute_result"
    }
   ],
   "source": [
    "len (this_set)"
   ]
  },
  {
   "cell_type": "code",
   "execution_count": 148,
   "id": "736ce6e5",
   "metadata": {},
   "outputs": [
    {
     "name": "stdout",
     "output_type": "stream",
     "text": [
      "{2, 4, 6, 8, 9}\n"
     ]
    }
   ],
   "source": [
    "new_set = {4,6,2,9, 6,8,2}\n",
    "print(new_set)"
   ]
  }
 ],
 "metadata": {
  "kernelspec": {
   "display_name": "Python 3 (ipykernel)",
   "language": "python",
   "name": "python3"
  },
  "language_info": {
   "codemirror_mode": {
    "name": "ipython",
    "version": 3
   },
   "file_extension": ".py",
   "mimetype": "text/x-python",
   "name": "python",
   "nbconvert_exporter": "python",
   "pygments_lexer": "ipython3",
   "version": "3.9.7"
  }
 },
 "nbformat": 4,
 "nbformat_minor": 5
}
