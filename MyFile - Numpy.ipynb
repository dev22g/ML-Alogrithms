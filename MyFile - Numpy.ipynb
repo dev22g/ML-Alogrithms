{
 "cells": [
  {
   "cell_type": "code",
   "execution_count": 1,
   "id": "abc9ca85",
   "metadata": {},
   "outputs": [],
   "source": [
    "import numpy as np"
   ]
  },
  {
   "cell_type": "code",
   "execution_count": 32,
   "id": "72519ab4",
   "metadata": {},
   "outputs": [
    {
     "data": {
      "text/plain": [
       "array([[0.52768862, 0.63339978, 0.67312028],\n",
       "       [0.35678879, 0.15282685, 0.07788761]])"
      ]
     },
     "execution_count": 32,
     "metadata": {},
     "output_type": "execute_result"
    }
   ],
   "source": [
    "arr = np.random.rand(2,3)\n",
    "arr"
   ]
  },
  {
   "cell_type": "code",
   "execution_count": 33,
   "id": "e7a52ce2",
   "metadata": {},
   "outputs": [
    {
     "data": {
      "text/plain": [
       "array([[-0.6392489 , -0.4566535 , -0.39583124],\n",
       "       [-1.03061128, -1.8784497 , -2.55248836]])"
      ]
     },
     "execution_count": 33,
     "metadata": {},
     "output_type": "execute_result"
    }
   ],
   "source": [
    "np.log(arr) # log base 10"
   ]
  },
  {
   "cell_type": "code",
   "execution_count": 34,
   "id": "d0b6184e",
   "metadata": {},
   "outputs": [
    {
     "data": {
      "text/plain": [
       "array([[-0.92224122, -0.65881173, -0.57106377],\n",
       "       [-1.48685779, -2.71003007, -3.68246229]])"
      ]
     },
     "execution_count": 34,
     "metadata": {},
     "output_type": "execute_result"
    }
   ],
   "source": [
    "np.log2(arr) # # log base 2"
   ]
  },
  {
   "cell_type": "code",
   "execution_count": 35,
   "id": "74534ff0",
   "metadata": {},
   "outputs": [
    {
     "data": {
      "text/plain": [
       "array([0.52768862, 1.1610884 , 1.83420868, 2.19099748, 2.34382433,\n",
       "       2.42171194])"
      ]
     },
     "execution_count": 35,
     "metadata": {},
     "output_type": "execute_result"
    }
   ],
   "source": [
    "np.cumsum(arr)"
   ]
  },
  {
   "cell_type": "code",
   "execution_count": 36,
   "id": "9ad34236",
   "metadata": {},
   "outputs": [
    {
     "data": {
      "text/plain": [
       "array([0.88447742, 0.78622663, 0.75100789])"
      ]
     },
     "execution_count": 36,
     "metadata": {},
     "output_type": "execute_result"
    }
   ],
   "source": [
    "np.sum(arr, axis=0)"
   ]
  },
  {
   "cell_type": "code",
   "execution_count": 37,
   "id": "7c1159f8",
   "metadata": {},
   "outputs": [
    {
     "data": {
      "text/plain": [
       "array([1.83420868, 0.58750326])"
      ]
     },
     "execution_count": 37,
     "metadata": {},
     "output_type": "execute_result"
    }
   ],
   "source": [
    "np.sum(arr, axis=1)"
   ]
  },
  {
   "cell_type": "code",
   "execution_count": 21,
   "id": "ca0c88bb",
   "metadata": {},
   "outputs": [
    {
     "data": {
      "text/plain": [
       "array([25, 29, 24, 20, 73, 55, 64, 19, 88, 40, 42, 12, 39, 25, 80, 62, 95,\n",
       "       81, 77, 28])"
      ]
     },
     "execution_count": 21,
     "metadata": {},
     "output_type": "execute_result"
    }
   ],
   "source": [
    "arr = np.random.randint(0,100,20)\n",
    "arr"
   ]
  },
  {
   "cell_type": "code",
   "execution_count": 22,
   "id": "91926764",
   "metadata": {},
   "outputs": [
    {
     "data": {
      "text/plain": [
       "array([55, 64, 19, 88, 40])"
      ]
     },
     "execution_count": 22,
     "metadata": {},
     "output_type": "execute_result"
    }
   ],
   "source": [
    "arr[5:10]"
   ]
  },
  {
   "cell_type": "code",
   "execution_count": 23,
   "id": "d6bada87",
   "metadata": {},
   "outputs": [
    {
     "data": {
      "text/plain": [
       "array([24, 73, 64, 88, 42, 39, 80, 95, 77])"
      ]
     },
     "execution_count": 23,
     "metadata": {},
     "output_type": "execute_result"
    }
   ],
   "source": [
    "arr[2:20:2]"
   ]
  },
  {
   "cell_type": "code",
   "execution_count": 24,
   "id": "f19e097e",
   "metadata": {},
   "outputs": [
    {
     "data": {
      "text/plain": [
       "array([95, 80, 39, 42, 88, 64, 73])"
      ]
     },
     "execution_count": 24,
     "metadata": {},
     "output_type": "execute_result"
    }
   ],
   "source": [
    "arr[-4:-18:-2]"
   ]
  },
  {
   "cell_type": "code",
   "execution_count": 25,
   "id": "a061ac4b",
   "metadata": {},
   "outputs": [
    {
     "data": {
      "text/plain": [
       "array([28, 77, 81, 95, 62, 80, 25, 39, 12, 42, 40, 88, 19, 64, 55, 73, 20,\n",
       "       24, 29, 25])"
      ]
     },
     "execution_count": 25,
     "metadata": {},
     "output_type": "execute_result"
    }
   ],
   "source": [
    "arr[::-1]"
   ]
  },
  {
   "cell_type": "code",
   "execution_count": 30,
   "id": "b92ab1b8",
   "metadata": {},
   "outputs": [
    {
     "data": {
      "text/plain": [
       "array([], dtype=int32)"
      ]
     },
     "execution_count": 30,
     "metadata": {},
     "output_type": "execute_result"
    }
   ],
   "source": [
    "arr[4:-1:-1]"
   ]
  },
  {
   "cell_type": "code",
   "execution_count": 38,
   "id": "f87f8cd9",
   "metadata": {},
   "outputs": [
    {
     "data": {
      "text/plain": [
       "3.141592653589793"
      ]
     },
     "execution_count": 38,
     "metadata": {},
     "output_type": "execute_result"
    }
   ],
   "source": [
    "np.pi"
   ]
  },
  {
   "cell_type": "code",
   "execution_count": 39,
   "id": "759fbb6e",
   "metadata": {},
   "outputs": [
    {
     "data": {
      "text/plain": [
       "2.718281828459045"
      ]
     },
     "execution_count": 39,
     "metadata": {},
     "output_type": "execute_result"
    }
   ],
   "source": [
    "np.e\n"
   ]
  },
  {
   "cell_type": "code",
   "execution_count": 40,
   "id": "67bd7e1a",
   "metadata": {},
   "outputs": [
    {
     "name": "stdout",
     "output_type": "stream",
     "text": [
      "[[1 1]\n",
      " [0 1]]\n",
      "[[2 0]\n",
      " [3 4]]\n"
     ]
    }
   ],
   "source": [
    "#matrix\n",
    "\n",
    "A= np.array([[1,1],[0,1]])\n",
    "B= np.array([[2,0],[3,4]])\n",
    "\n",
    "print(A)\n",
    "print(B)"
   ]
  },
  {
   "cell_type": "code",
   "execution_count": 41,
   "id": "301e42b5",
   "metadata": {},
   "outputs": [
    {
     "name": "stdout",
     "output_type": "stream",
     "text": [
      "Elementwise\n",
      "[[2 0]\n",
      " [0 4]]\n",
      "matrix product\n",
      "[[5 4]\n",
      " [3 4]]\n",
      "[[5 4]\n",
      " [3 4]]\n"
     ]
    }
   ],
   "source": [
    "#elementwise matrix multiplication. Hamadard product\n",
    "\n",
    "print(\"Elementwise\")\n",
    "print(A*B)\n",
    "\n",
    "#matrix multiplication\n",
    "\n",
    "print (\"matrix product\")\n",
    "print(A@B)\n",
    "\n",
    "#alternatively\n",
    "\n",
    "print(A.dot(B))"
   ]
  },
  {
   "cell_type": "code",
   "execution_count": 53,
   "id": "fc38e93f",
   "metadata": {},
   "outputs": [
    {
     "name": "stdout",
     "output_type": "stream",
     "text": [
      "[[ 3 19 12]\n",
      " [19 12 17]]\n",
      "[[ 9 10  6]\n",
      " [ 2  7 18]]\n",
      "[[1. 1. 1.]\n",
      " [1. 1. 1.]\n",
      " [1. 1. 1.]]\n",
      "[[43. 44. 40.]\n",
      " [50. 55. 66.]]\n"
     ]
    }
   ],
   "source": [
    "# write prog to implement Y=AX+C in numpy\n",
    "\n",
    "A = np.random.randint(1,20,(2,3))\n",
    "C = np.random.randint(1,20,(2,3))\n",
    "print(A)\n",
    "print(C)\n",
    "\n",
    "X= np.ones((3,3))\n",
    "print(X)\n",
    "\n",
    "Y= ((A@X) + C ) \n",
    "print(Y)"
   ]
  },
  {
   "cell_type": "code",
   "execution_count": 54,
   "id": "2526e703",
   "metadata": {},
   "outputs": [
    {
     "data": {
      "text/plain": [
       "array([[ 3, 19, 12],\n",
       "       [19, 12, 17]])"
      ]
     },
     "execution_count": 54,
     "metadata": {},
     "output_type": "execute_result"
    }
   ],
   "source": [
    "A.ravel() #converts to 1-d array\n",
    "A"
   ]
  },
  {
   "cell_type": "code",
   "execution_count": 57,
   "id": "fe2e5baa",
   "metadata": {},
   "outputs": [
    {
     "ename": "ValueError",
     "evalue": "cannot reshape array of size 6 into shape (5,2)",
     "output_type": "error",
     "traceback": [
      "\u001b[1;31m---------------------------------------------------------------------------\u001b[0m",
      "\u001b[1;31mValueError\u001b[0m                                Traceback (most recent call last)",
      "\u001b[1;32m~\\AppData\\Local\\Temp/ipykernel_11132/4175611877.py\u001b[0m in \u001b[0;36m<module>\u001b[1;34m\u001b[0m\n\u001b[1;32m----> 1\u001b[1;33m \u001b[0mA\u001b[0m\u001b[1;33m=\u001b[0m\u001b[0mA\u001b[0m\u001b[1;33m.\u001b[0m\u001b[0mreshape\u001b[0m\u001b[1;33m(\u001b[0m\u001b[1;36m5\u001b[0m\u001b[1;33m,\u001b[0m\u001b[1;36m2\u001b[0m\u001b[1;33m)\u001b[0m\u001b[1;33m\u001b[0m\u001b[1;33m\u001b[0m\u001b[0m\n\u001b[0m\u001b[0;32m      2\u001b[0m \u001b[0mA\u001b[0m\u001b[1;33m\u001b[0m\u001b[1;33m\u001b[0m\u001b[0m\n",
      "\u001b[1;31mValueError\u001b[0m: cannot reshape array of size 6 into shape (5,2)"
     ]
    }
   ],
   "source": [
    "A=A.reshape(5,2)\n",
    "A"
   ]
  },
  {
   "cell_type": "code",
   "execution_count": 56,
   "id": "7473b3b1",
   "metadata": {},
   "outputs": [
    {
     "data": {
      "text/plain": [
       "array([[ 3, 19],\n",
       "       [19, 12],\n",
       "       [12, 17]])"
      ]
     },
     "execution_count": 56,
     "metadata": {},
     "output_type": "execute_result"
    }
   ],
   "source": [
    "A.T  # transpose"
   ]
  },
  {
   "cell_type": "code",
   "execution_count": 58,
   "id": "fdb0e440",
   "metadata": {},
   "outputs": [
    {
     "data": {
      "text/plain": [
       "array([[3., 0., 5.],\n",
       "       [6., 9., 1.]])"
      ]
     },
     "execution_count": 58,
     "metadata": {},
     "output_type": "execute_result"
    }
   ],
   "source": [
    "#Stack different arrays together\n",
    "A= np.floor(10*np.random.random((2,3)))\n",
    "A"
   ]
  },
  {
   "cell_type": "code",
   "execution_count": 59,
   "id": "2163c45a",
   "metadata": {},
   "outputs": [
    {
     "data": {
      "text/plain": [
       "array([[3., 7., 8.],\n",
       "       [4., 1., 8.]])"
      ]
     },
     "execution_count": 59,
     "metadata": {},
     "output_type": "execute_result"
    }
   ],
   "source": [
    "B= np.ceil(10*np.random.random((2,3)))\n",
    "B"
   ]
  },
  {
   "cell_type": "code",
   "execution_count": 60,
   "id": "e667822d",
   "metadata": {},
   "outputs": [
    {
     "data": {
      "text/plain": [
       "array([[3., 0., 5.],\n",
       "       [6., 9., 1.],\n",
       "       [3., 7., 8.],\n",
       "       [4., 1., 8.]])"
      ]
     },
     "execution_count": 60,
     "metadata": {},
     "output_type": "execute_result"
    }
   ],
   "source": [
    "#vertical stacking - should have same number of columns\n",
    "np.vstack((A,B))"
   ]
  },
  {
   "cell_type": "code",
   "execution_count": 61,
   "id": "30fcbd77",
   "metadata": {},
   "outputs": [
    {
     "data": {
      "text/plain": [
       "array([[3., 0., 5., 3., 7., 8.],\n",
       "       [6., 9., 1., 4., 1., 8.]])"
      ]
     },
     "execution_count": 61,
     "metadata": {},
     "output_type": "execute_result"
    }
   ],
   "source": [
    "#horizontal stacking - should have same number of rows\n",
    "np.hstack((A,B))"
   ]
  },
  {
   "cell_type": "code",
   "execution_count": 62,
   "id": "438f850f",
   "metadata": {},
   "outputs": [
    {
     "data": {
      "text/plain": [
       "array([[ 5.,  8.,  1.,  2., 10.,  7.,  8.,  5.,  8.,  2.,  3.,  4.],\n",
       "       [ 3.,  6.,  8.,  3.,  8.,  7.,  4.,  3.,  7.,  7.,  2., 10.],\n",
       "       [ 3.,  2.,  8.,  3.,  7.,  9.,  4.,  1.,  1.,  9.,  6.,  6.]])"
      ]
     },
     "execution_count": 62,
     "metadata": {},
     "output_type": "execute_result"
    }
   ],
   "source": [
    "#splitting arrays\n",
    "a= np.ceil(10*np.random.random((3,12)))\n",
    "a\n"
   ]
  },
  {
   "cell_type": "code",
   "execution_count": 63,
   "id": "8df7fced",
   "metadata": {},
   "outputs": [
    {
     "data": {
      "text/plain": [
       "[array([[5., 8., 1., 2.],\n",
       "        [3., 6., 8., 3.],\n",
       "        [3., 2., 8., 3.]]),\n",
       " array([[10.,  7.,  8.,  5.],\n",
       "        [ 8.,  7.,  4.,  3.],\n",
       "        [ 7.,  9.,  4.,  1.]]),\n",
       " array([[ 8.,  2.,  3.,  4.],\n",
       "        [ 7.,  7.,  2., 10.],\n",
       "        [ 1.,  9.,  6.,  6.]])]"
      ]
     },
     "execution_count": 63,
     "metadata": {},
     "output_type": "execute_result"
    }
   ],
   "source": [
    "np.hsplit(a,3)"
   ]
  },
  {
   "cell_type": "code",
   "execution_count": 64,
   "id": "10656287",
   "metadata": {},
   "outputs": [
    {
     "data": {
      "text/plain": [
       "[array([[ 5.,  8.,  1.,  2., 10.,  7.,  8.,  5.,  8.,  2.,  3.,  4.]]),\n",
       " array([[ 3.,  6.,  8.,  3.,  8.,  7.,  4.,  3.,  7.,  7.,  2., 10.]]),\n",
       " array([[3., 2., 8., 3., 7., 9., 4., 1., 1., 9., 6., 6.]])]"
      ]
     },
     "execution_count": 64,
     "metadata": {},
     "output_type": "execute_result"
    }
   ],
   "source": [
    "np.vsplit(a,3)"
   ]
  },
  {
   "cell_type": "code",
   "execution_count": 75,
   "id": "4a684924",
   "metadata": {},
   "outputs": [
    {
     "name": "stdout",
     "output_type": "stream",
     "text": [
      "2.686295986175537 \t 0.04089164733886719\n",
      "Numpy in this example is: 65x faster\n"
     ]
    }
   ],
   "source": [
    "# numpy array is blazingly faster than python lists\n",
    "\n",
    "import math\n",
    "import time\n",
    "\n",
    "size_vector = 10000000\n",
    "\n",
    "def pure_python_version():\n",
    "    t1=time.time()\n",
    "    X = range(size_vector)\n",
    "    Y = range(size_vector)\n",
    "    Z = [X[i] * Y[i] for i in range(len(X))]\n",
    "    return time.time() - t1\n",
    "\n",
    "def numpy_version():\n",
    "    t1 = time.time()\n",
    "    X = np.arange(size_vector)\n",
    "    Y = np.arange(size_vector)\n",
    "    Z = X*Y\n",
    "    return time.time() -t1\n",
    "\n",
    "t1 = pure_python_version()\n",
    "t2 = numpy_version()\n",
    "\n",
    "print(t1, \"\\t\", t2)\n",
    "print (\"Numpy in this example is: \" + str(math.floor(t1/t2)) + \"x faster\")"
   ]
  },
  {
   "cell_type": "code",
   "execution_count": 3,
   "id": "8d805e29",
   "metadata": {},
   "outputs": [],
   "source": [
    "import numpy as np"
   ]
  },
  {
   "cell_type": "markdown",
   "id": "3876817d",
   "metadata": {},
   "source": [
    "# 1. find the most frequent number in numpy array\n"
   ]
  },
  {
   "cell_type": "code",
   "execution_count": 76,
   "id": "0ccb50ee",
   "metadata": {},
   "outputs": [],
   "source": [
    "arr = np.random.randint(4,30,20)"
   ]
  },
  {
   "cell_type": "code",
   "execution_count": 77,
   "id": "efde912f",
   "metadata": {},
   "outputs": [
    {
     "data": {
      "text/plain": [
       "array([26, 20, 24, 17, 29, 19, 15, 27, 24, 21, 27,  8, 14, 12, 17, 20, 18,\n",
       "       15, 15, 25])"
      ]
     },
     "execution_count": 77,
     "metadata": {},
     "output_type": "execute_result"
    }
   ],
   "source": [
    "arr"
   ]
  },
  {
   "cell_type": "code",
   "execution_count": 78,
   "id": "02aa0832",
   "metadata": {},
   "outputs": [
    {
     "data": {
      "text/plain": [
       "array([ 8, 12, 14, 15, 17, 18, 19, 20, 21, 24, 25, 26, 27, 29])"
      ]
     },
     "execution_count": 78,
     "metadata": {},
     "output_type": "execute_result"
    }
   ],
   "source": [
    "val , count  = np.unique(arr, return_counts = True)\n",
    "val\n"
   ]
  },
  {
   "cell_type": "code",
   "execution_count": 79,
   "id": "0980c501",
   "metadata": {},
   "outputs": [
    {
     "data": {
      "text/plain": [
       "array([1, 1, 1, 3, 2, 1, 1, 2, 1, 2, 1, 1, 2, 1], dtype=int64)"
      ]
     },
     "execution_count": 79,
     "metadata": {},
     "output_type": "execute_result"
    }
   ],
   "source": [
    "count"
   ]
  },
  {
   "cell_type": "code",
   "execution_count": 80,
   "id": "9d380ef6",
   "metadata": {},
   "outputs": [
    {
     "name": "stdout",
     "output_type": "stream",
     "text": [
      "15\n"
     ]
    }
   ],
   "source": [
    "print(val[np.argmax(count)])"
   ]
  },
  {
   "cell_type": "markdown",
   "id": "df1225ae",
   "metadata": {},
   "source": [
    "# 2. Top 5 maximum values and their indices in array"
   ]
  },
  {
   "cell_type": "code",
   "execution_count": 81,
   "id": "afdec575",
   "metadata": {},
   "outputs": [
    {
     "data": {
      "text/plain": [
       "array([ 8, 12, 14, 15, 15, 15, 17, 17, 18, 19, 20, 20, 21, 24, 24, 25, 26,\n",
       "       27, 27, 29])"
      ]
     },
     "execution_count": 81,
     "metadata": {},
     "output_type": "execute_result"
    }
   ],
   "source": [
    "sort_arr= np.sort(arr)\n",
    "sort_arr"
   ]
  },
  {
   "cell_type": "code",
   "execution_count": 82,
   "id": "c15c26ed",
   "metadata": {},
   "outputs": [
    {
     "data": {
      "text/plain": [
       "array([29, 24, 19, 15])"
      ]
     },
     "execution_count": 82,
     "metadata": {},
     "output_type": "execute_result"
    }
   ],
   "source": [
    "sliced_arr = sort_arr[::-5]\n",
    "sliced_arr"
   ]
  },
  {
   "cell_type": "code",
   "execution_count": 97,
   "id": "b3726d02",
   "metadata": {},
   "outputs": [
    {
     "name": "stdout",
     "output_type": "stream",
     "text": [
      "The element 29 is present at index  [4]\n",
      "The element 24 is present at index  [2 8]\n",
      "The element 19 is present at index  [5]\n",
      "The element 15 is present at index  [ 6 17 18]\n"
     ]
    }
   ],
   "source": [
    "sliced_arr = sort_arr[::-5]\n",
    "for i in (sliced_arr):\n",
    "    indx = np.where(arr == i)\n",
    "    print (\"The element\", i, \"is present at index \", indx[0] )"
   ]
  },
  {
   "cell_type": "markdown",
   "id": "7421858d",
   "metadata": {},
   "source": [
    "# 3.  Euclidean distance between 2 numpy arrays"
   ]
  },
  {
   "cell_type": "code",
   "execution_count": 87,
   "id": "5b264ca7",
   "metadata": {},
   "outputs": [
    {
     "data": {
      "text/plain": [
       "array([11, 28, 22])"
      ]
     },
     "execution_count": 87,
     "metadata": {},
     "output_type": "execute_result"
    }
   ],
   "source": [
    "arr1 = np.random.randint(1,30,3)\n",
    "arr2 = np.random.randint(1,30,3)\n",
    "arr1\n"
   ]
  },
  {
   "cell_type": "code",
   "execution_count": 88,
   "id": "615c76e1",
   "metadata": {},
   "outputs": [
    {
     "data": {
      "text/plain": [
       "array([4, 5, 6])"
      ]
     },
     "execution_count": 88,
     "metadata": {},
     "output_type": "execute_result"
    }
   ],
   "source": [
    "arr2"
   ]
  },
  {
   "cell_type": "code",
   "execution_count": 89,
   "id": "d5078e44",
   "metadata": {},
   "outputs": [
    {
     "name": "stdout",
     "output_type": "stream",
     "text": [
      "The Euclidean distance of the two arrays is 28.879058156387302\n"
     ]
    }
   ],
   "source": [
    "temp = arr1 - arr2\n",
    " \n",
    "sum_sq = np.dot(temp.T, temp)\n",
    "print(\"The Euclidean distance of the two arrays is\",np.sqrt(sum_sq))"
   ]
  },
  {
   "cell_type": "markdown",
   "id": "f6215a7a",
   "metadata": {},
   "source": [
    "# 4.  Find Duplicate values in an numpy array\n"
   ]
  },
  {
   "cell_type": "code",
   "execution_count": 90,
   "id": "7b1dfa77",
   "metadata": {},
   "outputs": [
    {
     "data": {
      "text/plain": [
       "array([22, 23, 26,  6, 25, 25, 18, 13, 13, 29, 23, 23, 23,  5, 22, 25, 15,\n",
       "       16,  7,  8])"
      ]
     },
     "execution_count": 90,
     "metadata": {},
     "output_type": "execute_result"
    }
   ],
   "source": [
    "\n",
    "arr3 = np.random.randint(4,30,20)\n",
    "arr3\n"
   ]
  },
  {
   "cell_type": "code",
   "execution_count": 91,
   "id": "95fd3204",
   "metadata": {},
   "outputs": [
    {
     "data": {
      "text/plain": [
       "array([ 5,  6,  7,  8, 13, 15, 16, 18, 22, 23, 25, 26, 29])"
      ]
     },
     "execution_count": 91,
     "metadata": {},
     "output_type": "execute_result"
    }
   ],
   "source": [
    "val , count  = np.unique(arr3, return_counts = True)\n",
    "val"
   ]
  },
  {
   "cell_type": "code",
   "execution_count": 92,
   "id": "6aaa2575",
   "metadata": {},
   "outputs": [
    {
     "data": {
      "text/plain": [
       "array([1, 1, 1, 1, 2, 1, 1, 1, 2, 4, 3, 1, 1], dtype=int64)"
      ]
     },
     "execution_count": 92,
     "metadata": {},
     "output_type": "execute_result"
    }
   ],
   "source": [
    "count"
   ]
  },
  {
   "cell_type": "code",
   "execution_count": 93,
   "id": "ca666f9a",
   "metadata": {},
   "outputs": [
    {
     "name": "stdout",
     "output_type": "stream",
     "text": [
      "The duplicate elements are: \n",
      "13\n",
      "22\n",
      "23\n",
      "25\n"
     ]
    }
   ],
   "source": [
    "print(\"The duplicate elements are: \")\n",
    "for i in range(0, len(count)-1):\n",
    "    if count[i]>1:\n",
    "        print(val[i])"
   ]
  },
  {
   "cell_type": "markdown",
   "id": "ebc6e296",
   "metadata": {},
   "source": [
    "# 5. Find common elements between two numpy arrays "
   ]
  },
  {
   "cell_type": "code",
   "execution_count": 94,
   "id": "16455de8",
   "metadata": {},
   "outputs": [
    {
     "data": {
      "text/plain": [
       "array([12,  5, 12, 12, 21, 27, 26, 13, 12,  3,  1,  4, 10, 18, 27,  6, 26,\n",
       "       14, 14, 12])"
      ]
     },
     "execution_count": 94,
     "metadata": {},
     "output_type": "execute_result"
    }
   ],
   "source": [
    "\n",
    "arr4 = np.random.randint(1,30,20)\n",
    "arr5 = np.random.randint(1,30,20)\n",
    "arr4"
   ]
  },
  {
   "cell_type": "code",
   "execution_count": 95,
   "id": "e4d66c51",
   "metadata": {},
   "outputs": [
    {
     "data": {
      "text/plain": [
       "array([27, 12, 19,  7, 27,  6, 29,  5, 29,  3, 13,  9,  6, 12, 25,  5, 26,\n",
       "        2, 22, 26])"
      ]
     },
     "execution_count": 95,
     "metadata": {},
     "output_type": "execute_result"
    }
   ],
   "source": [
    "arr5"
   ]
  },
  {
   "cell_type": "code",
   "execution_count": 96,
   "id": "e030d2d2",
   "metadata": {},
   "outputs": [
    {
     "name": "stdout",
     "output_type": "stream",
     "text": [
      "The common elements between two numpy arrays are:\n",
      " [ 3  5  6 12 13 26 27]\n"
     ]
    }
   ],
   "source": [
    "print(\"The common elements between two numpy arrays are:\\n\", np.intersect1d(arr4, arr5))"
   ]
  }
 ],
 "metadata": {
  "kernelspec": {
   "display_name": "Python 3 (ipykernel)",
   "language": "python",
   "name": "python3"
  },
  "language_info": {
   "codemirror_mode": {
    "name": "ipython",
    "version": 3
   },
   "file_extension": ".py",
   "mimetype": "text/x-python",
   "name": "python",
   "nbconvert_exporter": "python",
   "pygments_lexer": "ipython3",
   "version": "3.9.7"
  }
 },
 "nbformat": 4,
 "nbformat_minor": 5
}
