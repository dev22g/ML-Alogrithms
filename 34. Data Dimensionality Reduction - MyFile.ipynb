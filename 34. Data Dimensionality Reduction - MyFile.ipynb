{
 "cells": [
  {
   "cell_type": "code",
   "execution_count": 1,
   "id": "375717ee",
   "metadata": {},
   "outputs": [],
   "source": [
    "# dimension in machine learning - number of features"
   ]
  },
  {
   "cell_type": "code",
   "execution_count": 2,
   "id": "81d856dd",
   "metadata": {},
   "outputs": [],
   "source": [
    "import numpy as np\n",
    "import pandas as pd\n",
    "from sklearn.datasets import load_digits\n",
    "\n",
    "from sklearn.svm import SVC\n",
    "from sklearn.decomposition import PCA\n",
    "from sklearn.pipeline import make_pipeline\n",
    "from sklearn.model_selection import GridSearchCV, cross_validate, cross_val_score \n",
    "from sklearn.model_selection import train_test_split\n",
    "from sklearn.metrics import accuracy_score, precision_score, recall_score, f1_score, classification_report, confusion_matrix\n"
   ]
  },
  {
   "cell_type": "code",
   "execution_count": 3,
   "id": "a3d053cc",
   "metadata": {},
   "outputs": [
    {
     "data": {
      "text/plain": [
       "array([[ 0.,  0.,  5., ...,  0.,  0.,  0.],\n",
       "       [ 0.,  0.,  0., ..., 10.,  0.,  0.],\n",
       "       [ 0.,  0.,  0., ..., 16.,  9.,  0.],\n",
       "       ...,\n",
       "       [ 0.,  0.,  1., ...,  6.,  0.,  0.],\n",
       "       [ 0.,  0.,  2., ..., 12.,  0.,  0.],\n",
       "       [ 0.,  0., 10., ..., 12.,  1.,  0.]])"
      ]
     },
     "execution_count": 3,
     "metadata": {},
     "output_type": "execute_result"
    }
   ],
   "source": [
    "digits_data = load_digits()\n",
    "digits_data.data"
   ]
  },
  {
   "cell_type": "code",
   "execution_count": 16,
   "id": "63a9f354",
   "metadata": {},
   "outputs": [
    {
     "data": {
      "text/plain": [
       "(1797, 64)"
      ]
     },
     "execution_count": 16,
     "metadata": {},
     "output_type": "execute_result"
    }
   ],
   "source": [
    "digits_data.data.shape"
   ]
  },
  {
   "cell_type": "code",
   "execution_count": 4,
   "id": "a23e6bd1",
   "metadata": {},
   "outputs": [],
   "source": [
    "scoring = ['precision_macro', 'recall_macro', 'accuracy']\n",
    "\n",
    "def evaluate_model(model, X, Y):\n",
    "    \n",
    "    print(\"\\nCross Validate:\\n\")\n",
    "    cv = cross_validate(model, X, Y, scoring=scoring, cv=5)\n",
    "    print(\"\\nCross Validation:\",model,\"\\n\")\n",
    "    print(\"Mean Accuracy:\",cv['test_accuracy'].mean())\n",
    "    print(\"Mean Precision:\",cv['test_precision_macro'].mean())\n",
    "    print(\"Mean Recall:\",cv['test_recall_macro'].mean())\n",
    "    print(\"\\n\\n\")"
   ]
  },
  {
   "cell_type": "code",
   "execution_count": 5,
   "id": "dd9b8f74",
   "metadata": {},
   "outputs": [],
   "source": [
    "def get_reports(model, X, Y):\n",
    "    \n",
    "    y_pred = model.predict(X)\n",
    "    print(\"\\nAccuracy:\",accuracy_score(Y, y_pred))\n",
    "    print(\"Precision Score:\",precision_score(Y, y_pred, average = 'macro', zero_division=0))\n",
    "    print(\"Recall Score:\",recall_score(Y, y_pred, average = 'macro', zero_division=0))\n",
    "    print(\"f1 Score:\",f1_score(Y, y_pred, average = 'macro', zero_division=0))\n",
    "    \n",
    "    print(\"\\n \\nClassification Report:\\n\\n\",classification_report(Y, y_pred, zero_division=0))\n",
    "    print(\"\\n \\nConfusion Matrix:\\n\")\n",
    "    print(confusion_matrix(Y, y_pred))"
   ]
  },
  {
   "cell_type": "markdown",
   "id": "a4e09b2b",
   "metadata": {},
   "source": [
    "## SVC"
   ]
  },
  {
   "cell_type": "code",
   "execution_count": 6,
   "id": "6f202261",
   "metadata": {},
   "outputs": [
    {
     "data": {
      "text/plain": [
       "SVC()"
      ]
     },
     "execution_count": 6,
     "metadata": {},
     "output_type": "execute_result"
    }
   ],
   "source": [
    "svc = SVC(kernel='rbf')\n",
    "svc.fit(digits_data.data, digits_data.target)"
   ]
  },
  {
   "cell_type": "code",
   "execution_count": 7,
   "id": "5374b15a",
   "metadata": {},
   "outputs": [
    {
     "name": "stdout",
     "output_type": "stream",
     "text": [
      "\n",
      "Accuracy: 0.996661101836394\n",
      "Precision Score: 0.9967027613595763\n",
      "Recall Score: 0.9966344574965265\n",
      "f1 Score: 0.9966577171492166\n",
      "\n",
      " \n",
      "Classification Report:\n",
      "\n",
      "               precision    recall  f1-score   support\n",
      "\n",
      "           0       1.00      1.00      1.00       178\n",
      "           1       0.99      1.00      0.99       182\n",
      "           2       1.00      1.00      1.00       177\n",
      "           3       0.99      1.00      1.00       183\n",
      "           4       1.00      1.00      1.00       181\n",
      "           5       0.99      0.99      0.99       182\n",
      "           6       1.00      1.00      1.00       181\n",
      "           7       0.99      1.00      1.00       179\n",
      "           8       1.00      0.99      0.99       174\n",
      "           9       0.99      0.98      0.99       180\n",
      "\n",
      "    accuracy                           1.00      1797\n",
      "   macro avg       1.00      1.00      1.00      1797\n",
      "weighted avg       1.00      1.00      1.00      1797\n",
      "\n",
      "\n",
      " \n",
      "Confusion Matrix:\n",
      "\n",
      "[[178   0   0   0   0   0   0   0   0   0]\n",
      " [  0 182   0   0   0   0   0   0   0   0]\n",
      " [  0   0 177   0   0   0   0   0   0   0]\n",
      " [  0   0   0 183   0   0   0   0   0   0]\n",
      " [  0   0   0   0 181   0   0   0   0   0]\n",
      " [  0   0   0   0   0 181   0   0   0   1]\n",
      " [  0   0   0   0   0   0 181   0   0   0]\n",
      " [  0   0   0   0   0   0   0 179   0   0]\n",
      " [  0   2   0   0   0   0   0   0 172   0]\n",
      " [  0   0   0   1   0   1   0   1   0 177]]\n",
      "\n",
      "Cross Validate:\n",
      "\n",
      "\n",
      "Cross Validation: SVC() \n",
      "\n",
      "Mean Accuracy: 0.9632838130609718\n",
      "Mean Precision: 0.9662763800675412\n",
      "Mean Recall: 0.963285840462311\n",
      "\n",
      "\n",
      "\n"
     ]
    }
   ],
   "source": [
    "get_reports(svc, digits_data.data, digits_data.target)\n",
    "evaluate_model(svc, digits_data.data, digits_data.target)"
   ]
  },
  {
   "cell_type": "markdown",
   "id": "6044e197",
   "metadata": {},
   "source": [
    "## SVC with PCA"
   ]
  },
  {
   "cell_type": "code",
   "execution_count": 9,
   "id": "88dc41b8",
   "metadata": {},
   "outputs": [
    {
     "name": "stdout",
     "output_type": "stream",
     "text": [
      "Fitting 5 folds for each of 12 candidates, totalling 60 fits\n"
     ]
    }
   ],
   "source": [
    "pca = PCA(n_components=24)\n",
    "model = make_pipeline(pca, svc)\n",
    "param_grid = {'svc__C':[1, 5, 10, 50],\n",
    "              'svc__gamma':[0.001, 0.005, 1.0]}\n",
    "\n",
    "grid_search = GridSearchCV(model, param_grid, cv=5, scoring='recall_macro', n_jobs=-1,verbose=3)\n",
    "grid_search.fit(digits_data.data, digits_data.target)\n",
    "model = grid_search.best_estimator_"
   ]
  },
  {
   "cell_type": "code",
   "execution_count": 11,
   "id": "175a9450",
   "metadata": {},
   "outputs": [
    {
     "name": "stdout",
     "output_type": "stream",
     "text": [
      "Model: Pipeline(steps=[('pca', PCA(n_components=24)), ('svc', SVC(C=10, gamma=0.001))])\n",
      "\n",
      "Accuracy: 1.0\n",
      "Precision Score: 1.0\n",
      "Recall Score: 1.0\n",
      "f1 Score: 1.0\n",
      "\n",
      " \n",
      "Classification Report:\n",
      "\n",
      "               precision    recall  f1-score   support\n",
      "\n",
      "           0       1.00      1.00      1.00       178\n",
      "           1       1.00      1.00      1.00       182\n",
      "           2       1.00      1.00      1.00       177\n",
      "           3       1.00      1.00      1.00       183\n",
      "           4       1.00      1.00      1.00       181\n",
      "           5       1.00      1.00      1.00       182\n",
      "           6       1.00      1.00      1.00       181\n",
      "           7       1.00      1.00      1.00       179\n",
      "           8       1.00      1.00      1.00       174\n",
      "           9       1.00      1.00      1.00       180\n",
      "\n",
      "    accuracy                           1.00      1797\n",
      "   macro avg       1.00      1.00      1.00      1797\n",
      "weighted avg       1.00      1.00      1.00      1797\n",
      "\n",
      "\n",
      " \n",
      "Confusion Matrix:\n",
      "\n",
      "[[178   0   0   0   0   0   0   0   0   0]\n",
      " [  0 182   0   0   0   0   0   0   0   0]\n",
      " [  0   0 177   0   0   0   0   0   0   0]\n",
      " [  0   0   0 183   0   0   0   0   0   0]\n",
      " [  0   0   0   0 181   0   0   0   0   0]\n",
      " [  0   0   0   0   0 182   0   0   0   0]\n",
      " [  0   0   0   0   0   0 181   0   0   0]\n",
      " [  0   0   0   0   0   0   0 179   0   0]\n",
      " [  0   0   0   0   0   0   0   0 174   0]\n",
      " [  0   0   0   0   0   0   0   0   0 180]]\n",
      "\n",
      "Cross Validate:\n",
      "\n",
      "\n",
      "Cross Validation: Pipeline(steps=[('pca', PCA(n_components=24)), ('svc', SVC(C=10, gamma=0.001))]) \n",
      "\n",
      "Mean Accuracy: 0.9710739709068399\n",
      "Mean Precision: 0.973156988779549\n",
      "Mean Recall: 0.971068841951195\n",
      "\n",
      "\n",
      "\n"
     ]
    }
   ],
   "source": [
    "print(\"Model:\", model)\n",
    "get_reports(model, digits_data.data, digits_data.target)\n",
    "evaluate_model(model, digits_data.data, digits_data.target)"
   ]
  },
  {
   "cell_type": "code",
   "execution_count": null,
   "id": "cda92e8e",
   "metadata": {},
   "outputs": [],
   "source": []
  },
  {
   "cell_type": "code",
   "execution_count": null,
   "id": "26baf179",
   "metadata": {},
   "outputs": [],
   "source": []
  },
  {
   "cell_type": "code",
   "execution_count": null,
   "id": "de22190e",
   "metadata": {},
   "outputs": [],
   "source": []
  },
  {
   "cell_type": "code",
   "execution_count": null,
   "id": "70e74c02",
   "metadata": {},
   "outputs": [],
   "source": []
  }
 ],
 "metadata": {
  "kernelspec": {
   "display_name": "Python 3 (ipykernel)",
   "language": "python",
   "name": "python3"
  },
  "language_info": {
   "codemirror_mode": {
    "name": "ipython",
    "version": 3
   },
   "file_extension": ".py",
   "mimetype": "text/x-python",
   "name": "python",
   "nbconvert_exporter": "python",
   "pygments_lexer": "ipython3",
   "version": "3.9.7"
  }
 },
 "nbformat": 4,
 "nbformat_minor": 5
}
