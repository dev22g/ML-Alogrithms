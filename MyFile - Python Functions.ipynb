{
 "cells": [
  {
   "cell_type": "code",
   "execution_count": 3,
   "id": "d1c3032c",
   "metadata": {},
   "outputs": [
    {
     "name": "stdout",
     "output_type": "stream",
     "text": [
      "Enter first number: 4\n",
      "Enter second number: 6\n",
      "The LCM of 4 and 6 is 12\n"
     ]
    }
   ],
   "source": [
    "def lcm(x,y):\n",
    "    '''\n",
    "    This function takes 2 positive numbers and find their lcm\n",
    "    '''  \n",
    "\n",
    "    if x > y:\n",
    "        max_num = x\n",
    "    else:\n",
    "        max_num = y\n",
    "\n",
    "    while(True):\n",
    "        \n",
    "        if((max_num % x == 0) and (max_num % y == 0)):\n",
    "                lcm_1 = max_num\n",
    "                break\n",
    "        max_num += 1\n",
    "    return lcm_1\n",
    "\n",
    "\n",
    "num1 = int(input('Enter first number: '))\n",
    "num2 = int(input('Enter second number: '))\n",
    "\n",
    "lcm_1 = lcm(num1, num2)\n",
    "print('The LCM of',num1,'and',num2,'is',lcm_1)"
   ]
  },
  {
   "cell_type": "code",
   "execution_count": 11,
   "id": "34df9ec4",
   "metadata": {},
   "outputs": [
    {
     "name": "stdout",
     "output_type": "stream",
     "text": [
      "Enter number: 0\n",
      "The factorial of 0 is 1\n",
      "The factorial of 0 is 1\n"
     ]
    }
   ],
   "source": [
    "# program for finding the factorial of a given integer\n",
    "\n",
    "def factorial(x):\n",
    "    \n",
    "    if x < 0:\n",
    "        return print(\"The factorial of negative integers doesn't exists\")\n",
    "    elif x== 0:\n",
    "        print(\"The factorial of 0 is 1\")\n",
    "        fact = 1\n",
    "        return (fact)\n",
    "    else:\n",
    "        fact = 1\n",
    "        for i in range(1,num + 1):\n",
    "                   fact = fact*i        \n",
    "    return (fact)\n",
    "\n",
    "num = int(input('Enter number: '))\n",
    "fact = factorial(num)\n",
    "print(\"The factorial of\",num,\"is\",fact)\n",
    "    "
   ]
  },
  {
   "cell_type": "code",
   "execution_count": 3,
   "id": "a58ad827",
   "metadata": {},
   "outputs": [
    {
     "name": "stdout",
     "output_type": "stream",
     "text": [
      "Enter a choice: (rock, paper, scissors): paper\n",
      "\n",
      "You chose paper computer chose scissors \n",
      "\n",
      "Scissors cuts paper! You lose.\n",
      "Choose one of the following:\n",
      " 1: Play Again? \n",
      " 2: Exit \n",
      "1\n",
      "Enter a choice: (rock, paper, scissors): ROCK\n",
      "\n",
      "You chose rock computer chose paper \n",
      "\n",
      "Paper covers rock! You lose.\n",
      "Choose one of the following:\n",
      " 1: Play Again? \n",
      " 2: Exit \n",
      "2\n"
     ]
    }
   ],
   "source": [
    "# code for rock, paper, scissors\n",
    "\n",
    "while (True):\n",
    "    import random\n",
    "\n",
    "    user_choice = input(\"Enter a choice: (rock, paper, scissors): \")\n",
    "    user_choice=user_choice.lower()\n",
    "    possible_actions = [\"rock\", \"paper\", \"scissors\"]\n",
    "    computer_choice = random.choice(possible_actions)\n",
    "\n",
    "    print(\"\\nYou chose\", user_choice, \"computer chose\", computer_choice, \"\\n\")\n",
    "\n",
    "    if user_choice == computer_choice:\n",
    "        print(\"Both players selected.\", user_choice,\" It's a tie!\")\n",
    "    elif user_choice == \"rock\":\n",
    "        if computer_choice == \"scissors\":\n",
    "            print(\"Rock smashes scissors! You win!\")\n",
    "        else:\n",
    "            print(\"Paper covers rock! You lose.\")\n",
    "    elif user_choice == \"paper\":\n",
    "        if computer_choice == \"rock\":\n",
    "            print(\"Paper covers rock! You win!\")\n",
    "        else:\n",
    "            print(\"Scissors cuts paper! You lose.\")\n",
    "    elif user_choice == \"scissors\":\n",
    "        if computer_choice == \"paper\":\n",
    "            print(\"Scissors cuts paper! You win!\")\n",
    "        else:\n",
    "            print(\"Rock smashes scissors! You lose.\")\n",
    "    \n",
    "    n = int(input(\"Choose one of the following:\\n 1: Play Again? \\n 2: Exit \\n\"))\n",
    "    if n==1:\n",
    "        continue\n",
    "    if n==2:\n",
    "        break\n",
    "    "
   ]
  },
  {
   "cell_type": "code",
   "execution_count": 8,
   "id": "98f27466",
   "metadata": {},
   "outputs": [
    {
     "name": "stdout",
     "output_type": "stream",
     "text": [
      "Enter number of tickets: 3\n",
      "Would you like to have:\n",
      " 1:Popcorn \n",
      " 2:Soda \n",
      " 3:Burger \n",
      " 4:Checkout \n",
      " Choose one of the above \n",
      "1\n",
      "Enter number of Popcorn: 2\n",
      "Choose one of the following:\n",
      " 1: Order More \n",
      " 2: Checkout \n",
      "1\n",
      "Would you like to have:\n",
      " 1:Popcorn \n",
      " 2:Soda \n",
      " 3:Burger \n",
      " 4:Checkout \n",
      " Choose one of the above \n",
      "3\n",
      "Enter number of Burger: 4\n",
      "Choose one of the following:\n",
      " 1: Order More \n",
      " 2: Checkout \n",
      "2\n",
      "\n",
      " That will be $ 41.0 . Enjoy your time \n"
     ]
    }
   ],
   "source": [
    "'''\n",
    "movie ticket  - 5$ (fixed)\n",
    "popcorn - 4\n",
    "soda - 2\n",
    "burger - 4.5\n",
    "'''\n",
    "\n",
    "no_tickets=int(input(\"Enter number of tickets: \"))\n",
    "Total_cost =5* no_tickets\n",
    "\n",
    "while(True):\n",
    "    user_choice = int(input(\"Would you like to have:\\n 1:Popcorn \\n 2:Soda \\n 3:Burger \\n 4:Checkout \\n Choose one of the above \\n\"))\n",
    "\n",
    "    if user_choice == 1:\n",
    "        no_popcorn=int(input(\"Enter number of Popcorn: \"))\n",
    "        Total_cost = Total_cost + (no_popcorn *4)\n",
    "        \n",
    "    if user_choice == 2:\n",
    "        no_soda=int(input(\"Enter number of Soda: \"))\n",
    "        Total_cost = Total_cost + (no_soda *2)\n",
    "        \n",
    "    if user_choice == 3:\n",
    "        no_burgers=int(input(\"Enter number of Burger: \"))\n",
    "        Total_cost = Total_cost + (no_burgers *4.5)\n",
    "    \n",
    "    if user_choice == 4:\n",
    "        break\n",
    "    n = int(input(\"Choose one of the following:\\n 1: Order More \\n 2: Checkout \\n\"))\n",
    "    if n==1:\n",
    "        continue\n",
    "    if n==2:\n",
    "        break\n",
    "                        \n",
    "print (\"\\n That will be $\", Total_cost, \". Enjoy your time \" )                        \n",
    "                        \n",
    "\n",
    "\n"
   ]
  },
  {
   "cell_type": "code",
   "execution_count": 15,
   "id": "5de40a13",
   "metadata": {},
   "outputs": [
    {
     "data": {
      "text/plain": [
       "[0,\n",
       " 10,\n",
       " 20,\n",
       " 30,\n",
       " 40,\n",
       " 50,\n",
       " 60,\n",
       " 70,\n",
       " 80,\n",
       " 90,\n",
       " 100,\n",
       " 110,\n",
       " 120,\n",
       " 130,\n",
       " 140,\n",
       " 150,\n",
       " 160,\n",
       " 170,\n",
       " 180,\n",
       " 190]"
      ]
     },
     "execution_count": 15,
     "metadata": {},
     "output_type": "execute_result"
    }
   ],
   "source": [
    "num = list (range(0,200,10))\n",
    "num\n"
   ]
  },
  {
   "cell_type": "code",
   "execution_count": 20,
   "id": "445dfb0a",
   "metadata": {},
   "outputs": [
    {
     "data": {
      "text/plain": [
       "[0, 50, 100, 150, 200, 250, 300, 350, 400, 450]"
      ]
     },
     "execution_count": 20,
     "metadata": {},
     "output_type": "execute_result"
    }
   ],
   "source": [
    "num = list (range(0,200,10))\n",
    "first = []\n",
    "initial = 0\n",
    "max_num = len(num)\n",
    "while (initial<max_num):\n",
    "    s=num[initial]*2.5\n",
    "    if s%2==0:\n",
    "        first.append(int(s))\n",
    "    initial+=1\n",
    "                     \n",
    "first"
   ]
  },
  {
   "cell_type": "code",
   "execution_count": null,
   "id": "52dff376",
   "metadata": {},
   "outputs": [],
   "source": []
  }
 ],
 "metadata": {
  "kernelspec": {
   "display_name": "Python 3 (ipykernel)",
   "language": "python",
   "name": "python3"
  },
  "language_info": {
   "codemirror_mode": {
    "name": "ipython",
    "version": 3
   },
   "file_extension": ".py",
   "mimetype": "text/x-python",
   "name": "python",
   "nbconvert_exporter": "python",
   "pygments_lexer": "ipython3",
   "version": "3.9.7"
  }
 },
 "nbformat": 4,
 "nbformat_minor": 5
}
