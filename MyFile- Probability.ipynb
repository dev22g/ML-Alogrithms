{
 "cells": [
  {
   "cell_type": "code",
   "execution_count": 1,
   "id": "cae32292",
   "metadata": {},
   "outputs": [],
   "source": [
    "import seaborn as sns\n",
    "import numpy as np\n",
    "import matplotlib.pyplot as plt"
   ]
  },
  {
   "cell_type": "code",
   "execution_count": 4,
   "id": "e6c25e44",
   "metadata": {},
   "outputs": [
    {
     "name": "stderr",
     "output_type": "stream",
     "text": [
      "C:\\Users\\DEVVRAK\\anaconda3\\lib\\site-packages\\seaborn\\_decorators.py:36: FutureWarning: Pass the following variable as a keyword arg: x. From version 0.12, the only valid positional argument will be `data`, and passing other arguments without an explicit keyword will result in an error or misinterpretation.\n",
      "  warnings.warn(\n"
     ]
    },
    {
     "data": {
      "text/plain": [
       "<AxesSubplot:ylabel='count'>"
      ]
     },
     "execution_count": 4,
     "metadata": {},
     "output_type": "execute_result"
    },
    {
     "data": {
      "image/png": "[encoded data removed]",
      "text/plain": [
       "<Figure size 432x288 with 1 Axes>"
      ]
     },
     "metadata": {
      "needs_background": "light"
     },
     "output_type": "display_data"
    }
   ],
   "source": [
    "dice = [0,1,2,3,4,5,6]\n",
    "N = 2000\n",
    "dice_roll = np.random.choice(dice,N)\n",
    "sns.countplot(dice_roll)\n",
    "\n"
   ]
  },
  {
   "cell_type": "code",
   "execution_count": 13,
   "id": "29805a76",
   "metadata": {},
   "outputs": [
    {
     "name": "stdout",
     "output_type": "stream",
     "text": [
      "[1 8 8 9 2]\n",
      "[8 4 6 1 9]\n",
      "[1 2 4 6 8 9]\n",
      "[1 8 9]\n"
     ]
    }
   ],
   "source": [
    "arr1 = np.random.randint(1,10,5)\n",
    "print(arr1)\n",
    "arr2 = np.random.randint(1,10,5)\n",
    "print(arr2)\n",
    "\n",
    "print(np.union1d(arr1,arr2))\n",
    "print(np.intersect1d(arr1,arr2))"
   ]
  },
  {
   "cell_type": "code",
   "execution_count": null,
   "id": "690d6ec5",
   "metadata": {},
   "outputs": [],
   "source": [
    "sample_sp = [*range(1,101)]\n"
   ]
  },
  {
   "cell_type": "code",
   "execution_count": null,
   "id": "fde198fa",
   "metadata": {},
   "outputs": [],
   "source": [
    "# mutually exclusive -  nothing in common\n",
    "# compliment of A -> A(bar) = S -A\n",
    "\n",
    "'''\n",
    "(A U B) = A + B - (A intersection B)\n",
    "\n",
    "Conditional probability-> if ypu study more time studying then probability of u scoring marks increases\n",
    "\n",
    "p(A|B) = what is the probability of A given B has happened\n",
    "\n",
    "p(A|B) = p(A intersection B)/ p(B)      ... if p(B) != 0\n",
    "\n",
    "\n",
    "\n",
    "\n",
    "'''"
   ]
  },
  {
   "cell_type": "code",
   "execution_count": null,
   "id": "1647fddc",
   "metadata": {},
   "outputs": [],
   "source": [
    "'''\n",
    "total lottery numbers = 49\n",
    "\n",
    "6 winning number\n",
    "1 bonus numbers\n",
    "rest loosing numbers\n",
    "\n",
    "49C6 = 13673064.5\n",
    "\n",
    "no winning number = 0$\n",
    "1 winning number = 0$\n",
    "2 winning number = 0$\n",
    "2 winning number + 1 bonus = 5$\n",
    "3 winning number = 10$\n",
    "4 winning number = 80$\n",
    "5 winning number = 2500$\n",
    "5 winning number + 1 bonus = 100000$\n",
    "6 winning = 4 mill\n",
    "\n",
    "calculate average payout\n",
    "\n",
    "'''"
   ]
  },
  {
   "cell_type": "code",
   "execution_count": null,
   "id": "240d321d",
   "metadata": {},
   "outputs": [],
   "source": []
  }
 ],
 "metadata": {
  "kernelspec": {
   "display_name": "Python 3 (ipykernel)",
   "language": "python",
   "name": "python3"
  },
  "language_info": {
   "codemirror_mode": {
    "name": "ipython",
    "version": 3
   },
   "file_extension": ".py",
   "mimetype": "text/x-python",
   "name": "python",
   "nbconvert_exporter": "python",
   "pygments_lexer": "ipython3",
   "version": "3.9.7"
  }
 },
 "nbformat": 4,
 "nbformat_minor": 5
}
