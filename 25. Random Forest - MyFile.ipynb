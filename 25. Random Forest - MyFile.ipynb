{
 "cells": [
  {
   "cell_type": "code",
   "execution_count": null,
   "id": "7ace9842",
   "metadata": {},
   "outputs": [],
   "source": [
    "# Random Forest\n",
    "\n",
    "# This algorithm utilizes the idea of ensemble techniques - Collection of estimators\n",
    "\n",
    "# Random Forest is an averaging method whose prediction is function of prediction acheived from 'N' Decision Trees"
   ]
  },
  {
   "cell_type": "markdown",
   "id": "1f745a47",
   "metadata": {},
   "source": [
    "Algorithm:\n",
    "\n",
    "1. Data Consists of Rows and Columns\n",
    "2. A bootstrapped sample is taken (n rows are selected randomly)\n",
    "3. Random set of features (columns) if we have large no. of features avaialable to us\n",
    "4. We create as many decision trees as specified by user\n",
    "5. Final prediction in terms of classification (Majority class/ outcome wins)"
   ]
  },
  {
   "cell_type": "code",
   "execution_count": 7,
   "id": "1dbda01f",
   "metadata": {},
   "outputs": [],
   "source": [
    "# Lets compare a single decision tree against random forest\n",
    "\n",
    "from sklearn.datasets import load_digits\n",
    "import numpy as np\n",
    "from sklearn.ensemble import RandomForestClassifier\n",
    "from sklearn.tree import DecisionTreeClassifier\n",
    "from sklearn.model_selection import train_test_split"
   ]
  },
  {
   "cell_type": "code",
   "execution_count": 3,
   "id": "8be96210",
   "metadata": {},
   "outputs": [],
   "source": [
    "digits = load_digits()"
   ]
  },
  {
   "cell_type": "code",
   "execution_count": 4,
   "id": "55dcbcdc",
   "metadata": {},
   "outputs": [
    {
     "data": {
      "text/plain": [
       "{'data': array([[ 0.,  0.,  5., ...,  0.,  0.,  0.],\n",
       "        [ 0.,  0.,  0., ..., 10.,  0.,  0.],\n",
       "        [ 0.,  0.,  0., ..., 16.,  9.,  0.],\n",
       "        ...,\n",
       "        [ 0.,  0.,  1., ...,  6.,  0.,  0.],\n",
       "        [ 0.,  0.,  2., ..., 12.,  0.,  0.],\n",
       "        [ 0.,  0., 10., ..., 12.,  1.,  0.]]),\n",
       " 'target': array([0, 1, 2, ..., 8, 9, 8]),\n",
       " 'frame': None,\n",
       " 'feature_names': ['pixel_0_0',\n",
       "  'pixel_0_1',\n",
       "  'pixel_0_2',\n",
       "  'pixel_0_3',\n",
       "  'pixel_0_4',\n",
       "  'pixel_0_5',\n",
       "  'pixel_0_6',\n",
       "  'pixel_0_7',\n",
       "  'pixel_1_0',\n",
       "  'pixel_1_1',\n",
       "  'pixel_1_2',\n",
       "  'pixel_1_3',\n",
       "  'pixel_1_4',\n",
       "  'pixel_1_5',\n",
       "  'pixel_1_6',\n",
       "  'pixel_1_7',\n",
       "  'pixel_2_0',\n",
       "  'pixel_2_1',\n",
       "  'pixel_2_2',\n",
       "  'pixel_2_3',\n",
       "  'pixel_2_4',\n",
       "  'pixel_2_5',\n",
       "  'pixel_2_6',\n",
       "  'pixel_2_7',\n",
       "  'pixel_3_0',\n",
       "  'pixel_3_1',\n",
       "  'pixel_3_2',\n",
       "  'pixel_3_3',\n",
       "  'pixel_3_4',\n",
       "  'pixel_3_5',\n",
       "  'pixel_3_6',\n",
       "  'pixel_3_7',\n",
       "  'pixel_4_0',\n",
       "  'pixel_4_1',\n",
       "  'pixel_4_2',\n",
       "  'pixel_4_3',\n",
       "  'pixel_4_4',\n",
       "  'pixel_4_5',\n",
       "  'pixel_4_6',\n",
       "  'pixel_4_7',\n",
       "  'pixel_5_0',\n",
       "  'pixel_5_1',\n",
       "  'pixel_5_2',\n",
       "  'pixel_5_3',\n",
       "  'pixel_5_4',\n",
       "  'pixel_5_5',\n",
       "  'pixel_5_6',\n",
       "  'pixel_5_7',\n",
       "  'pixel_6_0',\n",
       "  'pixel_6_1',\n",
       "  'pixel_6_2',\n",
       "  'pixel_6_3',\n",
       "  'pixel_6_4',\n",
       "  'pixel_6_5',\n",
       "  'pixel_6_6',\n",
       "  'pixel_6_7',\n",
       "  'pixel_7_0',\n",
       "  'pixel_7_1',\n",
       "  'pixel_7_2',\n",
       "  'pixel_7_3',\n",
       "  'pixel_7_4',\n",
       "  'pixel_7_5',\n",
       "  'pixel_7_6',\n",
       "  'pixel_7_7'],\n",
       " 'target_names': array([0, 1, 2, 3, 4, 5, 6, 7, 8, 9]),\n",
       " 'images': array([[[ 0.,  0.,  5., ...,  1.,  0.,  0.],\n",
       "         [ 0.,  0., 13., ..., 15.,  5.,  0.],\n",
       "         [ 0.,  3., 15., ..., 11.,  8.,  0.],\n",
       "         ...,\n",
       "         [ 0.,  4., 11., ..., 12.,  7.,  0.],\n",
       "         [ 0.,  2., 14., ..., 12.,  0.,  0.],\n",
       "         [ 0.,  0.,  6., ...,  0.,  0.,  0.]],\n",
       " \n",
       "        [[ 0.,  0.,  0., ...,  5.,  0.,  0.],\n",
       "         [ 0.,  0.,  0., ...,  9.,  0.,  0.],\n",
       "         [ 0.,  0.,  3., ...,  6.,  0.,  0.],\n",
       "         ...,\n",
       "         [ 0.,  0.,  1., ...,  6.,  0.,  0.],\n",
       "         [ 0.,  0.,  1., ...,  6.,  0.,  0.],\n",
       "         [ 0.,  0.,  0., ..., 10.,  0.,  0.]],\n",
       " \n",
       "        [[ 0.,  0.,  0., ..., 12.,  0.,  0.],\n",
       "         [ 0.,  0.,  3., ..., 14.,  0.,  0.],\n",
       "         [ 0.,  0.,  8., ..., 16.,  0.,  0.],\n",
       "         ...,\n",
       "         [ 0.,  9., 16., ...,  0.,  0.,  0.],\n",
       "         [ 0.,  3., 13., ..., 11.,  5.,  0.],\n",
       "         [ 0.,  0.,  0., ..., 16.,  9.,  0.]],\n",
       " \n",
       "        ...,\n",
       " \n",
       "        [[ 0.,  0.,  1., ...,  1.,  0.,  0.],\n",
       "         [ 0.,  0., 13., ...,  2.,  1.,  0.],\n",
       "         [ 0.,  0., 16., ..., 16.,  5.,  0.],\n",
       "         ...,\n",
       "         [ 0.,  0., 16., ..., 15.,  0.,  0.],\n",
       "         [ 0.,  0., 15., ..., 16.,  0.,  0.],\n",
       "         [ 0.,  0.,  2., ...,  6.,  0.,  0.]],\n",
       " \n",
       "        [[ 0.,  0.,  2., ...,  0.,  0.,  0.],\n",
       "         [ 0.,  0., 14., ..., 15.,  1.,  0.],\n",
       "         [ 0.,  4., 16., ..., 16.,  7.,  0.],\n",
       "         ...,\n",
       "         [ 0.,  0.,  0., ..., 16.,  2.,  0.],\n",
       "         [ 0.,  0.,  4., ..., 16.,  2.,  0.],\n",
       "         [ 0.,  0.,  5., ..., 12.,  0.,  0.]],\n",
       " \n",
       "        [[ 0.,  0., 10., ...,  1.,  0.,  0.],\n",
       "         [ 0.,  2., 16., ...,  1.,  0.,  0.],\n",
       "         [ 0.,  0., 15., ..., 15.,  0.,  0.],\n",
       "         ...,\n",
       "         [ 0.,  4., 16., ..., 16.,  6.,  0.],\n",
       "         [ 0.,  8., 16., ..., 16.,  8.,  0.],\n",
       "         [ 0.,  1.,  8., ..., 12.,  1.,  0.]]]),\n",
       " 'DESCR': \".. _digits_dataset:\\n\\nOptical recognition of handwritten digits dataset\\n--------------------------------------------------\\n\\n**Data Set Characteristics:**\\n\\n    :Number of Instances: 1797\\n    :Number of Attributes: 64\\n    :Attribute Information: 8x8 image of integer pixels in the range 0..16.\\n    :Missing Attribute Values: None\\n    :Creator: E. Alpaydin (alpaydin '@' boun.edu.tr)\\n    :Date: July; 1998\\n\\nThis is a copy of the test set of the UCI ML hand-written digits datasets\\nhttps://archive.ics.uci.edu/ml/datasets/Optical+Recognition+of+Handwritten+Digits\\n\\nThe data set contains images of hand-written digits: 10 classes where\\neach class refers to a digit.\\n\\nPreprocessing programs made available by NIST were used to extract\\nnormalized bitmaps of handwritten digits from a preprinted form. From a\\ntotal of 43 people, 30 contributed to the training set and different 13\\nto the test set. 32x32 bitmaps are divided into nonoverlapping blocks of\\n4x4 and the number of on pixels are counted in each block. This generates\\nan input matrix of 8x8 where each element is an integer in the range\\n0..16. This reduces dimensionality and gives invariance to small\\ndistortions.\\n\\nFor info on NIST preprocessing routines, see M. D. Garris, J. L. Blue, G.\\nT. Candela, D. L. Dimmick, J. Geist, P. J. Grother, S. A. Janet, and C.\\nL. Wilson, NIST Form-Based Handprint Recognition System, NISTIR 5469,\\n1994.\\n\\n.. topic:: References\\n\\n  - C. Kaynak (1995) Methods of Combining Multiple Classifiers and Their\\n    Applications to Handwritten Digit Recognition, MSc Thesis, Institute of\\n    Graduate Studies in Science and Engineering, Bogazici University.\\n  - E. Alpaydin, C. Kaynak (1998) Cascading Classifiers, Kybernetika.\\n  - Ken Tang and Ponnuthurai N. Suganthan and Xi Yao and A. Kai Qin.\\n    Linear dimensionalityreduction using relevance weighted LDA. School of\\n    Electrical and Electronic Engineering Nanyang Technological University.\\n    2005.\\n  - Claudio Gentile. A New Approximate Maximal Margin Classification\\n    Algorithm. NIPS. 2000.\\n\"}"
      ]
     },
     "execution_count": 4,
     "metadata": {},
     "output_type": "execute_result"
    }
   ],
   "source": [
    "digits"
   ]
  },
  {
   "cell_type": "code",
   "execution_count": 5,
   "id": "d790738b",
   "metadata": {},
   "outputs": [],
   "source": [
    "X = digits.data\n",
    "Y = digits.target"
   ]
  },
  {
   "cell_type": "code",
   "execution_count": 8,
   "id": "a803f599",
   "metadata": {},
   "outputs": [],
   "source": [
    "xtrain, xtest, ytrain, ytest = train_test_split(X,Y, test_size=0.2)"
   ]
  },
  {
   "cell_type": "code",
   "execution_count": 15,
   "id": "359f40fc",
   "metadata": {},
   "outputs": [],
   "source": [
    "dt = DecisionTreeClassifier(max_depth=7, min_samples_split=4)"
   ]
  },
  {
   "cell_type": "code",
   "execution_count": 16,
   "id": "a02b53a1",
   "metadata": {},
   "outputs": [
    {
     "data": {
      "text/plain": [
       "DecisionTreeClassifier(max_depth=7, min_samples_split=4)"
      ]
     },
     "execution_count": 16,
     "metadata": {},
     "output_type": "execute_result"
    }
   ],
   "source": [
    "dt.fit(xtrain,ytrain)"
   ]
  },
  {
   "cell_type": "code",
   "execution_count": 17,
   "id": "1ba98594",
   "metadata": {},
   "outputs": [
    {
     "data": {
      "text/plain": [
       "array([9, 7, 1, 8, 1, 4, 6, 8, 9, 4, 5, 3, 1, 7, 1, 5, 1, 1, 7, 6, 4, 9,\n",
       "       4, 7, 7, 2, 5, 1, 1, 1, 7, 1, 3, 8, 7, 2, 8, 0, 9, 8, 3, 9, 6, 7,\n",
       "       8, 3, 3, 3, 1, 0, 0, 8, 5, 6, 5, 4, 7, 7, 1, 4, 0, 8, 0, 4, 1, 5,\n",
       "       0, 1, 7, 9, 7, 5, 3, 5, 6, 3, 5, 2, 3, 6, 5, 5, 5, 8, 1, 0, 6, 4,\n",
       "       8, 6, 1, 4, 9, 5, 4, 1, 7, 4, 2, 0, 9, 7, 0, 9, 5, 2, 3, 9, 1, 1,\n",
       "       7, 2, 7, 6, 7, 0, 0, 7, 1, 1, 8, 4, 4, 8, 4, 5, 2, 2, 6, 7, 0, 3,\n",
       "       9, 4, 4, 1, 3, 3, 3, 4, 0, 1, 9, 9, 3, 6, 3, 4, 5, 7, 7, 9, 6, 2,\n",
       "       8, 4, 1, 7, 1, 2, 5, 9, 6, 2, 2, 0, 6, 2, 6, 0, 9, 5, 0, 7, 0, 4,\n",
       "       5, 8, 6, 8, 6, 7, 2, 1, 0, 6, 7, 2, 1, 9, 6, 0, 1, 9, 9, 6, 8, 0,\n",
       "       2, 1, 6, 1, 4, 9, 0, 5, 5, 7, 1, 9, 9, 8, 8, 8, 5, 4, 7, 9, 0, 6,\n",
       "       2, 1, 1, 6, 4, 7, 3, 6, 8, 3, 5, 0, 9, 3, 1, 3, 7, 9, 8, 9, 5, 7,\n",
       "       7, 2, 9, 8, 2, 9, 6, 4, 1, 6, 0, 1, 7, 4, 4, 8, 8, 0, 4, 7, 3, 2,\n",
       "       9, 0, 0, 7, 5, 0, 1, 3, 5, 3, 9, 4, 8, 9, 6, 7, 7, 7, 5, 6, 7, 3,\n",
       "       6, 7, 7, 6, 9, 3, 8, 1, 8, 4, 2, 3, 1, 0, 8, 7, 8, 6, 6, 4, 4, 1,\n",
       "       4, 5, 2, 2, 4, 6, 1, 5, 1, 3, 8, 9, 0, 4, 7, 0, 7, 4, 6, 5, 0, 0,\n",
       "       1, 7, 4, 4, 3, 0, 1, 4, 4, 6, 3, 8, 4, 1, 7, 2, 7, 5, 2, 7, 4, 8,\n",
       "       2, 5, 1, 1, 8, 1, 3, 7])"
      ]
     },
     "execution_count": 17,
     "metadata": {},
     "output_type": "execute_result"
    }
   ],
   "source": [
    "y_pred = dt.predict(xtest)\n",
    "y_pred"
   ]
  },
  {
   "cell_type": "code",
   "execution_count": 18,
   "id": "4f3dce1a",
   "metadata": {},
   "outputs": [
    {
     "data": {
      "text/plain": [
       "0.7888888888888889"
      ]
     },
     "execution_count": 18,
     "metadata": {},
     "output_type": "execute_result"
    }
   ],
   "source": [
    "dt.score(xtest, ytest)"
   ]
  },
  {
   "cell_type": "code",
   "execution_count": 19,
   "id": "7e3ca79a",
   "metadata": {},
   "outputs": [
    {
     "data": {
      "text/plain": [
       "0.8830897703549061"
      ]
     },
     "execution_count": 19,
     "metadata": {},
     "output_type": "execute_result"
    }
   ],
   "source": [
    "dt.score(xtrain, ytrain)"
   ]
  },
  {
   "cell_type": "code",
   "execution_count": null,
   "id": "5c9d6eb0",
   "metadata": {},
   "outputs": [],
   "source": [
    "# We could try hper parameter training. But that doesn't works usuallyRandom Forest would be useful "
   ]
  },
  {
   "cell_type": "code",
   "execution_count": 20,
   "id": "93003a4b",
   "metadata": {},
   "outputs": [],
   "source": [
    "rf = RandomForestClassifier(n_estimators=250, max_features=0.5, bootstrap=True, max_samples=0.6, n_jobs = -1)"
   ]
  },
  {
   "cell_type": "code",
   "execution_count": 21,
   "id": "edea9a4d",
   "metadata": {},
   "outputs": [
    {
     "data": {
      "text/plain": [
       "RandomForestClassifier(max_features=0.5, max_samples=0.6, n_estimators=250,\n",
       "                       n_jobs=-1)"
      ]
     },
     "execution_count": 21,
     "metadata": {},
     "output_type": "execute_result"
    }
   ],
   "source": [
    "rf.fit(xtrain, ytrain)"
   ]
  },
  {
   "cell_type": "code",
   "execution_count": 22,
   "id": "a2f7ae1e",
   "metadata": {},
   "outputs": [
    {
     "data": {
      "text/plain": [
       "0.975"
      ]
     },
     "execution_count": 22,
     "metadata": {},
     "output_type": "execute_result"
    }
   ],
   "source": [
    "rf.score(xtest, ytest)"
   ]
  },
  {
   "cell_type": "code",
   "execution_count": 23,
   "id": "be65d912",
   "metadata": {},
   "outputs": [
    {
     "data": {
      "text/plain": [
       "1.0"
      ]
     },
     "execution_count": 23,
     "metadata": {},
     "output_type": "execute_result"
    }
   ],
   "source": [
    "rf.score(xtrain, ytrain)"
   ]
  },
  {
   "cell_type": "code",
   "execution_count": 25,
   "id": "c313916f",
   "metadata": {},
   "outputs": [
    {
     "data": {
      "text/plain": [
       "array([1, 7, 1, 8, 2, 4, 6, 8, 9, 4, 5, 3, 8, 7, 9, 5, 1, 1, 7, 2, 4, 9,\n",
       "       4, 7, 7, 2, 5, 1, 7, 1, 7, 1, 5, 4, 7, 2, 8, 0, 9, 3, 3, 9, 6, 9,\n",
       "       8, 4, 4, 3, 1, 0, 0, 2, 4, 6, 0, 4, 7, 7, 1, 1, 0, 8, 0, 4, 1, 6,\n",
       "       0, 2, 7, 3, 4, 5, 3, 5, 6, 3, 5, 2, 5, 6, 5, 0, 5, 8, 1, 0, 6, 4,\n",
       "       8, 6, 1, 4, 9, 5, 4, 2, 9, 4, 2, 0, 9, 7, 0, 9, 5, 9, 3, 9, 1, 1,\n",
       "       7, 2, 7, 6, 7, 0, 0, 7, 1, 8, 8, 7, 4, 8, 4, 5, 2, 9, 6, 8, 0, 3,\n",
       "       9, 4, 4, 1, 3, 3, 3, 4, 0, 1, 9, 1, 3, 6, 6, 4, 4, 7, 7, 9, 6, 2,\n",
       "       8, 4, 8, 8, 1, 2, 5, 9, 6, 2, 2, 0, 5, 2, 6, 0, 9, 5, 0, 7, 0, 4,\n",
       "       5, 8, 6, 8, 6, 9, 2, 2, 0, 6, 7, 2, 2, 9, 6, 0, 1, 9, 3, 6, 9, 0,\n",
       "       2, 8, 6, 1, 4, 9, 0, 5, 5, 7, 1, 4, 9, 9, 8, 8, 5, 4, 7, 9, 0, 6,\n",
       "       8, 1, 8, 6, 4, 7, 6, 6, 8, 3, 5, 0, 9, 3, 1, 3, 7, 9, 8, 9, 5, 4,\n",
       "       7, 2, 9, 8, 4, 9, 6, 4, 2, 6, 0, 1, 7, 4, 4, 8, 7, 0, 4, 4, 3, 2,\n",
       "       9, 0, 0, 7, 5, 0, 1, 3, 5, 3, 9, 4, 1, 9, 6, 7, 7, 7, 6, 4, 8, 3,\n",
       "       6, 7, 7, 6, 9, 3, 8, 2, 2, 4, 2, 3, 7, 0, 9, 7, 3, 6, 6, 6, 4, 9,\n",
       "       4, 5, 2, 2, 4, 4, 1, 5, 2, 9, 8, 9, 0, 6, 7, 0, 7, 4, 6, 5, 0, 0,\n",
       "       1, 7, 4, 4, 3, 0, 3, 4, 4, 6, 3, 8, 4, 1, 7, 7, 7, 5, 2, 7, 4, 8,\n",
       "       7, 5, 8, 1, 3, 1, 4, 9])"
      ]
     },
     "execution_count": 25,
     "metadata": {},
     "output_type": "execute_result"
    }
   ],
   "source": [
    "y_pred = rf.predict(xtest)\n",
    "y_pred"
   ]
  },
  {
   "cell_type": "code",
   "execution_count": 26,
   "id": "4eef81a5",
   "metadata": {},
   "outputs": [
    {
     "name": "stdout",
     "output_type": "stream",
     "text": [
      "              precision    recall  f1-score   support\n",
      "\n",
      "           0       1.00      1.00      1.00        36\n",
      "           1       0.97      1.00      0.98        32\n",
      "           2       1.00      1.00      1.00        31\n",
      "           3       1.00      0.88      0.93        32\n",
      "           4       0.98      0.98      0.98        50\n",
      "           5       0.97      0.90      0.93        31\n",
      "           6       1.00      0.97      0.99        38\n",
      "           7       0.95      1.00      0.98        42\n",
      "           8       0.97      1.00      0.98        31\n",
      "           9       0.93      1.00      0.96        37\n",
      "\n",
      "    accuracy                           0.97       360\n",
      "   macro avg       0.98      0.97      0.97       360\n",
      "weighted avg       0.98      0.97      0.97       360\n",
      "\n"
     ]
    }
   ],
   "source": [
    "from sklearn.metrics import classification_report\n",
    "print(classification_report(ytest, y_pred))"
   ]
  },
  {
   "cell_type": "code",
   "execution_count": 27,
   "id": "006ae502",
   "metadata": {},
   "outputs": [
    {
     "name": "stdout",
     "output_type": "stream",
     "text": [
      "[[36  0  0  0  0  0  0  0  0  0]\n",
      " [ 0 32  0  0  0  0  0  0  0  0]\n",
      " [ 0  0 31  0  0  0  0  0  0  0]\n",
      " [ 0  0  0 28  0  0  0  2  1  1]\n",
      " [ 0  0  0  0 49  1  0  0  0  0]\n",
      " [ 0  0  0  0  1 28  0  0  0  2]\n",
      " [ 0  1  0  0  0  0 37  0  0  0]\n",
      " [ 0  0  0  0  0  0  0 42  0  0]\n",
      " [ 0  0  0  0  0  0  0  0 31  0]\n",
      " [ 0  0  0  0  0  0  0  0  0 37]]\n"
     ]
    }
   ],
   "source": [
    "from sklearn.metrics import confusion_matrix\n",
    "print(confusion_matrix(ytest, y_pred))"
   ]
  },
  {
   "cell_type": "code",
   "execution_count": 28,
   "id": "14bd36cf",
   "metadata": {},
   "outputs": [
    {
     "data": {
      "text/plain": [
       "array([0.00000000e+00, 1.59722971e-03, 1.29321328e-02, 7.07549071e-03,\n",
       "       7.22551505e-03, 3.45390476e-02, 4.12300373e-03, 4.46030779e-04,\n",
       "       9.47570887e-05, 7.13065151e-03, 2.56759248e-02, 3.42035510e-03,\n",
       "       1.46792559e-02, 1.84571914e-02, 2.65070429e-03, 3.17858425e-04,\n",
       "       2.56582923e-05, 4.76965115e-03, 1.58648460e-02, 3.02971070e-02,\n",
       "       3.28158638e-02, 7.77697629e-02, 4.15601849e-03, 4.37101725e-04,\n",
       "       1.91581742e-05, 7.40582077e-03, 5.67798634e-02, 3.16469505e-02,\n",
       "       4.45705986e-02, 2.03643465e-02, 1.99256411e-02, 1.00714436e-05,\n",
       "       0.00000000e+00, 3.90804736e-02, 2.32026232e-02, 1.09489978e-02,\n",
       "       5.56893637e-02, 1.41138442e-02, 2.50278213e-02, 0.00000000e+00,\n",
       "       1.01368093e-05, 4.31912927e-03, 5.10683340e-02, 5.68339899e-02,\n",
       "       1.65714147e-02, 1.85698882e-02, 1.61490071e-02, 6.19805744e-05,\n",
       "       0.00000000e+00, 1.20523871e-03, 1.12543606e-02, 1.44218915e-02,\n",
       "       8.19540589e-03, 1.79712736e-02, 3.05219222e-02, 1.22859047e-03,\n",
       "       0.00000000e+00, 1.05405631e-03, 1.35075951e-02, 5.67234737e-03,\n",
       "       3.20071226e-02, 2.83733543e-02, 1.32081282e-02, 2.50810021e-03])"
      ]
     },
     "execution_count": 28,
     "metadata": {},
     "output_type": "execute_result"
    }
   ],
   "source": [
    "rf.feature_importances_"
   ]
  },
  {
   "cell_type": "code",
   "execution_count": null,
   "id": "2c365fd1",
   "metadata": {},
   "outputs": [],
   "source": []
  },
  {
   "cell_type": "code",
   "execution_count": null,
   "id": "a210fe2f",
   "metadata": {},
   "outputs": [],
   "source": []
  },
  {
   "cell_type": "code",
   "execution_count": null,
   "id": "29d0a020",
   "metadata": {},
   "outputs": [],
   "source": []
  }
 ],
 "metadata": {
  "kernelspec": {
   "display_name": "Python 3 (ipykernel)",
   "language": "python",
   "name": "python3"
  },
  "language_info": {
   "codemirror_mode": {
    "name": "ipython",
    "version": 3
   },
   "file_extension": ".py",
   "mimetype": "text/x-python",
   "name": "python",
   "nbconvert_exporter": "python",
   "pygments_lexer": "ipython3",
   "version": "3.9.7"
  }
 },
 "nbformat": 4,
 "nbformat_minor": 5
}
