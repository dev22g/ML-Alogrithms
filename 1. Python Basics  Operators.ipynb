{
 "cells": [
  {
   "cell_type": "code",
   "execution_count": 1,
   "id": "e125cba6",
   "metadata": {},
   "outputs": [
    {
     "name": "stdout",
     "output_type": "stream",
     "text": [
      "hello world\n"
     ]
    }
   ],
   "source": [
    "print(\"hello world\")"
   ]
  },
  {
   "cell_type": "code",
   "execution_count": 2,
   "id": "b5f9a026",
   "metadata": {},
   "outputs": [
    {
     "name": "stdout",
     "output_type": "stream",
     "text": [
      "My name is Amritansh\n"
     ]
    }
   ],
   "source": [
    "print(\"My name is Amritansh\")"
   ]
  },
  {
   "cell_type": "code",
   "execution_count": 3,
   "id": "988af974",
   "metadata": {},
   "outputs": [
    {
     "name": "stdout",
     "output_type": "stream",
     "text": [
      "The Zen of Python, by Tim Peters\n",
      "\n",
      "Beautiful is better than ugly.\n",
      "Explicit is better than implicit.\n",
      "Simple is better than complex.\n",
      "Complex is better than complicated.\n",
      "Flat is better than nested.\n",
      "Sparse is better than dense.\n",
      "Readability counts.\n",
      "Special cases aren't special enough to break the rules.\n",
      "Although practicality beats purity.\n",
      "Errors should never pass silently.\n",
      "Unless explicitly silenced.\n",
      "In the face of ambiguity, refuse the temptation to guess.\n",
      "There should be one-- and preferably only one --obvious way to do it.\n",
      "Although that way may not be obvious at first unless you're Dutch.\n",
      "Now is better than never.\n",
      "Although never is often better than *right* now.\n",
      "If the implementation is hard to explain, it's a bad idea.\n",
      "If the implementation is easy to explain, it may be a good idea.\n",
      "Namespaces are one honking great idea -- let's do more of those!\n"
     ]
    }
   ],
   "source": [
    "import this"
   ]
  },
  {
   "cell_type": "code",
   "execution_count": 4,
   "id": "2ac7ad44",
   "metadata": {},
   "outputs": [
    {
     "data": {
      "text/plain": [
       "11"
      ]
     },
     "execution_count": 4,
     "metadata": {},
     "output_type": "execute_result"
    }
   ],
   "source": [
    "2+9"
   ]
  },
  {
   "cell_type": "code",
   "execution_count": 5,
   "id": "edcb33d4",
   "metadata": {},
   "outputs": [
    {
     "data": {
      "text/plain": [
       "24"
      ]
     },
     "execution_count": 5,
     "metadata": {},
     "output_type": "execute_result"
    }
   ],
   "source": [
    "4*6"
   ]
  },
  {
   "cell_type": "code",
   "execution_count": 6,
   "id": "79deb274",
   "metadata": {},
   "outputs": [
    {
     "data": {
      "text/plain": [
       "3.9000000000000004"
      ]
     },
     "execution_count": 6,
     "metadata": {},
     "output_type": "execute_result"
    }
   ],
   "source": [
    "8.9%5"
   ]
  },
  {
   "cell_type": "code",
   "execution_count": 7,
   "id": "6a42e493",
   "metadata": {},
   "outputs": [
    {
     "name": "stdout",
     "output_type": "stream",
     "text": [
      "<class 'float'>\n"
     ]
    }
   ],
   "source": [
    "b = 4.5\n",
    "print(type(b))"
   ]
  },
  {
   "cell_type": "code",
   "execution_count": 11,
   "id": "16b13010",
   "metadata": {},
   "outputs": [
    {
     "name": "stdout",
     "output_type": "stream",
     "text": [
      "<class 'str'>\n"
     ]
    }
   ],
   "source": [
    "c = 'Amrit'\n",
    "print(type(c))"
   ]
  },
  {
   "cell_type": "code",
   "execution_count": 13,
   "id": "da95364e",
   "metadata": {},
   "outputs": [
    {
     "name": "stdout",
     "output_type": "stream",
     "text": [
      "Team India's win\n"
     ]
    }
   ],
   "source": [
    "d = \"Team India's win\"\n",
    "print(d)"
   ]
  },
  {
   "cell_type": "code",
   "execution_count": null,
   "id": "0937dcdd",
   "metadata": {},
   "outputs": [],
   "source": [
    "# Single line comment\n",
    "\n",
    "# This is to explain\n",
    "# if I were to change lines\n",
    "# i would have to put # again"
   ]
  },
  {
   "cell_type": "code",
   "execution_count": null,
   "id": "401f4b0b",
   "metadata": {},
   "outputs": [],
   "source": [
    "\"\"\"\n",
    "This is to showcase how to write multi line comments\n",
    "you can keep adding lines of code\n",
    "after one another\n",
    "\"\"\""
   ]
  },
  {
   "cell_type": "code",
   "execution_count": null,
   "id": "433497fa",
   "metadata": {},
   "outputs": [],
   "source": [
    "# Keywords in a programming language\n",
    "\n",
    "# They are the reserved keywords\n",
    "\n",
    "# you cann't name any variable, function or class name or any other identifier."
   ]
  },
  {
   "cell_type": "code",
   "execution_count": 15,
   "id": "12830d94",
   "metadata": {},
   "outputs": [
    {
     "name": "stdout",
     "output_type": "stream",
     "text": [
      "['False', 'None', 'True', '__peg_parser__', 'and', 'as', 'assert', 'async', 'await', 'break', 'class', 'continue', 'def', 'del', 'elif', 'else', 'except', 'finally', 'for', 'from', 'global', 'if', 'import', 'in', 'is', 'lambda', 'nonlocal', 'not', 'or', 'pass', 'raise', 'return', 'try', 'while', 'with', 'yield']\n"
     ]
    }
   ],
   "source": [
    "import keyword\n",
    "print(keyword.kwlist)"
   ]
  },
  {
   "cell_type": "code",
   "execution_count": null,
   "id": "7a4ed7ff",
   "metadata": {},
   "outputs": [],
   "source": [
    "# Python identifiers\n",
    "\n",
    "# identifiers are the names given to entities like class , function, variables in python"
   ]
  },
  {
   "cell_type": "code",
   "execution_count": null,
   "id": "3340151c",
   "metadata": {},
   "outputs": [],
   "source": [
    "# legal identifiers contains letter(uppercase and lowercase) or digits and underscore(_)"
   ]
  },
  {
   "cell_type": "code",
   "execution_count": 19,
   "id": "b1f7b8b8",
   "metadata": {},
   "outputs": [],
   "source": [
    "Var = 10\n",
    "var = 11"
   ]
  },
  {
   "cell_type": "code",
   "execution_count": null,
   "id": "25f67122",
   "metadata": {},
   "outputs": [],
   "source": [
    "# tips \n",
    "\n",
    "# write a proper name\n",
    "mySpecialVariable = 10\n",
    "\n",
    "# multiple words together\n",
    "\n",
    "# snake case\n",
    "\n",
    "this_is_a_long_variable = 10\n",
    "\n",
    "# camel case\n",
    "\n",
    "thisIsALongVariable = 20"
   ]
  },
  {
   "cell_type": "code",
   "execution_count": 20,
   "id": "891d9851",
   "metadata": {},
   "outputs": [
    {
     "data": {
      "text/plain": [
       "225"
      ]
     },
     "execution_count": 20,
     "metadata": {},
     "output_type": "execute_result"
    }
   ],
   "source": [
    "# Boolean operations\n",
    "\n",
    "variable_01 = 100\n",
    "variable_02 = 125\n",
    "\n",
    "variable_01 + variable_02"
   ]
  },
  {
   "cell_type": "code",
   "execution_count": 21,
   "id": "4f948fdc",
   "metadata": {},
   "outputs": [
    {
     "name": "stdout",
     "output_type": "stream",
     "text": [
      "225\n"
     ]
    }
   ],
   "source": [
    "print(variable_01 + variable_02) # sum"
   ]
  },
  {
   "cell_type": "code",
   "execution_count": 22,
   "id": "e56c18a8",
   "metadata": {},
   "outputs": [
    {
     "name": "stdout",
     "output_type": "stream",
     "text": [
      "-25\n"
     ]
    }
   ],
   "source": [
    "print(variable_01 - variable_02) # substraction"
   ]
  },
  {
   "cell_type": "code",
   "execution_count": 23,
   "id": "10879fb1",
   "metadata": {},
   "outputs": [
    {
     "name": "stdout",
     "output_type": "stream",
     "text": [
      "12500\n"
     ]
    }
   ],
   "source": [
    "print(variable_01 * variable_02) # multiplication"
   ]
  },
  {
   "cell_type": "code",
   "execution_count": 24,
   "id": "a0b179c0",
   "metadata": {},
   "outputs": [
    {
     "name": "stdout",
     "output_type": "stream",
     "text": [
      "0.8\n"
     ]
    }
   ],
   "source": [
    "print(variable_01 / variable_02) # division"
   ]
  },
  {
   "cell_type": "code",
   "execution_count": 25,
   "id": "4dc16a6d",
   "metadata": {},
   "outputs": [
    {
     "name": "stdout",
     "output_type": "stream",
     "text": [
      "0\n"
     ]
    }
   ],
   "source": [
    "print(variable_01 // variable_02) # floor division"
   ]
  },
  {
   "cell_type": "code",
   "execution_count": 26,
   "id": "91bbbcc1",
   "metadata": {},
   "outputs": [
    {
     "name": "stdout",
     "output_type": "stream",
     "text": [
      "10000\n"
     ]
    }
   ],
   "source": [
    "print(variable_01 ** 2) # power"
   ]
  },
  {
   "cell_type": "code",
   "execution_count": 27,
   "id": "f76ff866",
   "metadata": {},
   "outputs": [
    {
     "name": "stdout",
     "output_type": "stream",
     "text": [
      "100\n"
     ]
    }
   ],
   "source": [
    "print(variable_01 % variable_02) # modulus"
   ]
  },
  {
   "cell_type": "code",
   "execution_count": 28,
   "id": "b800d098",
   "metadata": {},
   "outputs": [
    {
     "data": {
      "text/plain": [
       "45"
      ]
     },
     "execution_count": 28,
     "metadata": {},
     "output_type": "execute_result"
    }
   ],
   "source": [
    "# PEDMAS\n",
    "\n",
    "5*7+10"
   ]
  },
  {
   "cell_type": "code",
   "execution_count": null,
   "id": "521def2e",
   "metadata": {},
   "outputs": [],
   "source": [
    "# operators with same precendence levels are evaluated from left to right"
   ]
  },
  {
   "cell_type": "code",
   "execution_count": 29,
   "id": "f50c170b",
   "metadata": {},
   "outputs": [
    {
     "name": "stdout",
     "output_type": "stream",
     "text": [
      "False\n"
     ]
    }
   ],
   "source": [
    "# Comparison Operators\n",
    "# The outcome is always boolean\n",
    "\n",
    "a = 5\n",
    "b = 3\n",
    "\n",
    "print(a == b)"
   ]
  },
  {
   "cell_type": "code",
   "execution_count": 30,
   "id": "54c830e8",
   "metadata": {},
   "outputs": [
    {
     "name": "stdout",
     "output_type": "stream",
     "text": [
      "False\n"
     ]
    },
    {
     "name": "stderr",
     "output_type": "stream",
     "text": [
      "<>:1: SyntaxWarning: \"is\" with a literal. Did you mean \"==\"?\n",
      "<>:1: SyntaxWarning: \"is\" with a literal. Did you mean \"==\"?\n",
      "C:\\Users\\amrit\\AppData\\Local\\Temp/ipykernel_17364/1061738696.py:1: SyntaxWarning: \"is\" with a literal. Did you mean \"==\"?\n",
      "  print(a is 7)\n"
     ]
    }
   ],
   "source": [
    "print(a is 7)"
   ]
  },
  {
   "cell_type": "code",
   "execution_count": 32,
   "id": "40eaa160",
   "metadata": {},
   "outputs": [
    {
     "name": "stdout",
     "output_type": "stream",
     "text": [
      "False\n"
     ]
    }
   ],
   "source": [
    "print(a == 7)"
   ]
  },
  {
   "cell_type": "code",
   "execution_count": 31,
   "id": "c532ab2f",
   "metadata": {},
   "outputs": [
    {
     "name": "stdout",
     "output_type": "stream",
     "text": [
      "True\n"
     ]
    },
    {
     "name": "stderr",
     "output_type": "stream",
     "text": [
      "<>:1: SyntaxWarning: \"is not\" with a literal. Did you mean \"!=\"?\n",
      "<>:1: SyntaxWarning: \"is not\" with a literal. Did you mean \"!=\"?\n",
      "C:\\Users\\amrit\\AppData\\Local\\Temp/ipykernel_17364/3689805482.py:1: SyntaxWarning: \"is not\" with a literal. Did you mean \"!=\"?\n",
      "  print(a is not 7)\n"
     ]
    }
   ],
   "source": [
    "print(a is not 7)"
   ]
  },
  {
   "cell_type": "code",
   "execution_count": 34,
   "id": "45d021ac",
   "metadata": {},
   "outputs": [
    {
     "name": "stdout",
     "output_type": "stream",
     "text": [
      "True\n"
     ]
    }
   ],
   "source": [
    "print(a != 7)"
   ]
  },
  {
   "cell_type": "code",
   "execution_count": 35,
   "id": "e9b3e11d",
   "metadata": {},
   "outputs": [
    {
     "name": "stdout",
     "output_type": "stream",
     "text": [
      "True\n"
     ]
    }
   ],
   "source": [
    "print(a > b) # greater than"
   ]
  },
  {
   "cell_type": "code",
   "execution_count": 36,
   "id": "4b1057e3",
   "metadata": {},
   "outputs": [
    {
     "name": "stdout",
     "output_type": "stream",
     "text": [
      "False\n"
     ]
    }
   ],
   "source": [
    "print(a < b) # less than"
   ]
  },
  {
   "cell_type": "code",
   "execution_count": 37,
   "id": "f9d2838b",
   "metadata": {},
   "outputs": [
    {
     "name": "stdout",
     "output_type": "stream",
     "text": [
      "False\n"
     ]
    }
   ],
   "source": [
    "print(a <= b) # less than or equal to"
   ]
  },
  {
   "cell_type": "code",
   "execution_count": 38,
   "id": "6cd5d1b9",
   "metadata": {},
   "outputs": [
    {
     "name": "stdout",
     "output_type": "stream",
     "text": [
      "True\n"
     ]
    }
   ],
   "source": [
    "print(a >= b) # greater than or equal to"
   ]
  },
  {
   "cell_type": "code",
   "execution_count": 39,
   "id": "842e7b07",
   "metadata": {},
   "outputs": [],
   "source": [
    "# Logical operators\n",
    "\n",
    "a = True\n",
    "b = False\n",
    "\n",
    "c = 10\n",
    "d = 18\n",
    "e = 0\n",
    "f = 0\n",
    "\n"
   ]
  },
  {
   "cell_type": "code",
   "execution_count": 40,
   "id": "3f08c4da",
   "metadata": {},
   "outputs": [
    {
     "name": "stdout",
     "output_type": "stream",
     "text": [
      "True\n"
     ]
    }
   ],
   "source": [
    "print(b or a)"
   ]
  },
  {
   "cell_type": "code",
   "execution_count": 41,
   "id": "0c2ae378",
   "metadata": {},
   "outputs": [
    {
     "name": "stdout",
     "output_type": "stream",
     "text": [
      "False\n"
     ]
    }
   ],
   "source": [
    "print( a and b)"
   ]
  },
  {
   "cell_type": "code",
   "execution_count": 42,
   "id": "811b1b88",
   "metadata": {},
   "outputs": [
    {
     "name": "stdout",
     "output_type": "stream",
     "text": [
      "18\n"
     ]
    }
   ],
   "source": [
    "print (e or d or b or c)"
   ]
  },
  {
   "cell_type": "code",
   "execution_count": 43,
   "id": "be854125",
   "metadata": {},
   "outputs": [
    {
     "name": "stdout",
     "output_type": "stream",
     "text": [
      "True\n"
     ]
    }
   ],
   "source": [
    "print (f or d and a)"
   ]
  },
  {
   "cell_type": "code",
   "execution_count": 44,
   "id": "ccc61069",
   "metadata": {},
   "outputs": [
    {
     "name": "stdout",
     "output_type": "stream",
     "text": [
      "True\n"
     ]
    }
   ],
   "source": [
    "print (d and a)"
   ]
  },
  {
   "cell_type": "code",
   "execution_count": 45,
   "id": "324cc243",
   "metadata": {},
   "outputs": [
    {
     "name": "stdout",
     "output_type": "stream",
     "text": [
      "False\n"
     ]
    }
   ],
   "source": [
    "print ( not a)"
   ]
  },
  {
   "cell_type": "code",
   "execution_count": 46,
   "id": "2c755476",
   "metadata": {},
   "outputs": [
    {
     "name": "stdout",
     "output_type": "stream",
     "text": [
      "<class 'bool'>\n"
     ]
    }
   ],
   "source": [
    "print (type(b))"
   ]
  },
  {
   "cell_type": "code",
   "execution_count": 47,
   "id": "ded07aeb",
   "metadata": {},
   "outputs": [
    {
     "name": "stdout",
     "output_type": "stream",
     "text": [
      "False\n"
     ]
    }
   ],
   "source": [
    "print (True ^ True)"
   ]
  },
  {
   "cell_type": "code",
   "execution_count": 48,
   "id": "0d08dd3f",
   "metadata": {},
   "outputs": [
    {
     "name": "stdout",
     "output_type": "stream",
     "text": [
      "True\n"
     ]
    }
   ],
   "source": [
    "print (True ^ False)"
   ]
  },
  {
   "cell_type": "code",
   "execution_count": 49,
   "id": "a0578878",
   "metadata": {},
   "outputs": [
    {
     "name": "stdout",
     "output_type": "stream",
     "text": [
      "False\n"
     ]
    }
   ],
   "source": [
    "print (False ^ False)"
   ]
  },
  {
   "cell_type": "code",
   "execution_count": 50,
   "id": "1698b9cb",
   "metadata": {},
   "outputs": [],
   "source": [
    "import operator"
   ]
  },
  {
   "cell_type": "code",
   "execution_count": 52,
   "id": "26a8efbe",
   "metadata": {},
   "outputs": [
    {
     "data": {
      "text/plain": [
       "False"
      ]
     },
     "execution_count": 52,
     "metadata": {},
     "output_type": "execute_result"
    }
   ],
   "source": [
    "operator.xor(True, True)"
   ]
  },
  {
   "cell_type": "code",
   "execution_count": null,
   "id": "15aa3cba",
   "metadata": {},
   "outputs": [],
   "source": [
    "# Bitwise operation\n",
    "\n",
    "| # Bitwise OR   Sets each bit to 1 if one of the the two bits is 1\n",
    "^ # Bitwise XOR  Sets each bit to 1 if only one of the two bits is 1\n",
    "& # Bitwise AND  Sets each bit to 1 if both bits are 1\n",
    "~ # Bitwise NOT  Inverts all the Bits"
   ]
  }
 ],
 "metadata": {
  "kernelspec": {
   "display_name": "Python 3 (ipykernel)",
   "language": "python",
   "name": "python3"
  },
  "language_info": {
   "codemirror_mode": {
    "name": "ipython",
    "version": 3
   },
   "file_extension": ".py",
   "mimetype": "text/x-python",
   "name": "python",
   "nbconvert_exporter": "python",
   "pygments_lexer": "ipython3",
   "version": "3.9.7"
  }
 },
 "nbformat": 4,
 "nbformat_minor": 5
}
