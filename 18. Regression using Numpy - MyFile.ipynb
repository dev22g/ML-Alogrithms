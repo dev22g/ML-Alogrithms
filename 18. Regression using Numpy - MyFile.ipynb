{
 "cells": [
  {
   "cell_type": "code",
   "execution_count": 1,
   "id": "e246adc1",
   "metadata": {},
   "outputs": [],
   "source": [
    "import numpy as np\n",
    "import matplotlib.pyplot as plt"
   ]
  },
  {
   "cell_type": "code",
   "execution_count": 77,
   "id": "f68682ca",
   "metadata": {},
   "outputs": [
    {
     "name": "stdout",
     "output_type": "stream",
     "text": [
      "[[-1.        ]\n",
      " [-0.97979798]\n",
      " [-0.95959596]\n",
      " [-0.93939394]\n",
      " [-0.91919192]\n",
      " [-0.8989899 ]\n",
      " [-0.87878788]\n",
      " [-0.85858586]\n",
      " [-0.83838384]\n",
      " [-0.81818182]\n",
      " [-0.7979798 ]\n",
      " [-0.77777778]\n",
      " [-0.75757576]\n",
      " [-0.73737374]\n",
      " [-0.71717172]\n",
      " [-0.6969697 ]\n",
      " [-0.67676768]\n",
      " [-0.65656566]\n",
      " [-0.63636364]\n",
      " [-0.61616162]\n",
      " [-0.5959596 ]\n",
      " [-0.57575758]\n",
      " [-0.55555556]\n",
      " [-0.53535354]\n",
      " [-0.51515152]\n",
      " [-0.49494949]\n",
      " [-0.47474747]\n",
      " [-0.45454545]\n",
      " [-0.43434343]\n",
      " [-0.41414141]\n",
      " [-0.39393939]\n",
      " [-0.37373737]\n",
      " [-0.35353535]\n",
      " [-0.33333333]\n",
      " [-0.31313131]\n",
      " [-0.29292929]\n",
      " [-0.27272727]\n",
      " [-0.25252525]\n",
      " [-0.23232323]\n",
      " [-0.21212121]\n",
      " [-0.19191919]\n",
      " [-0.17171717]\n",
      " [-0.15151515]\n",
      " [-0.13131313]\n",
      " [-0.11111111]\n",
      " [-0.09090909]\n",
      " [-0.07070707]\n",
      " [-0.05050505]\n",
      " [-0.03030303]\n",
      " [-0.01010101]\n",
      " [ 0.01010101]\n",
      " [ 0.03030303]\n",
      " [ 0.05050505]\n",
      " [ 0.07070707]\n",
      " [ 0.09090909]\n",
      " [ 0.11111111]\n",
      " [ 0.13131313]\n",
      " [ 0.15151515]\n",
      " [ 0.17171717]\n",
      " [ 0.19191919]\n",
      " [ 0.21212121]\n",
      " [ 0.23232323]\n",
      " [ 0.25252525]\n",
      " [ 0.27272727]\n",
      " [ 0.29292929]\n",
      " [ 0.31313131]\n",
      " [ 0.33333333]\n",
      " [ 0.35353535]\n",
      " [ 0.37373737]\n",
      " [ 0.39393939]\n",
      " [ 0.41414141]\n",
      " [ 0.43434343]\n",
      " [ 0.45454545]\n",
      " [ 0.47474747]\n",
      " [ 0.49494949]\n",
      " [ 0.51515152]\n",
      " [ 0.53535354]\n",
      " [ 0.55555556]\n",
      " [ 0.57575758]\n",
      " [ 0.5959596 ]\n",
      " [ 0.61616162]\n",
      " [ 0.63636364]\n",
      " [ 0.65656566]\n",
      " [ 0.67676768]\n",
      " [ 0.6969697 ]\n",
      " [ 0.71717172]\n",
      " [ 0.73737374]\n",
      " [ 0.75757576]\n",
      " [ 0.77777778]\n",
      " [ 0.7979798 ]\n",
      " [ 0.81818182]\n",
      " [ 0.83838384]\n",
      " [ 0.85858586]\n",
      " [ 0.87878788]\n",
      " [ 0.8989899 ]\n",
      " [ 0.91919192]\n",
      " [ 0.93939394]\n",
      " [ 0.95959596]\n",
      " [ 0.97979798]\n",
      " [ 1.        ]]\n"
     ]
    }
   ],
   "source": [
    "data_x = np.linspace(-10,10,100)[:,np.newaxis]\n",
    "data_y = 40*(data_x) + 25 *np.random.randn(100,1)  # linear data\n",
    "#data_y = np.sin(data_x) + 0.1*np.power(data_x,2)+ np.random.randn(100,1) # polynomial data\n",
    "data_x /= np.max(data_x) # scaling the data\n",
    "print(data_x)"
   ]
  },
  {
   "cell_type": "code",
   "execution_count": 78,
   "id": "c08c4760",
   "metadata": {},
   "outputs": [
    {
     "data": {
      "text/plain": [
       "(0.8481897084518378, 0.001926594496714699)"
      ]
     },
     "execution_count": 78,
     "metadata": {},
     "output_type": "execute_result"
    }
   ],
   "source": [
    "# we shoould run pearsonR test to confirm the linear correlation between x and y\n",
    "# null hypothesis here is correlation we are getting here is because of randomness\n",
    "from scipy import stats\n",
    "\n",
    "a = np.array([0,1,2,3,4,5,6,7,8,9])\n",
    "b = np.array([0,2,4,5,7,8,19,36,89,91])\n",
    "\n",
    "stats.pearsonr(a,b)"
   ]
  },
  {
   "cell_type": "code",
   "execution_count": 79,
   "id": "57004ee9",
   "metadata": {},
   "outputs": [
    {
     "data": {
      "text/plain": [
       "(0.9941428001418958, 1.6315022193027802e-96)"
      ]
     },
     "execution_count": 79,
     "metadata": {},
     "output_type": "execute_result"
    }
   ],
   "source": [
    "stats.pearsonr(data_x.reshape(100,),data_y.reshape(100,))"
   ]
  },
  {
   "cell_type": "code",
   "execution_count": 80,
   "id": "9b15428b",
   "metadata": {},
   "outputs": [
    {
     "data": {
      "text/plain": [
       "array([[ 1.        , -1.        ],\n",
       "       [ 1.        , -0.97979798],\n",
       "       [ 1.        , -0.95959596],\n",
       "       [ 1.        , -0.93939394],\n",
       "       [ 1.        , -0.91919192],\n",
       "       [ 1.        , -0.8989899 ],\n",
       "       [ 1.        , -0.87878788],\n",
       "       [ 1.        , -0.85858586],\n",
       "       [ 1.        , -0.83838384],\n",
       "       [ 1.        , -0.81818182],\n",
       "       [ 1.        , -0.7979798 ],\n",
       "       [ 1.        , -0.77777778],\n",
       "       [ 1.        , -0.75757576],\n",
       "       [ 1.        , -0.73737374],\n",
       "       [ 1.        , -0.71717172],\n",
       "       [ 1.        , -0.6969697 ],\n",
       "       [ 1.        , -0.67676768],\n",
       "       [ 1.        , -0.65656566],\n",
       "       [ 1.        , -0.63636364],\n",
       "       [ 1.        , -0.61616162],\n",
       "       [ 1.        , -0.5959596 ],\n",
       "       [ 1.        , -0.57575758],\n",
       "       [ 1.        , -0.55555556],\n",
       "       [ 1.        , -0.53535354],\n",
       "       [ 1.        , -0.51515152],\n",
       "       [ 1.        , -0.49494949],\n",
       "       [ 1.        , -0.47474747],\n",
       "       [ 1.        , -0.45454545],\n",
       "       [ 1.        , -0.43434343],\n",
       "       [ 1.        , -0.41414141],\n",
       "       [ 1.        , -0.39393939],\n",
       "       [ 1.        , -0.37373737],\n",
       "       [ 1.        , -0.35353535],\n",
       "       [ 1.        , -0.33333333],\n",
       "       [ 1.        , -0.31313131],\n",
       "       [ 1.        , -0.29292929],\n",
       "       [ 1.        , -0.27272727],\n",
       "       [ 1.        , -0.25252525],\n",
       "       [ 1.        , -0.23232323],\n",
       "       [ 1.        , -0.21212121],\n",
       "       [ 1.        , -0.19191919],\n",
       "       [ 1.        , -0.17171717],\n",
       "       [ 1.        , -0.15151515],\n",
       "       [ 1.        , -0.13131313],\n",
       "       [ 1.        , -0.11111111],\n",
       "       [ 1.        , -0.09090909],\n",
       "       [ 1.        , -0.07070707],\n",
       "       [ 1.        , -0.05050505],\n",
       "       [ 1.        , -0.03030303],\n",
       "       [ 1.        , -0.01010101],\n",
       "       [ 1.        ,  0.01010101],\n",
       "       [ 1.        ,  0.03030303],\n",
       "       [ 1.        ,  0.05050505],\n",
       "       [ 1.        ,  0.07070707],\n",
       "       [ 1.        ,  0.09090909],\n",
       "       [ 1.        ,  0.11111111],\n",
       "       [ 1.        ,  0.13131313],\n",
       "       [ 1.        ,  0.15151515],\n",
       "       [ 1.        ,  0.17171717],\n",
       "       [ 1.        ,  0.19191919],\n",
       "       [ 1.        ,  0.21212121],\n",
       "       [ 1.        ,  0.23232323],\n",
       "       [ 1.        ,  0.25252525],\n",
       "       [ 1.        ,  0.27272727],\n",
       "       [ 1.        ,  0.29292929],\n",
       "       [ 1.        ,  0.31313131],\n",
       "       [ 1.        ,  0.33333333],\n",
       "       [ 1.        ,  0.35353535],\n",
       "       [ 1.        ,  0.37373737],\n",
       "       [ 1.        ,  0.39393939],\n",
       "       [ 1.        ,  0.41414141],\n",
       "       [ 1.        ,  0.43434343],\n",
       "       [ 1.        ,  0.45454545],\n",
       "       [ 1.        ,  0.47474747],\n",
       "       [ 1.        ,  0.49494949],\n",
       "       [ 1.        ,  0.51515152],\n",
       "       [ 1.        ,  0.53535354],\n",
       "       [ 1.        ,  0.55555556],\n",
       "       [ 1.        ,  0.57575758],\n",
       "       [ 1.        ,  0.5959596 ],\n",
       "       [ 1.        ,  0.61616162],\n",
       "       [ 1.        ,  0.63636364],\n",
       "       [ 1.        ,  0.65656566],\n",
       "       [ 1.        ,  0.67676768],\n",
       "       [ 1.        ,  0.6969697 ],\n",
       "       [ 1.        ,  0.71717172],\n",
       "       [ 1.        ,  0.73737374],\n",
       "       [ 1.        ,  0.75757576],\n",
       "       [ 1.        ,  0.77777778],\n",
       "       [ 1.        ,  0.7979798 ],\n",
       "       [ 1.        ,  0.81818182],\n",
       "       [ 1.        ,  0.83838384],\n",
       "       [ 1.        ,  0.85858586],\n",
       "       [ 1.        ,  0.87878788],\n",
       "       [ 1.        ,  0.8989899 ],\n",
       "       [ 1.        ,  0.91919192],\n",
       "       [ 1.        ,  0.93939394],\n",
       "       [ 1.        ,  0.95959596],\n",
       "       [ 1.        ,  0.97979798],\n",
       "       [ 1.        ,  1.        ]])"
      ]
     },
     "execution_count": 80,
     "metadata": {},
     "output_type": "execute_result"
    }
   ],
   "source": [
    "data_x = np.hstack((np.ones_like(data_x), data_x))\n",
    "data_x"
   ]
  },
  {
   "cell_type": "code",
   "execution_count": 81,
   "id": "20b90d87",
   "metadata": {},
   "outputs": [
    {
     "name": "stdout",
     "output_type": "stream",
     "text": [
      "[73 41 39 85 36 12  8 77 47 99 95 92 84 60 46 90 15 61 75 13  6 67 43 63\n",
      " 79 22 81 91 71  3 86 78 98 26 45 52 29 89 19 11  4 28 65 23 34 10 14 80\n",
      " 33 18 93 31 64 20 83  2 54  5 30 42 17 97 88 35  7 72 37 82 76 56 57 44\n",
      " 16 70 53 58 96 87 24 62 59 50 27 32 48 25 74 55 68 94  9  1 38 21 69  0\n",
      " 51 66 40 49]\n"
     ]
    }
   ],
   "source": [
    "order = np.random.permutation(len(data_x))\n",
    "print(order)"
   ]
  },
  {
   "cell_type": "code",
   "execution_count": 82,
   "id": "b324b50b",
   "metadata": {},
   "outputs": [
    {
     "name": "stdout",
     "output_type": "stream",
     "text": [
      "40 160 20\n",
      "[[ 1.          0.47474747]\n",
      " [ 1.         -0.17171717]\n",
      " [ 1.         -0.21212121]\n",
      " [ 1.          0.71717172]\n",
      " [ 1.         -0.27272727]\n",
      " [ 1.         -0.75757576]\n",
      " [ 1.         -0.83838384]\n",
      " [ 1.          0.55555556]\n",
      " [ 1.         -0.05050505]\n",
      " [ 1.          1.        ]\n",
      " [ 1.          0.91919192]\n",
      " [ 1.          0.85858586]\n",
      " [ 1.          0.6969697 ]\n",
      " [ 1.          0.21212121]\n",
      " [ 1.         -0.07070707]\n",
      " [ 1.          0.81818182]\n",
      " [ 1.         -0.6969697 ]\n",
      " [ 1.          0.23232323]\n",
      " [ 1.          0.51515152]\n",
      " [ 1.         -0.73737374]]\n"
     ]
    }
   ],
   "source": [
    "#split data train to test 80:20 - 80% training and 20 % testing\n",
    "\n",
    "portion = 20\n",
    "test_x = data_x[order[:portion]]\n",
    "test_y = data_y[order[:portion]]\n",
    "train_x = data_x[order[portion:]]\n",
    "train_y = data_y[order[portion:]]\n",
    "print(test_x.size,train_x.size,test_y.size)\n",
    "print(test_x)"
   ]
  },
  {
   "cell_type": "code",
   "execution_count": 83,
   "id": "9eb4fd47",
   "metadata": {},
   "outputs": [
    {
     "data": {
      "image/png": "[encoded data removed]",
      "text/plain": [
       "<Figure size 432x288 with 1 Axes>"
      ]
     },
     "metadata": {
      "needs_background": "light"
     },
     "output_type": "display_data"
    }
   ],
   "source": [
    "plt.scatter(train_x[:,1],train_y, c = 'b', label = 'train_data')\n",
    "plt.scatter(test_x[:,1],test_y, c = 'r', label = 'test_data')\n",
    "plt.legend()\n",
    "plt.show()"
   ]
  },
  {
   "cell_type": "code",
   "execution_count": 84,
   "id": "ff30d83b",
   "metadata": {},
   "outputs": [],
   "source": [
    "'''\n",
    "Linear Regression\n",
    "'''\n",
    "\n",
    "def get_gradient(w,x,y):\n",
    "    y_estimate = np.power(x,1).dot(w).flatten()   # hypothesis\n",
    "    error = (y_estimate - y.flatten())\n",
    "    mse = (1/len(x)) * np.sum(np.power(error,2))  # loss function\n",
    "    gradient  = (1/len(x)) * error.dot(np.power(x,1))  # gradient\n",
    "    return gradient, mse\n",
    "        \n",
    "    "
   ]
  },
  {
   "cell_type": "code",
   "execution_count": 85,
   "id": "f72a82b3",
   "metadata": {},
   "outputs": [
    {
     "name": "stdout",
     "output_type": "stream",
     "text": [
      "Initial Value of Parameters\n",
      "-0.9996992990844766 0.33278287893613634\n",
      "Iteration: 5 - Loss: 12977.5799\n",
      "Updated parameters : 202.764624, -8.436553\n",
      "Iteration: 10 - Loss: 2694.9892\n",
      "Updated parameters : 317.394867, -2.969165\n",
      "Iteration: 15 - Loss: 976.1570\n",
      "Updated parameters : 364.236068, -0.231067\n",
      "Iteration: 20 - Loss: 688.7857\n",
      "Updated parameters : 383.387987, 0.904030\n",
      "Iteration: 25 - Loss: 640.7401\n",
      "Updated parameters : 391.218964, 1.368638\n",
      "Iteration: 30 - Loss: 632.7073\n",
      "Updated parameters : 394.420961, 1.558625\n",
      "Iteration: 35 - Loss: 631.3643\n",
      "Updated parameters : 395.730222, 1.636310\n",
      "Iteration: 40 - Loss: 631.1398\n",
      "Updated parameters : 396.265564, 1.668074\n",
      "Iteration: 45 - Loss: 631.1023\n",
      "Updated parameters : 396.484459, 1.681062\n",
      "Iteration: 50 - Loss: 631.0960\n",
      "Updated parameters : 396.573963, 1.686372\n",
      "Iteration: 55 - Loss: 631.0949\n",
      "Updated parameters : 396.610560, 1.688544\n",
      "Iteration: 60 - Loss: 631.0948\n",
      "Updated parameters : 396.625524, 1.689432\n",
      "Converged\n",
      "Final parameters :396.630814, 1.689746\n",
      "Test loss=  631.094746336084\n"
     ]
    }
   ],
   "source": [
    "w = np.random.randn(2)  # random init\n",
    "alpha = 0.5 # learning rate\n",
    "tol = 1e-3  # tolerance value\n",
    "\n",
    "print(\"Initial Value of Parameters\")\n",
    "print(w[1],w[0])\n",
    "\n",
    "# gradient descent\n",
    "\n",
    "iterations = 1\n",
    "while True:\n",
    "    gradient, loss = get_gradient(w, train_x, train_y)\n",
    "    new_w = w - alpha * gradient\n",
    "    \n",
    "    # stopping the loop condition\n",
    "    if np.sum(abs(new_w - w)) < tol:  # if change in w becomes so less as tolerance break\n",
    "        print('Converged')\n",
    "        break\n",
    "        \n",
    "    # print after 5 iters\n",
    "    \n",
    "    if iterations % 5 == 0:\n",
    "        print(\"Iteration: %d - Loss: %.4f\" % (iterations, loss))\n",
    "        print(\"Updated parameters : {:f}, {:f}\".format(w[1], w[0]))\n",
    "    \n",
    "              \n",
    "    iterations += 1\n",
    "    w = new_w\n",
    "\n",
    "print(\"Final parameters :{:f}, {:f}\".format(w[1], w[0]))\n",
    "print(\"Test loss= \", get_gradient(w, train_x, train_y)[1])"
   ]
  },
  {
   "cell_type": "code",
   "execution_count": 86,
   "id": "9bb47260",
   "metadata": {},
   "outputs": [
    {
     "name": "stdout",
     "output_type": "stream",
     "text": [
      "Final equation / hypothesis looks like\n",
      " y = 396.630814.x^1 + 1.689746\n"
     ]
    }
   ],
   "source": [
    "print(\"Final equation / hypothesis looks like\")\n",
    "print(' y = {:f}.x^1 + {:f}'.format(w[1], w[0]))"
   ]
  },
  {
   "cell_type": "code",
   "execution_count": 87,
   "id": "6288ca81",
   "metadata": {},
   "outputs": [
    {
     "data": {
      "image/png": "[encoded data removed]",
      "text/plain": [
       "<Figure size 432x288 with 1 Axes>"
      ]
     },
     "metadata": {
      "needs_background": "light"
     },
     "output_type": "display_data"
    }
   ],
   "source": [
    "#linear\n",
    "plt.plot (data_x[:,1],data_x.dot(w), c ='g', label = 'model')\n",
    "plt.scatter(train_x[:,1],train_y, c = 'b', label = 'train_data')\n",
    "plt.scatter(test_x[:,1],test_y, c = 'r', label = 'test_data')\n",
    "plt.legend()\n",
    "plt.show()"
   ]
  },
  {
   "cell_type": "code",
   "execution_count": 88,
   "id": "ecd80c5f",
   "metadata": {},
   "outputs": [
    {
     "data": {
      "image/png": "[encoded data removed]",
      "text/plain": [
       "<Figure size 432x288 with 1 Axes>"
      ]
     },
     "metadata": {
      "needs_background": "light"
     },
     "output_type": "display_data"
    }
   ],
   "source": [
    "# polynomial\n",
    "plt.plot (data_x[:,1],(data_x**1).dot(w), c ='g', label = 'model')\n",
    "plt.scatter(train_x[:,1],train_y, c = 'b', label = 'train_data')\n",
    "plt.scatter(test_x[:,1],test_y, c = 'r', label = 'test_data')\n",
    "plt.legend()\n",
    "plt.show()"
   ]
  },
  {
   "cell_type": "code",
   "execution_count": 89,
   "id": "d0cf1d28",
   "metadata": {},
   "outputs": [
    {
     "data": {
      "text/plain": [
       "array([  1.68974572, 396.63081402])"
      ]
     },
     "execution_count": 89,
     "metadata": {},
     "output_type": "execute_result"
    }
   ],
   "source": [
    "w  # the parameters that were learned during training process"
   ]
  },
  {
   "cell_type": "code",
   "execution_count": 90,
   "id": "99abba75",
   "metadata": {},
   "outputs": [],
   "source": [
    "def predict(w, x):\n",
    "    y_estimate = np.power(x,1).dot(w).flatten() \n",
    "    return y_estimate"
   ]
  },
  {
   "cell_type": "code",
   "execution_count": 91,
   "id": "16b77f29",
   "metadata": {},
   "outputs": [],
   "source": [
    "# program a r2 score and use it\n",
    "\n",
    "def r2_score(y_pred, y_true):\n",
    "    error = y_pred - y_true.flatten()\n",
    "    residual = (y_true.flatten() - y_true.flatten().mean())\n",
    "    return(1 - np.sum(np.power(error,2))/np.sum(np.power(residual,2)))\n"
   ]
  },
  {
   "cell_type": "code",
   "execution_count": 92,
   "id": "8c31f3cd",
   "metadata": {},
   "outputs": [
    {
     "name": "stdout",
     "output_type": "stream",
     "text": [
      "0.9881316517839235\n"
     ]
    }
   ],
   "source": [
    "y_pred = predict(w, test_x)\n",
    "print(r2_score(y_pred, test_y))"
   ]
  },
  {
   "cell_type": "code",
   "execution_count": null,
   "id": "d86a3e19",
   "metadata": {},
   "outputs": [],
   "source": []
  }
 ],
 "metadata": {
  "kernelspec": {
   "display_name": "Python 3 (ipykernel)",
   "language": "python",
   "name": "python3"
  },
  "language_info": {
   "codemirror_mode": {
    "name": "ipython",
    "version": 3
   },
   "file_extension": ".py",
   "mimetype": "text/x-python",
   "name": "python",
   "nbconvert_exporter": "python",
   "pygments_lexer": "ipython3",
   "version": "3.9.7"
  }
 },
 "nbformat": 4,
 "nbformat_minor": 5
}
